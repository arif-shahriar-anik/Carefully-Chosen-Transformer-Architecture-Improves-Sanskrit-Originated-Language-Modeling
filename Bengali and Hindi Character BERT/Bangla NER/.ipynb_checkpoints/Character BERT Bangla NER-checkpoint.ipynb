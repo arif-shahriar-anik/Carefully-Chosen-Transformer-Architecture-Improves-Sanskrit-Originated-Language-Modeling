{
 "cells": [
  {
   "cell_type": "code",
   "execution_count": null,
   "id": "26204d5a",
   "metadata": {},
   "outputs": [],
   "source": [
    "from transformers import BertForSequenceClassification, BertConfig, CharacterBertModel, \\\n",
    "CharacterBertForPreTraining, CharacterBertConfig, CharacterBertTokenizer\n",
    "import torch\n",
    "import os"
   ]
  },
  {
   "cell_type": "code",
   "execution_count": null,
   "id": "dc26e690",
   "metadata": {},
   "outputs": [],
   "source": [
    "file_path = \"Bangla-NER-Splitted-Dataset.json\""
   ]
  },
  {
   "cell_type": "code",
   "execution_count": null,
   "id": "770a2bcd",
   "metadata": {},
   "outputs": [],
   "source": [
    "import json\n",
    "  \n",
    "# Opening JSON file\n",
    "f = open(file_path, mode=\"r\", encoding=\"utf-8\")\n",
    "  \n",
    "# returns JSON object as \n",
    "# a dictionary\n",
    "json_data = json.load(f)"
   ]
  },
  {
   "cell_type": "code",
   "execution_count": null,
   "id": "f2fe11e5",
   "metadata": {},
   "outputs": [],
   "source": [
    "json_data.keys()"
   ]
  },
  {
   "cell_type": "code",
   "execution_count": null,
   "id": "2a5a5fbb",
   "metadata": {},
   "outputs": [],
   "source": [
    "train_json_data = json_data['train']\n",
    "val_json_data = json_data['validation']"
   ]
  },
  {
   "cell_type": "code",
   "execution_count": null,
   "id": "2efe2e2b",
   "metadata": {},
   "outputs": [],
   "source": [
    "test_json_data = json_data['test']"
   ]
  },
  {
   "cell_type": "code",
   "execution_count": null,
   "id": "9c6f2274",
   "metadata": {},
   "outputs": [],
   "source": [
    "import pandas as pd\n",
    "import re\n",
    "import numpy as np\n",
    "\n",
    "train_df = pd.DataFrame(columns=['ner_tags', 'tokens'])\n",
    "val_df = pd.DataFrame(columns=['ner_tags', 'tokens'])"
   ]
  },
  {
   "cell_type": "code",
   "execution_count": null,
   "id": "749a4d77",
   "metadata": {},
   "outputs": [],
   "source": [
    "test_df = pd.DataFrame(columns=['ner_tags', 'tokens'])"
   ]
  },
  {
   "cell_type": "code",
   "execution_count": null,
   "id": "05bad6f6",
   "metadata": {},
   "outputs": [],
   "source": [
    "def read_json_file(json_file, df):\n",
    "    token_docs = []\n",
    "    tag_docs = []\n",
    "\n",
    "    for idx,doc in enumerate(json_file):\n",
    "        tokens = doc['sentence']\n",
    "        tags = doc['iob_tags']\n",
    "        token_docs.append(tokens)\n",
    "        tag_docs.append(tags)\n",
    "        df.loc[idx] = pd.Series({'ner_tags':tags, 'tokens':tokens})\n",
    "    \n",
    "    return df, token_docs, tag_docs"
   ]
  },
  {
   "cell_type": "code",
   "execution_count": null,
   "id": "8151e197",
   "metadata": {},
   "outputs": [],
   "source": [
    "train_df,_,tag_docs = read_json_file(train_json_data, train_df)"
   ]
  },
  {
   "cell_type": "code",
   "execution_count": null,
   "id": "0ee12907",
   "metadata": {},
   "outputs": [],
   "source": [
    "val_df,_,_ = read_json_file(val_json_data, val_df)"
   ]
  },
  {
   "cell_type": "code",
   "execution_count": null,
   "id": "59bcd957",
   "metadata": {},
   "outputs": [],
   "source": [
    "test_df,_,_ = read_json_file(test_json_data, val_df)"
   ]
  },
  {
   "cell_type": "code",
   "execution_count": null,
   "id": "1f8dd7f7",
   "metadata": {},
   "outputs": [],
   "source": [
    "train_df[:1]"
   ]
  },
  {
   "cell_type": "code",
   "execution_count": null,
   "id": "17837784",
   "metadata": {},
   "outputs": [],
   "source": [
    "val_df[:1]"
   ]
  },
  {
   "cell_type": "code",
   "execution_count": null,
   "id": "43231717",
   "metadata": {},
   "outputs": [],
   "source": [
    "test_df[:1]"
   ]
  },
  {
   "cell_type": "code",
   "execution_count": null,
   "id": "c04ab588",
   "metadata": {},
   "outputs": [],
   "source": [
    "from datasets import Dataset, DatasetDict\n",
    "\n",
    "train_ds = Dataset.from_pandas(train_df)\n",
    "val_ds = Dataset.from_pandas(val_df)\n",
    "test_ds = Dataset.from_pandas(test_df)"
   ]
  },
  {
   "cell_type": "code",
   "execution_count": null,
   "id": "2e0e68a6",
   "metadata": {},
   "outputs": [],
   "source": [
    "datasets = DatasetDict()\n",
    "datasets['train'] = train_ds\n",
    "datasets['validation'] = val_ds\n",
    "datasets['test'] = test_ds"
   ]
  },
  {
   "cell_type": "code",
   "execution_count": null,
   "id": "aea65542",
   "metadata": {},
   "outputs": [],
   "source": [
    "datasets[\"train\"][1][\"tokens\"]"
   ]
  },
  {
   "cell_type": "code",
   "execution_count": null,
   "id": "e6186007",
   "metadata": {},
   "outputs": [],
   "source": [
    "datasets[\"train\"][1][\"ner_tags\"]"
   ]
  },
  {
   "cell_type": "code",
   "execution_count": null,
   "id": "043d58e9",
   "metadata": {},
   "outputs": [],
   "source": [
    "# create set from list\n",
    "expanded_tag_docs = []\n",
    "\n",
    "for tags in tag_docs:\n",
    "    for tag in tags:\n",
    "        expanded_tag_docs.append(tag)"
   ]
  },
  {
   "cell_type": "code",
   "execution_count": null,
   "id": "38e07600",
   "metadata": {},
   "outputs": [],
   "source": [
    "unique_tags = set(expanded_tag_docs)\n",
    "unique_tags"
   ]
  },
  {
   "cell_type": "code",
   "execution_count": null,
   "id": "752dbf6b",
   "metadata": {},
   "outputs": [],
   "source": [
    "def assign_label(examples):\n",
    "    mapping = {'B-LOC':0, 'B-OBJ':1, 'B-ORG':2, 'B-PER':3, 'I-LOC':4, 'I-OBJ':5, 'I-ORG':6, 'I-PER':7, 'O':8}\n",
    "    ner_labels = []\n",
    "    for example in examples[\"ner_tags\"]:\n",
    "        ner_labels.append(mapping[example])\n",
    "    examples[\"ner_labels\"] = ner_labels\n",
    "    return examples"
   ]
  },
  {
   "cell_type": "code",
   "execution_count": null,
   "id": "bbb87bf8",
   "metadata": {},
   "outputs": [],
   "source": [
    "datasets = datasets.map(assign_label)"
   ]
  },
  {
   "cell_type": "code",
   "execution_count": null,
   "id": "6eff5a27",
   "metadata": {},
   "outputs": [],
   "source": [
    "from transformers import AutoTokenizer\n",
    "\n",
    "tokenizer = CharacterBertTokenizer(strip_accents=None, do_lower_case=None)"
   ]
  },
  {
   "cell_type": "code",
   "execution_count": null,
   "id": "6751623b",
   "metadata": {},
   "outputs": [],
   "source": [
    "inputs = tokenizer(' '.join(datasets[\"train\"][0][\"tokens\"]))\n",
    "# inputs = tokenizer('ত্রাণ ও সমাজকল্যাণ সম্পাদক সুজিত রায় নন্দী রমুখ সংবাদ সম্মেলনে উপস্থিত ছিলেন')"
   ]
  },
  {
   "cell_type": "code",
   "execution_count": null,
   "id": "c3adb8ab",
   "metadata": {},
   "outputs": [],
   "source": [
    "datasets[\"train\"][0][\"tokens\"]"
   ]
  },
  {
   "cell_type": "code",
   "execution_count": null,
   "id": "ac826761",
   "metadata": {},
   "outputs": [],
   "source": [
    "def align_labels_with_tokens(labels, word_ids):\n",
    "    new_labels = []\n",
    "    for word_id in word_ids:\n",
    "        if word_id is None:\n",
    "            # Special token\n",
    "            new_labels.append(-100)\n",
    "        else:\n",
    "            new_labels.append(labels[word_id])\n",
    "    return new_labels"
   ]
  },
  {
   "cell_type": "code",
   "execution_count": null,
   "id": "7f1388d0",
   "metadata": {},
   "outputs": [],
   "source": [
    "def get_word_ids(input_tokens):\n",
    "    word_ids = []\n",
    "    count = 0\n",
    "    special_tokens_list = [tokenizer.pad_token_id, tokenizer.unk_token_id, tokenizer.cls_token_id, tokenizer.mask_token_id,\\\n",
    "                       tokenizer.unk_token_id, tokenizer.cls_token_id, tokenizer.sep_token_id]\n",
    "    for input_token in input_tokens:\n",
    "        if input_token in special_tokens_list:\n",
    "            word_id = None\n",
    "            word_ids.append(word_id)\n",
    "        else:\n",
    "            word_id = count\n",
    "            word_ids.append(word_id)\n",
    "            count += 1\n",
    "    return word_ids"
   ]
  },
  {
   "cell_type": "code",
   "execution_count": null,
   "id": "00327d91",
   "metadata": {},
   "outputs": [],
   "source": [
    "labels = datasets[\"train\"][0][\"ner_labels\"]\n",
    "word_ids = get_word_ids(inputs['input_ids'])\n",
    "print(word_ids)\n",
    "print(labels)\n",
    "print(align_labels_with_tokens(labels, word_ids))"
   ]
  },
  {
   "cell_type": "code",
   "execution_count": null,
   "id": "0dd7f08d",
   "metadata": {},
   "outputs": [],
   "source": [
    "datasets[\"train\"][0]['ner_tags']"
   ]
  },
  {
   "cell_type": "code",
   "execution_count": null,
   "id": "b79e80d2",
   "metadata": {},
   "outputs": [],
   "source": [
    "mapping = {'B-LOC':0, 'B-OBJ':1, 'B-ORG':2, 'B-PER':3, 'I-LOC':4, 'I-OBJ':5, 'I-ORG':6, 'I-PER':7, 'O':8}\n",
    "label_names = list()\n",
    "for k, v in mapping.items():\n",
    "    label_names.append(k)\n",
    "\n",
    "label_names"
   ]
  },
  {
   "cell_type": "code",
   "execution_count": null,
   "id": "26f55a24",
   "metadata": {},
   "outputs": [],
   "source": [
    "# def tokenize_and_align_labels(examples):\n",
    "#     temp_examples = [' '.join(example) for example in examples[\"tokens\"]]\n",
    "#     #print(temp_examples)\n",
    "#     tokenized_inputs = tokenizer(\n",
    "#         temp_examples\n",
    "#     )\n",
    "#     all_labels = examples[\"ner_labels\"]\n",
    "#     new_labels = []\n",
    "#     for i, labels in enumerate(all_labels):\n",
    "#         word_ids = get_word_ids(tokenized_inputs['input_ids'][i])\n",
    "#         print(len(word_ids))\n",
    "#         new_labels.append(align_labels_with_tokens(labels, word_ids))\n",
    "#         print(len(labels))\n",
    "\n",
    "#     tokenized_inputs[\"labels\"] = new_labels\n",
    "#     return tokenized_inputs"
   ]
  },
  {
   "cell_type": "code",
   "execution_count": null,
   "id": "e9272202",
   "metadata": {},
   "outputs": [],
   "source": [
    "def tokenize_and_align_labels(examples):\n",
    "    temp_examples = [' '.join(example) for example in examples[\"tokens\"]]\n",
    "    #print(temp_examples)\n",
    "    tokenized_inputs = tokenizer(\n",
    "        temp_examples, max_length=128\n",
    "    )\n",
    "    \n",
    "    all_labels = examples[\"ner_labels\"]\n",
    "    new_labels = []\n",
    "    \n",
    "    for i, labels in enumerate(all_labels):\n",
    "        new_labels.append([-100]+labels+[-100])\n",
    "    \n",
    "    tokenized_inputs[\"labels\"] = new_labels\n",
    "    return tokenized_inputs"
   ]
  },
  {
   "cell_type": "code",
   "execution_count": null,
   "id": "2a63ce7b",
   "metadata": {},
   "outputs": [],
   "source": [
    "samples = datasets[\"train\"][:2]"
   ]
  },
  {
   "cell_type": "code",
   "execution_count": null,
   "id": "d4cf3542",
   "metadata": {},
   "outputs": [],
   "source": [
    "samples['tokens'][0]"
   ]
  },
  {
   "cell_type": "code",
   "execution_count": null,
   "id": "0af2176d",
   "metadata": {},
   "outputs": [],
   "source": [
    "tokenize_and_align_labels(samples)"
   ]
  },
  {
   "cell_type": "code",
   "execution_count": null,
   "id": "4ab34ae7",
   "metadata": {},
   "outputs": [],
   "source": [
    "tokenized_datasets = datasets.map(\n",
    "    tokenize_and_align_labels,\n",
    "    batched=True,\n",
    "    remove_columns=datasets[\"train\"].column_names,\n",
    ")"
   ]
  },
  {
   "cell_type": "code",
   "execution_count": null,
   "id": "4b702bcd",
   "metadata": {},
   "outputs": [],
   "source": [
    "tokenized_datasets"
   ]
  },
  {
   "cell_type": "code",
   "execution_count": null,
   "id": "150de5a7",
   "metadata": {},
   "outputs": [],
   "source": [
    "from transformers import DataCollatorForTokenClassification\n",
    "\n",
    "data_collator = DataCollatorForTokenClassification(tokenizer=tokenizer)"
   ]
  },
  {
   "cell_type": "code",
   "execution_count": null,
   "id": "7ffd947c",
   "metadata": {},
   "outputs": [],
   "source": [
    "batch = data_collator([tokenized_datasets[\"train\"][i] for i in range(2)])\n",
    "batch[\"labels\"]"
   ]
  },
  {
   "cell_type": "code",
   "execution_count": null,
   "id": "db94d940",
   "metadata": {},
   "outputs": [],
   "source": [
    "for i in range(2):\n",
    "    print(tokenized_datasets[\"train\"][i][\"labels\"])"
   ]
  },
  {
   "cell_type": "code",
   "execution_count": null,
   "id": "05c70eae",
   "metadata": {},
   "outputs": [],
   "source": [
    "import evaluate\n",
    "\n",
    "metric = evaluate.load(\"seqeval\")"
   ]
  },
  {
   "cell_type": "code",
   "execution_count": null,
   "id": "381bce00",
   "metadata": {},
   "outputs": [],
   "source": [
    "# !pip install seqeval"
   ]
  },
  {
   "cell_type": "code",
   "execution_count": null,
   "id": "cb356d44",
   "metadata": {},
   "outputs": [],
   "source": [
    "labels = datasets[\"train\"][0][\"ner_labels\"]\n",
    "labels = [label_names[i] for i in labels]\n",
    "labels"
   ]
  },
  {
   "cell_type": "code",
   "execution_count": null,
   "id": "f8ffd02f",
   "metadata": {},
   "outputs": [],
   "source": [
    "predictions = labels.copy()\n",
    "predictions[2] = 'B-PER'\n",
    "metric.compute(predictions=[predictions], references=[labels])"
   ]
  },
  {
   "cell_type": "code",
   "execution_count": null,
   "id": "3fd8db7a",
   "metadata": {},
   "outputs": [],
   "source": [
    "import numpy as np\n",
    "\n",
    "\n",
    "def compute_metrics(eval_preds):\n",
    "    logits, labels = eval_preds\n",
    "    predictions = np.argmax(logits, axis=-1)\n",
    "\n",
    "    # Remove ignored index (special tokens) and convert to labels\n",
    "    true_labels = [[label_names[l] for l in label if l != -100] for label in labels]\n",
    "    true_predictions = [\n",
    "        [label_names[p] for (p, l) in zip(prediction, label) if l != -100]\n",
    "        for prediction, label in zip(predictions, labels)\n",
    "    ]\n",
    "    all_metrics = metric.compute(predictions=true_predictions, references=true_labels)\n",
    "    return {\n",
    "        \"precision\": all_metrics[\"overall_precision\"],\n",
    "        \"recall\": all_metrics[\"overall_recall\"],\n",
    "        \"f1\": all_metrics[\"overall_f1\"],\n",
    "        \"accuracy\": all_metrics[\"overall_accuracy\"],\n",
    "    }"
   ]
  },
  {
   "cell_type": "code",
   "execution_count": null,
   "id": "b108e951",
   "metadata": {},
   "outputs": [],
   "source": [
    "id2label = {i: label for i, label in enumerate(label_names)}\n",
    "label2id = {v: k for k, v in id2label.items()}"
   ]
  },
  {
   "cell_type": "code",
   "execution_count": null,
   "id": "a9b5a63e",
   "metadata": {},
   "outputs": [],
   "source": [
    "id2label"
   ]
  },
  {
   "cell_type": "code",
   "execution_count": null,
   "id": "9d741805",
   "metadata": {},
   "outputs": [],
   "source": [
    "label2id"
   ]
  },
  {
   "cell_type": "code",
   "execution_count": null,
   "id": "bae49bef",
   "metadata": {},
   "outputs": [],
   "source": [
    "#### LOADING BERT FOR CLASSIFICATION ####\n",
    "\n",
    "from transformers import AutoModelForTokenClassification\n",
    "\n",
    "model = AutoModelForTokenClassification.from_pretrained(\n",
    "    'bert-base-uncased',\n",
    "    id2label=id2label,\n",
    "    label2id=label2id,\n",
    ")"
   ]
  },
  {
   "cell_type": "code",
   "execution_count": null,
   "id": "3c02475c",
   "metadata": {},
   "outputs": [],
   "source": [
    "#### REPLACING BERT WITH CHARACTER_BERT ####\n",
    "\n",
    "character_bert_model = CharacterBertModel.from_pretrained(\n",
    "    \"E:\\Documents\\Character Bert\\Question Classification\\character-bert\")\n",
    "model.bert = character_bert_model"
   ]
  },
  {
   "cell_type": "code",
   "execution_count": null,
   "id": "d1575043",
   "metadata": {},
   "outputs": [],
   "source": [
    "model.bert.embeddings.word_embeddings  # wordpieces are replaced with a CharacterCNN"
   ]
  },
  {
   "cell_type": "code",
   "execution_count": null,
   "id": "d757b3ae",
   "metadata": {},
   "outputs": [],
   "source": [
    "model.config.num_labels"
   ]
  },
  {
   "cell_type": "code",
   "execution_count": null,
   "id": "888e5143",
   "metadata": {},
   "outputs": [],
   "source": [
    "#  disable weights and biases logging\n",
    "import os\n",
    "os.environ[\"WANDB_DISABLED\"] = \"true\""
   ]
  },
  {
   "cell_type": "code",
   "execution_count": null,
   "id": "7b04e011",
   "metadata": {},
   "outputs": [],
   "source": [
    "from transformers import TrainingArguments\n",
    "batch_size = 32\n",
    "\n",
    "args = TrainingArguments(\n",
    "    \"models/ner\",\n",
    "    report_to = None,\n",
    "    logging_dir= None,\n",
    "    save_strategy=\"no\",\n",
    "    evaluation_strategy=\"epoch\",\n",
    "    #save_strategy=\"epoch\",\n",
    "    #learning_rate=2e-5,\n",
    "    learning_rate=3e-5,\n",
    "    #num_train_epochs=4,\n",
    "    num_train_epochs=3,\n",
    "    warmup_ratio = 0.06,\n",
    "    weight_decay=0.01,\n",
    "    per_device_train_batch_size=batch_size,\n",
    "    per_device_eval_batch_size=batch_size,\n",
    ")"
   ]
  },
  {
   "cell_type": "code",
   "execution_count": null,
   "id": "f0435c97",
   "metadata": {},
   "outputs": [],
   "source": [
    "from transformers import Trainer\n",
    "\n",
    "trainer = Trainer(\n",
    "    model=model,\n",
    "    args=args,\n",
    "    train_dataset=tokenized_datasets[\"train\"],\n",
    "    eval_dataset=tokenized_datasets[\"validation\"],\n",
    "    data_collator=data_collator,\n",
    "    compute_metrics=compute_metrics,\n",
    "    tokenizer=tokenizer,\n",
    ")"
   ]
  },
  {
   "cell_type": "code",
   "execution_count": null,
   "id": "15020690",
   "metadata": {},
   "outputs": [],
   "source": [
    "import transformers\n",
    "trainer.remove_callback(transformers.integrations.TensorBoardCallback)"
   ]
  },
  {
   "cell_type": "code",
   "execution_count": null,
   "id": "f1c286dd",
   "metadata": {},
   "outputs": [],
   "source": [
    "trainer.evaluate()"
   ]
  },
  {
   "cell_type": "code",
   "execution_count": null,
   "id": "df7b7e5c",
   "metadata": {},
   "outputs": [],
   "source": [
    "trainer.train()"
   ]
  },
  {
   "cell_type": "code",
   "execution_count": null,
   "id": "6567a706",
   "metadata": {},
   "outputs": [],
   "source": [
    "# trainer.save_model()"
   ]
  },
  {
   "cell_type": "code",
   "execution_count": null,
   "id": "421a9484",
   "metadata": {},
   "outputs": [],
   "source": [
    "trainer.evaluate(tokenized_datasets[\"test\"])"
   ]
  },
  {
   "cell_type": "code",
   "execution_count": null,
   "id": "53d5bbb2",
   "metadata": {},
   "outputs": [],
   "source": [
    "y_preds, y_true, _ = trainer.predict(tokenized_datasets[\"test\"])"
   ]
  },
  {
   "cell_type": "code",
   "execution_count": null,
   "id": "ddf2d768",
   "metadata": {},
   "outputs": [],
   "source": [
    "predictions = np.argmax(y_preds, axis=-1)"
   ]
  },
  {
   "cell_type": "code",
   "execution_count": null,
   "id": "9807b7bd",
   "metadata": {},
   "outputs": [],
   "source": [
    "# Remove ignored index (special tokens) and convert to labels\n",
    "true_labels = [[label_names[l] for l in label if l != -100] for label in y_true]"
   ]
  },
  {
   "cell_type": "code",
   "execution_count": null,
   "id": "44836106",
   "metadata": {},
   "outputs": [],
   "source": [
    "true_predictions = [\n",
    "        [label_names[p] for (p, l) in zip(prediction, label) if l != -100]\n",
    "        for prediction, label in zip(predictions, y_true)\n",
    "    ]"
   ]
  },
  {
   "cell_type": "code",
   "execution_count": null,
   "id": "b035386a",
   "metadata": {},
   "outputs": [],
   "source": [
    "misclassified = [i for i in range(len(true_predictions)) if (true_predictions[i] != true_labels[i])]"
   ]
  },
  {
   "cell_type": "code",
   "execution_count": null,
   "id": "b0d97d1c",
   "metadata": {},
   "outputs": [],
   "source": [
    "misclassified"
   ]
  },
  {
   "cell_type": "code",
   "execution_count": null,
   "id": "8061568b",
   "metadata": {},
   "outputs": [],
   "source": [
    "temp = test_ds.select(misclassified)"
   ]
  },
  {
   "cell_type": "code",
   "execution_count": null,
   "id": "abefd85c",
   "metadata": {},
   "outputs": [],
   "source": [
    "# search_query = 'বাংলাদেশ'\n",
    "# search_query = 'শান্ত'\n",
    "search_query = 'উত্তর-পশ্চিমাঞ্চলের'\n",
    "found_example = \"\"\n",
    "for index, example in zip(misclassified, temp['tokens']):\n",
    "    if search_query in example:\n",
    "        print(index)\n",
    "        print(example)\n",
    "        found_index = index\n",
    "        found_example = \" \".join(example)\n",
    "        break"
   ]
  },
  {
   "cell_type": "code",
   "execution_count": null,
   "id": "5bdf44d2",
   "metadata": {},
   "outputs": [],
   "source": [
    "tokenizer.tokenize(found_example)"
   ]
  },
  {
   "cell_type": "code",
   "execution_count": null,
   "id": "047b5e47",
   "metadata": {},
   "outputs": [],
   "source": [
    "true_labels[found_index]"
   ]
  },
  {
   "cell_type": "code",
   "execution_count": null,
   "id": "ce358df8",
   "metadata": {},
   "outputs": [],
   "source": [
    "true_predictions[found_index]"
   ]
  }
 ],
 "metadata": {
  "kernelspec": {
   "display_name": "Python 3 (ipykernel)",
   "language": "python",
   "name": "python3"
  },
  "language_info": {
   "codemirror_mode": {
    "name": "ipython",
    "version": 3
   },
   "file_extension": ".py",
   "mimetype": "text/x-python",
   "name": "python",
   "nbconvert_exporter": "python",
   "pygments_lexer": "ipython3",
   "version": "3.10.4"
  }
 },
 "nbformat": 4,
 "nbformat_minor": 5
}
