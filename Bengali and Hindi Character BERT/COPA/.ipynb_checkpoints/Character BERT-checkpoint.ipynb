{
 "cells": [
  {
   "cell_type": "code",
   "execution_count": 1,
   "id": "cd998685",
   "metadata": {},
   "outputs": [],
   "source": [
    "from transformers import set_seed\n",
    "import torch\n",
    "\n",
    "# random_seed = 42\n",
    "random_seed = 80\n",
    "\n",
    "set_seed(random_seed)"
   ]
  },
  {
   "cell_type": "code",
   "execution_count": 2,
   "id": "25fa122b",
   "metadata": {},
   "outputs": [],
   "source": [
    "from transformers import CharacterBertModel\n",
    "import torch.nn as nn\n",
    "\n",
    "class CharacterBERTForMultipleChoice(nn.Module):\n",
    "    def __init__(self):\n",
    "          super(CharacterBERTForMultipleChoice, self).__init__()\n",
    "          self.bert = CharacterBertModel.from_pretrained(\"E:\\Documents\\Character Bert\\Hate Speech\\character-bert-hindi\")\n",
    "          ### New layers:\n",
    "          self.linear1 = nn.Linear(768, 1) ## 1 is the number of classes in this example\n",
    "\n",
    "    def forward(self, input_ids,attention_mask,token_type_ids,position_ids,head_mask,\\\n",
    "                inputs_embeds,output_attentions,output_hidden_states,return_dict):\n",
    "        outputs = self.bert(\n",
    "            input_ids,\n",
    "            attention_mask,\n",
    "            token_type_ids,\n",
    "            position_ids,\n",
    "            head_mask,\n",
    "            inputs_embeds,\n",
    "            output_attentions,\n",
    "            output_hidden_states,\n",
    "            return_dict)\n",
    "        \n",
    "        pooled_output = outputs[1]\n",
    "        logits = self.linear1(pooled_output)\n",
    "\n",
    "        return logits"
   ]
  },
  {
   "cell_type": "code",
   "execution_count": 3,
   "id": "209e3f82",
   "metadata": {},
   "outputs": [
    {
     "name": "stderr",
     "output_type": "stream",
     "text": [
      "Found cached dataset json (C:/Users/arifa/.cache/huggingface/datasets/json/default-4aa02a47edd70562/0.0.0/e347ab1c932092252e717ff3f949105a4dd28b27e842dd53157d2f72e276c2e4)\n"
     ]
    }
   ],
   "source": [
    "from datasets import load_dataset\n",
    "\n",
    "train_dataset = load_dataset(\"json\", data_files=\"..\\datasets\\copa-translated\\\\hi\\\\train.jsonl\", \\\n",
    "                             split=\"train\")"
   ]
  },
  {
   "cell_type": "code",
   "execution_count": 4,
   "id": "f1cb0550",
   "metadata": {},
   "outputs": [
    {
     "name": "stderr",
     "output_type": "stream",
     "text": [
      "Found cached dataset json (C:/Users/arifa/.cache/huggingface/datasets/json/default-bfbd5b7cdea343df/0.0.0/e347ab1c932092252e717ff3f949105a4dd28b27e842dd53157d2f72e276c2e4)\n"
     ]
    }
   ],
   "source": [
    "val_dataset = load_dataset(\"json\", data_files=\"..\\datasets\\copa-translated\\\\hi\\\\val.jsonl\", \\\n",
    "                            split=\"train\")"
   ]
  },
  {
   "cell_type": "code",
   "execution_count": 5,
   "id": "f25a14c4",
   "metadata": {},
   "outputs": [
    {
     "name": "stderr",
     "output_type": "stream",
     "text": [
      "Found cached dataset json (C:/Users/arifa/.cache/huggingface/datasets/json/default-0e1a32d75e6ec46c/0.0.0/e347ab1c932092252e717ff3f949105a4dd28b27e842dd53157d2f72e276c2e4)\n"
     ]
    }
   ],
   "source": [
    "test_dataset = load_dataset(\"json\", data_files=\"..\\datasets\\copa-translated\\\\hi\\\\test.jsonl\", \\\n",
    "                             split=\"train\")"
   ]
  },
  {
   "cell_type": "code",
   "execution_count": 6,
   "id": "99241519",
   "metadata": {},
   "outputs": [],
   "source": [
    "from datasets import Dataset, DatasetDict\n",
    "\n",
    "datasets = DatasetDict()\n",
    "datasets['train'] = train_dataset\n",
    "datasets['validation'] = val_dataset\n",
    "datasets['test'] = test_dataset"
   ]
  },
  {
   "cell_type": "code",
   "execution_count": 7,
   "id": "ca4ecbe4",
   "metadata": {},
   "outputs": [],
   "source": [
    "# from datasets import load_dataset\n",
    "\n",
    "# datasets = load_dataset(\"indic_glue\",\"copa.hi\")"
   ]
  },
  {
   "cell_type": "code",
   "execution_count": 8,
   "id": "89b417a1",
   "metadata": {},
   "outputs": [],
   "source": [
    "# datasets"
   ]
  },
  {
   "cell_type": "code",
   "execution_count": 9,
   "id": "bac25dcc",
   "metadata": {},
   "outputs": [
    {
     "data": {
      "text/plain": [
       "{'premise': ['मेरे शरीर ने घास पर छाया डाली।',\n",
       "  'महिला ने अपने दोस्त के कठिन व्यवहार को सहन किया।',\n",
       "  'महिलाएं कॉफी के लिए मिलीं।',\n",
       "  'धावक ने शॉर्ट्स पहनी थी।',\n",
       "  'पार्टी के मेहमान सोफे के पीछे छिप गए।',\n",
       "  'राजनेता चुनाव हार गया।',\n",
       "  'शर्ट से दाग निकल आया।',\n",
       "  'आदमी को अपनी किराने का सामान पर छूट मिल गई।',\n",
       "  'चिकित्सक ने मरीज को गलत बताया।',\n",
       "  'ग्राहक ने स्टोर मैनेजर के पास शिकायत दर्ज कराई।',\n",
       "  'महिला ने अपने नल की मरम्मत की।',\n",
       "  'बुजुर्ग महिला को दौरा पड़ा।',\n",
       "  'अपराधी ने पैरोल का उल्लंघन किया।',\n",
       "  'मैंने अपने सोते हुए दोस्त पर पानी डाला।',\n",
       "  'बाहर अंधेरा हो गया।',\n",
       "  'मैंने फोन रख दिया।',\n",
       "  'शॉवर में महिला की अंगूठी फिसल गई।',\n",
       "  'लड़की को एक ट्रॉफी मिली।',\n",
       "  'महिला की तारीख एक सज्जन की तरह दिखना चाहती थी।',\n",
       "  'खेत को सिंचाई की जरूरत थी।',\n",
       "  'मेजबान ने पार्टी को रद्द कर दिया।',\n",
       "  'महिला ने पुरुष को अपना फोन नंबर दिया।',\n",
       "  'स्काईडाइवर सुरक्षित रूप से जमीन पर चला गया।',\n",
       "  'बच्चा क्रैंक हो गया।',\n",
       "  'बच्चा रोग प्रतिरोधक हो गया।',\n",
       "  'अंगूर का रस किण्वित।',\n",
       "  'दोस्तों की बहस अंतर्मन पर खिंच गई।',\n",
       "  'महिला ने खुद को अपमानित किया।',\n",
       "  'वह आदमी अपने नए बाल कटवाने से नफरत करता था।',\n",
       "  'पुलिस ने भगोड़े को अपने हथियारों का निशाना बनाया।',\n",
       "  'रोगी निर्जलित था।',\n",
       "  'लड़की को लापता पहेली टुकड़ा मिला।',\n",
       "  'आदमी ने तुरंत बिस्तर से छलांग लगा दी।',\n",
       "  'कागजात अव्यवस्थित थे।',\n",
       "  'महिला ने लॉटरी जीती।',\n",
       "  'सीमस्ट्रेस ने थ्रेडेड सुई को कपड़े में धकेल दिया।',\n",
       "  'महिला ने एक वकील को हायर किया।',\n",
       "  'मेरा पसंदीदा गाना रेडियो पर आया।',\n",
       "  'कार्यकारी ने आवेदक को नौकरी नहीं देने का फैसला किया।',\n",
       "  'आदमी की आंख संक्रमित हो गई।',\n",
       "  'चिड़िया उड़ नहीं सकती थी।',\n",
       "  'लड़की ने एक इच्छा की।',\n",
       "  'पूल से बाहर निकलते ही महिला कांप गई।',\n",
       "  'नर्स ने मरीज के इंजेक्शन के लिए सुई तैयार की।',\n",
       "  'उस आदमी ने रोटी बाहर फेंक दी।',\n",
       "  'बच्चों ने दीप जलाकर दस्तक दी।',\n",
       "  'मैं पानी के फव्वारे से पी गया।',\n",
       "  'गृहस्वामी अपने नादान पड़ोसियों को नापसंद करते थे।',\n",
       "  'बॉडी बिल्डर ने वजन उठाया।',\n",
       "  'कुक ने कटोरे में सामग्री को उभारा।'],\n",
       " 'choice1': ['सूरज उग रहा था।',\n",
       "  'महिला को पता था कि उसका दोस्त कठिन समय से गुजर रहा है।',\n",
       "  'एक नए स्थान में कैफे फिर से खुल गया।',\n",
       "  'पूर्वानुमान में उच्च तापमान की भविष्यवाणी की गई थी।',\n",
       "  'यह एक सरप्राइज पार्टी थी।',\n",
       "  'उसने नकारात्मक अभियान विज्ञापन चलाए।',\n",
       "  'मैंने शर्ट उतार दी।',\n",
       "  'उन्होंने कैशियर का अभिवादन किया।',\n",
       "  'मरीज ने चिकित्सक के खिलाफ कदाचार का मुकदमा दायर किया।',\n",
       "  'बिक्री सहयोगी ग्राहक undercharged।',\n",
       "  'नल टपका हुआ था।',\n",
       "  'महिला की बेटी अपने घर की सफाई करने के लिए आई थी।',\n",
       "  'उसे वापस जेल भेज दिया गया।',\n",
       "  'मेरा दोस्त जाग गया।',\n",
       "  'आसमान से बर्फ़ गिरने लगी।',\n",
       "  'फोन करने वाले ने मुझे अलविदा कह दिया।',\n",
       "  'महिला ने अंगूठी पॉलिश की।',\n",
       "  'उसने एक वर्तनी मधुमक्खी जीती।',\n",
       "  'उसने उसके लिए दरवाजा खोला।',\n",
       "  'एक नहर का निर्माण किया गया था।',\n",
       "  'वह निश्चित था कि उसे फ्लू था।',\n",
       "  'वह उसकी ओर आकर्षित थी।',\n",
       "  'उसने अपना पैराशूट खोला।',\n",
       "  'उसकी माँ ने उसे एक झपकी के लिए नीचे रखा।',\n",
       "  'उन्होंने बीमारी के संपर्क में आने से बचा लिया।',\n",
       "  'रस शराब में बदल गया।',\n",
       "  'दोस्तों ने नजरें मिला कर देखा।',\n",
       "  'वह घबरा गई थी।',\n",
       "  'उसने टोपी पहनी थी।',\n",
       "  'भगोड़ा जमीन पर गिर गया।',\n",
       "  'नर्स ने अपनी सजगता का परीक्षण किया।',\n",
       "  'उसने पहेली पूरी की।',\n",
       "  'वह अलार्म घड़ी को बंद करना चाहता था।',\n",
       "  'मैंने उनकी फोटोकॉपी कराई।',\n",
       "  'उसने एक नौका खरीदी।',\n",
       "  'सुई के चारों ओर लपेटा हुआ धागा।',\n",
       "  'उसने अपने नियोक्ता पर मुकदमा चलाने का फैसला किया।',\n",
       "  'मैंने अपने कान ढँक लिए।',\n",
       "  'आवेदक पृष्ठभूमि की जांच में विफल रहा।',\n",
       "  'वह अंधा हो गया।',\n",
       "  'यह सर्दियों के लिए चला गया।',\n",
       "  'उसने एक काली बिल्ली देखी।',\n",
       "  'उसने खुद को एक तौलिया में लपेट लिया।',\n",
       "  'रोगी ब्लेड।',\n",
       "  'यह ताजा था।',\n",
       "  'उनके बीच एक तकिया लड़ाई थी।',\n",
       "  'में प्यासा था।',\n",
       "  'उन्होंने अपनी संपत्ति के चारों ओर एक बाड़ का निर्माण किया।',\n",
       "  'जिम बंद हो गया।',\n",
       "  'सामग्री पिघल गई।'],\n",
       " 'choice2': ['घास काटी गई।',\n",
       "  'महिला को लगा कि उसके दोस्त ने उसकी दया का फायदा उठाया।',\n",
       "  'वे एक-दूसरे को पकड़ना चाहते थे।',\n",
       "  'उसने समुद्र तट के साथ दौड़ने की योजना बनाई।',\n",
       "  'यह जन्मदिन की पार्टी थी।',\n",
       "  'किसी ने उसे वोट नहीं दिया।',\n",
       "  'मैंने कमीज उतारी।',\n",
       "  'उसने एक कूपन का इस्तेमाल किया।',\n",
       "  'मरीज ने चिकित्सक को गोपनीय जानकारी दी।',\n",
       "  'बिक्री सहयोगी ने ग्राहक के साथ असभ्य व्यवहार किया।',\n",
       "  'नल बंद कर दिया गया था।',\n",
       "  'महिला की बेटी उसकी देखभाल करने के लिए चली गई।',\n",
       "  'उसने एक चर्च से पैसे चुराए थे।',\n",
       "  'मेरे दोस्त ने खर्राटे लिए।',\n",
       "  'आसमान में चांद दिखने लगा।',\n",
       "  'फोन करने वाले ने खुद को पहचान लिया।',\n",
       "  'अंगूठी नाले में गिर गई।',\n",
       "  'उसने एक नया दोस्त बनाया।',\n",
       "  'उसने उससे पूछा कि क्या वह सुशी को पसंद करती है।',\n",
       "  'एक बाढ़ आई।',\n",
       "  'उसे चिंता थी कि वह फ्लू पकड़ लेगी।',\n",
       "  'वह उसके द्वारा ठुकरा दिया गया था।',\n",
       "  'वह विमान से कूद गई।',\n",
       "  'उसकी माँ ने अपने बाल पिगलेट में लगाए।',\n",
       "  'उन्होंने बीमारी के लिए वैक्सीन प्राप्त की।',\n",
       "  'रस वाष्पित हो गया।',\n",
       "  'दोस्त बाल काट रहे थे।',\n",
       "  'वो अच्छे मूड में थी।',\n",
       "  'उसने दाढ़ी बढ़ा ली।',\n",
       "  'भगोड़े ने अपनी बंदूक गिरा दी।',\n",
       "  'नर्स ने उसे एक IV दिया।',\n",
       "  'उसने पहेली को अलग किया।',\n",
       "  'वह काम से पहले अपनी पैंट को इस्त्री करना चाहता था।',\n",
       "  'मैंने उन्हें वर्णमाला के क्रम में रखा।',\n",
       "  'वह एक चर्च में शामिल हो गई।',\n",
       "  'धागा कपड़े के माध्यम से चला गया।',\n",
       "  'उसने ऑफिस जाने का फैसला किया।',\n",
       "  'मैंने इसके साथ गाया है।',\n",
       "  'आवेदक के पास नौकरी के लिए अनुभव था।',\n",
       "  'उसने चश्मा लगा लिया।',\n",
       "  'इससे उसका पंख घायल हो गया।',\n",
       "  'उसने एक शूटिंग स्टार को देखा।',\n",
       "  'उसने खुद को कुछ नींबू पानी डाला।',\n",
       "  'मरीज ने तंज कसा।',\n",
       "  'यह बासी था।',\n",
       "  'वे बिस्तर पर कूद पड़े।',\n",
       "  'मुझे मिचली आ रही थी।',\n",
       "  'उन्होंने अपने पिछवाड़े में एक बारबेक्यू की मेजबानी की।',\n",
       "  'उसकी मांसपेशियों में थकान हो गई।',\n",
       "  'सामग्री एक साथ मिश्रित।'],\n",
       " 'question': ['cause',\n",
       "  'cause',\n",
       "  'cause',\n",
       "  'cause',\n",
       "  'cause',\n",
       "  'cause',\n",
       "  'cause',\n",
       "  'cause',\n",
       "  'effect',\n",
       "  'cause',\n",
       "  'cause',\n",
       "  'effect',\n",
       "  'effect',\n",
       "  'effect',\n",
       "  'effect',\n",
       "  'cause',\n",
       "  'effect',\n",
       "  'cause',\n",
       "  'effect',\n",
       "  'effect',\n",
       "  'cause',\n",
       "  'cause',\n",
       "  'cause',\n",
       "  'effect',\n",
       "  'cause',\n",
       "  'effect',\n",
       "  'cause',\n",
       "  'cause',\n",
       "  'effect',\n",
       "  'effect',\n",
       "  'effect',\n",
       "  'effect',\n",
       "  'cause',\n",
       "  'effect',\n",
       "  'effect',\n",
       "  'effect',\n",
       "  'cause',\n",
       "  'effect',\n",
       "  'cause',\n",
       "  'effect',\n",
       "  'cause',\n",
       "  'cause',\n",
       "  'effect',\n",
       "  'effect',\n",
       "  'cause',\n",
       "  'cause',\n",
       "  'cause',\n",
       "  'effect',\n",
       "  'effect',\n",
       "  'effect'],\n",
       " 'idx': [0,\n",
       "  1,\n",
       "  2,\n",
       "  3,\n",
       "  4,\n",
       "  5,\n",
       "  6,\n",
       "  7,\n",
       "  8,\n",
       "  9,\n",
       "  10,\n",
       "  11,\n",
       "  13,\n",
       "  14,\n",
       "  17,\n",
       "  18,\n",
       "  19,\n",
       "  20,\n",
       "  21,\n",
       "  22,\n",
       "  23,\n",
       "  24,\n",
       "  25,\n",
       "  26,\n",
       "  27,\n",
       "  28,\n",
       "  29,\n",
       "  30,\n",
       "  31,\n",
       "  32,\n",
       "  33,\n",
       "  34,\n",
       "  35,\n",
       "  36,\n",
       "  37,\n",
       "  38,\n",
       "  39,\n",
       "  41,\n",
       "  42,\n",
       "  43,\n",
       "  44,\n",
       "  45,\n",
       "  46,\n",
       "  47,\n",
       "  48,\n",
       "  49,\n",
       "  50,\n",
       "  51,\n",
       "  52,\n",
       "  53],\n",
       " 'label': [0,\n",
       "  0,\n",
       "  1,\n",
       "  0,\n",
       "  0,\n",
       "  1,\n",
       "  1,\n",
       "  1,\n",
       "  0,\n",
       "  1,\n",
       "  0,\n",
       "  1,\n",
       "  0,\n",
       "  0,\n",
       "  1,\n",
       "  0,\n",
       "  1,\n",
       "  0,\n",
       "  0,\n",
       "  0,\n",
       "  0,\n",
       "  0,\n",
       "  0,\n",
       "  0,\n",
       "  1,\n",
       "  0,\n",
       "  1,\n",
       "  1,\n",
       "  0,\n",
       "  1,\n",
       "  1,\n",
       "  0,\n",
       "  0,\n",
       "  1,\n",
       "  0,\n",
       "  1,\n",
       "  0,\n",
       "  1,\n",
       "  0,\n",
       "  0,\n",
       "  1,\n",
       "  1,\n",
       "  0,\n",
       "  1,\n",
       "  1,\n",
       "  0,\n",
       "  0,\n",
       "  0,\n",
       "  1,\n",
       "  1]}"
      ]
     },
     "execution_count": 9,
     "metadata": {},
     "output_type": "execute_result"
    }
   ],
   "source": [
    "datasets[\"train\"][:50]"
   ]
  },
  {
   "cell_type": "code",
   "execution_count": 10,
   "id": "a882b123",
   "metadata": {},
   "outputs": [
    {
     "data": {
      "text/plain": [
       "{'premise': ['आइटम को बबल रैप में पैक किया गया था।',\n",
       "  'मैंने अपनी जेबें खाली कर दीं।'],\n",
       " 'choice1': ['यह नाजुक था।', 'मैंने एक टिकट स्टब को पुनः प्राप्त किया।'],\n",
       " 'choice2': ['छोटा था।', 'मुझे एक हथियार मिला।'],\n",
       " 'question': ['cause', 'effect'],\n",
       " 'idx': [0, 1],\n",
       " 'label': [0, 0]}"
      ]
     },
     "execution_count": 10,
     "metadata": {},
     "output_type": "execute_result"
    }
   ],
   "source": [
    "datasets[\"test\"][:2]"
   ]
  },
  {
   "cell_type": "code",
   "execution_count": 11,
   "id": "40831c1e",
   "metadata": {},
   "outputs": [],
   "source": [
    "datasets.set_format(\"pandas\")"
   ]
  },
  {
   "cell_type": "code",
   "execution_count": 12,
   "id": "1ce2da35",
   "metadata": {},
   "outputs": [],
   "source": [
    "# get label counts for both classes\n",
    "label_counts = datasets[\"train\"][\"label\"].value_counts()\n",
    "num_labels = (len(label_counts.keys()))"
   ]
  },
  {
   "cell_type": "code",
   "execution_count": 13,
   "id": "1afd418e",
   "metadata": {},
   "outputs": [
    {
     "data": {
      "text/plain": [
       "label\n",
       "1    186\n",
       "0    176\n",
       "Name: count, dtype: int64"
      ]
     },
     "execution_count": 13,
     "metadata": {},
     "output_type": "execute_result"
    }
   ],
   "source": [
    "label_counts"
   ]
  },
  {
   "cell_type": "code",
   "execution_count": 14,
   "id": "33520fcc",
   "metadata": {},
   "outputs": [],
   "source": [
    "datasets.reset_format()"
   ]
  },
  {
   "cell_type": "code",
   "execution_count": 15,
   "id": "0161e6e9",
   "metadata": {},
   "outputs": [],
   "source": [
    "from transformers import BertForSequenceClassification, BertConfig, CharacterBertModel, CharacterBertTokenizer\n",
    "\n",
    "tokenizer = CharacterBertTokenizer(strip_accents=None, do_lower_case=None)"
   ]
  },
  {
   "cell_type": "code",
   "execution_count": 16,
   "id": "b8fc03b7",
   "metadata": {},
   "outputs": [],
   "source": [
    "choice_names = ['choice1', 'choice2']"
   ]
  },
  {
   "cell_type": "code",
   "execution_count": 17,
   "id": "c6010dc7",
   "metadata": {},
   "outputs": [],
   "source": [
    "def preprocess_function(examples):\n",
    "    premise = [[context] * 2 for context in examples[\"premise\"]]\n",
    "    cause = [[f\"{examples[choice][i]}\" for choice in choice_names] for i,_ in enumerate(premise)]\n",
    "\n",
    "    premise = sum(premise, [])\n",
    "    cause = sum(cause, [])\n",
    "    \n",
    "#     print(premise)\n",
    "#     print(cause)\n",
    "    \n",
    "\n",
    "    tokenized_examples = tokenizer(premise, cause, truncation=True, max_length=128, padding='max_length')\n",
    "#     print(len(tokenized_examples))\n",
    "    return {k: [v[i : i + 2] for i in range(0, len(v), 2)] for k, v in tokenized_examples.items()}\n",
    "    return tokenized_examples"
   ]
  },
  {
   "cell_type": "code",
   "execution_count": 18,
   "id": "29d4330d",
   "metadata": {},
   "outputs": [
    {
     "data": {
      "text/plain": [
       "3"
      ]
     },
     "execution_count": 18,
     "metadata": {},
     "output_type": "execute_result"
    }
   ],
   "source": [
    "temp = preprocess_function(datasets[\"train\"][:1])\n",
    "len(temp)"
   ]
  },
  {
   "cell_type": "code",
   "execution_count": 19,
   "id": "3957f337",
   "metadata": {},
   "outputs": [
    {
     "name": "stderr",
     "output_type": "stream",
     "text": [
      "Loading cached processed dataset at C:\\Users\\arifa\\.cache\\huggingface\\datasets\\json\\default-4aa02a47edd70562\\0.0.0\\e347ab1c932092252e717ff3f949105a4dd28b27e842dd53157d2f72e276c2e4\\cache-4f37415a4b80bb35.arrow\n",
      "Loading cached processed dataset at C:\\Users\\arifa\\.cache\\huggingface\\datasets\\json\\default-bfbd5b7cdea343df\\0.0.0\\e347ab1c932092252e717ff3f949105a4dd28b27e842dd53157d2f72e276c2e4\\cache-5ee2de098a395602.arrow\n",
      "Loading cached processed dataset at C:\\Users\\arifa\\.cache\\huggingface\\datasets\\json\\default-0e1a32d75e6ec46c\\0.0.0\\e347ab1c932092252e717ff3f949105a4dd28b27e842dd53157d2f72e276c2e4\\cache-e9799b7b5bdc26ac.arrow\n"
     ]
    }
   ],
   "source": [
    "tokenized_datasets = datasets.map(preprocess_function, batched=True)"
   ]
  },
  {
   "cell_type": "code",
   "execution_count": 20,
   "id": "b3a51ee4",
   "metadata": {},
   "outputs": [
    {
     "name": "stderr",
     "output_type": "stream",
     "text": [
      "Some weights of the model checkpoint at E:\\Documents\\Character Bert\\Hate Speech\\character-bert-hindi were not used when initializing CharacterBertModel: ['cls.predictions.decoder.weight', 'cls.predictions.transform.dense.weight', 'cls.predictions.transform.LayerNorm.bias', 'cls.predictions.transform.LayerNorm.weight', 'cls.seq_relationship.bias', 'cls.seq_relationship.weight', 'cls.predictions.decoder.bias', 'cls.predictions.bias', 'cls.predictions.transform.dense.bias']\n",
      "- This IS expected if you are initializing CharacterBertModel from the checkpoint of a model trained on another task or with another architecture (e.g. initializing a BertForSequenceClassification model from a BertForPreTraining model).\n",
      "- This IS NOT expected if you are initializing CharacterBertModel from the checkpoint of a model that you expect to be exactly identical (initializing a BertForSequenceClassification model from a BertForSequenceClassification model).\n"
     ]
    }
   ],
   "source": [
    "from transformers import BertConfig, CharacterBertTokenizer, BertModel,\\\n",
    "                        TrainingArguments, Trainer, CharacterBertConfig, CharacterBertModel\n",
    "\n",
    "model = CharacterBERTForMultipleChoice()"
   ]
  },
  {
   "cell_type": "code",
   "execution_count": 21,
   "id": "8cde03ee",
   "metadata": {},
   "outputs": [
    {
     "data": {
      "text/plain": [
       "DatasetDict({\n",
       "    train: Dataset({\n",
       "        features: ['premise', 'choice1', 'choice2', 'question', 'idx', 'label', 'input_ids', 'token_type_ids', 'attention_mask'],\n",
       "        num_rows: 362\n",
       "    })\n",
       "    validation: Dataset({\n",
       "        features: ['premise', 'choice1', 'choice2', 'question', 'idx', 'label', 'input_ids', 'token_type_ids', 'attention_mask'],\n",
       "        num_rows: 88\n",
       "    })\n",
       "    test: Dataset({\n",
       "        features: ['premise', 'choice1', 'choice2', 'question', 'idx', 'label', 'input_ids', 'token_type_ids', 'attention_mask'],\n",
       "        num_rows: 449\n",
       "    })\n",
       "})"
      ]
     },
     "execution_count": 21,
     "metadata": {},
     "output_type": "execute_result"
    }
   ],
   "source": [
    "tokenized_datasets"
   ]
  },
  {
   "cell_type": "code",
   "execution_count": 22,
   "id": "e0c411e2",
   "metadata": {},
   "outputs": [
    {
     "data": {
      "text/plain": [
       "{'train': ['idx', 'label', 'input_ids', 'token_type_ids', 'attention_mask'],\n",
       " 'validation': ['idx',\n",
       "  'label',\n",
       "  'input_ids',\n",
       "  'token_type_ids',\n",
       "  'attention_mask'],\n",
       " 'test': ['idx', 'label', 'input_ids', 'token_type_ids', 'attention_mask']}"
      ]
     },
     "execution_count": 22,
     "metadata": {},
     "output_type": "execute_result"
    }
   ],
   "source": [
    "# tokenized_datasets = tokenized_datasets.remove_columns(['premise', 'choice1', 'choice2', 'question', 'idx'])\n",
    "tokenized_datasets = tokenized_datasets.remove_columns(['premise', 'choice1', 'choice2', 'question'])\n",
    "tokenized_datasets.set_format(\"torch\")\n",
    "tokenized_datasets.column_names"
   ]
  },
  {
   "cell_type": "code",
   "execution_count": 23,
   "id": "146876d9",
   "metadata": {},
   "outputs": [],
   "source": [
    "# tokenized_datasets[\"train\"][0]['input_ids'].size()"
   ]
  },
  {
   "cell_type": "code",
   "execution_count": 24,
   "id": "f52e209d",
   "metadata": {},
   "outputs": [],
   "source": [
    "# tokenized_datasets[\"train\"][0]['attention_mask'].size()"
   ]
  },
  {
   "cell_type": "code",
   "execution_count": 25,
   "id": "6840fbc7",
   "metadata": {},
   "outputs": [],
   "source": [
    "# tokenized_datasets[\"train\"][0]['token_type_ids'].size()"
   ]
  },
  {
   "cell_type": "code",
   "execution_count": 26,
   "id": "c2e12f02",
   "metadata": {},
   "outputs": [],
   "source": [
    "from transformers import DataCollatorWithPadding\n",
    "data_collator = DataCollatorWithPadding(tokenizer=tokenizer)"
   ]
  },
  {
   "cell_type": "code",
   "execution_count": 27,
   "id": "c1aecc35",
   "metadata": {},
   "outputs": [],
   "source": [
    "from transformers import AdamW\n",
    "\n",
    "# optimizer = AdamW(model.parameters(), lr=2e-5)\n",
    "optimizer = AdamW(model.parameters(), lr=5e-5)"
   ]
  },
  {
   "cell_type": "code",
   "execution_count": 28,
   "id": "33d352b5",
   "metadata": {},
   "outputs": [
    {
     "name": "stdout",
     "output_type": "stream",
     "text": [
      "724\n"
     ]
    }
   ],
   "source": [
    "from transformers import get_scheduler\n",
    "\n",
    "# num_epochs = 3\n",
    "num_epochs = 2\n",
    "num_training_steps = num_epochs * len(tokenized_datasets[\"train\"])\n",
    "lr_scheduler = get_scheduler(\n",
    "    \"linear\",\n",
    "    optimizer=optimizer,\n",
    "    num_warmup_steps=0,\n",
    "    #num_warmup_steps=0.05 * num_training_steps,\n",
    "    num_training_steps=num_training_steps,\n",
    ")\n",
    "print(num_training_steps)"
   ]
  },
  {
   "cell_type": "code",
   "execution_count": 29,
   "id": "18a6239f",
   "metadata": {},
   "outputs": [
    {
     "data": {
      "text/plain": [
       "device(type='cuda')"
      ]
     },
     "execution_count": 29,
     "metadata": {},
     "output_type": "execute_result"
    }
   ],
   "source": [
    "import torch\n",
    "\n",
    "device = torch.device(\"cuda\") if torch.cuda.is_available() else torch.device(\"cpu\")\n",
    "model.to(device)\n",
    "device"
   ]
  },
  {
   "cell_type": "code",
   "execution_count": 30,
   "id": "a2cc17e4",
   "metadata": {},
   "outputs": [],
   "source": [
    "import torch.nn as nn\n",
    "from torch.nn import CrossEntropyLoss\n",
    "\n",
    "# classifier = nn.Linear(768, 1).to(device)\n",
    "loss_fct = CrossEntropyLoss()"
   ]
  },
  {
   "cell_type": "code",
   "execution_count": 31,
   "id": "7252f332",
   "metadata": {},
   "outputs": [
    {
     "name": "stdout",
     "output_type": "stream",
     "text": [
      "tensor([[-0.1357, -0.1152]], device='cuda:0', grad_fn=<ViewBackward0>)\n",
      "tensor([0], device='cuda:0')\n",
      "tensor(0.7035, device='cuda:0', grad_fn=<NllLossBackward0>)\n"
     ]
    }
   ],
   "source": [
    "for item in tokenized_datasets[\"train\"]:\n",
    "    item = {k: v.to(device) for k, v in item.items()}\n",
    "    position_ids=None\n",
    "    head_mask=None\n",
    "    inputs_embeds=None\n",
    "    output_attentions=None\n",
    "    output_hidden_states=None\n",
    "    return_dict=None\n",
    "    logits = model(\n",
    "            input_ids=item[\"input_ids\"],\n",
    "            attention_mask=item[\"attention_mask\"],\n",
    "            token_type_ids=item[\"token_type_ids\"],\n",
    "            position_ids=position_ids,\n",
    "            head_mask=head_mask,\n",
    "            inputs_embeds=inputs_embeds,\n",
    "            output_attentions=output_attentions,\n",
    "            output_hidden_states=output_hidden_states,\n",
    "            return_dict=return_dict,\n",
    "        )\n",
    "    reshaped_logits = logits.view(-1, 2)\n",
    "    print(reshaped_logits)\n",
    "    print(item[\"label\"].unsqueeze(0))\n",
    "    loss = loss_fct(reshaped_logits, item[\"label\"].unsqueeze(0))\n",
    "    print(loss)\n",
    "    break"
   ]
  },
  {
   "cell_type": "code",
   "execution_count": 32,
   "id": "ee067651",
   "metadata": {},
   "outputs": [],
   "source": [
    "import evaluate\n",
    "\n",
    "metric = evaluate.load(\"accuracy\")"
   ]
  },
  {
   "cell_type": "code",
   "execution_count": 33,
   "id": "748b1f69",
   "metadata": {},
   "outputs": [
    {
     "data": {
      "application/vnd.jupyter.widget-view+json": {
       "model_id": "ae82499510ca4f889675aa8536068ce0",
       "version_major": 2,
       "version_minor": 0
      },
      "text/plain": [
       "  0%|          | 0/724 [00:00<?, ?it/s]"
      ]
     },
     "metadata": {},
     "output_type": "display_data"
    },
    {
     "name": "stderr",
     "output_type": "stream",
     "text": [
      "C:\\Users\\arifa\\anaconda3\\envs\\character_bert\\lib\\site-packages\\torch\\optim\\lr_scheduler.py:139: UserWarning: Detected call of `lr_scheduler.step()` before `optimizer.step()`. In PyTorch 1.1.0 and later, you should call them in the opposite order: `optimizer.step()` before `lr_scheduler.step()`.  Failure to do this will result in PyTorch skipping the first value of the learning rate schedule. See more details at https://pytorch.org/docs/stable/optim.html#how-to-adjust-learning-rate\n",
      "  warnings.warn(\"Detected call of `lr_scheduler.step()` before `optimizer.step()`. \"\n"
     ]
    },
    {
     "name": "stdout",
     "output_type": "stream",
     "text": [
      ">>> Epoch 0: Training Loss: 0.700300395488739\n"
     ]
    },
    {
     "data": {
      "application/vnd.jupyter.widget-view+json": {
       "model_id": "cbd0ba21184d40c8bed8fba82cc279f3",
       "version_major": 2,
       "version_minor": 0
      },
      "text/plain": [
       "  0%|          | 0/88 [00:00<?, ?it/s]"
      ]
     },
     "metadata": {},
     "output_type": "display_data"
    },
    {
     "name": "stdout",
     "output_type": "stream",
     "text": [
      "accuracy {'accuracy': 0.6136363636363636}\n",
      ">>> Epoch 1: Training Loss: 0.6615414023399353\n"
     ]
    },
    {
     "data": {
      "application/vnd.jupyter.widget-view+json": {
       "model_id": "3277527329654523940ee721fe504c08",
       "version_major": 2,
       "version_minor": 0
      },
      "text/plain": [
       "  0%|          | 0/88 [00:00<?, ?it/s]"
      ]
     },
     "metadata": {},
     "output_type": "display_data"
    },
    {
     "name": "stdout",
     "output_type": "stream",
     "text": [
      "accuracy {'accuracy': 0.625}\n"
     ]
    }
   ],
   "source": [
    "from tqdm.auto import tqdm\n",
    "\n",
    "progress_bar = tqdm(range(num_training_steps))\n",
    "accumulation_steps = 32\n",
    "\n",
    "for epoch in range(num_epochs):\n",
    "    model.train()\n",
    "    training_losses = []\n",
    "    for i, item in enumerate(tokenized_datasets[\"train\"]):\n",
    "        item = {k: v.to(device) for k, v in item.items()}\n",
    "        logits = model(\n",
    "                input_ids=item[\"input_ids\"],\n",
    "                attention_mask=item[\"attention_mask\"],\n",
    "                token_type_ids=item[\"token_type_ids\"],\n",
    "                position_ids=None,\n",
    "                head_mask=None,\n",
    "                inputs_embeds=None,\n",
    "                output_attentions=None,\n",
    "                output_hidden_states=None,\n",
    "                return_dict=None\n",
    "            )\n",
    "        reshaped_logits = logits.view(-1, 2)\n",
    "        loss = loss_fct(reshaped_logits, item[\"label\"].unsqueeze(0))\n",
    "        loss.backward()\n",
    "        \n",
    "        if (i+1) % accumulation_steps == 0:             # Wait for several backward steps\n",
    "            optimizer.step()                            # Now we can do an optimizer step\n",
    "            optimizer.zero_grad()                       # Reset gradients tensors\n",
    "    \n",
    "        lr_scheduler.step()\n",
    "        progress_bar.update(1)\n",
    "        training_losses.append(loss.repeat(1))\n",
    "    \n",
    "    training_losses = torch.cat(training_losses)\n",
    "    training_losses = training_losses[: len(tokenized_datasets[\"train\"])]\n",
    "    \n",
    "    print(f\">>> Epoch {epoch}: Training Loss: {torch.mean(training_losses)}\")\n",
    "    \n",
    "    progress_bar2 = tqdm(range(len(tokenized_datasets[\"validation\"])))\n",
    "\n",
    "    model.eval()\n",
    "\n",
    "    training_losses = []\n",
    "    for item in tokenized_datasets[\"validation\"]:\n",
    "        item = {k: v.to(device) for k, v in item.items()}\n",
    "        logits = model(\n",
    "                input_ids=item[\"input_ids\"],\n",
    "                attention_mask=item[\"attention_mask\"],\n",
    "                token_type_ids=item[\"token_type_ids\"],\n",
    "                position_ids=None,\n",
    "                head_mask=None,\n",
    "                inputs_embeds=None,\n",
    "                output_attentions=None,\n",
    "                output_hidden_states=None,\n",
    "                return_dict=None\n",
    "            )\n",
    "        reshaped_logits = logits.view(-1, 2)\n",
    "        pred = torch.argmax(reshaped_logits)\n",
    "        metric.add_batch(predictions=pred.unsqueeze(0), references=item[\"label\"].unsqueeze(0))\n",
    "        progress_bar2.update(1)\n",
    "\n",
    "    acc = metric.compute()\n",
    "    print(\"accuracy\", acc)"
   ]
  },
  {
   "cell_type": "code",
   "execution_count": 51,
   "id": "4c2d2cac",
   "metadata": {},
   "outputs": [
    {
     "data": {
      "application/vnd.jupyter.widget-view+json": {
       "model_id": "c05b0b0c3a314ea7972b46f27e9fa032",
       "version_major": 2,
       "version_minor": 0
      },
      "text/plain": [
       "  0%|          | 0/449 [00:00<?, ?it/s]"
      ]
     },
     "metadata": {},
     "output_type": "display_data"
    }
   ],
   "source": [
    "from tqdm.auto import tqdm\n",
    "\n",
    "progress_bar = tqdm(range(len(tokenized_datasets[\"test\"])))\n",
    "\n",
    "model.eval()\n",
    "\n",
    "predictions = []\n",
    "training_losses = []\n",
    "for item in tokenized_datasets[\"test\"]:\n",
    "    item = {k: v.to(device) for k, v in item.items()}\n",
    "    logits = model(\n",
    "            input_ids=item[\"input_ids\"],\n",
    "            attention_mask=item[\"attention_mask\"],\n",
    "            token_type_ids=item[\"token_type_ids\"],\n",
    "            position_ids=None,\n",
    "            head_mask=None,\n",
    "            inputs_embeds=None,\n",
    "            output_attentions=None,\n",
    "            output_hidden_states=None,\n",
    "            return_dict=None\n",
    "        )\n",
    "    reshaped_logits = logits.view(-1, 2)\n",
    "    pred = torch.argmax(reshaped_logits)\n",
    "    predictions.append(pred.tolist())\n",
    "    metric.add_batch(predictions=pred.unsqueeze(0), references=item[\"label\"].unsqueeze(0))\n",
    "    progress_bar.update(1)\n",
    "        \n",
    "acc = metric.compute()"
   ]
  },
  {
   "cell_type": "code",
   "execution_count": 52,
   "id": "9af7a96b",
   "metadata": {},
   "outputs": [
    {
     "data": {
      "text/plain": [
       "{'accuracy': 0.5612472160356348}"
      ]
     },
     "execution_count": 52,
     "metadata": {},
     "output_type": "execute_result"
    }
   ],
   "source": [
    "acc"
   ]
  },
  {
   "cell_type": "code",
   "execution_count": 53,
   "id": "916d81ef",
   "metadata": {},
   "outputs": [],
   "source": [
    "y_true = tokenized_datasets['test']['label']"
   ]
  },
  {
   "cell_type": "code",
   "execution_count": 55,
   "id": "fb63cb61",
   "metadata": {},
   "outputs": [],
   "source": [
    "y_preds = predictions"
   ]
  },
  {
   "cell_type": "code",
   "execution_count": 56,
   "id": "5d88e755",
   "metadata": {},
   "outputs": [],
   "source": [
    "from sklearn.metrics import classification_report\n",
    "target_names = ['choice1', 'choice2']"
   ]
  },
  {
   "cell_type": "code",
   "execution_count": 57,
   "id": "a08a234e",
   "metadata": {},
   "outputs": [
    {
     "data": {
      "text/plain": [
       "Text(0.5, 1.0, 'Confusion matrix for COPA')"
      ]
     },
     "execution_count": 57,
     "metadata": {},
     "output_type": "execute_result"
    },
    {
     "data": {
      "image/png": "[encoded data removed]",
      "text/plain": [
       "<Figure size 640x480 with 2 Axes>"
      ]
     },
     "metadata": {},
     "output_type": "display_data"
    }
   ],
   "source": [
    "import matplotlib.pyplot as plt\n",
    "from seaborn import heatmap\n",
    "from sklearn.metrics import confusion_matrix\n",
    "\n",
    "#plot heatmap of confusion matrix\n",
    "mat = confusion_matrix(y_true, y_preds)\n",
    "heatmap(mat, cmap=\"Pastel1_r\", fmt=\"d\", xticklabels=target_names, yticklabels=target_names, annot=True)\n",
    "\n",
    "#add overall title to plot\n",
    "plt.title('Confusion matrix for COPA', fontsize = 12) # title with fontsize 20"
   ]
  },
  {
   "cell_type": "code",
   "execution_count": null,
   "id": "63a00dc6",
   "metadata": {},
   "outputs": [],
   "source": []
  }
 ],
 "metadata": {
  "kernelspec": {
   "display_name": "Python 3 (ipykernel)",
   "language": "python",
   "name": "python3"
  },
  "language_info": {
   "codemirror_mode": {
    "name": "ipython",
    "version": 3
   },
   "file_extension": ".py",
   "mimetype": "text/x-python",
   "name": "python",
   "nbconvert_exporter": "python",
   "pygments_lexer": "ipython3",
   "version": "3.10.4"
  }
 },
 "nbformat": 4,
 "nbformat_minor": 5
}
