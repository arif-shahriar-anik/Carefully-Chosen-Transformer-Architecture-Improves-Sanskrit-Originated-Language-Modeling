{
 "cells": [
  {
   "cell_type": "code",
   "execution_count": 156,
   "id": "e8853378",
   "metadata": {},
   "outputs": [
    {
     "name": "stderr",
     "output_type": "stream",
     "text": [
      "Found cached dataset json (C:/Users/arifa/.cache/huggingface/datasets/json/default-4aa02a47edd70562/0.0.0/e347ab1c932092252e717ff3f949105a4dd28b27e842dd53157d2f72e276c2e4)\n"
     ]
    }
   ],
   "source": [
    "from datasets import load_dataset\n",
    "\n",
    "train_dataset = load_dataset(\"json\", data_files=\"..\\datasets\\copa-translated\\\\hi\\\\train.jsonl\", \\\n",
    "                             split=\"train\")"
   ]
  },
  {
   "cell_type": "code",
   "execution_count": 157,
   "id": "9a65a3af",
   "metadata": {},
   "outputs": [
    {
     "name": "stderr",
     "output_type": "stream",
     "text": [
      "Found cached dataset json (C:/Users/arifa/.cache/huggingface/datasets/json/default-bfbd5b7cdea343df/0.0.0/e347ab1c932092252e717ff3f949105a4dd28b27e842dd53157d2f72e276c2e4)\n"
     ]
    }
   ],
   "source": [
    "val_dataset = load_dataset(\"json\", data_files=\"..\\datasets\\copa-translated\\\\hi\\\\val.jsonl\", \\\n",
    "                            split=\"train\")"
   ]
  },
  {
   "cell_type": "code",
   "execution_count": 158,
   "id": "a85c6323",
   "metadata": {},
   "outputs": [
    {
     "name": "stderr",
     "output_type": "stream",
     "text": [
      "Found cached dataset json (C:/Users/arifa/.cache/huggingface/datasets/json/default-0e1a32d75e6ec46c/0.0.0/e347ab1c932092252e717ff3f949105a4dd28b27e842dd53157d2f72e276c2e4)\n"
     ]
    }
   ],
   "source": [
    "test_dataset = load_dataset(\"json\", data_files=\"..\\datasets\\copa-translated\\\\hi\\\\test.jsonl\", \\\n",
    "                             split=\"train\")"
   ]
  },
  {
   "cell_type": "code",
   "execution_count": 159,
   "id": "b0fc01de",
   "metadata": {},
   "outputs": [],
   "source": [
    "from transformers import BertForSequenceClassification, BertConfig, CharacterBertModel, CharacterBertTokenizer\n",
    "\n",
    "tokenizer = CharacterBertTokenizer(strip_accents=None, do_lower_case=None, max_length=32, padding='max_length')"
   ]
  },
  {
   "cell_type": "code",
   "execution_count": 160,
   "id": "92b2b6e3",
   "metadata": {},
   "outputs": [],
   "source": [
    "import pandas as pd\n",
    "\n",
    "train_df = pd.DataFrame(columns=['context', 'question', 'answer','start_position','end_position'])\n",
    "val_df = pd.DataFrame(columns=['context', 'question', 'answer','start_position','end_position'])\n",
    "test_df = pd.DataFrame(columns=['context', 'question', 'answer','start_position','end_position'])"
   ]
  },
  {
   "cell_type": "code",
   "execution_count": 161,
   "id": "ae70a6bc",
   "metadata": {},
   "outputs": [],
   "source": [
    "translation = {\n",
    "    'cause': 'इसका कारण क्या था?',\n",
    "    'effect': 'इसका क्या असर हुआ?'\n",
    "}"
   ]
  },
  {
   "cell_type": "code",
   "execution_count": 162,
   "id": "774876ed",
   "metadata": {},
   "outputs": [],
   "source": [
    "choice_names=['choice1','choice2']"
   ]
  },
  {
   "cell_type": "code",
   "execution_count": 163,
   "id": "4616e18d",
   "metadata": {},
   "outputs": [],
   "source": [
    "def preprocess_function(examples, df):\n",
    "    idx = 0\n",
    "    for sample in examples:\n",
    "        df.loc[idx] = pd.Series({'context': sample['choice1'] +' '+sample['choice2'],\\\n",
    "                                 'question':sample[\"premise\"]+' '+translation[sample['question']],\\\n",
    "                                     'answer': sample[choice_names[sample['label']]]})\n",
    "        idx = idx + 1\n",
    "    \n",
    "    return df"
   ]
  },
  {
   "cell_type": "code",
   "execution_count": 164,
   "id": "db484d8c",
   "metadata": {},
   "outputs": [],
   "source": [
    "train_df = preprocess_function(train_dataset, train_df)"
   ]
  },
  {
   "cell_type": "code",
   "execution_count": 165,
   "id": "45cff83d",
   "metadata": {},
   "outputs": [],
   "source": [
    "val_df = preprocess_function(val_dataset, val_df)"
   ]
  },
  {
   "cell_type": "code",
   "execution_count": 166,
   "id": "0fe8fb53",
   "metadata": {},
   "outputs": [],
   "source": [
    "test_df = preprocess_function(test_dataset, test_df)"
   ]
  },
  {
   "cell_type": "code",
   "execution_count": 167,
   "id": "9dff860b",
   "metadata": {},
   "outputs": [
    {
     "data": {
      "text/html": [
       "<div>\n",
       "<style scoped>\n",
       "    .dataframe tbody tr th:only-of-type {\n",
       "        vertical-align: middle;\n",
       "    }\n",
       "\n",
       "    .dataframe tbody tr th {\n",
       "        vertical-align: top;\n",
       "    }\n",
       "\n",
       "    .dataframe thead th {\n",
       "        text-align: right;\n",
       "    }\n",
       "</style>\n",
       "<table border=\"1\" class=\"dataframe\">\n",
       "  <thead>\n",
       "    <tr style=\"text-align: right;\">\n",
       "      <th></th>\n",
       "      <th>context</th>\n",
       "      <th>question</th>\n",
       "      <th>answer</th>\n",
       "      <th>start_position</th>\n",
       "      <th>end_position</th>\n",
       "    </tr>\n",
       "  </thead>\n",
       "  <tbody>\n",
       "    <tr>\n",
       "      <th>0</th>\n",
       "      <td>सूरज उग रहा था। घास काटी गई।</td>\n",
       "      <td>मेरे शरीर ने घास पर छाया डाली। इसका कारण क्या था?</td>\n",
       "      <td>सूरज उग रहा था।</td>\n",
       "      <td>NaN</td>\n",
       "      <td>NaN</td>\n",
       "    </tr>\n",
       "    <tr>\n",
       "      <th>1</th>\n",
       "      <td>महिला को पता था कि उसका दोस्त कठिन समय से गुजर...</td>\n",
       "      <td>महिला ने अपने दोस्त के कठिन व्यवहार को सहन किय...</td>\n",
       "      <td>महिला को पता था कि उसका दोस्त कठिन समय से गुजर...</td>\n",
       "      <td>NaN</td>\n",
       "      <td>NaN</td>\n",
       "    </tr>\n",
       "    <tr>\n",
       "      <th>2</th>\n",
       "      <td>एक नए स्थान में कैफे फिर से खुल गया। वे एक-दूस...</td>\n",
       "      <td>महिलाएं कॉफी के लिए मिलीं। इसका कारण क्या था?</td>\n",
       "      <td>वे एक-दूसरे को पकड़ना चाहते थे।</td>\n",
       "      <td>NaN</td>\n",
       "      <td>NaN</td>\n",
       "    </tr>\n",
       "    <tr>\n",
       "      <th>3</th>\n",
       "      <td>पूर्वानुमान में उच्च तापमान की भविष्यवाणी की ग...</td>\n",
       "      <td>धावक ने शॉर्ट्स पहनी थी। इसका कारण क्या था?</td>\n",
       "      <td>पूर्वानुमान में उच्च तापमान की भविष्यवाणी की ग...</td>\n",
       "      <td>NaN</td>\n",
       "      <td>NaN</td>\n",
       "    </tr>\n",
       "    <tr>\n",
       "      <th>4</th>\n",
       "      <td>यह एक सरप्राइज पार्टी थी। यह जन्मदिन की पार्टी...</td>\n",
       "      <td>पार्टी के मेहमान सोफे के पीछे छिप गए। इसका कार...</td>\n",
       "      <td>यह एक सरप्राइज पार्टी थी।</td>\n",
       "      <td>NaN</td>\n",
       "      <td>NaN</td>\n",
       "    </tr>\n",
       "  </tbody>\n",
       "</table>\n",
       "</div>"
      ],
      "text/plain": [
       "                                             context  \\\n",
       "0                       सूरज उग रहा था। घास काटी गई।   \n",
       "1  महिला को पता था कि उसका दोस्त कठिन समय से गुजर...   \n",
       "2  एक नए स्थान में कैफे फिर से खुल गया। वे एक-दूस...   \n",
       "3  पूर्वानुमान में उच्च तापमान की भविष्यवाणी की ग...   \n",
       "4  यह एक सरप्राइज पार्टी थी। यह जन्मदिन की पार्टी...   \n",
       "\n",
       "                                            question  \\\n",
       "0  मेरे शरीर ने घास पर छाया डाली। इसका कारण क्या था?   \n",
       "1  महिला ने अपने दोस्त के कठिन व्यवहार को सहन किय...   \n",
       "2      महिलाएं कॉफी के लिए मिलीं। इसका कारण क्या था?   \n",
       "3        धावक ने शॉर्ट्स पहनी थी। इसका कारण क्या था?   \n",
       "4  पार्टी के मेहमान सोफे के पीछे छिप गए। इसका कार...   \n",
       "\n",
       "                                              answer start_position  \\\n",
       "0                                    सूरज उग रहा था।            NaN   \n",
       "1  महिला को पता था कि उसका दोस्त कठिन समय से गुजर...            NaN   \n",
       "2                    वे एक-दूसरे को पकड़ना चाहते थे।            NaN   \n",
       "3  पूर्वानुमान में उच्च तापमान की भविष्यवाणी की ग...            NaN   \n",
       "4                          यह एक सरप्राइज पार्टी थी।            NaN   \n",
       "\n",
       "  end_position  \n",
       "0          NaN  \n",
       "1          NaN  \n",
       "2          NaN  \n",
       "3          NaN  \n",
       "4          NaN  "
      ]
     },
     "execution_count": 167,
     "metadata": {},
     "output_type": "execute_result"
    }
   ],
   "source": [
    "train_df[:5]"
   ]
  },
  {
   "cell_type": "code",
   "execution_count": 168,
   "id": "3f5bfffc",
   "metadata": {},
   "outputs": [],
   "source": [
    "import re\n",
    "\n",
    "def get_start_end(train_df):\n",
    "    for index in range(len(train_df)):\n",
    "        answer = train_df['answer'][index]\n",
    "        context = train_df['context'][index]\n",
    "        for match in re.finditer(answer, context):\n",
    "            #print(match.start(), match.end())\n",
    "            pass\n",
    "\n",
    "        #print(context[match.start(): match.end()])\n",
    "        train_df['start_position'][index] = match.start()\n",
    "        train_df['end_position'][index] = match.end()\n",
    "    \n",
    "    return train_df"
   ]
  },
  {
   "cell_type": "code",
   "execution_count": 169,
   "id": "fbbd5ed2",
   "metadata": {},
   "outputs": [],
   "source": [
    "train_df = get_start_end(train_df)\n",
    "val_df = get_start_end(val_df)\n",
    "test_df = get_start_end(test_df)"
   ]
  },
  {
   "cell_type": "code",
   "execution_count": 170,
   "id": "05cdb46e",
   "metadata": {},
   "outputs": [
    {
     "data": {
      "text/html": [
       "<div>\n",
       "<style scoped>\n",
       "    .dataframe tbody tr th:only-of-type {\n",
       "        vertical-align: middle;\n",
       "    }\n",
       "\n",
       "    .dataframe tbody tr th {\n",
       "        vertical-align: top;\n",
       "    }\n",
       "\n",
       "    .dataframe thead th {\n",
       "        text-align: right;\n",
       "    }\n",
       "</style>\n",
       "<table border=\"1\" class=\"dataframe\">\n",
       "  <thead>\n",
       "    <tr style=\"text-align: right;\">\n",
       "      <th></th>\n",
       "      <th>context</th>\n",
       "      <th>question</th>\n",
       "      <th>answer</th>\n",
       "      <th>start_position</th>\n",
       "      <th>end_position</th>\n",
       "    </tr>\n",
       "  </thead>\n",
       "  <tbody>\n",
       "    <tr>\n",
       "      <th>0</th>\n",
       "      <td>सूरज उग रहा था। घास काटी गई।</td>\n",
       "      <td>मेरे शरीर ने घास पर छाया डाली। इसका कारण क्या था?</td>\n",
       "      <td>सूरज उग रहा था।</td>\n",
       "      <td>0</td>\n",
       "      <td>15</td>\n",
       "    </tr>\n",
       "    <tr>\n",
       "      <th>1</th>\n",
       "      <td>महिला को पता था कि उसका दोस्त कठिन समय से गुजर...</td>\n",
       "      <td>महिला ने अपने दोस्त के कठिन व्यवहार को सहन किय...</td>\n",
       "      <td>महिला को पता था कि उसका दोस्त कठिन समय से गुजर...</td>\n",
       "      <td>0</td>\n",
       "      <td>54</td>\n",
       "    </tr>\n",
       "    <tr>\n",
       "      <th>2</th>\n",
       "      <td>एक नए स्थान में कैफे फिर से खुल गया। वे एक-दूस...</td>\n",
       "      <td>महिलाएं कॉफी के लिए मिलीं। इसका कारण क्या था?</td>\n",
       "      <td>वे एक-दूसरे को पकड़ना चाहते थे।</td>\n",
       "      <td>37</td>\n",
       "      <td>68</td>\n",
       "    </tr>\n",
       "    <tr>\n",
       "      <th>3</th>\n",
       "      <td>पूर्वानुमान में उच्च तापमान की भविष्यवाणी की ग...</td>\n",
       "      <td>धावक ने शॉर्ट्स पहनी थी। इसका कारण क्या था?</td>\n",
       "      <td>पूर्वानुमान में उच्च तापमान की भविष्यवाणी की ग...</td>\n",
       "      <td>0</td>\n",
       "      <td>51</td>\n",
       "    </tr>\n",
       "    <tr>\n",
       "      <th>4</th>\n",
       "      <td>यह एक सरप्राइज पार्टी थी। यह जन्मदिन की पार्टी...</td>\n",
       "      <td>पार्टी के मेहमान सोफे के पीछे छिप गए। इसका कार...</td>\n",
       "      <td>यह एक सरप्राइज पार्टी थी।</td>\n",
       "      <td>0</td>\n",
       "      <td>25</td>\n",
       "    </tr>\n",
       "  </tbody>\n",
       "</table>\n",
       "</div>"
      ],
      "text/plain": [
       "                                             context  \\\n",
       "0                       सूरज उग रहा था। घास काटी गई।   \n",
       "1  महिला को पता था कि उसका दोस्त कठिन समय से गुजर...   \n",
       "2  एक नए स्थान में कैफे फिर से खुल गया। वे एक-दूस...   \n",
       "3  पूर्वानुमान में उच्च तापमान की भविष्यवाणी की ग...   \n",
       "4  यह एक सरप्राइज पार्टी थी। यह जन्मदिन की पार्टी...   \n",
       "\n",
       "                                            question  \\\n",
       "0  मेरे शरीर ने घास पर छाया डाली। इसका कारण क्या था?   \n",
       "1  महिला ने अपने दोस्त के कठिन व्यवहार को सहन किय...   \n",
       "2      महिलाएं कॉफी के लिए मिलीं। इसका कारण क्या था?   \n",
       "3        धावक ने शॉर्ट्स पहनी थी। इसका कारण क्या था?   \n",
       "4  पार्टी के मेहमान सोफे के पीछे छिप गए। इसका कार...   \n",
       "\n",
       "                                              answer start_position  \\\n",
       "0                                    सूरज उग रहा था।              0   \n",
       "1  महिला को पता था कि उसका दोस्त कठिन समय से गुजर...              0   \n",
       "2                    वे एक-दूसरे को पकड़ना चाहते थे।             37   \n",
       "3  पूर्वानुमान में उच्च तापमान की भविष्यवाणी की ग...              0   \n",
       "4                          यह एक सरप्राइज पार्टी थी।              0   \n",
       "\n",
       "  end_position  \n",
       "0           15  \n",
       "1           54  \n",
       "2           68  \n",
       "3           51  \n",
       "4           25  "
      ]
     },
     "execution_count": 170,
     "metadata": {},
     "output_type": "execute_result"
    }
   ],
   "source": [
    "train_df[:5]"
   ]
  },
  {
   "cell_type": "code",
   "execution_count": 171,
   "id": "87c9f4d8",
   "metadata": {},
   "outputs": [],
   "source": [
    "from datasets import Dataset, DatasetDict\n",
    "\n",
    "train_ds = Dataset.from_pandas(train_df)\n",
    "val_ds = Dataset.from_pandas(val_df)\n",
    "test_ds = Dataset.from_pandas(test_df)"
   ]
  },
  {
   "cell_type": "code",
   "execution_count": 172,
   "id": "5b06bbc4",
   "metadata": {},
   "outputs": [],
   "source": [
    "datasets = DatasetDict()\n",
    "datasets['train'] = train_ds\n",
    "datasets['validation'] = val_ds\n",
    "datasets['test'] = test_ds"
   ]
  },
  {
   "cell_type": "code",
   "execution_count": 173,
   "id": "d89b5ab3",
   "metadata": {},
   "outputs": [
    {
     "data": {
      "text/html": [
       "<div>\n",
       "<style scoped>\n",
       "    .dataframe tbody tr th:only-of-type {\n",
       "        vertical-align: middle;\n",
       "    }\n",
       "\n",
       "    .dataframe tbody tr th {\n",
       "        vertical-align: top;\n",
       "    }\n",
       "\n",
       "    .dataframe thead th {\n",
       "        text-align: right;\n",
       "    }\n",
       "</style>\n",
       "<table border=\"1\" class=\"dataframe\">\n",
       "  <thead>\n",
       "    <tr style=\"text-align: right;\">\n",
       "      <th></th>\n",
       "      <th>context</th>\n",
       "      <th>question</th>\n",
       "      <th>answer</th>\n",
       "      <th>start_position</th>\n",
       "      <th>end_position</th>\n",
       "    </tr>\n",
       "  </thead>\n",
       "  <tbody>\n",
       "    <tr>\n",
       "      <th>0</th>\n",
       "      <td>सूरज उग रहा था। घास काटी गई।</td>\n",
       "      <td>मेरे शरीर ने घास पर छाया डाली। इसका कारण क्या था?</td>\n",
       "      <td>सूरज उग रहा था।</td>\n",
       "      <td>0</td>\n",
       "      <td>15</td>\n",
       "    </tr>\n",
       "  </tbody>\n",
       "</table>\n",
       "</div>"
      ],
      "text/plain": [
       "                        context  \\\n",
       "0  सूरज उग रहा था। घास काटी गई।   \n",
       "\n",
       "                                            question           answer  \\\n",
       "0  मेरे शरीर ने घास पर छाया डाली। इसका कारण क्या था?  सूरज उग रहा था।   \n",
       "\n",
       "  start_position end_position  \n",
       "0              0           15  "
      ]
     },
     "execution_count": 173,
     "metadata": {},
     "output_type": "execute_result"
    }
   ],
   "source": [
    "train_df[:1]"
   ]
  },
  {
   "cell_type": "code",
   "execution_count": 174,
   "id": "a50c1a38",
   "metadata": {},
   "outputs": [
    {
     "data": {
      "text/plain": [
       "{'premise': 'मेरे शरीर ने घास पर छाया डाली।',\n",
       " 'choice1': 'सूरज उग रहा था।',\n",
       " 'choice2': 'घास काटी गई।',\n",
       " 'question': 'cause',\n",
       " 'idx': 0,\n",
       " 'label': 0}"
      ]
     },
     "execution_count": 174,
     "metadata": {},
     "output_type": "execute_result"
    }
   ],
   "source": [
    "train_dataset[0]"
   ]
  },
  {
   "cell_type": "code",
   "execution_count": 175,
   "id": "e37d5922",
   "metadata": {},
   "outputs": [
    {
     "data": {
      "text/plain": [
       "DatasetDict({\n",
       "    train: Dataset({\n",
       "        features: ['context', 'question', 'answer', 'start_position', 'end_position', '__index_level_0__'],\n",
       "        num_rows: 362\n",
       "    })\n",
       "    validation: Dataset({\n",
       "        features: ['context', 'question', 'answer', 'start_position', 'end_position', '__index_level_0__'],\n",
       "        num_rows: 88\n",
       "    })\n",
       "    test: Dataset({\n",
       "        features: ['context', 'question', 'answer', 'start_position', 'end_position', '__index_level_0__'],\n",
       "        num_rows: 449\n",
       "    })\n",
       "})"
      ]
     },
     "execution_count": 175,
     "metadata": {},
     "output_type": "execute_result"
    }
   ],
   "source": [
    "datasets"
   ]
  },
  {
   "cell_type": "code",
   "execution_count": 176,
   "id": "405df498",
   "metadata": {},
   "outputs": [
    {
     "data": {
      "text/plain": [
       "'[CLS] मेरे शरीर ने घास पर छाया डाली । इसका कारण क्या था? [SEP] सूरज उग रहा था । घास काटी गई । [SEP]'"
      ]
     },
     "execution_count": 176,
     "metadata": {},
     "output_type": "execute_result"
    }
   ],
   "source": [
    "context = datasets[\"train\"][0][\"context\"]\n",
    "question = datasets[\"train\"][0][\"question\"]\n",
    "\n",
    "inputs = tokenizer(question, context)\n",
    "tokenizer.decode(inputs[\"input_ids\"])"
   ]
  },
  {
   "cell_type": "code",
   "execution_count": 177,
   "id": "61067299",
   "metadata": {},
   "outputs": [
    {
     "data": {
      "text/plain": [
       "dict_keys(['input_ids', 'token_type_ids', 'attention_mask'])"
      ]
     },
     "execution_count": 177,
     "metadata": {},
     "output_type": "execute_result"
    }
   ],
   "source": [
    "inputs = tokenizer(\n",
    "    question,\n",
    "    context,\n",
    ")\n",
    "inputs.keys()"
   ]
  },
  {
   "cell_type": "code",
   "execution_count": 178,
   "id": "cc4c848d",
   "metadata": {},
   "outputs": [],
   "source": [
    "def preprocess_training_examples(examples):\n",
    "    context = examples[\"context\"]\n",
    "    question = examples[\"question\"]\n",
    "\n",
    "    inputs = tokenizer(question, context, truncation=True)\n",
    "    \n",
    "    return inputs"
   ]
  },
  {
   "cell_type": "code",
   "execution_count": 216,
   "id": "6c6c6ef9",
   "metadata": {},
   "outputs": [
    {
     "data": {
      "application/vnd.jupyter.widget-view+json": {
       "model_id": "",
       "version_major": 2,
       "version_minor": 0
      },
      "text/plain": [
       "Map:   0%|          | 0/362 [00:00<?, ? examples/s]"
      ]
     },
     "metadata": {},
     "output_type": "display_data"
    },
    {
     "data": {
      "text/plain": [
       "(362, 362)"
      ]
     },
     "execution_count": 216,
     "metadata": {},
     "output_type": "execute_result"
    }
   ],
   "source": [
    "train_dataset = datasets[\"train\"].map(\n",
    "    preprocess_training_examples,\n",
    "    batched=True,\n",
    "    remove_columns=['context', 'question', 'answer', '__index_level_0__'],\n",
    ")\n",
    "len(train_dataset), len(train_dataset)"
   ]
  },
  {
   "cell_type": "code",
   "execution_count": 217,
   "id": "c76a0cc4",
   "metadata": {},
   "outputs": [
    {
     "data": {
      "application/vnd.jupyter.widget-view+json": {
       "model_id": "",
       "version_major": 2,
       "version_minor": 0
      },
      "text/plain": [
       "Map:   0%|          | 0/88 [00:00<?, ? examples/s]"
      ]
     },
     "metadata": {},
     "output_type": "display_data"
    },
    {
     "data": {
      "text/plain": [
       "(88, 88)"
      ]
     },
     "execution_count": 217,
     "metadata": {},
     "output_type": "execute_result"
    }
   ],
   "source": [
    "eval_dataset = datasets[\"validation\"].map(\n",
    "    preprocess_training_examples,\n",
    "    batched=True,\n",
    "    remove_columns=['context', 'question', 'answer', '__index_level_0__'],\n",
    ")\n",
    "len(eval_dataset), len(eval_dataset)"
   ]
  },
  {
   "cell_type": "code",
   "execution_count": 225,
   "id": "7a7f1a7a",
   "metadata": {},
   "outputs": [
    {
     "data": {
      "text/plain": [
       "['start_position',\n",
       " 'end_position',\n",
       " 'input_ids',\n",
       " 'token_type_ids',\n",
       " 'attention_mask']"
      ]
     },
     "execution_count": 225,
     "metadata": {},
     "output_type": "execute_result"
    }
   ],
   "source": [
    "eval_dataset.column_names"
   ]
  },
  {
   "cell_type": "code",
   "execution_count": 219,
   "id": "4025b43a",
   "metadata": {},
   "outputs": [],
   "source": [
    "eval_dataset.set_format(\"torch\")"
   ]
  },
  {
   "cell_type": "code",
   "execution_count": 223,
   "id": "5435e09a",
   "metadata": {},
   "outputs": [
    {
     "data": {
      "text/plain": [
       "datasets.arrow_dataset.Dataset"
      ]
     },
     "execution_count": 223,
     "metadata": {},
     "output_type": "execute_result"
    }
   ],
   "source": [
    "type(eval_dataset)"
   ]
  },
  {
   "cell_type": "code",
   "execution_count": 230,
   "id": "ba305d9c",
   "metadata": {},
   "outputs": [
    {
     "ename": "AttributeError",
     "evalue": "'dict' object has no attribute 'column_names'",
     "output_type": "error",
     "traceback": [
      "\u001b[1;31m---------------------------------------------------------------------------\u001b[0m",
      "\u001b[1;31mAttributeError\u001b[0m                            Traceback (most recent call last)",
      "Cell \u001b[1;32mIn[230], line 6\u001b[0m\n\u001b[0;32m      2\u001b[0m \u001b[38;5;28;01mfrom\u001b[39;00m \u001b[38;5;21;01mtransformers\u001b[39;00m \u001b[38;5;28;01mimport\u001b[39;00m AutoModelForQuestionAnswering\n\u001b[0;32m      4\u001b[0m device \u001b[38;5;241m=\u001b[39m torch\u001b[38;5;241m.\u001b[39mdevice(\u001b[38;5;124m\"\u001b[39m\u001b[38;5;124mcuda\u001b[39m\u001b[38;5;124m\"\u001b[39m) \u001b[38;5;28;01mif\u001b[39;00m torch\u001b[38;5;241m.\u001b[39mcuda\u001b[38;5;241m.\u001b[39mis_available() \u001b[38;5;28;01melse\u001b[39;00m torch\u001b[38;5;241m.\u001b[39mdevice(\u001b[38;5;124m\"\u001b[39m\u001b[38;5;124mcpu\u001b[39m\u001b[38;5;124m\"\u001b[39m)\n\u001b[1;32m----> 6\u001b[0m batch \u001b[38;5;241m=\u001b[39m {k: eval_dataset[k]\u001b[38;5;241m.\u001b[39mto(device) \u001b[38;5;28;01mfor\u001b[39;00m k \u001b[38;5;129;01min\u001b[39;00m \u001b[43meval_dataset\u001b[49m\u001b[43m[\u001b[49m\u001b[43m:\u001b[49m\u001b[38;5;241;43m16\u001b[39;49m\u001b[43m]\u001b[49m\u001b[38;5;241;43m.\u001b[39;49m\u001b[43mcolumn_names\u001b[49m}\n",
      "\u001b[1;31mAttributeError\u001b[0m: 'dict' object has no attribute 'column_names'"
     ]
    }
   ],
   "source": [
    "import torch\n",
    "from transformers import AutoModelForQuestionAnswering\n",
    "\n",
    "device = torch.device(\"cuda\") if torch.cuda.is_available() else torch.device(\"cpu\")\n",
    "\n",
    "batch = {k: eval_dataset[k].to(device) for k in eval_dataset[:16].column_names}"
   ]
  },
  {
   "cell_type": "code",
   "execution_count": null,
   "id": "1290f8db",
   "metadata": {},
   "outputs": [],
   "source": []
  }
 ],
 "metadata": {
  "kernelspec": {
   "display_name": "Python 3 (ipykernel)",
   "language": "python",
   "name": "python3"
  },
  "language_info": {
   "codemirror_mode": {
    "name": "ipython",
    "version": 3
   },
   "file_extension": ".py",
   "mimetype": "text/x-python",
   "name": "python",
   "nbconvert_exporter": "python",
   "pygments_lexer": "ipython3",
   "version": "3.8.16"
  }
 },
 "nbformat": 4,
 "nbformat_minor": 5
}
