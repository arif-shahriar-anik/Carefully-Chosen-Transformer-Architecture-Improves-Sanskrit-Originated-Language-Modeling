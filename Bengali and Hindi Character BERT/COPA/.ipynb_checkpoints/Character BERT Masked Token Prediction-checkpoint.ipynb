{
 "cells": [
  {
   "cell_type": "code",
   "execution_count": 80,
   "id": "df38f334",
   "metadata": {},
   "outputs": [],
   "source": [
    "import torch\n",
    "from torch.nn.functional import softmax\n",
    "from transformers import CharacterBertForMaskedLM, CharacterBertTokenizer, CharacterBertForPreTraining"
   ]
  },
  {
   "cell_type": "code",
   "execution_count": 81,
   "id": "435b0a3a",
   "metadata": {},
   "outputs": [
    {
     "name": "stderr",
     "output_type": "stream",
     "text": [
      "Some weights of the model checkpoint at E:\\Documents\\Character Bert\\Question Classification\\character-bert were not used when initializing CharacterBertForMaskedLM: ['cls.seq_relationship.weight', 'cls.seq_relationship.bias']\n",
      "- This IS expected if you are initializing CharacterBertForMaskedLM from the checkpoint of a model trained on another task or with another architecture (e.g. initializing a BertForSequenceClassification model from a BertForPreTraining model).\n",
      "- This IS NOT expected if you are initializing CharacterBertForMaskedLM from the checkpoint of a model that you expect to be exactly identical (initializing a BertForSequenceClassification model from a BertForSequenceClassification model).\n"
     ]
    }
   ],
   "source": [
    "# Load the pre-trained model and tokenizer\n",
    "model_name =     \"E:\\Documents\\Character Bert\\Question Classification\\character-bert\"\n",
    "\n",
    "tokenizer = CharacterBertTokenizer(strip_accents=None, do_lower_case=None)\n",
    "model = CharacterBertForMaskedLM.from_pretrained(model_name)"
   ]
  },
  {
   "cell_type": "code",
   "execution_count": 82,
   "id": "3cd356f2",
   "metadata": {},
   "outputs": [],
   "source": [
    "# Define the input sentence with a masked word\n",
    "input_text = 'বালি পুরসভা ছিল <MASK> পশ্চিমবঙ্গ রাজ্যের হাওড়া শহরের উত্তর শহরতলি বালি অঞ্চলের পৌর পরিকাঠামো ও স্বায়ত্বশাসন সংস্থা।\\\n",
    "            ১৮৮৩ সালের ১ এপ্রিল এই পুরসভা গঠিত হয়। বালি ছিল এই পুরসভার সদর। এই পুরসভার আয়তন ছিল । বালি, লিলুয়া, বেলুড় ও পার্শ্ববর্তী এলাকা এই পুরসভার অন্তর্ভুক্ত ছিল।'\n",
    "input_text = input_text.replace(\"<MASK>\",tokenizer.mask_token)\n",
    "candidates = ['ভারতের', 'হাওড়া', 'পশ্চিমবঙ্গ', 'ব্যারাকপুর']"
   ]
  },
  {
   "cell_type": "code",
   "execution_count": 108,
   "id": "e79b2b30",
   "metadata": {},
   "outputs": [],
   "source": [
    "mlm_vocab = {'ব্যারাকপুর':1}"
   ]
  },
  {
   "cell_type": "code",
   "execution_count": 109,
   "id": "1881680d",
   "metadata": {},
   "outputs": [],
   "source": [
    "vocab_mlm = {1:'ব্যারাকপুর'}"
   ]
  },
  {
   "cell_type": "code",
   "execution_count": 98,
   "id": "6e289658",
   "metadata": {},
   "outputs": [],
   "source": [
    "# Tokenize the input sentence\n",
    "tokenized_text = tokenizer.tokenize(input_text)\n",
    "mask_token_index = tokenized_text.index(tokenizer.mask_token)"
   ]
  },
  {
   "cell_type": "code",
   "execution_count": 106,
   "id": "04e8c1aa",
   "metadata": {},
   "outputs": [],
   "source": [
    "mlm_labels = [-100] * (len(tokenized_text) + 2)\n",
    "mlm_labels[mask_token_index + 1] = mlm_vocab[candidates[3]]"
   ]
  },
  {
   "cell_type": "code",
   "execution_count": 107,
   "id": "f2206c98",
   "metadata": {},
   "outputs": [
    {
     "data": {
      "text/plain": [
       "53"
      ]
     },
     "execution_count": 107,
     "metadata": {},
     "output_type": "execute_result"
    }
   ],
   "source": [
    "temp = tokenizer(input_text)\n",
    "len(temp[\"input_ids\"])"
   ]
  },
  {
   "cell_type": "code",
   "execution_count": 110,
   "id": "be4bb9f9",
   "metadata": {},
   "outputs": [
    {
     "data": {
      "text/plain": [
       "'ব্যারাকপুর'"
      ]
     },
     "execution_count": 110,
     "metadata": {},
     "output_type": "execute_result"
    }
   ],
   "source": [
    "vocab_mlm[mlm_labels[mask_token_index + 1]]"
   ]
  }
 ],
 "metadata": {
  "kernelspec": {
   "display_name": "character_bert",
   "language": "python",
   "name": "character_bert"
  },
  "language_info": {
   "codemirror_mode": {
    "name": "ipython",
    "version": 3
   },
   "file_extension": ".py",
   "mimetype": "text/x-python",
   "name": "python",
   "nbconvert_exporter": "python",
   "pygments_lexer": "ipython3",
   "version": "3.8.16"
  }
 },
 "nbformat": 4,
 "nbformat_minor": 5
}
