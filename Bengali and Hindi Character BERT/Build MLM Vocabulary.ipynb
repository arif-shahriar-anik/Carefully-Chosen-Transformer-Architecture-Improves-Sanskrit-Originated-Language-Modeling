{
 "cells": [
  {
   "cell_type": "code",
   "execution_count": 1,
   "id": "ebd938fe",
   "metadata": {},
   "outputs": [],
   "source": [
    "\"\"\"Script for building a Masked Language Modeling vocabulary for CharacterBERT.\"\"\"\n",
    "import os\n",
    "import logging\n",
    "import argparse\n",
    "from collections import Counter\n",
    "\n",
    "from tqdm import tqdm"
   ]
  },
  {
   "cell_type": "code",
   "execution_count": 2,
   "id": "244592a2",
   "metadata": {},
   "outputs": [],
   "source": [
    "WORKDIR = os.environ['WORKDIR']"
   ]
  },
  {
   "cell_type": "code",
   "execution_count": 3,
   "id": "e791322f",
   "metadata": {},
   "outputs": [],
   "source": [
    "MLM_VOCABULARY_DIRECTORY = os.path.join(WORKDIR, 'data', 'mlm_vocabularies')\n",
    "os.makedirs(MLM_VOCABULARY_DIRECTORY, exist_ok=True)"
   ]
  },
  {
   "cell_type": "code",
   "execution_count": 9,
   "id": "c6f0fb39",
   "metadata": {},
   "outputs": [],
   "source": [
    "formatted_corpus_path = \"data\\\\formatted\\\\Bangla_Pretraining_Data.formatted.txt\""
   ]
  },
  {
   "cell_type": "code",
   "execution_count": 10,
   "id": "702a60a0",
   "metadata": {},
   "outputs": [],
   "source": [
    "max_vocabulary_size = 30522"
   ]
  },
  {
   "cell_type": "code",
   "execution_count": 11,
   "id": "2c05c0ea",
   "metadata": {},
   "outputs": [],
   "source": [
    "# Recover corpus name from corpus path\n",
    "prefix = os.path.basename(os.path.dirname(formatted_corpus_path))\n",
    "save_path = os.path.join(MLM_VOCABULARY_DIRECTORY, prefix)\n",
    "os.makedirs(save_path, exist_ok=True)"
   ]
  },
  {
   "cell_type": "code",
   "execution_count": 12,
   "id": "20b4b002",
   "metadata": {},
   "outputs": [],
   "source": [
    "mlm_vocabulary_fpath = os.path.join(save_path, 'mlm_vocab.txt')"
   ]
  },
  {
   "cell_type": "code",
   "execution_count": 13,
   "id": "9c67e681",
   "metadata": {},
   "outputs": [],
   "source": [
    "LOGGING_FORMAT = \"%(asctime)s | PID: %(process)d | %(filename)s | %(levelname)s - %(message)s\"\n",
    "logging.basicConfig(format=LOGGING_FORMAT, datefmt=\"%d/%m/%Y %H:%M:%S\", level=logging.INFO)"
   ]
  },
  {
   "cell_type": "code",
   "execution_count": 14,
   "id": "46774c09",
   "metadata": {},
   "outputs": [
    {
     "name": "stderr",
     "output_type": "stream",
     "text": [
      "22/07/2023 09:51:25 | PID: 19484 | 3816109827.py | INFO - Preparing to build a MLM vocabulary using parameters:\n",
      "22/07/2023 09:51:25 | PID: 19484 | 3816109827.py | INFO -  * formatted_corpus_path: data\\formatted\\Bangla_Pretraining_Data.formatted.txt\n",
      "22/07/2023 09:51:25 | PID: 19484 | 3816109827.py | INFO -  * max_vocabulary_size: 30522\n",
      "22/07/2023 09:51:25 | PID: 19484 | 3816109827.py | WARNING - Found existing vocabulary file: E:\\Documents\\Character Bert\\data\\mlm_vocabularies\\formatted\\mlm_vocab.txt\n"
     ]
    }
   ],
   "source": [
    "logging.info('Preparing to build a MLM vocabulary using parameters:')\n",
    "logging.info(' * formatted_corpus_path: %s', formatted_corpus_path)\n",
    "logging.info(' * max_vocabulary_size: %s', max_vocabulary_size)\n",
    "if os.path.exists(mlm_vocabulary_fpath):\n",
    "    logging.warning('Found existing vocabulary file: %s', mlm_vocabulary_fpath)"
   ]
  },
  {
   "cell_type": "code",
   "execution_count": 15,
   "id": "dc792776",
   "metadata": {},
   "outputs": [
    {
     "name": "stderr",
     "output_type": "stream",
     "text": [
      "22/07/2023 09:51:26 | PID: 19484 | 1533991252.py | INFO - Reading corpus file: data\\formatted\\Bangla_Pretraining_Data.formatted.txt\n",
      "Reading lines...: 6770742it [00:21, 321158.98it/s]\n",
      "22/07/2023 09:51:47 | PID: 19484 | 1533991252.py | INFO - Final vocabulary size: 30522\n",
      "22/07/2023 09:51:47 | PID: 19484 | 1533991252.py | INFO - Most frequent token: '।' (6395384)\n",
      "22/07/2023 09:51:47 | PID: 19484 | 1533991252.py | INFO - Least frequent token: 'পানিতেই' (101)\n"
     ]
    }
   ],
   "source": [
    " # Count all the tokens in the corpus\n",
    "counter = Counter()\n",
    "logging.info('Reading corpus file: %s', formatted_corpus_path)\n",
    "with open(formatted_corpus_path, 'r', encoding=\"utf-8\") as stream:\n",
    "    for line in tqdm(stream, desc='Reading lines...'):\n",
    "        line = line.strip()\n",
    "        if line:\n",
    "            counter.update(line.split())\n",
    "\n",
    "# Most frequent tokens\n",
    "topk_tokens = counter.most_common()[:max_vocabulary_size]\n",
    "logging.info('Final vocabulary size: %s', len(topk_tokens))\n",
    "logging.info('Most frequent token: \\'%s\\' (%s)', topk_tokens[0][0], topk_tokens[0][1])\n",
    "logging.info('Least frequent token: \\'%s\\' (%s)', topk_tokens[-1][0], topk_tokens[-1][1])"
   ]
  },
  {
   "cell_type": "code",
   "execution_count": 16,
   "id": "9cf211b6",
   "metadata": {},
   "outputs": [],
   "source": [
    "# Save Masked Language Modeling vocabulary\n",
    "with open(mlm_vocabulary_fpath, 'w', encoding=\"utf-8\") as f:\n",
    "    for token, count in topk_tokens:\n",
    "        f.write(f\"{count} {token}\\n\")"
   ]
  },
  {
   "cell_type": "code",
   "execution_count": null,
   "id": "ebe6684e",
   "metadata": {},
   "outputs": [],
   "source": []
  }
 ],
 "metadata": {
  "kernelspec": {
   "display_name": "character_bert",
   "language": "python",
   "name": "character_bert"
  },
  "language_info": {
   "codemirror_mode": {
    "name": "ipython",
    "version": 3
   },
   "file_extension": ".py",
   "mimetype": "text/x-python",
   "name": "python",
   "nbconvert_exporter": "python",
   "pygments_lexer": "ipython3",
   "version": "3.8.16"
  }
 },
 "nbformat": 4,
 "nbformat_minor": 5
}
