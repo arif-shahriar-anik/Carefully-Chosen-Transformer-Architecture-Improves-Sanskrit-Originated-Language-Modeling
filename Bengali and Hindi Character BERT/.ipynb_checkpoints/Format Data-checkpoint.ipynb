{
 "cells": [
  {
   "cell_type": "code",
   "execution_count": null,
   "id": "c5c0c1df",
   "metadata": {},
   "outputs": [],
   "source": [
    "import os\n",
    "import logging\n",
    "import argparse\n",
    "\n",
    "import nltk\n",
    "from tqdm import tqdm\n",
    "from transformers import BasicTokenizer"
   ]
  },
  {
   "cell_type": "code",
   "execution_count": null,
   "id": "cfa9ec57",
   "metadata": {},
   "outputs": [],
   "source": [
    "fpath = \"datasets/long_text.txt\"\n",
    "\n",
    "tokenizer = BasicTokenizer(strip_accents=None, do_lower_case=None)\n",
    "split_into_sentences = nltk.tokenize.sent_tokenize\n",
    "split_into_tokens = tokenizer.tokenize\n",
    "input_file_path = fpath\n",
    "output_file_path = fpath.replace('.txt', '.formatted.txt')"
   ]
  },
  {
   "cell_type": "code",
   "execution_count": null,
   "id": "95b6ff09",
   "metadata": {},
   "outputs": [],
   "source": [
    "with open(input_file_path, \"r\", encoding=\"utf-8\") as input_file:\n",
    "        with open(output_file_path, \"w\", encoding=\"utf-8\") as output_file:\n",
    "            for line in tqdm(input_file, desc='Segmenting corpus'):\n",
    "                if line.strip():  # if document\n",
    "                    sentences = split_into_sentences(line)\n",
    "                    for sentence in sentences:\n",
    "                        if sentence != '':\n",
    "                            tokens = split_into_tokens(sentence.strip())\n",
    "                            new_line = ' '.join(tokens) + '\\n'\n",
    "                            output_file.write(new_line)"
   ]
  },
  {
   "cell_type": "code",
   "execution_count": null,
   "id": "89ed9d30",
   "metadata": {},
   "outputs": [],
   "source": [
    "with open(output_file_path, \"r\", encoding=\"utf-8\") as generated_file:\n",
    "    for idx, line in enumerate(generated_file):\n",
    "        print(line)\n",
    "        if idx == 100:\n",
    "            break"
   ]
  }
 ],
 "metadata": {
  "kernelspec": {
   "display_name": "character_bert",
   "language": "python",
   "name": "character_bert"
  },
  "language_info": {
   "codemirror_mode": {
    "name": "ipython",
    "version": 3
   },
   "file_extension": ".py",
   "mimetype": "text/x-python",
   "name": "python",
   "nbconvert_exporter": "python",
   "pygments_lexer": "ipython3",
   "version": "3.8.16"
  }
 },
 "nbformat": 4,
 "nbformat_minor": 5
}
