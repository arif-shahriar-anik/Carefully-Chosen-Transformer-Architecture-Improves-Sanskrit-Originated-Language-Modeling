{
 "cells": [
  {
   "cell_type": "code",
   "execution_count": 1,
   "id": "705888d8",
   "metadata": {},
   "outputs": [
    {
     "name": "stderr",
     "output_type": "stream",
     "text": [
      "Found cached dataset csv (C:/Users/arifa/.cache/huggingface/datasets/csv/default-288983945b809be3/0.0.0/6954658bab30a358235fa864b05cf819af0e179325c740e4bc853bcc7ec513e1)\n"
     ]
    }
   ],
   "source": [
    "from datasets import load_dataset\n",
    "\n",
    "\n",
    "train_dataset = load_dataset(\"csv\", data_files=\"..\\datasets\\soham-articles\\\\bn\\\\bn-train.csv\", column_names=[\"labels\",\"text\"], split=\"train\")"
   ]
  },
  {
   "cell_type": "code",
   "execution_count": 2,
   "id": "7484c2dd",
   "metadata": {},
   "outputs": [
    {
     "name": "stderr",
     "output_type": "stream",
     "text": [
      "Found cached dataset csv (C:/Users/arifa/.cache/huggingface/datasets/csv/default-934cec49a13b53ff/0.0.0/6954658bab30a358235fa864b05cf819af0e179325c740e4bc853bcc7ec513e1)\n"
     ]
    }
   ],
   "source": [
    "valid_dataset = load_dataset(\"csv\", data_files=\"..\\datasets\\soham-articles\\\\bn\\\\bn-valid.csv\", column_names=[\"labels\",\"text\"], split=\"train\")"
   ]
  },
  {
   "cell_type": "code",
   "execution_count": 3,
   "id": "b105db92",
   "metadata": {},
   "outputs": [
    {
     "name": "stderr",
     "output_type": "stream",
     "text": [
      "Found cached dataset csv (C:/Users/arifa/.cache/huggingface/datasets/csv/default-04dc69dd625404f0/0.0.0/6954658bab30a358235fa864b05cf819af0e179325c740e4bc853bcc7ec513e1)\n"
     ]
    }
   ],
   "source": [
    "test_dataset = load_dataset(\"csv\", data_files=\"..\\datasets\\soham-articles\\\\bn\\\\bn-test.csv\", column_names=[\"labels\",\"text\"], split=\"train\")"
   ]
  },
  {
   "cell_type": "code",
   "execution_count": 4,
   "id": "971c96bd",
   "metadata": {},
   "outputs": [],
   "source": [
    "from datasets import Dataset, DatasetDict\n",
    "\n",
    "news_datasets = DatasetDict()\n",
    "news_datasets['train'] = train_dataset\n",
    "news_datasets['test'] = test_dataset\n",
    "news_datasets['validation'] = valid_dataset"
   ]
  },
  {
   "cell_type": "code",
   "execution_count": 5,
   "id": "8e6758cd",
   "metadata": {},
   "outputs": [
    {
     "data": {
      "text/plain": [
       "DatasetDict({\n",
       "    train: Dataset({\n",
       "        features: ['labels', 'text'],\n",
       "        num_rows: 11284\n",
       "    })\n",
       "    test: Dataset({\n",
       "        features: ['labels', 'text'],\n",
       "        num_rows: 1411\n",
       "    })\n",
       "    validation: Dataset({\n",
       "        features: ['labels', 'text'],\n",
       "        num_rows: 1411\n",
       "    })\n",
       "})"
      ]
     },
     "execution_count": 5,
     "metadata": {},
     "output_type": "execute_result"
    }
   ],
   "source": [
    "news_datasets"
   ]
  },
  {
   "cell_type": "code",
   "execution_count": 6,
   "id": "62c44db0",
   "metadata": {},
   "outputs": [],
   "source": [
    "train_dataset.set_format(\"pandas\")"
   ]
  },
  {
   "cell_type": "code",
   "execution_count": 7,
   "id": "7386598c",
   "metadata": {},
   "outputs": [],
   "source": [
    "# get label counts for both classes\n",
    "label_counts = train_dataset[\"labels\"].value_counts()\n",
    "num_labels = (len(label_counts.keys()))"
   ]
  },
  {
   "cell_type": "code",
   "execution_count": 8,
   "id": "91fd91ef",
   "metadata": {},
   "outputs": [
    {
     "data": {
      "text/plain": [
       "labels\n",
       "kolkata          4603\n",
       "state            2245\n",
       "national         1435\n",
       "sports           1289\n",
       "entertainment    1186\n",
       "international     526\n",
       "Name: count, dtype: int64"
      ]
     },
     "execution_count": 8,
     "metadata": {},
     "output_type": "execute_result"
    }
   ],
   "source": [
    "label_counts"
   ]
  },
  {
   "cell_type": "code",
   "execution_count": 9,
   "id": "cfcd1891",
   "metadata": {},
   "outputs": [
    {
     "data": {
      "text/plain": [
       "13776"
      ]
     },
     "execution_count": 9,
     "metadata": {},
     "output_type": "execute_result"
    }
   ],
   "source": [
    "max_token_length = max(train_dataset['text'].str.len())\n",
    "max_token_length"
   ]
  },
  {
   "cell_type": "code",
   "execution_count": 10,
   "id": "aa3c3367",
   "metadata": {},
   "outputs": [],
   "source": [
    "count = train_dataset['text'].str.split().apply(len).value_counts()"
   ]
  },
  {
   "cell_type": "code",
   "execution_count": 11,
   "id": "ee37ab33",
   "metadata": {},
   "outputs": [],
   "source": [
    "count.index = count.index.astype(str) + ' words:'\n",
    "count.sort_index(inplace=True)"
   ]
  },
  {
   "cell_type": "code",
   "execution_count": 12,
   "id": "6913c08e",
   "metadata": {},
   "outputs": [
    {
     "data": {
      "text/plain": [
       "text\n",
       "100 words:     28\n",
       "1002 words:     2\n",
       "101 words:     20\n",
       "1013 words:     1\n",
       "1017 words:     1\n",
       "               ..\n",
       "98 words:      25\n",
       "987 words:      1\n",
       "99 words:      19\n",
       "992 words:      1\n",
       "999 words:      1\n",
       "Name: count, Length: 771, dtype: int64"
      ]
     },
     "execution_count": 12,
     "metadata": {},
     "output_type": "execute_result"
    }
   ],
   "source": [
    "count"
   ]
  },
  {
   "cell_type": "code",
   "execution_count": 13,
   "id": "9848d245",
   "metadata": {},
   "outputs": [],
   "source": [
    "train_dataset.reset_format()"
   ]
  },
  {
   "cell_type": "code",
   "execution_count": 14,
   "id": "698c93f2",
   "metadata": {},
   "outputs": [],
   "source": [
    "from transformers import set_seed\n",
    "\n",
    "set_seed(30)\n",
    "# set_seed(42)"
   ]
  },
  {
   "cell_type": "code",
   "execution_count": 15,
   "id": "fd3efaf7",
   "metadata": {},
   "outputs": [],
   "source": [
    "from transformers import BertForSequenceClassification, BertConfig, CharacterBertModel, CharacterBertTokenizer\n",
    "\n",
    "#### LOADING BERT FOR CLASSIFICATION ####\n",
    "\n",
    "config = BertConfig.from_pretrained('bert-base-uncased', num_labels=num_labels)  # binary classification\n",
    "model = BertForSequenceClassification(config=config)"
   ]
  },
  {
   "cell_type": "code",
   "execution_count": 16,
   "id": "a993c30f",
   "metadata": {},
   "outputs": [
    {
     "data": {
      "text/plain": [
       "Embedding(30522, 768, padding_idx=0)"
      ]
     },
     "execution_count": 16,
     "metadata": {},
     "output_type": "execute_result"
    }
   ],
   "source": [
    "model.bert.embeddings.word_embeddings  # wordpiece embeddings"
   ]
  },
  {
   "cell_type": "code",
   "execution_count": 17,
   "id": "4302d222",
   "metadata": {},
   "outputs": [
    {
     "name": "stderr",
     "output_type": "stream",
     "text": [
      "Some weights of the model checkpoint at E:\\Documents\\Character Bert\\Question Classification\\character-bert were not used when initializing CharacterBertModel: ['cls.seq_relationship.bias', 'cls.predictions.transform.dense.weight', 'cls.predictions.decoder.weight', 'cls.seq_relationship.weight', 'cls.predictions.bias', 'cls.predictions.transform.LayerNorm.bias', 'cls.predictions.decoder.bias', 'cls.predictions.transform.LayerNorm.weight', 'cls.predictions.transform.dense.bias']\n",
      "- This IS expected if you are initializing CharacterBertModel from the checkpoint of a model trained on another task or with another architecture (e.g. initializing a BertForSequenceClassification model from a BertForPreTraining model).\n",
      "- This IS NOT expected if you are initializing CharacterBertModel from the checkpoint of a model that you expect to be exactly identical (initializing a BertForSequenceClassification model from a BertForSequenceClassification model).\n"
     ]
    }
   ],
   "source": [
    "#### REPLACING BERT WITH CHARACTER_BERT ####\n",
    "\n",
    "character_bert_model = CharacterBertModel.from_pretrained(\n",
    "    \"E:\\Documents\\Character Bert\\Question Classification\\character-bert\")\n",
    "model.bert = character_bert_model"
   ]
  },
  {
   "cell_type": "code",
   "execution_count": 18,
   "id": "67f6ac76",
   "metadata": {},
   "outputs": [
    {
     "data": {
      "text/plain": [
       "CharacterCnn(\n",
       "  (char_conv_0): Conv1d(16, 32, kernel_size=(1,), stride=(1,))\n",
       "  (char_conv_1): Conv1d(16, 32, kernel_size=(2,), stride=(1,))\n",
       "  (char_conv_2): Conv1d(16, 64, kernel_size=(3,), stride=(1,))\n",
       "  (char_conv_3): Conv1d(16, 128, kernel_size=(4,), stride=(1,))\n",
       "  (char_conv_4): Conv1d(16, 256, kernel_size=(5,), stride=(1,))\n",
       "  (char_conv_5): Conv1d(16, 512, kernel_size=(6,), stride=(1,))\n",
       "  (char_conv_6): Conv1d(16, 1024, kernel_size=(7,), stride=(1,))\n",
       "  (_highways): Highway(\n",
       "    (_layers): ModuleList(\n",
       "      (0-1): 2 x Linear(in_features=2048, out_features=4096, bias=True)\n",
       "    )\n",
       "  )\n",
       "  (_projection): Linear(in_features=2048, out_features=768, bias=True)\n",
       ")"
      ]
     },
     "execution_count": 18,
     "metadata": {},
     "output_type": "execute_result"
    }
   ],
   "source": [
    "model.bert.embeddings.word_embeddings  # wordpieces are replaced with a CharacterCNN"
   ]
  },
  {
   "cell_type": "code",
   "execution_count": 19,
   "id": "9a454b98",
   "metadata": {},
   "outputs": [],
   "source": [
    "# import torch\n",
    "\n",
    "# # Load the actual checkpoint file\n",
    "# checkpoint = torch.load(\n",
    "#     output_directory, map_location=\"cpu\"\n",
    "# )"
   ]
  },
  {
   "cell_type": "code",
   "execution_count": 20,
   "id": "ed1cf601",
   "metadata": {},
   "outputs": [],
   "source": [
    "# model.load_state_dict(checkpoint['model'], strict=True)"
   ]
  },
  {
   "cell_type": "code",
   "execution_count": 21,
   "id": "d9a701fe",
   "metadata": {},
   "outputs": [],
   "source": [
    "tokenizer = CharacterBertTokenizer(strip_accents=None, do_lower_case=None)"
   ]
  },
  {
   "cell_type": "code",
   "execution_count": 22,
   "id": "5b833509",
   "metadata": {},
   "outputs": [],
   "source": [
    "def tokenize_function(example):\n",
    "    return tokenizer(example[\"text\"], max_length=128)"
   ]
  },
  {
   "cell_type": "code",
   "execution_count": 23,
   "id": "38859875",
   "metadata": {},
   "outputs": [
    {
     "name": "stderr",
     "output_type": "stream",
     "text": [
      "Loading cached processed dataset at C:\\Users\\arifa\\.cache\\huggingface\\datasets\\csv\\default-288983945b809be3\\0.0.0\\6954658bab30a358235fa864b05cf819af0e179325c740e4bc853bcc7ec513e1\\cache-e98e8e56455d1237.arrow\n",
      "Loading cached processed dataset at C:\\Users\\arifa\\.cache\\huggingface\\datasets\\csv\\default-04dc69dd625404f0\\0.0.0\\6954658bab30a358235fa864b05cf819af0e179325c740e4bc853bcc7ec513e1\\cache-b118f805ce8ac4b0.arrow\n",
      "Loading cached processed dataset at C:\\Users\\arifa\\.cache\\huggingface\\datasets\\csv\\default-934cec49a13b53ff\\0.0.0\\6954658bab30a358235fa864b05cf819af0e179325c740e4bc853bcc7ec513e1\\cache-e8a6e6f18f150f3b.arrow\n"
     ]
    }
   ],
   "source": [
    "from transformers import DataCollatorWithPadding\n",
    "\n",
    "tokenized_datasets = news_datasets.map(tokenize_function, batched=True, remove_columns=[\"text\"])\n",
    "data_collator = DataCollatorWithPadding(tokenizer=tokenizer)"
   ]
  },
  {
   "cell_type": "code",
   "execution_count": 24,
   "id": "90c5c425",
   "metadata": {},
   "outputs": [
    {
     "data": {
      "text/plain": [
       "DatasetDict({\n",
       "    train: Dataset({\n",
       "        features: ['labels', 'input_ids', 'token_type_ids', 'attention_mask'],\n",
       "        num_rows: 11284\n",
       "    })\n",
       "    test: Dataset({\n",
       "        features: ['labels', 'input_ids', 'token_type_ids', 'attention_mask'],\n",
       "        num_rows: 1411\n",
       "    })\n",
       "    validation: Dataset({\n",
       "        features: ['labels', 'input_ids', 'token_type_ids', 'attention_mask'],\n",
       "        num_rows: 1411\n",
       "    })\n",
       "})"
      ]
     },
     "execution_count": 24,
     "metadata": {},
     "output_type": "execute_result"
    }
   ],
   "source": [
    "tokenized_datasets"
   ]
  },
  {
   "cell_type": "code",
   "execution_count": 25,
   "id": "5648aa94",
   "metadata": {},
   "outputs": [],
   "source": [
    "# temp = tokenized_datasets.filter(lambda x:x if tokenizer.unk_token_id in x[\"input_ids\"] else None)"
   ]
  },
  {
   "cell_type": "code",
   "execution_count": 26,
   "id": "fedfc6b0",
   "metadata": {},
   "outputs": [],
   "source": [
    "# temp"
   ]
  },
  {
   "cell_type": "code",
   "execution_count": 27,
   "id": "fbc48ef1",
   "metadata": {},
   "outputs": [],
   "source": [
    "# for sample in temp[\"train\"]:\n",
    "#     print(tokenizer.decode(sample[\"input_ids\"]))"
   ]
  },
  {
   "cell_type": "code",
   "execution_count": 28,
   "id": "8e711f36",
   "metadata": {},
   "outputs": [],
   "source": [
    "# \"kolkata\":4603,\n",
    "# \"state\":2245,\n",
    "# \"national\":1435,\n",
    "# \"sports\":1289,\n",
    "# \"entertainment\":1186,\n",
    "# \"international\":526"
   ]
  },
  {
   "cell_type": "code",
   "execution_count": 29,
   "id": "0b77cb70",
   "metadata": {},
   "outputs": [],
   "source": [
    "def assign_label(example):\n",
    "    mapping = {\n",
    "        \"kolkata\":0,\n",
    "        \"state\":1,\n",
    "        \"national\":2,\n",
    "        \"sports\":3,\n",
    "        \"entertainment\":4,\n",
    "        \"international\":5\n",
    "    }\n",
    "    example['labels'] = mapping[example['labels']]\n",
    "    return example"
   ]
  },
  {
   "cell_type": "code",
   "execution_count": 30,
   "id": "7f72f8ba",
   "metadata": {},
   "outputs": [
    {
     "name": "stderr",
     "output_type": "stream",
     "text": [
      "Loading cached processed dataset at C:\\Users\\arifa\\.cache\\huggingface\\datasets\\csv\\default-288983945b809be3\\0.0.0\\6954658bab30a358235fa864b05cf819af0e179325c740e4bc853bcc7ec513e1\\cache-07499d1639bcd994.arrow\n",
      "Loading cached processed dataset at C:\\Users\\arifa\\.cache\\huggingface\\datasets\\csv\\default-04dc69dd625404f0\\0.0.0\\6954658bab30a358235fa864b05cf819af0e179325c740e4bc853bcc7ec513e1\\cache-8fd5c59463e59219.arrow\n",
      "Loading cached processed dataset at C:\\Users\\arifa\\.cache\\huggingface\\datasets\\csv\\default-934cec49a13b53ff\\0.0.0\\6954658bab30a358235fa864b05cf819af0e179325c740e4bc853bcc7ec513e1\\cache-ac1979357c97e3dd.arrow\n"
     ]
    },
    {
     "data": {
      "text/plain": [
       "{'train': ['labels', 'input_ids', 'token_type_ids', 'attention_mask'],\n",
       " 'test': ['labels', 'input_ids', 'token_type_ids', 'attention_mask'],\n",
       " 'validation': ['labels', 'input_ids', 'token_type_ids', 'attention_mask']}"
      ]
     },
     "execution_count": 30,
     "metadata": {},
     "output_type": "execute_result"
    }
   ],
   "source": [
    "tokenized_datasets = tokenized_datasets.map(assign_label)\n",
    "tokenized_datasets.set_format(\"torch\")\n",
    "tokenized_datasets.column_names"
   ]
  },
  {
   "cell_type": "code",
   "execution_count": 31,
   "id": "399bf492",
   "metadata": {},
   "outputs": [
    {
     "name": "stdout",
     "output_type": "stream",
     "text": [
      "\n",
      "'>>> [CLS] প্রজাপতি প্রজাপতি আমার ইচ্ছে হয়ে, বনে বনে ঘাসে ঘাসে ওড়ে আর ফেরে... সেই সুর যা ফিরিয়ে দেয় শৈশবের সুগন্ধ । সবিতা চৌধুরী । যাঁর কণ্ঠ অপূর্ব সব গানগুচ্ছ উপহার দিয়েছে সব প্রজন্মের গানপ্রেমীদের । দুরারোগ্য কর্কটরোগে আক্রান্ত সেদিনের সবিতা । গত কয়েক বছর ধরে নিরন্তর লড়াইয়ের পর এখন প্রহর গুনছেন । যেকোনও দিনই আসতে পারে সেই ভয়ঙ্কর দিনটি । এখন তাঁর বড় মেয়ে অন্তরা চৌধুরীর কাছেই আছেন তিনি । রুবি হাসপাতালের খুব কাছেই বড় মেয়ের কাছেই কাটাতে চান জীবনের শেষ কয়েকটি দিন । আজই এবেলা. ইন কে জানালেন অন্তরা । স্বামী সলিল চৌধুরীর অনুরোধেই প্রথম অ্যালবামে গাওয়া গান মরি হায় গো হায় । সবিতার কণ্ঠস্বরের জাদুতে সেই গান শাশ্বত হয়ে আছে । এখন এই আনন্দের শহরে একলা শুয়ে সবিতা । সুরের [SEP]'\n",
      "\n",
      "'>>> [CLS] দীর্ঘ সাত মাসের প্রতীক্ষার পর সোমবার সকালে এসে পৌঁছল কলকাতা মেট্রো রেলের নতুন এসি রেক । গত ডিসেম্বরে ওই রেকটি এসে পৌঁছনোর কথা থাকলেও একাধিক কারণে রেক পেতে অনেকটা দেরি হল বলে মেট্রো সূত্রের খবর । চেন্নাইয়ের ইন্টিগ্রাল কোচ ফ্যাক্টরিকে ( আইসিএফ ) দু ’ টি এসি রেকের বরাত দেওয়া হয়েছিল । তার মধ্যে প্রথম রেকটি এদিন এসে পৌঁছেছে । দ্বিতীয় রেকটি পৌঁছনোর কথা অগস্টের তৃতীয় সপ্তাহে । এখনকার এসি রেকগুলির তুলনায় নতুন এসি রেক প্রযুক্তিগতভাবে অনেকটাই এগিয়ে বলে । জানা গিয়েছে, চলতি বছরের শেষে চিনের ডালিয়ান থেকে মেট্রোর রেক আসা শুরু হবে । সম্পূর্ণ দেশীয় প্রযুক্তিতে তৈরি আইসিএফের রেকগুলি যাতে কোনওভাবে ওই রেকের তুলনায় পিছিয়ে না থাকে তা নিশ্চিত করার চেষ্টা হয়েছে । নতুন রেকের মোটর - সহ মূল অংশ ( প্রপালসন ) তৈরি [SEP]'\n",
      "\n",
      "'>>> [CLS] দিঘার হোটেল থেকে উদ্ধার হল যুবক - যুবতীর ঝুলন্ত দেহ । শুক্রবার সকালে নিউ দিঘার একটি হোটেল থেকে ওই যুগলের দেহ উদ্ধার হয় । মৃতদের দাম গোপাল সরকার ও অতসি সরকার । হোটেল কর্তৃপক্ষের কাছে তাঁরা এই নাম দিয়েই রুম বুক করেছিলেন বলে জানা গিয়েছে । এই বিষয়ে অন্যান্য খবর ফুটফুটে বাচ্চাটি কার! দিঘার সৈকতে শিশুর কান্না, জল্পনা চাপা দিল সমুদ্রের গর্জন দিঘায় মারাত্মক অভিযোগ! মহিলা পর্যটককে প্রায় বিবস্ত্র করে হেনস্থা জানা গিয়েছে, স্বামী - স্ত্রীর পরিচয় দিয়ে ওই যুগল গত ১৫ তারিখ হোটেলে ওঠেন । হোটেলের রেজিস্টারে হুগলির তারকেশ্বরের মুক্তারপুরের গ্রামের বাসিন্দা বলেন তাঁরা । শুক্রবারই তাঁদের ফিরে যাওয়ার কথা ছিল । এদিন সকালে রুমের মধ্যে থেকে যুবক - যুবতীর কোনও সাড়াশব্দ না পাওয়ায় সন্দেহ হয় হোটেলকর্মীদের মধ্যে । পরে দরজা [SEP]'\n",
      "\n",
      "'>>> [CLS] কিছুদিন আগেই রাজ্যের গাইড বনে গিয়েছিলেন চেতেশ্বর পূজারা । রাজকোটে ভারত - ওয়েস্ট ইন্ডিজ প্রথম টেস্ট চলাকালীনই পূজারাকে দেখা গিয়েছিল নয়া অবতারে । এবার সেই পথেই হাঁটলেন মহম্মদ সিরাজ । এই বিষয়ে অন্যান্য খবর কুম্বলের গুগলিতে ‘ বোল্ড ’ সোহিনী, মাঝ আকাশে মন জিতলেন ক্রিকেটার হায়দরাবাদে দ্বিতীয় টেস্ট শুরু হচ্ছে শুক্রবারেই । সেই টেস্ট শুরুর আগেই হায়দরাবাদের ট্যুর গাইড হয়ে গেলেন সিরাজ । হায়দরাবাদের দ্রষ্টব্য কী? সিরাজ জানাচ্ছেন, চারমিনারে যেতেই হবে । ওখান থেকে চাঁদ দেখার অভিজ্ঞতা দুর্ধর্ষ! পাশাপাশি তিনি নেকলেস রোডেও ঘুরে আসার পরামর্শ দিয়েছেন ভ্রমণার্থীদের । রিল্যাক্স করার জন্য নাকি নেকলেস রোড আদর্শ । ট্যুরিস্টদের হায়দরাবাদের বিখ্যাত বিরিয়ানি চেখে দেওয়ার কথা বলেছেন তারকা পেসার । সিরাজের এই ‘ গাইড ’ হওয়ার ভিডিও বিসিসিআই শেয়ার করেছেন নিজেদের ফেসবুক পেজে । ইতিমধ্যেই [SEP]'\n",
      "\n",
      "'>>> [CLS] মারুতির কারখানায় হামলা এবং ম্যানেজারকে পুড়িয়ে মারার ঘটনায় ৩১ জনকে দোষী সাব্যস্ত করল হরিয়ানার আদালত । দোষীরা প্রত্যেকেই মানেসরের মারুতি - সুজুকি প্ল্যান্টের কর্মী । দিল্লির প্রায় ৪০ কিলোমিটার দক্ষিণে অবস্থিত ওই প্ল্যান্টে ২০১২ সালে এক দল শ্রমিকের হাতে আক্রান্ত হয়েছিলেন সংস্থার উচ্চপদস্থ কর্তারা । কনফারেন্স রুমের মধ্যে হিউম্যান রিসোর্স ম্যানেজার অবনীশ কুমার দেবের গায়ে আগুন ধরিয়ে দেওয়া হয়েছিল । সেখানেই মৃত্যু হয়েছিল তাঁর । দীর্ঘ ক্ষণ ধরে চলতে থাকা তাণ্ডবে ম্যানেজমেন্টের অন্তত ৫০ জন কর্তা জখম হয়েছিলেন, আক্রান্ত হয়েছিল পুলিশও । ঘটনার বছর চারেক পর গুরুগ্রামের আদালত মামলাটির রায় ঘোষণা করল । মারুতি সংস্থা প্রতি বছর যে পরিমাণ গাড়ি তৈরি করে, তার এক তৃতীয়াংশই তৈরি হয় মানেসরের প্ল্যান্টে । ২০১২ সালের বেনজির গোলমালের পর সেই মানেসর প্ল্যান্ট মাস খানেকের জন্য বন্ধ করে দিয়েছিল [SEP]'\n"
     ]
    }
   ],
   "source": [
    "samples = [tokenized_datasets[\"train\"][i] for i in range(5)]\n",
    "samples\n",
    "\n",
    "for chunk in data_collator(samples)[\"input_ids\"]:\n",
    "    print(f\"\\n'>>> {tokenizer.decode(chunk)}'\")"
   ]
  },
  {
   "cell_type": "code",
   "execution_count": 32,
   "id": "75eca670",
   "metadata": {},
   "outputs": [
    {
     "data": {
      "text/plain": [
       "{'labels': ['entertainment', 'state', 'state', 'sports', 'national'],\n",
       " 'text': ['প্রজাপতি প্রজাপতি আমার ইচ্ছে হয়ে, বনে বনে ঘাসে ঘাসে ওড়ে আর ফেরে...\\nসেই সুর যা ফিরিয়ে দেয় শৈশবের সুগন্ধ। সবিতা চৌধুরী। যাঁর কণ্ঠ অপূর্ব সব গানগুচ্ছ উপহার দিয়েছে সব প্রজন্মের গানপ্রেমীদের। দুরারোগ্য কর্কটরোগে আক্রান্ত সেদিনের সবিতা। গত কয়েক বছর ধরে নিরন্তর লড়াইয়ের পর এখন প্রহর গুনছেন । যেকোনও দিনই আসতে পারে সেই ভয়ঙ্কর দিনটি।\\nএখন তাঁর বড় মেয়ে অন্তরা চৌধুরীর কাছেই আছেন তিনি। রুবি হাসপাতালের খুব কাছেই বড় মেয়ের কাছেই কাটাতে চান জীবনের শেষ কয়েকটি দিন। আজই এবেলা.ইন কে জানালেন অন্তরা।\\nস্বামী সলিল চৌধুরীর অনুরোধেই প্রথম অ্যালবামে গাওয়া গান মরি হায় গো হায়। সবিতার কণ্ঠস্বরের জাদুতে সেই গান শাশ্বত হয়ে আছে।\\xa0\\nএখন এই আনন্দের শহরে একলা শুয়ে সবিতা। সুরের সেই ঝর-ঝর-ঝরণা যে আজ নিরুচ্চার',\n",
       "  'দীর্ঘ সাত মাসের প্রতীক্ষার পর সোমবার সকালে এসে পৌঁছল কলকাতা মেট্রো রেলের নতুন এসি রেক। গত ডিসেম্বরে ওই রেকটি এসে পৌঁছনোর কথা থাকলেও একাধিক কারণে রেক পেতে অনেকটা দেরি হল বলে মেট্রো সূত্রের খবর।\\xa0\\nচেন্নাইয়ের ইন্টিগ্রাল কোচ ফ্যাক্টরিকে (আইসিএফ) দু’টি এসি রেকের বরাত দেওয়া হয়েছিল। তার মধ্যে প্রথম রেকটি এদিন এসে পৌঁছেছে। দ্বিতীয় রেকটি পৌঁছনোর কথা অগস্টের তৃতীয় সপ্তাহে। এখনকার এসি রেকগুলির তুলনায় নতুন এসি রেক প্রযুক্তিগতভাবে অনেকটাই এগিয়ে বলে। জানা গিয়েছে, চলতি বছরের শেষে চিনের ডালিয়ান থেকে মেট্রোর রেক আসা শুরু হবে। সম্পূর্ণ দেশীয় প্রযুক্তিতে তৈরি আইসিএফের রেকগুলি যাতে কোনওভাবে ওই রেকের তুলনায় পিছিয়ে না থাকে তা নিশ্চিত করার চেষ্টা হয়েছে।\\xa0\\n\\xa0নতুন রেকের মোটর-সহ মূল অংশ (প্রপালসন) তৈরি করেছে হায়দরাবাদের একটি সংস্থা। রেকের বাইরের কাঠামো তৈরি করেছে আইসিএফ। নতুন রেকগুলিতে এসি, ভেস্টিবিউল,সাসপেনশন, ব্রেকিং সিস্টেম সব কিছুতেই ব্যাপক বদল আনা হয়েছে।\\nনতুন রেকে ভেস্টিবিউলের প্রস্থ এক ধাক্কায় ৭০০ থেকে বেড়ে হচ্ছে ১৪০০ মিলিমিটার। ফলে দু’টি কামরার মধ্যে যাতায়াত অনেকটাই সহজসাধ্য হবে। চলতি এসি রেকে দরজার দু’প্রান্তের মাঝের ব্যবধান ১২১০ মিলিমিটার। ওই ব্যবধান বেড়ে হচ্ছে ১৪০০ মিলিমিটার। এসি’র ড্রেনেজ পাইপের অবস্থানও বদলেছে। চলার সময় রেক ঠান্ডা না হওয়ার সমস্যা ঠেকাতে রুফ মাউন্টিং ইউনিটের প্রযুক্তিতে বদল আনা হয়েছে। ঝাঁকুনি কমাতে স্টিল কয়েলের বদলে রাবার স্প্রিং সাসপেনশন ব্যবহার করা হচ্ছে নতুন রেকে। আমূল বদল আনা হয়েছে ব্রেকিং সিস্টেমে। নতুন রেকে স্টেপলেস রিজেনারেটিভ ব্রেক থাকছে। এতে অনেকটাই বিদ্যুৎ সাশ্রয় হবে।\\xa0\\nমেট্রোর এক আধিকারিক জানান, “থার্ড রেলের সঙ্গে সংযোগকারী অংশ বসানো ছাড়াও অবশিষ্ট কাজ করতে ৪৫ দিন লাগতে পারে। তারপর ওই রেক চলার উপযুক্ত হবে।”',\n",
       "  'দিঘার হোটেল থেকে উদ্ধার হল যুবক-যুবতীর ঝুলন্ত দেহ। শুক্রবার সকালে নিউ দিঘার একটি হোটেল থেকে ওই যুগলের দেহ উদ্ধার হয়। মৃতদের দাম গোপাল সরকার ও অতসি সরকার। হোটেল কর্তৃপক্ষের কাছে তাঁরা এই নাম দিয়েই রুম বুক করেছিলেন বলে জানা গিয়েছে।\\n\\nএই বিষয়ে অন্যান্য খবর\\n\\nফুটফুটে বাচ্চাটি কার! দিঘার সৈকতে শিশুর কান্না, জল্পনা চাপা দিল সমুদ্রের গর্জন\\nদিঘায় মারাত্মক অভিযোগ! মহিলা পর্যটককে প্রায় বিবস্ত্র করে হেনস্থা\\n\\n\\nজানা গিয়েছে, স্বামী-স্ত্রীর পরিচয় দিয়ে ওই যুগল গত ১৫ তারিখ হোটেলে ওঠেন। হোটেলের রেজিস্টারে হুগলির তারকেশ্বরের মুক্তারপুরের গ্রামের বাসিন্দা বলেন তাঁরা। শুক্রবারই তাঁদের ফিরে যাওয়ার কথা ছিল।\\xa0\\nএদিন সকালে রুমের মধ্যে থেকে যুবক-যুবতীর কোনও সাড়াশব্দ না পাওয়ায় সন্দেহ হয় হোটেলকর্মীদের মধ্যে। পরে দরজা ভাঙতেই তাঁদের ঝুলন্ত দেহ দেখতে পান হোটেলকর্মীরা। পরে পুলিশ এসে দেহদুটি উদ্ধার করে ময়নাতদন্তের জন্য পাঠায়।\\nপুলিশের প্রাথমিক ধারণা প্রেমঘটিত কারণের জেরে আত্মহত্যা করেছেন ওই যুগল। ঘটনার তদন্তে নেমেছে দিঘা থানার পুলিশ।',\n",
       "  \"কিছুদিন আগেই রাজ্যের গাইড বনে গিয়েছিলেন চেতেশ্বর পূজারা। রাজকোটে ভারত-ওয়েস্ট ইন্ডিজ প্রথম টেস্ট চলাকালীনই পূজারাকে দেখা গিয়েছিল নয়া অবতারে। এবার সেই পথেই হাঁটলেন মহম্মদ সিরাজ।\\n\\nএই বিষয়ে অন্যান্য খবর\\n\\nকুম্বলের গুগলিতে ‘বোল্ড’ সোহিনী, মাঝ আকাশে মন জিতলেন ক্রিকেটার\\n\\n\\nহায়দরাবাদে দ্বিতীয় টেস্ট শুরু হচ্ছে শুক্রবারেই। সেই টেস্ট শুরুর আগেই হায়দরাবাদের ট্যুর গাইড হয়ে গেলেন সিরাজ। হায়দরাবাদের দ্রষ্টব্য কী? সিরাজ জানাচ্ছেন, চারমিনারে যেতেই হবে। ওখান থেকে চাঁদ দেখার অভিজ্ঞতা দুর্ধর্ষ! পাশাপাশি তিনি নেকলেস রোডেও ঘুরে আসার পরামর্শ দিয়েছেন ভ্রমণার্থীদের। রিল্যাক্স করার জন্য নাকি নেকলেস রোড আদর্শ।\\nট্যুরিস্টদের হায়দরাবাদের বিখ্যাত বিরিয়ানি চেখে দেওয়ার কথা বলেছেন তারকা পেসার। সিরাজের এই ‘গাইড’ হওয়ার ভিডিও বিসিসিআই শেয়ার করেছেন নিজেদের ফেসবুক পেজে। ইতিমধ্যেই যা ভাইরাল। ভিডিওতে সিরাজকে দেখা যাচ্ছে, স্থানীয় উচ্চারণে কথা বলতে।\\n\\nLocal boy Siraj's top 3 things to do in Hyderabad 😎\\n\\nWhat to do when in Hyderabad? Mohammed Siraj lists his top 3 not-to-be-missed things from his home land. P.S In total Hyderabadi style 🤙 - by @28anand\\n\\nMUST WATCH ▶️ https://t.co/ceSRC2lMHK #INDvWI pic.twitter.com/toeN6j70pR\\n— BCCI (@BCCI) October 11, 2018\\n\\nভিডিওতে সিরাজ একজন ‘প্রাউড হায়দরাবাদি’। ঘরের ছেলের এমন বক্তব্যের পরে হায়দরাবাদের দর্শকরা কতটা মাঠ ভরায় সেটাই এখন দেখার।\",\n",
       "  'মারুতির কারখানায় হামলা এবং ম্যানেজারকে পুড়িয়ে মারার ঘটনায় ৩১ জনকে দোষী সাব্যস্ত করল হরিয়ানার আদালত। দোষীরা প্রত্যেকেই মানেসরের মারুতি-সুজুকি প্ল্যান্টের কর্মী। দিল্লির প্রায় ৪০ কিলোমিটার দক্ষিণে অবস্থিত ওই প্ল্যান্টে ২০১২ সালে এক দল শ্রমিকের হাতে আক্রান্ত হয়েছিলেন সংস্থার উচ্চপদস্থ কর্তারা। কনফারেন্স রুমের মধ্যে হিউম্যান রিসোর্স ম্যানেজার অবনীশ কুমার দেবের গায়ে আগুন ধরিয়ে দেওয়া হয়েছিল। সেখানেই মৃত্যু হয়েছিল তাঁর। দীর্ঘ ক্ষণ ধরে চলতে থাকা তাণ্ডবে ম্যানেজমেন্টের অন্তত ৫০ জন কর্তা জখম হয়েছিলেন, আক্রান্ত হয়েছিল পুলিশও। ঘটনার বছর চারেক পর গুরুগ্রামের আদালত মামলাটির রায় ঘোষণা করল। মারুতি সংস্থা প্রতি বছর যে পরিমাণ গাড়ি তৈরি করে, তার এক তৃতীয়াংশই তৈরি হয় মানেসরের প্ল্যান্টে। ২০১২ সালের বেনজির গোলমালের পর সেই মানেসর প্ল্যান্ট মাস খানেকের জন্য বন্ধ করে দিয়েছিল মারুতি কর্তৃপক্ষ। শ্রমিকদের বিরুদ্ধে শৃঙ্খলাভঙ্গের অভিযোগকে ঘিরে গোলমালের সূত্রপাত হয়েছিল। ম্যানেজমেন্টের অভিযোগ ছিল, যে কোনও আলোচনার সময়েই শ্রমিক ইউনিয়ন সংস্থার পদস্থ কর্তাদের আক্রমণ করত। পরিস্থিতি শৃঙ্খলাভঙ্গের পর্যায়ে যাচ্ছিল বলে ম্যানেজমেন্ট মনে করছিল। তাই কঠোর পদক্ষেপের কথা ভাবা হয়েছিল। সে সব নিয়ে দীর্ঘ দিন ধরে মানেসর প্ল্যান্টে শ্রমিক অসন্তোষ চলছিল। সেই অসন্তোষই শেষ দিনে তাণ্ডবের চেহারা নেয়। লোহার রড এবং নির্মিয়মান গাড়ির দরজার প্যানেল নিয়ে হামলা চালান শ্রমিকরা। হিউম্যান রিসোর্স ম্যানেজারকে পুড়িয়ে মারা হয়। সুপারভাইজার এবং অন্য পদস্থ করাদের খুঁজে বার করে হামলা চালানো হয়। গোটা কারখানা চত্বর জুড়ে ভাঙচুর চলে, জায়গায় জায়গায় আগুনও গালিয়ে দেওয়া হয়। ১২০০ পুলিশ পাঠিয়ে কারখানা নিয়ন্ত্রণে এনেছিল প্রশাসন। তবে ৯ জন পুলিশ কর্তাও সংঘর্ষে জখম হয়েছিলেন। ম্যানেজমেন্টের য়ে ৫০ জন কর্তাকে জখম অবস্থায় উদ্ধার করা হয়েছিল, তাঁদের অধিকাংশই রক্তাক্ত ছিলেন, অনেকেই অচেতনও ছিলেন। শ্রমিকদের অবশ্য দাবি ছিল, ম্যানেজমেন্টের বাড়াটে বাউন্সাররা প্ল্যান্টের সমস্ত দরজা বন্ধ করে দিয়ে শ্রমিকদের উপর হামলা চালিয়েছিল। সেখান থেকেই নাকি গোলমালের সূত্রপাত। কারখানা চত্বরের বিভিন্ন সিসিটিভির ফুটেজ খতিয়ে দেখে সন্দেহভাজনদের গ্রেফতার করে পুলিশ। বহু শ্রমিককে জেরা করা হয়। প্রায় ১৫০ জনকে অভিযুক্ত করা হয়। শুক্রবার গুরুগ্রামের আদালত অভিযুক্তদের মধ্যে ৩১ জনকে দোষী সাব্যস্ত করেছে। তাঁদের বিরুদ্ধে ম্যানেজমেন্টের উপর হামলা, সম্পত্তি নষ্ট এবং ম্যানেজারকে খুনের অভিযোগ প্রমাণিত হয়েছে বলে আদালতটি জানিয়েছে। সাজা ঘোষণা হওয়া এখনও বাকি।']}"
      ]
     },
     "execution_count": 32,
     "metadata": {},
     "output_type": "execute_result"
    }
   ],
   "source": [
    "news_datasets[\"train\"][:5]"
   ]
  },
  {
   "cell_type": "code",
   "execution_count": 33,
   "id": "6ae60094",
   "metadata": {},
   "outputs": [],
   "source": [
    "from torch.utils.data import DataLoader\n",
    "# batch_size = 16\n",
    "batch_size = 32\n",
    "\n",
    "train_dataloader = DataLoader(\n",
    "    tokenized_datasets[\"train\"], shuffle=True, batch_size=batch_size, collate_fn=data_collator\n",
    ")\n",
    "eval_dataloader = DataLoader(\n",
    "    tokenized_datasets[\"test\"], batch_size=batch_size, collate_fn=data_collator\n",
    ")"
   ]
  },
  {
   "cell_type": "code",
   "execution_count": 34,
   "id": "b3f49e99",
   "metadata": {},
   "outputs": [
    {
     "data": {
      "text/plain": [
       "{'labels': torch.Size([32]),\n",
       " 'input_ids': torch.Size([32, 128, 50]),\n",
       " 'token_type_ids': torch.Size([32, 128]),\n",
       " 'attention_mask': torch.Size([32, 128])}"
      ]
     },
     "execution_count": 34,
     "metadata": {},
     "output_type": "execute_result"
    }
   ],
   "source": [
    "for batch in train_dataloader:\n",
    "    break\n",
    "{k: v.shape for k, v in batch.items()}"
   ]
  },
  {
   "cell_type": "code",
   "execution_count": 35,
   "id": "f39d52b3",
   "metadata": {},
   "outputs": [
    {
     "name": "stdout",
     "output_type": "stream",
     "text": [
      "tensor(1.8421) torch.Size([32, 6])\n"
     ]
    }
   ],
   "source": [
    "import torch\n",
    "with torch.no_grad():\n",
    "    outputs = model(**batch)\n",
    "    print(outputs.loss, outputs.logits.shape)"
   ]
  },
  {
   "cell_type": "code",
   "execution_count": 36,
   "id": "09c186ed",
   "metadata": {},
   "outputs": [],
   "source": [
    "import numpy as np\n",
    "import evaluate\n",
    "\n",
    "metric_fun = evaluate.load(\"accuracy\")\n",
    "\n",
    "def compute_metrics(eval_preds):\n",
    "    logits, labels = eval_preds\n",
    "    predictions = np.argmax(logits, axis=-1)\n",
    "\n",
    "    metric_result = metric_fun.compute(references=labels, predictions=predictions)\n",
    "    return {\n",
    "        \"accuracy\": metric_result[\"accuracy\"],\n",
    "    }"
   ]
  },
  {
   "cell_type": "code",
   "execution_count": 37,
   "id": "8cb53020",
   "metadata": {},
   "outputs": [],
   "source": [
    "#  disable weights and biases logging\n",
    "import os\n",
    "os.environ[\"WANDB_DISABLED\"] = \"true\""
   ]
  },
  {
   "cell_type": "code",
   "execution_count": 38,
   "id": "324b2f79",
   "metadata": {},
   "outputs": [
    {
     "name": "stderr",
     "output_type": "stream",
     "text": [
      "Using the `WAND_DISABLED` environment variable is deprecated and will be removed in v5. Use the --report_to flag to control the integrations used for logging result (for instance --report_to none).\n"
     ]
    }
   ],
   "source": [
    "from transformers import TrainingArguments\n",
    "\n",
    "# batch_size = 16\n",
    "batch_size = 32\n",
    "# Show the training loss with every epoch\n",
    "logging_steps = len(tokenized_datasets[\"train\"]) // batch_size\n",
    "\n",
    "\n",
    "training_args = TrainingArguments(\n",
    "    output_dir=\"models/bert-unigram-bengali-classifier\",\n",
    "    overwrite_output_dir=True,\n",
    "    report_to = None,\n",
    "    logging_dir= None,\n",
    "    save_strategy=\"no\",\n",
    "    evaluation_strategy=\"epoch\",\n",
    "    #learning_rate=2e-5,\n",
    "    learning_rate=3e-5,\n",
    "    weight_decay=0.01,\n",
    "    #weight_decay=0.02,\n",
    "    per_device_train_batch_size=batch_size,\n",
    "    per_device_eval_batch_size=batch_size,\n",
    "    num_train_epochs=5,\n",
    "    #num_train_epochs=6,\n",
    "    #push_to_hub=True,\n",
    "    fp16=True,\n",
    ")"
   ]
  },
  {
   "cell_type": "code",
   "execution_count": 39,
   "id": "9d94821f",
   "metadata": {},
   "outputs": [],
   "source": [
    "# from datasets import concatenate_datasets\n",
    "\n",
    "# entire_train = concatenate_datasets([tokenized_datasets[\"train\"], tokenized_datasets[\"validation\"]]) "
   ]
  },
  {
   "cell_type": "code",
   "execution_count": 40,
   "id": "8085d3f2",
   "metadata": {},
   "outputs": [
    {
     "name": "stderr",
     "output_type": "stream",
     "text": [
      "Using amp half precision backend\n"
     ]
    }
   ],
   "source": [
    "from transformers import Trainer\n",
    "\n",
    "trainer = Trainer(\n",
    "    model=model,\n",
    "    args=training_args,\n",
    "    train_dataset=tokenized_datasets[\"train\"],\n",
    "    #train_dataset=entire_train,\n",
    "    eval_dataset=tokenized_datasets[\"validation\"],\n",
    "    data_collator=data_collator,\n",
    "    tokenizer=tokenizer,\n",
    "    compute_metrics=compute_metrics,\n",
    ")"
   ]
  },
  {
   "cell_type": "code",
   "execution_count": 41,
   "id": "4ef743fd",
   "metadata": {},
   "outputs": [],
   "source": [
    "import transformers\n",
    "trainer.remove_callback(transformers.integrations.TensorBoardCallback)"
   ]
  },
  {
   "cell_type": "code",
   "execution_count": 42,
   "id": "f026e2e6",
   "metadata": {
    "scrolled": true
   },
   "outputs": [
    {
     "name": "stderr",
     "output_type": "stream",
     "text": [
      "***** Running Evaluation *****\n",
      "  Num examples = 1411\n",
      "  Batch size = 32\n"
     ]
    },
    {
     "data": {
      "text/html": [
       "\n",
       "    <div>\n",
       "      \n",
       "      <progress value='90' max='45' style='width:300px; height:20px; vertical-align: middle;'></progress>\n",
       "      [45/45 02:39]\n",
       "    </div>\n",
       "    "
      ],
      "text/plain": [
       "<IPython.core.display.HTML object>"
      ]
     },
     "metadata": {},
     "output_type": "display_data"
    },
    {
     "data": {
      "text/plain": [
       "{'eval_loss': 1.8308228254318237,\n",
       " 'eval_accuracy': 0.1261516654854713,\n",
       " 'eval_runtime': 13.0509,\n",
       " 'eval_samples_per_second': 108.115,\n",
       " 'eval_steps_per_second': 3.448}"
      ]
     },
     "execution_count": 42,
     "metadata": {},
     "output_type": "execute_result"
    }
   ],
   "source": [
    "trainer.evaluate(tokenized_datasets[\"validation\"])"
   ]
  },
  {
   "cell_type": "code",
   "execution_count": 43,
   "id": "7440206a",
   "metadata": {},
   "outputs": [
    {
     "name": "stderr",
     "output_type": "stream",
     "text": [
      "***** Running training *****\n",
      "  Num examples = 11284\n",
      "  Num Epochs = 5\n",
      "  Instantaneous batch size per device = 32\n",
      "  Total train batch size (w. parallel, distributed & accumulation) = 32\n",
      "  Gradient Accumulation steps = 1\n",
      "  Total optimization steps = 1765\n"
     ]
    },
    {
     "data": {
      "text/html": [
       "\n",
       "    <div>\n",
       "      \n",
       "      <progress value='1765' max='1765' style='width:300px; height:20px; vertical-align: middle;'></progress>\n",
       "      [1765/1765 12:50, Epoch 5/5]\n",
       "    </div>\n",
       "    <table border=\"1\" class=\"dataframe\">\n",
       "  <thead>\n",
       " <tr style=\"text-align: left;\">\n",
       "      <th>Epoch</th>\n",
       "      <th>Training Loss</th>\n",
       "      <th>Validation Loss</th>\n",
       "      <th>Accuracy</th>\n",
       "    </tr>\n",
       "  </thead>\n",
       "  <tbody>\n",
       "    <tr>\n",
       "      <td>1</td>\n",
       "      <td>No log</td>\n",
       "      <td>0.487805</td>\n",
       "      <td>0.829908</td>\n",
       "    </tr>\n",
       "    <tr>\n",
       "      <td>2</td>\n",
       "      <td>0.589400</td>\n",
       "      <td>0.423985</td>\n",
       "      <td>0.866052</td>\n",
       "    </tr>\n",
       "    <tr>\n",
       "      <td>3</td>\n",
       "      <td>0.325300</td>\n",
       "      <td>0.350479</td>\n",
       "      <td>0.887314</td>\n",
       "    </tr>\n",
       "    <tr>\n",
       "      <td>4</td>\n",
       "      <td>0.325300</td>\n",
       "      <td>0.361164</td>\n",
       "      <td>0.890149</td>\n",
       "    </tr>\n",
       "    <tr>\n",
       "      <td>5</td>\n",
       "      <td>0.187200</td>\n",
       "      <td>0.375412</td>\n",
       "      <td>0.896527</td>\n",
       "    </tr>\n",
       "  </tbody>\n",
       "</table><p>"
      ],
      "text/plain": [
       "<IPython.core.display.HTML object>"
      ]
     },
     "metadata": {},
     "output_type": "display_data"
    },
    {
     "name": "stderr",
     "output_type": "stream",
     "text": [
      "***** Running Evaluation *****\n",
      "  Num examples = 1411\n",
      "  Batch size = 32\n",
      "***** Running Evaluation *****\n",
      "  Num examples = 1411\n",
      "  Batch size = 32\n",
      "***** Running Evaluation *****\n",
      "  Num examples = 1411\n",
      "  Batch size = 32\n",
      "***** Running Evaluation *****\n",
      "  Num examples = 1411\n",
      "  Batch size = 32\n",
      "***** Running Evaluation *****\n",
      "  Num examples = 1411\n",
      "  Batch size = 32\n",
      "\n",
      "\n",
      "Training completed. Do not forget to share your model on huggingface.co/models =)\n",
      "\n",
      "\n"
     ]
    },
    {
     "data": {
      "text/plain": [
       "TrainOutput(global_step=1765, training_loss=0.32843787649873296, metrics={'train_runtime': 771.648, 'train_samples_per_second': 73.116, 'train_steps_per_second': 2.287, 'total_flos': 2.25781730044416e+17, 'train_loss': 0.32843787649873296, 'epoch': 5.0})"
      ]
     },
     "execution_count": 43,
     "metadata": {},
     "output_type": "execute_result"
    }
   ],
   "source": [
    "trainer.train()"
   ]
  },
  {
   "cell_type": "code",
   "execution_count": 44,
   "id": "ddefcfac",
   "metadata": {},
   "outputs": [
    {
     "name": "stderr",
     "output_type": "stream",
     "text": [
      "***** Running Evaluation *****\n",
      "  Num examples = 1411\n",
      "  Batch size = 32\n"
     ]
    },
    {
     "data": {
      "text/html": [
       "\n",
       "    <div>\n",
       "      \n",
       "      <progress value='90' max='45' style='width:300px; height:20px; vertical-align: middle;'></progress>\n",
       "      [45/45 00:49]\n",
       "    </div>\n",
       "    "
      ],
      "text/plain": [
       "<IPython.core.display.HTML object>"
      ]
     },
     "metadata": {},
     "output_type": "display_data"
    },
    {
     "data": {
      "text/plain": [
       "{'eval_loss': 0.29614242911338806,\n",
       " 'eval_accuracy': 0.9192062367115521,\n",
       " 'eval_runtime': 8.963,\n",
       " 'eval_samples_per_second': 157.425,\n",
       " 'eval_steps_per_second': 5.021,\n",
       " 'epoch': 5.0}"
      ]
     },
     "execution_count": 44,
     "metadata": {},
     "output_type": "execute_result"
    }
   ],
   "source": [
    "trainer.evaluate(tokenized_datasets[\"test\"])"
   ]
  },
  {
   "cell_type": "code",
   "execution_count": 45,
   "id": "657bd755",
   "metadata": {},
   "outputs": [],
   "source": [
    "output_directory = \"best-model\""
   ]
  },
  {
   "cell_type": "code",
   "execution_count": 46,
   "id": "4d8e8380",
   "metadata": {},
   "outputs": [],
   "source": [
    "torch.save(\n",
    "    {\n",
    "        'model': model.state_dict(),\n",
    "    },\n",
    "    output_directory\n",
    ")"
   ]
  },
  {
   "cell_type": "code",
   "execution_count": 48,
   "id": "316546cf",
   "metadata": {},
   "outputs": [
    {
     "name": "stderr",
     "output_type": "stream",
     "text": [
      "***** Running Prediction *****\n",
      "  Num examples = 1411\n",
      "  Batch size = 32\n"
     ]
    }
   ],
   "source": [
    "y_preds, y_true, _ = trainer.predict(tokenized_datasets[\"test\"])"
   ]
  },
  {
   "cell_type": "code",
   "execution_count": 49,
   "id": "ba30c26e",
   "metadata": {},
   "outputs": [],
   "source": [
    "y_preds = np.argmax(y_preds, axis=-1)"
   ]
  },
  {
   "cell_type": "code",
   "execution_count": 50,
   "id": "ee97b151",
   "metadata": {},
   "outputs": [
    {
     "name": "stdout",
     "output_type": "stream",
     "text": [
      "               precision    recall  f1-score   support\n",
      "\n",
      "      kolkata       0.97      0.98      0.98       569\n",
      "        state       0.86      0.91      0.88       279\n",
      "     national       0.87      0.77      0.81       175\n",
      "       sports       0.97      0.96      0.96       192\n",
      "entertainment       0.87      0.89      0.88       130\n",
      "international       0.82      0.77      0.80        66\n",
      "\n",
      "     accuracy                           0.92      1411\n",
      "    macro avg       0.89      0.88      0.89      1411\n",
      " weighted avg       0.92      0.92      0.92      1411\n",
      "\n"
     ]
    }
   ],
   "source": [
    "from sklearn.metrics import classification_report\n",
    "target_names = [\"kolkata\",\n",
    "        \"state\",\n",
    "        \"national\",\n",
    "        \"sports\",\n",
    "        \"entertainment\",\n",
    "        \"international\"]\n",
    "\n",
    "print(classification_report(y_true, y_preds,target_names=target_names))"
   ]
  },
  {
   "cell_type": "code",
   "execution_count": 53,
   "id": "ce85ca13",
   "metadata": {},
   "outputs": [],
   "source": [
    "# !pip install seaborn"
   ]
  },
  {
   "cell_type": "code",
   "execution_count": 54,
   "id": "c78e8a33",
   "metadata": {},
   "outputs": [
    {
     "data": {
      "text/plain": [
       "Text(0.5, 1.0, 'Confusion matrix for QC')"
      ]
     },
     "execution_count": 54,
     "metadata": {},
     "output_type": "execute_result"
    },
    {
     "data": {
      "image/png": "[encoded data removed]",
      "text/plain": [
       "<Figure size 640x480 with 2 Axes>"
      ]
     },
     "metadata": {},
     "output_type": "display_data"
    }
   ],
   "source": [
    "import matplotlib.pyplot as plt\n",
    "from seaborn import heatmap\n",
    "from sklearn.metrics import confusion_matrix\n",
    "\n",
    "#plot heatmap of confusion matrix\n",
    "mat = confusion_matrix(y_true, y_preds)\n",
    "heatmap(mat, cmap=\"Pastel1_r\", fmt=\"d\", xticklabels=target_names, yticklabels=target_names, annot=True)\n",
    "\n",
    "#add overall title to plot\n",
    "plt.title('Confusion matrix for QC', fontsize = 12) # title with fontsize 20"
   ]
  },
  {
   "cell_type": "code",
   "execution_count": 55,
   "id": "0fa402ee",
   "metadata": {},
   "outputs": [],
   "source": [
    "misclassified = [i for i in range(len(y_preds)) if ((y_preds[i] != y_true[i]) and (y_true[i]==5) and (y_preds[i]==2))]"
   ]
  },
  {
   "cell_type": "code",
   "execution_count": 56,
   "id": "611da035",
   "metadata": {},
   "outputs": [],
   "source": [
    "misclassified = test_dataset.select(misclassified)"
   ]
  },
  {
   "cell_type": "code",
   "execution_count": 57,
   "id": "c59e7103",
   "metadata": {},
   "outputs": [
    {
     "data": {
      "text/plain": [
       "{'labels': ['international',\n",
       "  'international',\n",
       "  'international',\n",
       "  'international',\n",
       "  'international',\n",
       "  'international',\n",
       "  'international',\n",
       "  'international'],\n",
       " 'text': ['ক’দিন আগেই যে দেশটার পক্ষে দাঁড়িয়ে রাষ্ট্রপুঞ্জে জেরুসালেম ইস্যুতে ভোট দিয়েছে ভারত, সেই প্যালেস্তাইনের রাষ্ট্রদূতকেই দেখা গেল মুম্বই হামলার মাস্টারমাইন্ড হাফিজ সইদের মঞ্চে। শুক্রবার পাকিস্তানের রাওয়ালপিন্ডিতে একটি সভার আয়োজন করেছিল হাফিজের দিফা-ই-পাকিস্তান কাউন্সিল। সেখানেই দেখা গেল পাকিস্তানে নিযুক্ত প্যালেস্তিনীয় রাষ্ট্রদূত আবু আলিকে। এবং মঞ্চে তিনি বসেছিলেন জামাত প্রধান হাফিজ সইদের পাশেই। সেই ছবি ছড়িয়ে পড়তেই তীব্র প্রতিক্রিয়া জানিয়েছে নয়াদিল্লি। কেন্দ্রীয় বিদেশমন্ত্রকের তরফে বিবৃতি দিয়ে বলা হয়, “বিষয়টি খুব গুরুত্ব দিয়ে দেখা হচ্ছে। নয়াদিল্লিতে প্যালেস্তাইনের রাষ্ট্রদূতের কাছে বিষয়টি তুলে ধরা হবে।” প্রতিক্রিয়া যেমনই হোক, এই ঘটনা নয়াদিল্লির পক্ষে যথেষ্ট অস্বস্তি এবং বিড়ম্বনার কারণও যে হয়েছে তাতে সন্দেহ নেই। কারণ জেরুজালেম ইস্যুতে ভারত রাষ্ট্রপুঞ্জে ভোট দিয়েছে নিজের ‘স্ট্র্যাটেজিক পার্টনার’ আমেরিকা এবং ক্রমশ আরও ভাল ‘বন্ধু রাষ্ট্র’ হয়ে ওঠা ইজরায়েলেকে চটিয়ে ফেলার ঝুঁকি নিয়েই। এ মাসের গোড়ায় জেরুসালেমকে ইজরায়েলের রাজধানী বলে স্বীকৃতি দিয়ে বিবৃতি দেন মার্কিন প্রেসিডেন্ট ডোনাল্ড ট্রাম্প। ঝড় ওঠে বিশ্ব জুড়ে। যে শহরকে ঘিরে ইজরায়েল এবং প্যালেস্তাইনের মধ্যে দীর্ঘ দিনের বিরোধ, ট্রাম্পের বিবৃতিতে তা আবার উঠে আসে সামনে। বিষয়টি রাষ্ট্রপুঞ্জের সাধারণ পরিষদে ভোটাভুটি পর্যন্ত গড়ায়। প্রায় একঘরে হয় আমেরিকা, ইজরায়েল। ১২৭টি দেশ আমেরিকা আর ইজরায়েলের বিরুদ্ধে ভোট দেয়। এর মধ্যে ভারতও ছিল। মোদী সরকারের মধ্যেও অনেকে কিন্তু ভারতের এই ভোটদানের পক্ষে ছিলেন না। অনেকেরই মত, ভারত ভোটদানে বিরত থাকালেই ভাল করত। প্যালেস্তাইনের সঙ্গে দীর্ঘ দিন ধরেই সুসম্পর্ক ছিল ভারতের। কিন্তু বিগত বেশ কয়েক বছর ধরেই ভারত আর ইজরায়েলের সম্পর্কের উন্নতি হতে থাকে। দু’দেশের মধ্যে অনেক গুরুত্বপূর্ণ সামরিক ও কূটনৈতিক চুক্তিও হয়েছে। ক’মাস আগে প্রধানমন্ত্রী নরেন্দ্র মোদীর ইজরায়েল সফর এবং সে দেশের প্রধানমন্ত্রী বেঞ্জামিন নেতানইয়াহুর সঙ্গে তাঁর ব্যক্তিগত সখ্য এই সম্পর্ককে আরও কয়েক ধাপ এগিয়ে দিয়েছিল। সেই নেতানইয়াহু সরকার কিন্তু ভারতের এই ভোটদানে বেশ অসন্তুষ্টই হয়েছে। বিপক্ষে ভোটদানের প্রতিবাদও নথিভুক্ত করেছে ইজরায়েল। ইজরায়েলের সঙ্গে ভারতের সম্পর্কের অগ্রগতি অবশ্য একেবারেই ভাল ভাবে নেয়নি প্যালেস্তাইন। কিন্তু ভারত সরকার ইজরায়েলের সঙ্গে সম্পর্কের উন্নতি ঘটিয়েও, প্যালেস্তাইনের সঙ্গে সম্পর্ক ধরে রাখতে চেয়েছে। এ বছরের শুরুতেই প্যালেস্তাইনের প্রেসিডেন্ট মাহমুদ আব্বাস ভারত সফরে এসেছিলেন। আগামী ফেব্রুয়ারিতে প্যালেস্তাইনের রামাল্লায় মোদীর যাওয়ার কথা রয়েছে। যদি যান, এটাই হবে প্যালেস্তাইনে তাঁর প্রথম সফর। যখন নয়াদিল্লি ও রামাল্লার মধ্যে মোদীর সফর নিয়ে আলোচনা চলছে, ঠিক সেই সময়েই হাফিজ সইদের সভায় প্যালেস্তাইন রাষ্ট্রদূতের উপস্থিতি দু’দেশের সম্পর্কের মধ্যে একটা টানাপড়েন তৈরি করবে বলে মনে করছেন বিশেষজ্ঞরা। শুক্রবার হাফিজের যে সভায় গিয়েছিলেন প্যালেস্তাইন রাষ্ট্রদূত, সেটি ছিল ট্রাম্পের জেরুসালেম ঘোষণার প্রতিবাদেই। কিন্তু ইস্যু যাই হোক, যে হাফিজ সইদ ২৬/১১-র মুম্বই হামলার মাস্টারমাইন্ড, যে ভারতের বিরুদ্ধে লাগাতার বিষোদ্গার করে চলেছে, ভারতকে অশান্ত করার চেষ্টা চালিয়ে যাচ্ছে, সেই হাফিজের সভায় হাজির হয়ে কী বার্তা দিতে চাইলেন আবু আলি? এই প্রশ্নই এখন ঘুরপাক খাচ্ছে। শুধু তাই নয়, শুক্রবারের ওই সভা থেকে কিন্তু ভারতের বিরুদ্ধেও আওয়াজ উঠেছে। এমনিতেই মোদী সরকারের একটা অংশ ইজরায়েল এবং প্যালেস্তাইন- এই ‘দু নৌকা’ ছেড়ে, শুধু ইজরায়েলের সঙ্গে সুসম্পর্কেই জোর দেওয়ার পক্ষপাতি। প্যালেস্তিনীয় রাষ্ট্রদূতের ঘটনা সেই দাবিকে আরও জোরাল করবে সন্দেহ নেই।',\n",
       "  'বড়দিনের আগেই ঢাকার কাছে দক্ষিণখান এলাকার আশকোনা-য়, এক তিনতলা বাড়িতে অভিযান চালায় সে দেশের জঙ্গি দমনকারী বিশেষ বাহিনী। তাদের দাবি, ওই ভবনটির মধ্যে বেশ কয়েকজন জেএমবি জঙ্গি লুকিয়ে ছিল। গোপন সূত্রে খবর পেয়েই অভিযান চালানো হয়। জঙ্গিদের আত্মসমর্পণ করতে বলা হয়, কিন্তু তা না করে পাল্টা আক্রমণ করে জঙ্গিরা।\\nজঙ্গি দমনকারী বাহিনীর অভিযান চলে প্রায় ১৬ ঘণ্টা ধরে। এবং অভিযান চলাকালীন, আত্মঘাতী বিস্ফোরণে এক মহিলা জঙ্গি নিজেকে উড়িয়ে দেয়। এক কিশোর-সহ আরও এক মহিলা জঙ্গি মারা যায় অভিযানে।\\nআরও পড়ুন\\nঢাকায় জঙ্গিদের গোপন ডেরায় আচমকা হানা পুলিশের! রয়েছে মহিলা জঙ্গিও\\nজঙ্গি দমনকারী বিশেষ বাহিনীর মতে, এই মহিলা জঙ্গিরা বাংলাদেশের ‘নিউ জামাত-উল মুজাহিদিন’ জঙ্গি গোষ্ঠির একটি শাখা ‘নিও জেএমবি’-র সদস্যা। এবং এই প্রথম কোনও মহিলা সুইসাইড বম্বার এভাবে প্রকাশ্যে এল বাংলাদেশে। সে দেশের চরমপন্থীরা যে প্রতিনিয়ত জোরালো হচ্ছে এবং প্রচুর সংখ্যায় মহিলারাও যে তার অংশ হয়ে উঠছে, তা বলাই বাহুল্য।',\n",
       "  'এক্কেবারে নতুন তৈরি করা ঝাঁ চকচকে একটা হোটেল। আর বুলডোজার নিয়ে সেই হোটেলের কাচের দরজা ভেঙে চুরমার করে ঢুকছেন একজন। ঘটনাটি লিভারপুলের। পুলিশ সূত্রে জানা গিয়েছে, যাঁদের হাতে তৈরি হয়েছে লিভারপুলের ওই হোটেল, তাঁদেরই এক জন শ্রমিক ওই কাণ্ড ঘটিয়েছেন। কারণ? দীর্ঘ দিন ধরে পারিশ্রমিকের টাকা চেয়ে হন্যে হয়ে শেষমেশ এমন কাণ্ড ঘটিয়েছেন তিনি। গত সোমবার দুপুরে লিভারপুলের হোটেলের এই ঘটনাটি ঘটেছে। আর তার পরেই সামনে আসে এই ভিডিয়ো। রিসেপশন এরিয়া ভেঙে তছনছ করে দিয়েছেন ওই শ্রমিক। ভিডিয়োতে এ-ও দেখা গিয়েছে, অন্য শ্রমিকরা তাঁদের সহকর্মীর এমনতর কাণ্ড হাঁ হয়ে দেখছেন। অভিযুক্ত সহকর্মীকে ‘ইডিয়ট’ বলে ওই হোটেলেরই এক সিলিং রিপেয়ারার স্যামুয়েল হোয়াইট বললেন, “২০ থেকে ৩০ মিনিট ধরে এই ধ্বংসের কাজ চালানো হয়েছে।” স্যামুয়েল আরও জানিয়েছেন যে, ৬০০ পাউন্ড অর্থাৎ ভারতীয় মূল্যে প্রায় ৫৬ হাজার টাকা পেতেন তাঁর ওই সহকর্মী। কিন্তু সে টাকা বহু দিন ধরে বাকি থাকায় শেষমেশ এমন কাণ্ড ঘটান অভিযুক্ত ওই শ্রমিক। স্যামুয়েল আরও জানিয়েছেন যে, “সব কাজ প্রায় শেষই হয়ে গিয়েছিল। খুব শীঘ্রই মালিককে হোটেল হ্যান্ডওভার করারও কথা ছিল। শেষ মুহূর্তের কিছু কাজ বাকি ছিল। আর ঠিক তখনই এমন কাণ্ড ঘটল।”',\n",
       "  'রাত হলেই নাকি গ্রামে দাপিয়ে বেড়ায় বিধবার ভূত! নিশানায় থাকে পুরুষেরা। ফলে ভূতের শিকার থেকে বাঁচতে অভিনব পন্থা বেছে নিলেন পুরুষেরা। প্রতিদিন রাতে মেয়েদের পোশাক পরেন পুরুষেরা। এভাবেই নাকি তাঁরা ভূতের হাত থেকে রেহাই পেয়ে যাচ্ছেন। ঘটনা তাইল্যান্ডের।\\nডেইলি মেলে প্রকাশিত প্রতিবেদন থেকে জানা গিয়েছে, যে তাইল্যান্ডের একটি গ্রামে ভূতের ভয়ে গ্রামের সমস্ত পুরুষদের রাতে শোয়ানোর আগে মহিলাদের পোশাক পরানো হয়। শুধু পোশাকই নয়, মহিলাদের মেকআপও করানো হয় তাঁদের!\\xa0\\nতাইল্যান্ডের উত্তর প্রান্তে অবস্থিত নাকোন ফানোম গ্রাম। গ্রামে প্রায় ৯০টি পরিবারের বাস। অত্যন্ত সাধারণ মনে হলেও এই গ্রামের কার্যকলাপই এখন সবার নজর কেড়েছে।\\nকয়েক সপ্তাহ আগে গ্রামে পাঁচজন যুবকের মৃত্যু হয়। তার পরেই গ্রামের মানুষদের মধ্যে ভূতের ভয় ছড়িয়ে পড়ে। গ্রামের বাসিন্দাদের দাবি, কী কারণে ওই যুবকদের মৃত্যু হয়েছে তা এখনও জানা যায়নি।\\xa0\\n\\nএই বিষয়ে অন্যান্য খবর\\n\\nস্বামীর ঘাড়ে থেকে নেমে ভূত ভর করল স্ত্রীকে! পরিণতি ভয়ঙ্কর জলপাইগুড়িতে\\n\\n\\nগ্রামের বাসিন্দাদের দাবি, এক বিধবার ভূত গ্রামে রাতের বেলায় ঘুরে বেড়ায়। রাতের বেলায় কোনও পুরুষ ঘুমন্ত অবস্থা থাকার সময়ে তার শরীর থেকে আত্মাকে ছিনিয়ে নেয় ওই ভূত, এমনটাই দাবি গ্রামবাসীদের।\\xa0\\nএমনকী, বাড়ির সামনে কাকতাড়ুয়ার পুতুলকে লাল পোশাক পরিয়ে রাখা হয়। সেই কাকতাড়ুয়ার ৮০ সেন্টিমিটার একটি নকল পুরুষাঙ্গ তৈরি করা হয়। গ্রামবাসীদের বিশ্বাস, কাকতাড়ুয়ার এই পুতুল থাকলে বিধবার ভূত সেই বাড়িতে ঢুকবে না। অনেকে আবার দাবি করেছেন, কাকতাড়ুয়া লাগানোর পর থেকে গ্রামে আর কোনও মৃত্যুর খবর পাওয়া যায়নি।\\nআপাতত এই ধারণাকে ঘিরেই ভূতের ভয় থেকে বাঁচতে চাইছেন তাইল্যান্ডের এই গ্রামের বাসিন্দারা।',\n",
       "  'মমি সব সময়ে যে ‘করা’ হয়, এমন নয়। প্রাকৃতিক কারণেও অনেক সময়ে মৃতদেহ অমরত্ব লাভ করে। সেই উদাহরণ খুব বেশি নয়। হওয়া সম্ভবও নয়। কিন্তু মেক্সিকোর গুয়ানাহুয়াতো শহরে এই ‘অসম্ভব’টি রীতিমতো সম্ভব। এই শহরে রক্ষিত ‘স্বাভাবিক’ মমির সংখ্যা ১১১।\\xa0\\nগুয়ানাহুয়াতোর মমি মিউজিয়ামের খ্যাতিই এই ১১১টি মমির কারণে। কী করে এবং কোথায পাওয়া গেল এই ১১১টি মমি?\\nমেক্সিকোর প্রাচীন আজটেক সভ্যতায় মমিকরণের প্রচলন ছিল। তাই নিয়ে গল্প-উপন্যাসও কম লেখা হয়নি। কুন্তু গুয়ানাহুযাতোর এই মিমিগুলি মোটেই আজটেক সভ্যতার সঙ্গে সংশ্লিষ্ট নয়। এবং এই ১১১টি মমিকে কোনও প্রত্নক্ষেত্র থেকে আমদানিও করা হয়নি। এরা সকলেই স্থানীয় মানুষ এবং এরা মমি হয়েছিল ১৮৩০-এর দশকে।\\xa0\\n১৮৩৩ সালে গুয়ানাহুয়োতোয় কলেরা মহামারী আকারে দেখা দেয়। এত বেশি মানুষ এতে মারা যেতে থাকে যে, তাদের কবর দেওয়াই দায় হয়ে দাঁড়ায়। কলেরা প্রতিরোধের কারণেও মৃতদেহ দ্রুত সৎকার করাটা জরুরি ছিল। কিন্তু বাধ সাধতে শুরু করে সেই শহরের বারিয়াল ট্যাক্স। কবর দিতে গেলে কবরখানা কর্তৃপক্ষকে একটা মোটা টাকা দিতে হত মৃতের পরিবারকে। এই টাকা একবারে অথবা বাৎসরিক কিস্তিতে দেওয়া যেত। কিন্তু যারা দিতে অক্ষম, তাদের প্রিয়জনের মৃতদেহ নিয়ে পড়তে হতো বিপুল দুর্বিপাকে। যারা বেশি টাকা দিত পারত, তাদের পরিজনের মৃতদেহ কবরের জায়গা করে দেওয়া হতো যারা টাকা দিতে পারেনি, তাদের পরিজনের কবর সরিয়ে।\\xa0\\nভিডিও দেখুন\\n\\nএই সময়ে লোমিঙ্গো লেরয় নামের এক চিকিৎসক মারা যায়। তাঁর মৃতদেহ কবর থেকে তুলে অন্য মৃতদেহকে জায়গা করে দিতে হয়। কবর থেকে তোলার পরে দেখা যায়, তাঁর মৃতদেহ প্রায় অবিকৃত অবস্থায় রয়েছে। এর পরে ওই কবরখানা থেকে আরও মৃতদেহ তুলে দেখা যেতে থাকে, অনেক মৃতদেহই অবিকৃত অবস্থায় থেকে গিয়েছে। এই মৃতদেহগুলিকে নিয়েই গড়ে ওঠে গুয়ানাহুয়াতোর মমি মিউজিয়ামের সংগ্রহ।\\nকী কারণে এই মৃতদেহগুলিতে পচন ধরেনি, তাই নিয়ে বিশেষজ্ঞরা আজও তেমন কোনও সঠিক সিদ্ধান্তে আসতে পারেননি। রে ব্র্যাডবেরির মতো যুগন্ধর সাহিত্যিক গুয়ানাহুয়াতোর এই মমিদের নিয়ে লিখেছেন ‘দ্য নেক্সট ইন লাইন’-এ মতো বিখ্যাত ছোটগল্প। মমি মিউজিয়ামকে তাঁর সিনেমায় স্থান দিয়েছেন জার্মান পরিচালক ওয়ার্নার হারজগ।',\n",
       "  'গুজরাতে ঘুড়ির উড়ান আর ‘কাই পো চে’র (ভোকাট্টা) টক্কর দারুণ জনপ্রিয়। ইন্দোনেশিয়ার জাকার্তাতেও ঘুড়ির সমাদর জমজমাট। প্রধানমন্ত্রী নরেন্দ্র মোদী তাঁর ইন্দোনেশিয়া সফরের প্রথম দিনই তাই সে দেশের প্রেসিডেন্ট জোকো উইডোডোকে পাশে নিয়ে লাটাই ধরলেন। উদ্বোধন করলেন ঘুড়ি প্রদর্শনী। থিম, ইন্দোনেশিয়ার ঐতিহ্য অনুসারে রামায়ণ ও মহাভারত। রাম-কূটনীতি প্রথম নয় মোদী সরকারের। এই বছরের গোড়াতেই বিষয়টি নিয়ে উদ্যোগী হয় সাউথ ব্লক। নয়াদিল্লিতে আসিয়ান-ভুক্ত দেশগুলিকে নিয়ে বছরের গোড়ায় যে সম্মেলনের আয়োজন করা হয়েছিল, সেখানেও রামায়ণকে সামনে আনা হয়। চলতি সফরেও তার অন্যথা হয়নি। জাকার্তার লেয়াং লেয়াং ঘুড়ি মিউজিয়াম এবং আমদাবাদের ঘুড়ি মিউজিয়ামের মধ্যে সাংস্কৃতিক চুক্তিও হয়েছে। সাউথ ব্লকের মতে, ‘‘আসিয়ান দেশগুলিতে রামায়ণ জনপ্রিয় মহাকাব্য। ফলে দু’দেশের সম্পর্কের সুপ্রাচীন ভিতটি সামনে নিয়ে এলে তা দ্বিপাক্ষিক সম্পর্ককে মজবুত করবে।’’ ইন্দোনেশিয়ার কিছু অংশে জৈন সংস্করণে রাম অহিংসার পূজারি। লক্ষ্মণকেই রাবণ বধ করতে হয়। লক্ষ্মণ-রাবণের স্থান হয় নরকে। রাম জৈন সাধু হয়ে মোক্ষলাভ করেন। ইন্দোনেশীয় গায়কের গলায় ‘সবরমতী কে সন্ত’ গান শুনেও এ দিন মুগ্ধ মোদী।',\n",
       "  'দিল্লিকে প্যাঁচে ফেলতে এ বার সিকিম ও ভুটানে ভারত-বিরোধী আবেগ খুঁচিয়ে তোলার হুমকি দিল চিন। সে দেশের সরকারি সংবাদপত্র ‘গ্লোবাল টাইমস’-এর একটি উত্তর-সম্পাদকীয়তে দিল্লির উদ্দেশে বলা হয়েছে, দলাই লামাকে ব্যবহার করার কৌশল পুরনো হয়ে গিয়েছে। ওই পথে ভারতের কোনও লাভ হবে না। উল্টে দিল্লির পক্ষে সংবেদনশীল বিষয়গুলি নিয়ে পাল্টা তাস খেলতে পারে বেজিং। তার জেরে এমনিতেই অশান্ত ভারতের উত্তর-পূর্বাঞ্চল আরও অশান্ত হয়ে উঠেতে পারে।\\xa0 বদলে যেতে পারে দক্ষিণ হিমালয়ের ভূ-রাজনীতি। সিকিম সীমান্তে টানাপড়েন নিয়ে রোজই দিল্লিকে নানারকম কটাক্ষ ছুড়ে দিচ্ছে ড্রাগন। সেই হুমকির সুরেই ‘গ্লোবাল টাইমস’ আজ প্রথমে সম্পাদকীয়তে বলেছিল, ‘‘ভারত যদি চিনের সঙ্গে এ বার সংঘাতে যেতে চায়, তা হলে ১৯৬২ সালের থেকেও বেশি লোকসান হবে তাদের। ভারত নিজেদের সম্মান বজায় রেখে ডোকলাম এলাকা থেকে তাদের সেনা সরিয়ে নিক। না হলে ভারতীয় সেনাকে আমরা তাড়িয়ে ছাড়ব।’’ ভারতীয় সেনাকে উৎখাত করার প্রয়োজনীয় শক্তি যে পিপলস লিবারেশন আর্মির (পিএলএ) রয়েছে, তা-ও মনে করিয়ে দেওয়া হয়েছিল। সেই হুমকিই পরে কয়েক পর্দা চড়েছে। কাগজটি সরাসরি বলেছে, ‘সিকিমের ভারতে অন্তর্ভুক্তি ২০০৩ সালে মেনে নিয়েছিল বেজিং। কিন্তু তা পুনর্বিবেচনার সময় এসেছে। সিকিমের স্বাধীনতার পক্ষে সমর্থনের সুর এখনও রয়েছে চিনে। সেই সমস্ত কণ্ঠস্বর সিকিমের স্বাধীনতার দাবিকে তুলে ধরবে।’’ একই সঙ্গে বলা হয়েছে,\\xa0 ‘‘ভুটানের কূটনৈতিক সার্বভৌমত্ব ও প্রতিরক্ষাকে নিয়ন্ত্রণ করছে ভারত। ভারতের চাপেই চিন বা রাষ্ট্রপুঞ্জের নিরাপত্তা পরিষদের সদস্য দেশগুলির\\xa0 সঙ্গে কূটনৈতিক সম্পর্ক গড়তে পারছে না ভুটান। চিনের এলাকায় ঢুকে রাস্তা তৈরিতে বাধা দিচ্ছে ভারত। আর মুখে বলছে ভুটানের সার্বভৌমত্বের কথা।\\xa0 ভারতকে এর মাসুল দিতে হবে।’’\\xa0 সিকিম সীমান্তের ডোকা লা-য় চিনা সেনার রাস্তা বানানোর উদ্যোগ নিয়ে ইতিমধ্যেই আপত্তি তুলেছে ভুটান। এর পরেই রাস্তা বানানোর বিষয়ে আপত্তি তোলে নয়াদিল্লিও। ভারতের মতে, ওই এলাকা চিনের নিজের নয়। সেখানে সামরিক উদ্দেশে রাস্তা বানানোর অধিকার নেই তাদের। এই প্রেক্ষাপটেই বেজিং আজ দাবি করেছে, ডোকলাম এলাকা নিয়ে থিম্পুর সঙ্গে তাদের কোনও রকম বিতর্ক নেই। চিনের বিদেশ মন্ত্রকের মুখপাত্র জেং শুয়াং মন্তব্য করেছেন, ‘‘প্রাচীন কাল থেকেই এই এলাকা চিনের। এ নিয়ে কখনও কোনও বিতর্ক ছিল না।’’ চিন ও ভুটান সীমান্ত সংক্রান্ত বিষয় নিয়ে ইতিমধ্যেই ২৪ বার আলোচনাও সেরে ফেলেছে বলে দাবি করেছেন তিনি। চিনের বিদেশ মন্ত্রকের মুখপাত্র বলেন, ‘‘আমরা সীমান্তে শান্তি বজায় রাখতে ভুটানের সঙ্গে বন্ধুত্বপূর্ণ আলোচনা চালাতেই পারি।’’ ভারতের উদ্দেশে তাঁর অভিযোগ, ‘‘দিল্লি পঞ্চশীল নীতিকে অসম্মান করেছে। এখন নিজেদের ভুল শুধরে তাদের উচিত ডোকলাম থেকে সেনা প্রত্যাহার করা।’’',\n",
       "  'রোহিঙ্গাদের জন্য মায়ানমারের রাখাইন প্রদেশের উত্তরে ত্রাণ নিয়ে আসছিল নৌকো। তা আটকে দেওয়ার চেষ্টা করে রোহিঙ্গা বিরোধী জনতা। সেই জনতাকে ছত্রভঙ্গ করতে শূন্যে গুলি চালায় পুলিশ। বুধবার রাতে রেড ক্রসের ত্রাণবাহী নৌকো এ ভাবে আটকে দেওয়ার ঘটনা ঘটেছে মায়ানমারে। ত্রাণ ঘিরে এমন হিংসা সত্ত্বেও রাষ্ট্রপুঞ্জে বৃহস্পতিবার মায়ানমারের দাবি, রাখাইন প্রদেশের অবস্থা ধীরে ধীরে ভাল হচ্ছে। সরকারের পরামর্শদাতা আউং সান সু চি-র জায়গায় রাষ্ট্রপুঞ্জের সাধারণ সভায় দেশের দ্বিতীয় ভাইস প্রেসিডেন্ট হেনরি ভ্যান থিও গিয়েছেন। তিনি সেখানে দাবি করেছেন, ‘‘আপনাদের আনন্দের সঙ্গে জানাচ্ছি, ওখানে পরিস্থিতি স্বাভাবিক হচ্ছে।’’ তাঁর দাবি, ৫ সেপ্টেম্বরের পরে মায়ানমারে আর কোনও সংঘর্ষের ঘটনা ঘটেনি। বস্তুত নেপিদও থেকে দেওয়া টিভি বক্তৃতায় একই দাবি ছিল সু চি-রও। রাখাইন প্রদেশের চিত্রটা অবশ্য তা বলছে না। ২৪ অগস্ট এই প্রদেশের উত্তরেই সেনা ও পুলিশের উপরে জঙ্গি গোষ্ঠী আরাকান রোহিঙ্গা স্যালভেশন আর্মি (আরসা)-র হামলায় জ্বলে ওঠে আগুন। অন্তত ১৫০ জন পুলিশ ও সেনাকে জঙ্গিরা হত্যা করে। তার পর থেকে সেনা অভিযানে অন্তত চার লক্ষেরও বেশি রোহিঙ্গা মুসলিম মায়ানমার ছাড়তে বাধ্য হয়েছেন বলে অভিযোগ। তাঁরা আশ্রয়ের খোঁজে বাংলাদেশ-ভারত দৌড়ে বেড়াচ্ছেন। যাঁরা দেশ ছাড়তে পারেননি, তাঁদের অবস্থাও দুর্বিষহ। তাই রেড ক্রসের তরফে সাহায্য আসছিল রাখাইন প্রদেশে। প্রায় ৫০ টন সামগ্রী ছিল তাতে। অথচ সেই নৌকায় পেট্রোল বোমা ছোড়ে বিক্ষুব্ধ জনতা। কারও হাতে লাঠি, কারও রড। পরে শ’দুয়েক পুলিশ পরিস্থিতি নিয়ন্ত্রণে আনে। অভিযুক্তদের গ্রেফতারও করা হয়। পুলিশ সূত্রে দাবি, ক্ষুব্ধ জনতা ভেবেছিল শুধু রোহিঙ্গাদের জন্য সাহায্য এসেছে। তাতেই খেপে যায় তারা। পরে রেড ক্রস জানায়, যাদের প্রয়োজন, তাদের কাছেই ত্রাণসামগ্রী পৌঁছবে। নিরপেক্ষ ভাবে বিতরণ প্রক্রিয়া চালানো হবে। মায়ানমার সরকার রোহিঙ্গাদের এ দেশের নাগরিক বলে মানতে নারাজ। বৌদ্ধরা রাখাইন প্রদেশে সংখ্যাগুরু। রোহিঙ্গাদের তাঁরা বাংলাদেশ থেকে আসা বেআইনি অভিবাসী ছাড়া আর কিছু ভাবতে রাজি নন। সেই নিয়ে সংঘর্ষ চলছে বহু দিন ধরে। অগস্টে তা চরমে ওঠে। আপাতত রেড ক্রসের ওই নৌকো রাখাইন প্রদেশের রাজধানী সিত্তে-তে রয়েছে। কিন্তু যে ভাবে ত্রাণ নিয়েও হিংসা চলছে, তাতে উদ্বিগ্ন আন্তর্জাতিক দুনিয়া। মায়ানমার সরকারের সমালোচনা করা হলেও তারা অভিযোগে গুরুত্ব দিচ্ছে না। দু’দিন আগে সু চি-র বক্তৃতাতেও সেই ছবি উঠে এসেছে। সেনার অত্যাচারের প্রসঙ্গে কিছুই বলেননি তিনি। থিও অবশ্য পরে রাষ্ট্রপুঞ্জে জানান, রোহিঙ্গাদের দেশ ছাড়ার ঘটনায় মায়ানমার সরকার চিন্তিত। এই হিংসা বন্ধ করতে নিরাপত্তা পরিষদ দ্রুত পদক্ষেপ করুক— চান মার্কিন প্রেসিডেন্ট ডোনাল্ড ট্রাম্প। মার্কিন সহকারী বিদেশসচিব প্যাট্রিক মার্ফি এখন মায়ানমারে। তাঁর সঙ্গে সরকারি অফিসার এবং রাখাইন প্রদেশের বিভিন্ন সম্প্রদায়ের প্রতিনিধির দেখা হওয়ার কথা। যদিও ‘আন্তর্জাতিক পর্যবেক্ষণ’ নিয়ে তাদের ভয় নেই— আগেই জানিয়েছেন সু চি। মায়ানমারের সেনাপ্রধান সিনিয়র জেনারেল মিন আউং লায়িং আরসা জঙ্গিদের হামলা চালানো সেনাঘাঁটি ঘুরে বুধবার বলেন, ‘‘এটা একশো বছর আগে ব্রিটিশ উপনিবেশ ছিল। ওদের অনিয়ন্ত্রিত কাজকর্মের খেসারত আমাদের এখনও দিতে হচ্ছে।’’']}"
      ]
     },
     "execution_count": 57,
     "metadata": {},
     "output_type": "execute_result"
    }
   ],
   "source": [
    "misclassified[:]"
   ]
  },
  {
   "cell_type": "code",
   "execution_count": 47,
   "id": "26a9b187",
   "metadata": {},
   "outputs": [],
   "source": [
    "# model.save_pretrained(\"models/bert-unigram-bengali-classifier\")"
   ]
  },
  {
   "cell_type": "code",
   "execution_count": 233,
   "id": "036d1b16",
   "metadata": {},
   "outputs": [],
   "source": [
    "# trainer.save_model()"
   ]
  },
  {
   "cell_type": "code",
   "execution_count": 255,
   "id": "0dd917c3",
   "metadata": {},
   "outputs": [
    {
     "name": "stderr",
     "output_type": "stream",
     "text": [
      "loading configuration file models/bert-unigram-bengali-classifier\\config.json\n",
      "Model config BertConfig {\n",
      "  \"architectures\": [\n",
      "    \"BertForSequenceClassification\"\n",
      "  ],\n",
      "  \"attention_probs_dropout_prob\": 0.1,\n",
      "  \"classifier_dropout\": null,\n",
      "  \"gradient_checkpointing\": false,\n",
      "  \"hidden_act\": \"gelu\",\n",
      "  \"hidden_dropout_prob\": 0.1,\n",
      "  \"hidden_size\": 768,\n",
      "  \"id2label\": {\n",
      "    \"0\": \"LABEL_0\",\n",
      "    \"1\": \"LABEL_1\",\n",
      "    \"2\": \"LABEL_2\",\n",
      "    \"3\": \"LABEL_3\",\n",
      "    \"4\": \"LABEL_4\",\n",
      "    \"5\": \"LABEL_5\"\n",
      "  },\n",
      "  \"initializer_range\": 0.02,\n",
      "  \"intermediate_size\": 3072,\n",
      "  \"label2id\": {\n",
      "    \"LABEL_0\": 0,\n",
      "    \"LABEL_1\": 1,\n",
      "    \"LABEL_2\": 2,\n",
      "    \"LABEL_3\": 3,\n",
      "    \"LABEL_4\": 4,\n",
      "    \"LABEL_5\": 5\n",
      "  },\n",
      "  \"layer_norm_eps\": 1e-12,\n",
      "  \"max_position_embeddings\": 512,\n",
      "  \"model_type\": \"bert\",\n",
      "  \"num_attention_heads\": 12,\n",
      "  \"num_hidden_layers\": 12,\n",
      "  \"pad_token_id\": 0,\n",
      "  \"position_embedding_type\": \"absolute\",\n",
      "  \"problem_type\": \"single_label_classification\",\n",
      "  \"torch_dtype\": \"float32\",\n",
      "  \"transformers_version\": \"4.16.0.dev0\",\n",
      "  \"type_vocab_size\": 2,\n",
      "  \"use_cache\": true,\n",
      "  \"vocab_size\": 30522\n",
      "}\n",
      "\n",
      "loading weights file models/bert-unigram-bengali-classifier\\pytorch_model.bin\n",
      "Some weights of the model checkpoint at models/bert-unigram-bengali-classifier were not used when initializing BertForSequenceClassification: ['bert.embeddings.word_embeddings.char_conv_4.bias', 'bert.embeddings.word_embeddings.char_conv_0.weight', 'bert.embeddings.word_embeddings._highways._layers.1.bias', 'bert.embeddings.word_embeddings.char_conv_1.weight', 'bert.embeddings.word_embeddings._highways._layers.0.bias', 'bert.embeddings.word_embeddings.char_conv_3.bias', 'bert.embeddings.word_embeddings.char_conv_6.weight', 'bert.embeddings.word_embeddings.char_conv_2.bias', 'bert.embeddings.word_embeddings._projection.weight', 'bert.embeddings.word_embeddings._highways._layers.0.weight', 'bert.embeddings.word_embeddings.char_conv_6.bias', 'bert.embeddings.word_embeddings.char_conv_3.weight', 'bert.embeddings.word_embeddings.char_conv_0.bias', 'bert.embeddings.word_embeddings._char_embedding_weights', 'bert.embeddings.word_embeddings._projection.bias', 'bert.embeddings.word_embeddings.char_conv_1.bias', 'bert.embeddings.word_embeddings.char_conv_5.weight', 'bert.embeddings.word_embeddings.char_conv_2.weight', 'bert.embeddings.word_embeddings.char_conv_4.weight', 'bert.embeddings.word_embeddings._highways._layers.1.weight', 'bert.embeddings.word_embeddings.char_conv_5.bias']\n",
      "- This IS expected if you are initializing BertForSequenceClassification from the checkpoint of a model trained on another task or with another architecture (e.g. initializing a BertForSequenceClassification model from a BertForPreTraining model).\n",
      "- This IS NOT expected if you are initializing BertForSequenceClassification from the checkpoint of a model that you expect to be exactly identical (initializing a BertForSequenceClassification model from a BertForSequenceClassification model).\n",
      "Some weights of BertForSequenceClassification were not initialized from the model checkpoint at models/bert-unigram-bengali-classifier and are newly initialized: ['bert.embeddings.word_embeddings.weight']\n",
      "You should probably TRAIN this model on a down-stream task to be able to use it for predictions and inference.\n"
     ]
    }
   ],
   "source": [
    "#### LOADING BERT FOR CLASSIFICATION ####\n",
    "\n",
    "model = BertForSequenceClassification.from_pretrained(\"models/bert-unigram-bengali-classifier\", num_labels=num_labels)"
   ]
  },
  {
   "cell_type": "code",
   "execution_count": 256,
   "id": "a806f075",
   "metadata": {},
   "outputs": [
    {
     "name": "stderr",
     "output_type": "stream",
     "text": [
      "loading configuration file models/bert-unigram-bengali-classifier\\config.json\n",
      "You are using a model of type bert to instantiate a model of type character_bert. This is not supported for all configurations of models and can yield errors.\n",
      "Model config CharacterBertConfig {\n",
      "  \"architectures\": [\n",
      "    \"BertForSequenceClassification\"\n",
      "  ],\n",
      "  \"attention_probs_dropout_prob\": 0.1,\n",
      "  \"character_embeddings_dim\": 16,\n",
      "  \"classifier_dropout\": null,\n",
      "  \"cnn_activation\": \"relu\",\n",
      "  \"cnn_filters\": [\n",
      "    [\n",
      "      1,\n",
      "      32\n",
      "    ],\n",
      "    [\n",
      "      2,\n",
      "      32\n",
      "    ],\n",
      "    [\n",
      "      3,\n",
      "      64\n",
      "    ],\n",
      "    [\n",
      "      4,\n",
      "      128\n",
      "    ],\n",
      "    [\n",
      "      5,\n",
      "      256\n",
      "    ],\n",
      "    [\n",
      "      6,\n",
      "      512\n",
      "    ],\n",
      "    [\n",
      "      7,\n",
      "      1024\n",
      "    ]\n",
      "  ],\n",
      "  \"gradient_checkpointing\": false,\n",
      "  \"hidden_act\": \"gelu\",\n",
      "  \"hidden_dropout_prob\": 0.1,\n",
      "  \"hidden_size\": 768,\n",
      "  \"id2label\": {\n",
      "    \"0\": \"LABEL_0\",\n",
      "    \"1\": \"LABEL_1\",\n",
      "    \"2\": \"LABEL_2\",\n",
      "    \"3\": \"LABEL_3\",\n",
      "    \"4\": \"LABEL_4\",\n",
      "    \"5\": \"LABEL_5\"\n",
      "  },\n",
      "  \"initializer_range\": 0.02,\n",
      "  \"intermediate_size\": 3072,\n",
      "  \"label2id\": {\n",
      "    \"LABEL_0\": 0,\n",
      "    \"LABEL_1\": 1,\n",
      "    \"LABEL_2\": 2,\n",
      "    \"LABEL_3\": 3,\n",
      "    \"LABEL_4\": 4,\n",
      "    \"LABEL_5\": 5\n",
      "  },\n",
      "  \"layer_norm_eps\": 1e-12,\n",
      "  \"max_position_embeddings\": 512,\n",
      "  \"max_word_length\": 50,\n",
      "  \"mlm_vocab_size\": 100000,\n",
      "  \"model_type\": \"character_bert\",\n",
      "  \"num_attention_heads\": 12,\n",
      "  \"num_hidden_layers\": 12,\n",
      "  \"num_highway_layers\": 2,\n",
      "  \"pad_token_id\": 0,\n",
      "  \"position_embedding_type\": \"absolute\",\n",
      "  \"problem_type\": \"single_label_classification\",\n",
      "  \"tie_word_embeddings\": false,\n",
      "  \"torch_dtype\": \"float32\",\n",
      "  \"transformers_version\": \"4.16.0.dev0\",\n",
      "  \"type_vocab_size\": 2,\n",
      "  \"use_cache\": true,\n",
      "  \"vocab_size\": 30522\n",
      "}\n",
      "\n",
      "loading weights file models/bert-unigram-bengali-classifier\\pytorch_model.bin\n",
      "Some weights of the model checkpoint at models/bert-unigram-bengali-classifier were not used when initializing CharacterBertModel: ['bert.encoder.layer.1.attention.self.query.weight', 'bert.encoder.layer.6.output.dense.weight', 'bert.encoder.layer.11.output.LayerNorm.bias', 'bert.encoder.layer.11.intermediate.dense.weight', 'bert.encoder.layer.7.intermediate.dense.weight', 'bert.encoder.layer.8.output.LayerNorm.bias', 'bert.encoder.layer.10.attention.self.value.weight', 'bert.encoder.layer.6.attention.self.key.bias', 'bert.encoder.layer.8.attention.self.key.weight', 'bert.encoder.layer.5.attention.self.value.bias', 'bert.encoder.layer.3.attention.self.value.bias', 'bert.embeddings.word_embeddings._highways._layers.0.bias', 'bert.encoder.layer.0.attention.output.LayerNorm.bias', 'bert.encoder.layer.3.attention.output.LayerNorm.bias', 'bert.encoder.layer.4.attention.output.dense.bias', 'bert.encoder.layer.6.output.LayerNorm.bias', 'bert.encoder.layer.4.attention.self.key.weight', 'bert.encoder.layer.10.output.dense.bias', 'bert.encoder.layer.5.output.LayerNorm.weight', 'bert.embeddings.position_ids', 'bert.encoder.layer.11.attention.output.LayerNorm.weight', 'bert.embeddings.word_embeddings.char_conv_6.bias', 'bert.encoder.layer.8.attention.self.key.bias', 'bert.encoder.layer.9.attention.output.LayerNorm.bias', 'bert.encoder.layer.10.output.LayerNorm.weight', 'bert.encoder.layer.7.attention.output.dense.weight', 'bert.encoder.layer.2.output.LayerNorm.weight', 'bert.encoder.layer.4.attention.self.key.bias', 'bert.encoder.layer.7.attention.self.query.bias', 'bert.encoder.layer.11.attention.output.dense.bias', 'bert.encoder.layer.2.output.dense.weight', 'bert.encoder.layer.2.attention.self.query.weight', 'bert.encoder.layer.9.attention.output.dense.weight', 'bert.encoder.layer.10.intermediate.dense.bias', 'bert.encoder.layer.3.output.LayerNorm.bias', 'bert.encoder.layer.2.attention.output.LayerNorm.weight', 'bert.encoder.layer.3.intermediate.dense.weight', 'bert.encoder.layer.4.attention.self.query.bias', 'bert.encoder.layer.7.output.LayerNorm.weight', 'bert.encoder.layer.10.attention.self.query.weight', 'bert.encoder.layer.6.attention.output.LayerNorm.weight', 'bert.encoder.layer.2.attention.self.value.bias', 'bert.encoder.layer.8.output.dense.bias', 'bert.encoder.layer.4.attention.self.query.weight', 'bert.encoder.layer.9.attention.output.LayerNorm.weight', 'bert.pooler.dense.weight', 'bert.encoder.layer.4.attention.self.value.weight', 'bert.encoder.layer.3.attention.self.query.bias', 'bert.encoder.layer.11.attention.output.LayerNorm.bias', 'bert.encoder.layer.8.attention.self.query.bias', 'bert.encoder.layer.5.attention.self.key.bias', 'bert.encoder.layer.5.attention.self.query.weight', 'bert.embeddings.word_embeddings._highways._layers.1.weight', 'bert.embeddings.word_embeddings.char_conv_0.weight', 'bert.encoder.layer.3.output.dense.bias', 'bert.encoder.layer.3.attention.self.key.weight', 'bert.encoder.layer.0.attention.self.value.weight', 'bert.encoder.layer.11.output.dense.weight', 'bert.encoder.layer.9.intermediate.dense.bias', 'bert.encoder.layer.0.attention.self.query.bias', 'bert.encoder.layer.11.attention.output.dense.weight', 'bert.encoder.layer.10.attention.output.dense.weight', 'bert.encoder.layer.4.attention.output.dense.weight', 'bert.encoder.layer.5.attention.self.key.weight', 'bert.encoder.layer.2.attention.output.dense.bias', 'bert.encoder.layer.7.attention.output.LayerNorm.weight', 'bert.encoder.layer.6.attention.self.value.weight', 'bert.encoder.layer.2.intermediate.dense.weight', 'bert.encoder.layer.5.output.LayerNorm.bias', 'bert.embeddings.word_embeddings._highways._layers.0.weight', 'bert.encoder.layer.9.attention.self.value.weight', 'bert.encoder.layer.8.attention.self.value.weight', 'bert.encoder.layer.9.attention.self.key.weight', 'bert.encoder.layer.5.intermediate.dense.weight', 'bert.encoder.layer.1.attention.self.value.bias', 'bert.encoder.layer.2.attention.self.query.bias', 'bert.embeddings.LayerNorm.bias', 'bert.encoder.layer.0.output.LayerNorm.weight', 'bert.encoder.layer.2.output.LayerNorm.bias', 'bert.encoder.layer.7.attention.self.key.weight', 'bert.encoder.layer.2.attention.self.key.bias', 'bert.encoder.layer.9.output.dense.bias', 'bert.encoder.layer.10.attention.output.LayerNorm.weight', 'bert.encoder.layer.11.attention.self.query.weight', 'bert.encoder.layer.6.attention.output.dense.bias', 'bert.encoder.layer.1.attention.self.key.bias', 'bert.embeddings.word_embeddings.char_conv_1.bias', 'bert.embeddings.word_embeddings.char_conv_2.weight', 'bert.encoder.layer.5.attention.output.LayerNorm.weight', 'bert.encoder.layer.1.attention.output.dense.weight', 'bert.encoder.layer.0.attention.output.dense.bias', 'bert.embeddings.position_embeddings.weight', 'bert.encoder.layer.10.attention.self.query.bias', 'bert.encoder.layer.7.output.dense.weight', 'bert.encoder.layer.11.attention.self.key.weight', 'bert.encoder.layer.4.output.dense.weight', 'bert.encoder.layer.7.attention.self.value.weight', 'bert.encoder.layer.3.attention.output.dense.bias', 'bert.encoder.layer.11.output.dense.bias', 'bert.encoder.layer.0.output.dense.bias', 'bert.encoder.layer.3.attention.output.dense.weight', 'bert.encoder.layer.4.output.dense.bias', 'bert.encoder.layer.11.intermediate.dense.bias', 'bert.embeddings.word_embeddings.char_conv_4.bias', 'bert.encoder.layer.0.intermediate.dense.weight', 'bert.encoder.layer.0.attention.self.key.weight', 'bert.encoder.layer.5.output.dense.bias', 'bert.encoder.layer.6.attention.self.query.weight', 'bert.embeddings.word_embeddings._highways._layers.1.bias', 'bert.encoder.layer.9.intermediate.dense.weight', 'bert.encoder.layer.11.attention.self.value.weight', 'bert.embeddings.word_embeddings.char_conv_1.weight', 'bert.encoder.layer.1.intermediate.dense.weight', 'bert.encoder.layer.1.attention.output.LayerNorm.bias', 'bert.encoder.layer.1.attention.self.query.bias', 'bert.encoder.layer.4.attention.output.LayerNorm.bias', 'bert.encoder.layer.0.attention.output.dense.weight', 'bert.encoder.layer.8.output.dense.weight', 'bert.encoder.layer.4.attention.output.LayerNorm.weight', 'bert.encoder.layer.7.attention.output.dense.bias', 'bert.encoder.layer.6.attention.self.value.bias', 'bert.embeddings.word_embeddings.char_conv_3.bias', 'bert.encoder.layer.1.attention.self.key.weight', 'bert.embeddings.word_embeddings.char_conv_6.weight', 'bert.encoder.layer.5.attention.output.LayerNorm.bias', 'bert.encoder.layer.5.intermediate.dense.bias', 'bert.encoder.layer.7.intermediate.dense.bias', 'bert.encoder.layer.6.intermediate.dense.bias', 'bert.encoder.layer.9.output.LayerNorm.bias', 'bert.encoder.layer.3.output.dense.weight', 'bert.encoder.layer.10.attention.self.key.bias', 'bert.encoder.layer.10.output.LayerNorm.bias', 'bert.encoder.layer.6.attention.self.key.weight', 'bert.encoder.layer.9.attention.self.query.bias', 'classifier.bias', 'bert.embeddings.word_embeddings.char_conv_3.weight', 'bert.embeddings.token_type_embeddings.weight', 'bert.encoder.layer.2.intermediate.dense.bias', 'bert.encoder.layer.8.attention.self.query.weight', 'bert.encoder.layer.2.attention.self.value.weight', 'bert.embeddings.word_embeddings.char_conv_0.bias', 'bert.embeddings.word_embeddings._char_embedding_weights', 'bert.encoder.layer.4.output.LayerNorm.bias', 'bert.embeddings.word_embeddings._projection.bias', 'bert.encoder.layer.0.intermediate.dense.bias', 'bert.encoder.layer.10.output.dense.weight', 'bert.encoder.layer.7.attention.self.query.weight', 'bert.encoder.layer.8.attention.self.value.bias', 'bert.encoder.layer.1.attention.self.value.weight', 'bert.encoder.layer.5.attention.self.value.weight', 'bert.encoder.layer.8.attention.output.LayerNorm.bias', 'bert.encoder.layer.3.attention.self.query.weight', 'bert.encoder.layer.2.attention.output.LayerNorm.bias', 'bert.encoder.layer.11.attention.self.key.bias', 'bert.encoder.layer.11.attention.self.query.bias', 'bert.encoder.layer.6.attention.output.dense.weight', 'bert.encoder.layer.4.attention.self.value.bias', 'bert.encoder.layer.5.attention.output.dense.weight', 'bert.encoder.layer.11.output.LayerNorm.weight', 'bert.encoder.layer.5.output.dense.weight', 'bert.embeddings.word_embeddings.char_conv_4.weight', 'bert.embeddings.LayerNorm.weight', 'bert.encoder.layer.3.attention.self.key.bias', 'bert.encoder.layer.8.attention.output.dense.weight', 'bert.pooler.dense.bias', 'bert.encoder.layer.10.intermediate.dense.weight', 'bert.encoder.layer.6.attention.output.LayerNorm.bias', 'bert.encoder.layer.0.output.LayerNorm.bias', 'bert.encoder.layer.6.intermediate.dense.weight', 'bert.encoder.layer.11.attention.self.value.bias', 'bert.encoder.layer.4.output.LayerNorm.weight', 'bert.encoder.layer.7.attention.self.key.bias', 'bert.encoder.layer.2.output.dense.bias', 'bert.encoder.layer.7.output.LayerNorm.bias', 'bert.encoder.layer.3.intermediate.dense.bias', 'bert.encoder.layer.3.output.LayerNorm.weight', 'bert.encoder.layer.5.attention.output.dense.bias', 'bert.encoder.layer.7.attention.self.value.bias', 'bert.encoder.layer.4.intermediate.dense.bias', 'bert.encoder.layer.8.attention.output.dense.bias', 'bert.encoder.layer.10.attention.output.LayerNorm.bias', 'bert.encoder.layer.1.output.LayerNorm.weight', 'classifier.weight', 'bert.encoder.layer.0.attention.output.LayerNorm.weight', 'bert.encoder.layer.9.output.LayerNorm.weight', 'bert.encoder.layer.5.attention.self.query.bias', 'bert.encoder.layer.3.attention.self.value.weight', 'bert.encoder.layer.0.output.dense.weight', 'bert.encoder.layer.1.attention.output.LayerNorm.weight', 'bert.encoder.layer.6.output.dense.bias', 'bert.embeddings.word_embeddings.char_conv_2.bias', 'bert.embeddings.word_embeddings._projection.weight', 'bert.encoder.layer.1.attention.output.dense.bias', 'bert.encoder.layer.0.attention.self.key.bias', 'bert.encoder.layer.9.attention.output.dense.bias', 'bert.encoder.layer.10.attention.output.dense.bias', 'bert.encoder.layer.2.attention.output.dense.weight', 'bert.encoder.layer.1.output.LayerNorm.bias', 'bert.encoder.layer.1.intermediate.dense.bias', 'bert.encoder.layer.4.intermediate.dense.weight', 'bert.encoder.layer.8.output.LayerNorm.weight', 'bert.encoder.layer.8.intermediate.dense.bias', 'bert.encoder.layer.7.output.dense.bias', 'bert.encoder.layer.1.output.dense.bias', 'bert.encoder.layer.8.attention.output.LayerNorm.weight', 'bert.encoder.layer.9.output.dense.weight', 'bert.encoder.layer.7.attention.output.LayerNorm.bias', 'bert.encoder.layer.10.attention.self.value.bias', 'bert.encoder.layer.0.attention.self.query.weight', 'bert.encoder.layer.3.attention.output.LayerNorm.weight', 'bert.encoder.layer.8.intermediate.dense.weight', 'bert.encoder.layer.9.attention.self.value.bias', 'bert.encoder.layer.6.attention.self.query.bias', 'bert.encoder.layer.2.attention.self.key.weight', 'bert.encoder.layer.1.output.dense.weight', 'bert.embeddings.word_embeddings.char_conv_5.weight', 'bert.encoder.layer.0.attention.self.value.bias', 'bert.encoder.layer.10.attention.self.key.weight', 'bert.encoder.layer.6.output.LayerNorm.weight', 'bert.encoder.layer.9.attention.self.key.bias', 'bert.encoder.layer.9.attention.self.query.weight', 'bert.embeddings.word_embeddings.char_conv_5.bias']\n",
      "- This IS expected if you are initializing CharacterBertModel from the checkpoint of a model trained on another task or with another architecture (e.g. initializing a BertForSequenceClassification model from a BertForPreTraining model).\n",
      "- This IS NOT expected if you are initializing CharacterBertModel from the checkpoint of a model that you expect to be exactly identical (initializing a BertForSequenceClassification model from a BertForSequenceClassification model).\n"
     ]
    },
    {
     "name": "stderr",
     "output_type": "stream",
     "text": [
      "Some weights of CharacterBertModel were not initialized from the model checkpoint at models/bert-unigram-bengali-classifier and are newly initialized: ['encoder.layer.4.attention.self.key.bias', 'encoder.layer.1.attention.output.LayerNorm.weight', 'embeddings.LayerNorm.bias', 'encoder.layer.9.intermediate.dense.bias', 'encoder.layer.6.attention.self.query.weight', 'encoder.layer.0.output.LayerNorm.bias', 'encoder.layer.4.attention.output.LayerNorm.weight', 'encoder.layer.8.output.dense.weight', 'embeddings.word_embeddings.char_conv_6.bias', 'encoder.layer.9.output.LayerNorm.bias', 'embeddings.word_embeddings.char_conv_1.bias', 'encoder.layer.10.output.LayerNorm.weight', 'encoder.layer.9.attention.output.dense.bias', 'encoder.layer.2.attention.output.dense.weight', 'encoder.layer.1.attention.output.dense.weight', 'encoder.layer.2.intermediate.dense.bias', 'encoder.layer.4.attention.self.key.weight', 'encoder.layer.5.attention.output.LayerNorm.weight', 'encoder.layer.10.attention.self.query.bias', 'encoder.layer.5.output.dense.bias', 'encoder.layer.9.output.dense.bias', 'encoder.layer.5.output.LayerNorm.bias', 'encoder.layer.9.intermediate.dense.weight', 'encoder.layer.10.attention.self.query.weight', 'encoder.layer.9.attention.self.key.weight', 'encoder.layer.11.attention.self.value.weight', 'encoder.layer.0.intermediate.dense.weight', 'encoder.layer.4.attention.self.value.bias', 'encoder.layer.6.attention.self.key.bias', 'encoder.layer.6.attention.output.dense.weight', 'encoder.layer.10.attention.self.value.weight', 'encoder.layer.3.attention.output.LayerNorm.bias', 'encoder.layer.1.output.dense.bias', 'encoder.layer.11.attention.self.key.bias', 'encoder.layer.2.attention.self.value.bias', 'encoder.layer.11.intermediate.dense.bias', 'embeddings.word_embeddings._char_embedding_weights', 'encoder.layer.9.attention.self.value.bias', 'encoder.layer.5.attention.output.LayerNorm.bias', 'encoder.layer.7.attention.self.key.weight', 'embeddings.word_embeddings.char_conv_5.weight', 'encoder.layer.2.attention.output.LayerNorm.weight', 'encoder.layer.3.output.dense.bias', 'encoder.layer.3.output.LayerNorm.weight', 'encoder.layer.8.attention.output.dense.bias', 'encoder.layer.11.attention.output.LayerNorm.weight', 'encoder.layer.5.attention.self.query.bias', 'encoder.layer.10.output.dense.bias', 'encoder.layer.4.output.dense.bias', 'encoder.layer.0.attention.self.value.weight', 'encoder.layer.10.attention.output.LayerNorm.weight', 'encoder.layer.3.attention.self.query.bias', 'encoder.layer.1.output.LayerNorm.weight', 'encoder.layer.7.output.LayerNorm.weight', 'encoder.layer.7.attention.output.LayerNorm.weight', 'encoder.layer.8.intermediate.dense.weight', 'encoder.layer.2.attention.output.LayerNorm.bias', 'encoder.layer.10.attention.self.key.bias', 'encoder.layer.10.attention.output.dense.weight', 'encoder.layer.9.attention.self.key.bias', 'encoder.layer.1.output.dense.weight', 'embeddings.word_embeddings._highways._layers.1.bias', 'encoder.layer.4.attention.output.LayerNorm.bias', 'embeddings.word_embeddings.char_conv_3.weight', 'encoder.layer.5.attention.self.key.weight', 'encoder.layer.3.attention.self.query.weight', 'encoder.layer.2.output.dense.bias', 'encoder.layer.6.attention.self.query.bias', 'encoder.layer.4.attention.output.dense.bias', 'encoder.layer.4.attention.output.dense.weight', 'encoder.layer.10.output.dense.weight', 'encoder.layer.10.intermediate.dense.bias', 'encoder.layer.1.attention.self.key.weight', 'encoder.layer.6.attention.self.value.bias', 'encoder.layer.10.attention.self.key.weight', 'encoder.layer.7.attention.self.value.bias', 'encoder.layer.8.output.LayerNorm.weight', 'encoder.layer.5.output.LayerNorm.weight', 'embeddings.word_embeddings.char_conv_2.bias', 'encoder.layer.8.attention.self.value.weight', 'encoder.layer.0.attention.output.LayerNorm.weight', 'encoder.layer.1.attention.output.LayerNorm.bias', 'encoder.layer.9.attention.output.dense.weight', 'encoder.layer.2.attention.self.value.weight', 'encoder.layer.10.attention.self.value.bias', 'encoder.layer.4.output.LayerNorm.bias', 'embeddings.token_type_embeddings.weight', 'encoder.layer.5.attention.output.dense.bias', 'embeddings.word_embeddings.char_conv_3.bias', 'encoder.layer.5.attention.self.query.weight', 'encoder.layer.10.intermediate.dense.weight', 'encoder.layer.4.output.dense.weight', 'encoder.layer.0.attention.output.LayerNorm.bias', 'encoder.layer.1.attention.self.value.bias', 'encoder.layer.6.attention.output.LayerNorm.bias', 'encoder.layer.0.intermediate.dense.bias', 'encoder.layer.3.attention.output.dense.bias', 'encoder.layer.8.intermediate.dense.bias', 'encoder.layer.11.attention.self.value.bias', 'encoder.layer.8.attention.self.query.bias', 'encoder.layer.11.attention.output.dense.bias', 'encoder.layer.1.attention.self.value.weight', 'encoder.layer.11.attention.self.query.weight', 'encoder.layer.2.intermediate.dense.weight', 'encoder.layer.6.output.LayerNorm.weight', 'encoder.layer.7.output.dense.bias', 'encoder.layer.11.output.LayerNorm.weight', 'embeddings.position_embeddings.weight', 'encoder.layer.0.output.dense.weight', 'encoder.layer.3.attention.output.dense.weight', 'encoder.layer.10.output.LayerNorm.bias', 'encoder.layer.7.attention.output.LayerNorm.bias', 'embeddings.word_embeddings._highways._layers.0.bias', 'encoder.layer.6.attention.output.dense.bias', 'encoder.layer.11.output.LayerNorm.bias', 'encoder.layer.0.attention.output.dense.weight', 'embeddings.LayerNorm.weight', 'pooler.dense.bias', 'encoder.layer.3.output.dense.weight', 'encoder.layer.8.output.dense.bias', 'encoder.layer.10.attention.output.LayerNorm.bias', 'embeddings.word_embeddings.char_conv_4.bias', 'embeddings.word_embeddings._projection.weight', 'encoder.layer.2.attention.self.key.bias', 'encoder.layer.6.attention.output.LayerNorm.weight', 'embeddings.word_embeddings.char_conv_5.bias', 'encoder.layer.11.intermediate.dense.weight', 'embeddings.word_embeddings.char_conv_6.weight', 'encoder.layer.6.attention.self.key.weight', 'encoder.layer.3.attention.output.LayerNorm.weight', 'embeddings.word_embeddings._projection.bias', 'encoder.layer.1.intermediate.dense.bias', 'encoder.layer.1.output.LayerNorm.bias', 'encoder.layer.2.output.LayerNorm.weight', 'encoder.layer.6.attention.self.value.weight', 'encoder.layer.9.output.LayerNorm.weight', 'encoder.layer.7.attention.self.key.bias', 'encoder.layer.11.attention.output.dense.weight', 'encoder.layer.1.attention.self.query.weight', 'encoder.layer.11.attention.output.LayerNorm.bias', 'encoder.layer.9.attention.output.LayerNorm.bias', 'embeddings.word_embeddings.char_conv_2.weight', 'encoder.layer.10.attention.output.dense.bias', 'encoder.layer.8.attention.output.dense.weight', 'encoder.layer.7.output.dense.weight', 'encoder.layer.6.output.LayerNorm.bias', 'encoder.layer.6.output.dense.bias', 'encoder.layer.7.attention.self.query.weight', 'encoder.layer.3.attention.self.value.weight', 'encoder.layer.5.intermediate.dense.weight', 'encoder.layer.2.output.dense.weight', 'encoder.layer.8.attention.output.LayerNorm.weight', 'encoder.layer.4.output.LayerNorm.weight', 'encoder.layer.5.output.dense.weight', 'encoder.layer.8.attention.self.key.bias', 'embeddings.word_embeddings.char_conv_1.weight', 'encoder.layer.4.attention.self.value.weight', 'encoder.layer.11.output.dense.bias', 'encoder.layer.1.intermediate.dense.weight', 'encoder.layer.4.intermediate.dense.weight', 'embeddings.word_embeddings.char_conv_0.bias', 'encoder.layer.3.output.LayerNorm.bias', 'encoder.layer.0.output.dense.bias', 'encoder.layer.3.attention.self.key.weight', 'embeddings.word_embeddings.char_conv_4.weight', 'encoder.layer.0.attention.self.key.bias', 'encoder.layer.4.attention.self.query.bias', 'encoder.layer.4.intermediate.dense.bias', 'encoder.layer.7.intermediate.dense.weight', 'encoder.layer.3.attention.self.value.bias', 'encoder.layer.2.attention.self.query.bias', 'encoder.layer.2.attention.output.dense.bias', 'encoder.layer.1.attention.self.key.bias', 'encoder.layer.9.attention.output.LayerNorm.weight', 'encoder.layer.0.attention.self.value.bias', 'encoder.layer.9.attention.self.query.weight', 'encoder.layer.8.attention.self.key.weight', 'encoder.layer.5.attention.self.key.bias', 'encoder.layer.8.attention.self.query.weight', 'encoder.layer.4.attention.self.query.weight', 'embeddings.word_embeddings._highways._layers.0.weight', 'encoder.layer.11.attention.self.query.bias', 'encoder.layer.3.attention.self.key.bias', 'encoder.layer.6.output.dense.weight', 'encoder.layer.5.intermediate.dense.bias', 'encoder.layer.0.attention.self.query.bias', 'encoder.layer.0.attention.output.dense.bias', 'encoder.layer.1.attention.self.query.bias', 'encoder.layer.2.attention.self.query.weight', 'encoder.layer.2.output.LayerNorm.bias', 'encoder.layer.3.intermediate.dense.weight', 'encoder.layer.5.attention.self.value.weight', 'encoder.layer.7.attention.self.query.bias', 'encoder.layer.7.attention.self.value.weight', 'encoder.layer.8.output.LayerNorm.bias', 'encoder.layer.9.attention.self.query.bias', 'encoder.layer.2.attention.self.key.weight', 'encoder.layer.0.attention.self.key.weight', 'encoder.layer.9.attention.self.value.weight', 'encoder.layer.6.intermediate.dense.bias', 'encoder.layer.7.attention.output.dense.bias', 'encoder.layer.5.attention.output.dense.weight', 'encoder.layer.11.output.dense.weight', 'encoder.layer.11.attention.self.key.weight', 'encoder.layer.1.attention.output.dense.bias', 'encoder.layer.0.attention.self.query.weight', 'encoder.layer.3.intermediate.dense.bias', 'encoder.layer.7.attention.output.dense.weight', 'encoder.layer.8.attention.output.LayerNorm.bias', 'pooler.dense.weight', 'encoder.layer.8.attention.self.value.bias', 'embeddings.word_embeddings.char_conv_0.weight', 'encoder.layer.9.output.dense.weight', 'encoder.layer.5.attention.self.value.bias', 'embeddings.word_embeddings._highways._layers.1.weight', 'encoder.layer.7.intermediate.dense.bias', 'encoder.layer.6.intermediate.dense.weight', 'encoder.layer.0.output.LayerNorm.weight', 'encoder.layer.7.output.LayerNorm.bias']\n",
      "You should probably TRAIN this model on a down-stream task to be able to use it for predictions and inference.\n"
     ]
    }
   ],
   "source": [
    "#### REPLACING BERT WITH CHARACTER_BERT ####\n",
    "\n",
    "character_bert_model = CharacterBertModel.from_pretrained(\"models/bert-unigram-bengali-classifier\")\n",
    "model.bert = character_bert_model"
   ]
  },
  {
   "cell_type": "code",
   "execution_count": 257,
   "id": "2bb49f41",
   "metadata": {},
   "outputs": [
    {
     "data": {
      "text/plain": [
       "CharacterCnn(\n",
       "  (char_conv_0): Conv1d(16, 32, kernel_size=(1,), stride=(1,))\n",
       "  (char_conv_1): Conv1d(16, 32, kernel_size=(2,), stride=(1,))\n",
       "  (char_conv_2): Conv1d(16, 64, kernel_size=(3,), stride=(1,))\n",
       "  (char_conv_3): Conv1d(16, 128, kernel_size=(4,), stride=(1,))\n",
       "  (char_conv_4): Conv1d(16, 256, kernel_size=(5,), stride=(1,))\n",
       "  (char_conv_5): Conv1d(16, 512, kernel_size=(6,), stride=(1,))\n",
       "  (char_conv_6): Conv1d(16, 1024, kernel_size=(7,), stride=(1,))\n",
       "  (_highways): Highway(\n",
       "    (_layers): ModuleList(\n",
       "      (0-1): 2 x Linear(in_features=2048, out_features=4096, bias=True)\n",
       "    )\n",
       "  )\n",
       "  (_projection): Linear(in_features=2048, out_features=768, bias=True)\n",
       ")"
      ]
     },
     "execution_count": 257,
     "metadata": {},
     "output_type": "execute_result"
    }
   ],
   "source": [
    "model.bert.embeddings.word_embeddings"
   ]
  },
  {
   "cell_type": "code",
   "execution_count": 258,
   "id": "d323c574",
   "metadata": {},
   "outputs": [
    {
     "data": {
      "text/plain": [
       "BertForSequenceClassification(\n",
       "  (bert): CharacterBertModel(\n",
       "    (embeddings): CharacterBertEmbeddings(\n",
       "      (word_embeddings): CharacterCnn(\n",
       "        (char_conv_0): Conv1d(16, 32, kernel_size=(1,), stride=(1,))\n",
       "        (char_conv_1): Conv1d(16, 32, kernel_size=(2,), stride=(1,))\n",
       "        (char_conv_2): Conv1d(16, 64, kernel_size=(3,), stride=(1,))\n",
       "        (char_conv_3): Conv1d(16, 128, kernel_size=(4,), stride=(1,))\n",
       "        (char_conv_4): Conv1d(16, 256, kernel_size=(5,), stride=(1,))\n",
       "        (char_conv_5): Conv1d(16, 512, kernel_size=(6,), stride=(1,))\n",
       "        (char_conv_6): Conv1d(16, 1024, kernel_size=(7,), stride=(1,))\n",
       "        (_highways): Highway(\n",
       "          (_layers): ModuleList(\n",
       "            (0-1): 2 x Linear(in_features=2048, out_features=4096, bias=True)\n",
       "          )\n",
       "        )\n",
       "        (_projection): Linear(in_features=2048, out_features=768, bias=True)\n",
       "      )\n",
       "      (position_embeddings): Embedding(512, 768)\n",
       "      (token_type_embeddings): Embedding(2, 768)\n",
       "      (LayerNorm): LayerNorm((768,), eps=1e-12, elementwise_affine=True)\n",
       "      (dropout): Dropout(p=0.1, inplace=False)\n",
       "    )\n",
       "    (encoder): CharacterBertEncoder(\n",
       "      (layer): ModuleList(\n",
       "        (0-11): 12 x CharacterBertLayer(\n",
       "          (attention): CharacterBertAttention(\n",
       "            (self): CharacterBertSelfAttention(\n",
       "              (query): Linear(in_features=768, out_features=768, bias=True)\n",
       "              (key): Linear(in_features=768, out_features=768, bias=True)\n",
       "              (value): Linear(in_features=768, out_features=768, bias=True)\n",
       "              (dropout): Dropout(p=0.1, inplace=False)\n",
       "            )\n",
       "            (output): CharacterBertSelfOutput(\n",
       "              (dense): Linear(in_features=768, out_features=768, bias=True)\n",
       "              (LayerNorm): LayerNorm((768,), eps=1e-12, elementwise_affine=True)\n",
       "              (dropout): Dropout(p=0.1, inplace=False)\n",
       "            )\n",
       "          )\n",
       "          (intermediate): CharacterBertIntermediate(\n",
       "            (dense): Linear(in_features=768, out_features=3072, bias=True)\n",
       "          )\n",
       "          (output): CharacterBertOutput(\n",
       "            (dense): Linear(in_features=3072, out_features=768, bias=True)\n",
       "            (LayerNorm): LayerNorm((768,), eps=1e-12, elementwise_affine=True)\n",
       "            (dropout): Dropout(p=0.1, inplace=False)\n",
       "          )\n",
       "        )\n",
       "      )\n",
       "    )\n",
       "    (pooler): CharacterBertPooler(\n",
       "      (dense): Linear(in_features=768, out_features=768, bias=True)\n",
       "      (activation): Tanh()\n",
       "    )\n",
       "  )\n",
       "  (dropout): Dropout(p=0.1, inplace=False)\n",
       "  (classifier): Linear(in_features=768, out_features=6, bias=True)\n",
       ")"
      ]
     },
     "execution_count": 258,
     "metadata": {},
     "output_type": "execute_result"
    }
   ],
   "source": [
    "# model = AutoModelForSequenceClassification.from_pretrained(\"models/bert-unigram-bengali-classifier\")\n",
    "model.to(\"cuda\")"
   ]
  },
  {
   "cell_type": "code",
   "execution_count": null,
   "id": "d7045df9",
   "metadata": {},
   "outputs": [],
   "source": []
  }
 ],
 "metadata": {
  "kernelspec": {
   "display_name": "Python 3 (ipykernel)",
   "language": "python",
   "name": "python3"
  },
  "language_info": {
   "codemirror_mode": {
    "name": "ipython",
    "version": 3
   },
   "file_extension": ".py",
   "mimetype": "text/x-python",
   "name": "python",
   "nbconvert_exporter": "python",
   "pygments_lexer": "ipython3",
   "version": "3.8.16"
  }
 },
 "nbformat": 4,
 "nbformat_minor": 5
}
