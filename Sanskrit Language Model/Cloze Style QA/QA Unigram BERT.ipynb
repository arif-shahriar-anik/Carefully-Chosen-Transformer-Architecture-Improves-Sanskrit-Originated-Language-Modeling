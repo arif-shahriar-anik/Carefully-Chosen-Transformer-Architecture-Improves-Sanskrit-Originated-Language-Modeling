{
 "cells": [
  {
   "cell_type": "code",
   "execution_count": null,
   "id": "d2016e7f-eb38-4612-b490-49caa65aa069",
   "metadata": {},
   "outputs": [],
   "source": [
    "import os\n",
    "os.environ[\"CUDA_VISIBLE_DEVICES\"] = \"0\""
   ]
  },
  {
   "cell_type": "code",
   "execution_count": null,
   "id": "1e82a374-4416-42cd-b439-51c04b58b43c",
   "metadata": {},
   "outputs": [],
   "source": [
    "import torch\n",
    "torch.cuda.get_device_name()"
   ]
  },
  {
   "cell_type": "code",
   "execution_count": null,
   "id": "7aad4ee9-2989-419a-bbf1-fc50754fa315",
   "metadata": {},
   "outputs": [],
   "source": [
    "from transformers import set_seed\n",
    "set_seed(2)"
   ]
  },
  {
   "cell_type": "code",
   "execution_count": null,
   "id": "fd74beb1-d52d-4ffd-a85c-343b730a61ca",
   "metadata": {},
   "outputs": [],
   "source": [
    "from datasets import load_dataset\n",
    "\n",
    "datasets = load_dataset(\"indic_glue\",\"csqa.bn\",split=\"test\")"
   ]
  },
  {
   "cell_type": "code",
   "execution_count": null,
   "id": "4724a8c9-bf56-4bba-91df-3e998ddf278e",
   "metadata": {},
   "outputs": [],
   "source": [
    "datasets = datasets.train_test_split(\n",
    "    train_size=0.9, seed=42\n",
    ")\n",
    "datasets"
   ]
  },
  {
   "cell_type": "code",
   "execution_count": null,
   "id": "bac25dcc",
   "metadata": {},
   "outputs": [],
   "source": [
    "datasets[\"train\"][0]"
   ]
  },
  {
   "cell_type": "code",
   "execution_count": null,
   "id": "0161e6e9",
   "metadata": {},
   "outputs": [],
   "source": [
    "from transformers import PreTrainedTokenizerFast, AutoModelForSequenceClassification, AutoTokenizer\n",
    "\n",
    "# tokenizer = PreTrainedTokenizerFast.from_pretrained(\"../Bengali Pretraining/models/unigram/bert-base-pretrained-bengali\")\n",
    "tokenizer = PreTrainedTokenizerFast.from_pretrained(\"../Bengali Pretraining/models/unigram/unigram-long-text\")"
   ]
  },
  {
   "cell_type": "code",
   "execution_count": null,
   "id": "b8fc03b7",
   "metadata": {},
   "outputs": [],
   "source": [
    "choice_names = ['options']"
   ]
  },
  {
   "cell_type": "code",
   "execution_count": null,
   "id": "c6010dc7",
   "metadata": {},
   "outputs": [],
   "source": [
    "def preprocess_function(examples):\n",
    "    premise = [[context.replace(\"<MASK>\",\"[MASK]\")] * 4 for context in examples[\"question\"]]\n",
    "    cause = [examples['options'][i] for i,_ in enumerate(premise)]\n",
    "\n",
    "    premise = sum(premise, [])\n",
    "    cause = sum(cause, [])\n",
    "    \n",
    "    # print(premise)\n",
    "    # print(cause)\n",
    "    \n",
    "\n",
    "    tokenized_examples = tokenizer(premise, cause, truncation=True, max_length=128)\n",
    "#     print(len(tokenized_examples))\n",
    "    return {k: [v[i : i + 4] for i in range(0, len(v), 4)] for k, v in tokenized_examples.items()}\n",
    "    #return tokenized_examples"
   ]
  },
  {
   "cell_type": "code",
   "execution_count": null,
   "id": "29d4330d",
   "metadata": {},
   "outputs": [],
   "source": [
    "temp = preprocess_function(datasets[\"train\"][:1])\n",
    "# temp"
   ]
  },
  {
   "cell_type": "code",
   "execution_count": null,
   "id": "82eb26cb",
   "metadata": {
    "scrolled": true
   },
   "outputs": [],
   "source": [
    "datasets[\"train\"][:1]"
   ]
  },
  {
   "cell_type": "code",
   "execution_count": null,
   "id": "1feaf793",
   "metadata": {},
   "outputs": [],
   "source": [
    "for chunk in temp['input_ids'][0]:\n",
    "    print(tokenizer.decode(chunk))"
   ]
  },
  {
   "cell_type": "code",
   "execution_count": null,
   "id": "f74a9a5c",
   "metadata": {},
   "outputs": [],
   "source": [
    "tokenized_datasets = datasets.map(preprocess_function, batched=True)"
   ]
  },
  {
   "cell_type": "code",
   "execution_count": null,
   "id": "1c4f7d23-2c93-48e3-a2f2-114a0309ee8d",
   "metadata": {},
   "outputs": [],
   "source": [
    "def assign_label(example):\n",
    "    options = example['options']\n",
    "    example['label'] = options.index(example['answer'])\n",
    "    return example"
   ]
  },
  {
   "cell_type": "code",
   "execution_count": null,
   "id": "309d8311-5d0d-44b9-bc79-84df28593f56",
   "metadata": {},
   "outputs": [],
   "source": [
    "tokenized_datasets = tokenized_datasets.map(assign_label)"
   ]
  },
  {
   "cell_type": "code",
   "execution_count": null,
   "id": "d5f93991-8fe7-482c-b39f-dc918b0bba76",
   "metadata": {},
   "outputs": [],
   "source": [
    "tokenized_datasets[\"train\"][2][\"label\"]"
   ]
  },
  {
   "cell_type": "code",
   "execution_count": null,
   "id": "6b406cfc-fdab-4eec-b4af-e7406f9f14bf",
   "metadata": {},
   "outputs": [],
   "source": [
    "datasets[\"train\"][2]"
   ]
  },
  {
   "cell_type": "code",
   "execution_count": null,
   "id": "b2dbd924",
   "metadata": {},
   "outputs": [],
   "source": [
    "# from transformers import set_seed\n",
    "# set_seed(30)"
   ]
  },
  {
   "cell_type": "code",
   "execution_count": null,
   "id": "334bc0f9-a299-4653-94f9-e72e0dca0e8d",
   "metadata": {},
   "outputs": [],
   "source": [
    "from transformers import AutoModelForMultipleChoice, TrainingArguments, Trainer, AutoModel\n",
    "\n",
    "# model = AutoModelForMultipleChoice.from_pretrained(\"../Bengali Pretraining/models/unigram/bert-base-pretrained-bengali\")\n",
    "model = AutoModelForMultipleChoice.from_pretrained(\"../Bengali Pretraining/models/unigram/unigram-long-text\")"
   ]
  },
  {
   "cell_type": "code",
   "execution_count": null,
   "id": "931c6223-f7af-4b72-a2fb-bd883fe0d45a",
   "metadata": {},
   "outputs": [],
   "source": [
    "model = AutoModelForMultipleChoice.from_pretrained(\"qa_model\")"
   ]
  },
  {
   "cell_type": "code",
   "execution_count": null,
   "id": "88301cf2-199b-4e97-8869-cbd1a6a9d574",
   "metadata": {},
   "outputs": [],
   "source": [
    "tokenized_datasets"
   ]
  },
  {
   "cell_type": "code",
   "execution_count": null,
   "id": "f2040267-35ef-4917-83d2-20ea022a280a",
   "metadata": {},
   "outputs": [],
   "source": [
    "from dataclasses import dataclass\n",
    "from transformers.tokenization_utils_base import PreTrainedTokenizerBase, PaddingStrategy\n",
    "from typing import Optional, Union\n",
    "import torch\n",
    "\n",
    "\n",
    "@dataclass\n",
    "class DataCollatorForMultipleChoice:\n",
    "    \"\"\"\n",
    "    Data collator that will dynamically pad the inputs for multiple choice received.\n",
    "    \"\"\"\n",
    "\n",
    "    tokenizer: PreTrainedTokenizerBase\n",
    "    padding: Union[bool, str, PaddingStrategy] = True\n",
    "    max_length: Optional[int] = None\n",
    "    pad_to_multiple_of: Optional[int] = None\n",
    "\n",
    "    def __call__(self, features):\n",
    "        label_name = \"label\" if \"label\" in features[0].keys() else \"labels\"\n",
    "        labels = [feature.pop(label_name) for feature in features]\n",
    "        batch_size = len(features)\n",
    "        num_choices = len(features[0][\"input_ids\"])\n",
    "        \n",
    "        flattened_features = [\n",
    "            [{k: v[i] for k, v in feature.items()} for i in range(num_choices)] for feature in features\n",
    "        ]\n",
    "        flattened_features = sum(flattened_features, [])\n",
    "\n",
    "        batch = self.tokenizer.pad(\n",
    "            flattened_features,\n",
    "            padding=self.padding,\n",
    "            max_length=self.max_length,\n",
    "            pad_to_multiple_of=self.pad_to_multiple_of,\n",
    "            return_tensors=\"pt\",\n",
    "        )\n",
    "        \n",
    "        batch = {k: v.view(batch_size, num_choices, -1) for k, v in batch.items()}\n",
    "        batch[\"labels\"] = torch.tensor(labels, dtype=torch.int64)\n",
    "        return batch"
   ]
  },
  {
   "cell_type": "code",
   "execution_count": null,
   "id": "8e0b2a0f-7e3e-4a06-8b90-a91c7a3b25fd",
   "metadata": {},
   "outputs": [],
   "source": [
    "data_collator=DataCollatorForMultipleChoice(tokenizer=tokenizer)"
   ]
  },
  {
   "cell_type": "code",
   "execution_count": null,
   "id": "e371bf77-8758-41fc-a420-8ca9a197431f",
   "metadata": {},
   "outputs": [],
   "source": [
    "import evaluate\n",
    "\n",
    "accuracy = evaluate.load(\"accuracy\")"
   ]
  },
  {
   "cell_type": "code",
   "execution_count": null,
   "id": "9312ee5f-b68d-4836-8e06-492acd3ccb95",
   "metadata": {},
   "outputs": [],
   "source": [
    "import numpy as np\n",
    "\n",
    "\n",
    "def compute_metrics(eval_pred):\n",
    "    predictions, labels = eval_pred\n",
    "    predictions = np.argmax(predictions, axis=1)\n",
    "    return accuracy.compute(predictions=predictions, references=labels)"
   ]
  },
  {
   "cell_type": "code",
   "execution_count": null,
   "id": "061f8591-10d9-43b6-aa1b-df914b6c28f8",
   "metadata": {},
   "outputs": [],
   "source": [
    "#  disable weights and biases logging\n",
    "import os\n",
    "os.environ[\"WANDB_DISABLED\"] = \"true\""
   ]
  },
  {
   "cell_type": "code",
   "execution_count": null,
   "id": "3edd589d-e9a9-49c1-b15c-11688ffd0795",
   "metadata": {},
   "outputs": [],
   "source": [
    "training_args = TrainingArguments(\n",
    "    output_dir=\"qa_model\",\n",
    "    evaluation_strategy=\"epoch\",\n",
    "    save_strategy=\"epoch\",\n",
    "    learning_rate=2e-5,\n",
    "    #learning_rate=3e-5,\n",
    "    per_device_train_batch_size=32,\n",
    "    per_device_eval_batch_size=32,\n",
    "    #num_train_epochs=3,\n",
    "    num_train_epochs=4,\n",
    "    #warmup_ratio=0.1,\n",
    "    weight_decay=0.01,\n",
    "    #weight_decay=0.04,\n",
    "    fp16=True,\n",
    "    metric_for_best_model = 'accuracy',\n",
    "    load_best_model_at_end=True,\n",
    ")\n",
    "\n",
    "trainer = Trainer(\n",
    "    model=model,\n",
    "    args=training_args,\n",
    "    train_dataset=tokenized_datasets[\"train\"],\n",
    "    eval_dataset=tokenized_datasets[\"test\"],\n",
    "    tokenizer=tokenizer,\n",
    "    data_collator=DataCollatorForMultipleChoice(tokenizer=tokenizer),\n",
    "    compute_metrics=compute_metrics,\n",
    ")"
   ]
  },
  {
   "cell_type": "code",
   "execution_count": null,
   "id": "c784f2c0-31b7-4e77-afd9-68c028a277fb",
   "metadata": {},
   "outputs": [],
   "source": [
    "trainer.evaluate()"
   ]
  },
  {
   "cell_type": "code",
   "execution_count": null,
   "id": "4e5da5de-205a-4c9b-99c3-3ee99e6d9a73",
   "metadata": {},
   "outputs": [],
   "source": [
    "trainer.train()"
   ]
  },
  {
   "cell_type": "code",
   "execution_count": null,
   "id": "16ad1eb3-744e-4371-931e-2848eba55677",
   "metadata": {},
   "outputs": [],
   "source": [
    "trainer.save_model()"
   ]
  },
  {
   "cell_type": "code",
   "execution_count": null,
   "id": "436b41a5-6a64-444b-a171-14327d704745",
   "metadata": {},
   "outputs": [],
   "source": [
    "y_preds, y_true, _ = trainer.predict(tokenized_datasets[\"test\"])"
   ]
  },
  {
   "cell_type": "code",
   "execution_count": null,
   "id": "73b1876d-9a13-4a6d-ae1f-09d2a96d32bb",
   "metadata": {},
   "outputs": [],
   "source": [
    "y_preds = np.argmax(y_preds, axis=-1)"
   ]
  },
  {
   "cell_type": "code",
   "execution_count": null,
   "id": "c5cd9765-98f0-484d-9481-dc4236e36767",
   "metadata": {},
   "outputs": [],
   "source": [
    "from sklearn.metrics import classification_report\n",
    "target_names = ['choice1', 'choice2','choice3','choice4']"
   ]
  },
  {
   "cell_type": "code",
   "execution_count": null,
   "id": "4ebc36f5-682c-4832-a7ce-068bf587b1b8",
   "metadata": {},
   "outputs": [],
   "source": [
    "import matplotlib.pyplot as plt\n",
    "from seaborn import heatmap\n",
    "from sklearn.metrics import confusion_matrix\n",
    "\n",
    "#plot heatmap of confusion matrix\n",
    "mat = confusion_matrix(y_true, y_preds)\n",
    "heatmap(mat, cmap=\"Pastel1_r\", fmt=\"d\", xticklabels=target_names, yticklabels=target_names, annot=True)\n",
    "\n",
    "#add overall title to plot\n",
    "plt.title('Confusion matrix for Clozed QA', fontsize = 12) # title with fontsize 20"
   ]
  },
  {
   "cell_type": "code",
   "execution_count": null,
   "id": "84ccac19-983f-42a4-9157-30d9348706ef",
   "metadata": {},
   "outputs": [],
   "source": [
    "misclassified = [i for i in range(len(y_preds)) if ((y_preds[i] != y_true[i]) and (y_true[i]==1) and (y_preds[i]==0))]"
   ]
  },
  {
   "cell_type": "code",
   "execution_count": null,
   "id": "de4bcae7-5672-43d4-a71d-7fa96e73ed73",
   "metadata": {},
   "outputs": [],
   "source": [
    "misclassified_dataset = tokenized_datasets['test'].select(misclassified)"
   ]
  },
  {
   "cell_type": "code",
   "execution_count": null,
   "id": "d40a2551-ff01-4fc4-8fe0-3ba0402e73a7",
   "metadata": {},
   "outputs": [],
   "source": [
    "idx=0\n",
    "misclassified[idx]"
   ]
  },
  {
   "cell_type": "code",
   "execution_count": null,
   "id": "a127f3ff-066b-463f-bea2-8978d894748f",
   "metadata": {},
   "outputs": [],
   "source": [
    "misclassified_dataset[33]\n",
    "# misclassified_dataset[30:60]['title']"
   ]
  }
 ],
 "metadata": {
  "kernelspec": {
   "display_name": "Python 3 (ipykernel)",
   "language": "python",
   "name": "python3"
  },
  "language_info": {
   "codemirror_mode": {
    "name": "ipython",
    "version": 3
   },
   "file_extension": ".py",
   "mimetype": "text/x-python",
   "name": "python",
   "nbconvert_exporter": "python",
   "pygments_lexer": "ipython3",
   "version": "3.10.4"
  }
 },
 "nbformat": 4,
 "nbformat_minor": 5
}
