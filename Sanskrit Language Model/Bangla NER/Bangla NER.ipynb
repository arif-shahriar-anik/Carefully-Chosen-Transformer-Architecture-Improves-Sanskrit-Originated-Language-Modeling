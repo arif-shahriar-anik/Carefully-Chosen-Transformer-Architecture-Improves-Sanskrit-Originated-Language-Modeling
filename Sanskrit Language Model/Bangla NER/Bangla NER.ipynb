{
 "cells": [
  {
   "cell_type": "code",
   "execution_count": null,
   "id": "dc26e690",
   "metadata": {},
   "outputs": [],
   "source": [
    "file_path = \"Bangla-NER-Splitted-Dataset.json\""
   ]
  },
  {
   "cell_type": "code",
   "execution_count": null,
   "id": "770a2bcd",
   "metadata": {},
   "outputs": [],
   "source": [
    "import json\n",
    "  \n",
    "# Opening JSON file\n",
    "f = open(file_path, mode=\"r\", encoding=\"utf-8\")\n",
    "  \n",
    "# returns JSON object as \n",
    "# a dictionary\n",
    "json_data = json.load(f)"
   ]
  },
  {
   "cell_type": "code",
   "execution_count": null,
   "id": "f2fe11e5",
   "metadata": {},
   "outputs": [],
   "source": [
    "json_data.keys()"
   ]
  },
  {
   "cell_type": "code",
   "execution_count": null,
   "id": "2a5a5fbb",
   "metadata": {},
   "outputs": [],
   "source": [
    "train_json_data = json_data['train']\n",
    "val_json_data = json_data['validation']\n",
    "test_json_data = json_data['test']"
   ]
  },
  {
   "cell_type": "code",
   "execution_count": null,
   "id": "9c6f2274",
   "metadata": {},
   "outputs": [],
   "source": [
    "import pandas as pd\n",
    "import re\n",
    "import numpy as np\n",
    "\n",
    "train_df = pd.DataFrame(columns=['ner_tags', 'tokens'])\n",
    "val_df = pd.DataFrame(columns=['ner_tags', 'tokens'])\n",
    "test_df = pd.DataFrame(columns=['ner_tags', 'tokens'])"
   ]
  },
  {
   "cell_type": "code",
   "execution_count": null,
   "id": "05bad6f6",
   "metadata": {},
   "outputs": [],
   "source": [
    "def read_json_file(json_file, df):\n",
    "    token_docs = []\n",
    "    tag_docs = []\n",
    "\n",
    "    for idx,doc in enumerate(json_file):\n",
    "        tokens = doc['sentence']\n",
    "        tags = doc['iob_tags']\n",
    "        token_docs.append(tokens)\n",
    "        tag_docs.append(tags)\n",
    "        df.loc[idx] = pd.Series({'ner_tags':tags, 'tokens':tokens})\n",
    "    \n",
    "    return df, token_docs, tag_docs"
   ]
  },
  {
   "cell_type": "code",
   "execution_count": null,
   "id": "8151e197",
   "metadata": {},
   "outputs": [],
   "source": [
    "train_df,_,tag_docs = read_json_file(train_json_data, train_df)"
   ]
  },
  {
   "cell_type": "code",
   "execution_count": null,
   "id": "0ee12907",
   "metadata": {},
   "outputs": [],
   "source": [
    "val_df,_,_ = read_json_file(val_json_data, val_df)"
   ]
  },
  {
   "cell_type": "code",
   "execution_count": null,
   "id": "8a27f574",
   "metadata": {},
   "outputs": [],
   "source": [
    "test_df,_,_ = read_json_file(test_json_data, val_df)"
   ]
  },
  {
   "cell_type": "code",
   "execution_count": null,
   "id": "1f8dd7f7",
   "metadata": {},
   "outputs": [],
   "source": [
    "train_df[:1]"
   ]
  },
  {
   "cell_type": "code",
   "execution_count": null,
   "id": "17837784",
   "metadata": {},
   "outputs": [],
   "source": [
    "val_df[:1]"
   ]
  },
  {
   "cell_type": "code",
   "execution_count": null,
   "id": "7923fe5d",
   "metadata": {},
   "outputs": [],
   "source": [
    "test_df[:1]"
   ]
  },
  {
   "cell_type": "code",
   "execution_count": null,
   "id": "c04ab588",
   "metadata": {},
   "outputs": [],
   "source": [
    "from datasets import Dataset, DatasetDict\n",
    "\n",
    "train_ds = Dataset.from_pandas(train_df)\n",
    "val_ds = Dataset.from_pandas(val_df)\n",
    "test_ds = Dataset.from_pandas(test_df)"
   ]
  },
  {
   "cell_type": "code",
   "execution_count": null,
   "id": "2e0e68a6",
   "metadata": {},
   "outputs": [],
   "source": [
    "datasets = DatasetDict()\n",
    "datasets['train'] = train_ds\n",
    "datasets['validation'] = val_ds\n",
    "datasets['test'] = test_ds"
   ]
  },
  {
   "cell_type": "code",
   "execution_count": null,
   "id": "aea65542",
   "metadata": {},
   "outputs": [],
   "source": [
    "datasets[\"train\"][3][\"tokens\"]"
   ]
  },
  {
   "cell_type": "code",
   "execution_count": null,
   "id": "e6186007",
   "metadata": {},
   "outputs": [],
   "source": [
    "datasets[\"train\"][3][\"ner_tags\"]"
   ]
  },
  {
   "cell_type": "code",
   "execution_count": null,
   "id": "043d58e9",
   "metadata": {},
   "outputs": [],
   "source": [
    "# create set from list\n",
    "expanded_tag_docs = []\n",
    "\n",
    "for tags in tag_docs:\n",
    "    for tag in tags:\n",
    "        expanded_tag_docs.append(tag)"
   ]
  },
  {
   "cell_type": "code",
   "execution_count": null,
   "id": "38e07600",
   "metadata": {},
   "outputs": [],
   "source": [
    "unique_tags = set(expanded_tag_docs)\n",
    "unique_tags"
   ]
  },
  {
   "cell_type": "code",
   "execution_count": null,
   "id": "752dbf6b",
   "metadata": {},
   "outputs": [],
   "source": [
    "def assign_label(examples):\n",
    "    mapping = {'B-LOC':0, 'B-OBJ':1, 'B-ORG':2, 'B-PER':3, 'I-LOC':4, 'I-OBJ':5, 'I-ORG':6, 'I-PER':7, 'O':8}\n",
    "    ner_labels = []\n",
    "    for example in examples[\"ner_tags\"]:\n",
    "        ner_labels.append(mapping[example])\n",
    "    examples[\"ner_labels\"] = ner_labels\n",
    "    return examples"
   ]
  },
  {
   "cell_type": "code",
   "execution_count": null,
   "id": "bbb87bf8",
   "metadata": {},
   "outputs": [],
   "source": [
    "datasets = datasets.map(assign_label)"
   ]
  },
  {
   "cell_type": "code",
   "execution_count": null,
   "id": "6eff5a27",
   "metadata": {},
   "outputs": [],
   "source": [
    "from transformers import AutoTokenizer\n",
    "\n",
    "model_checkpoint = \"../Bengali Pretraining/models/unigram/unigram-long-text\"\n",
    "tokenizer = AutoTokenizer.from_pretrained(model_checkpoint)"
   ]
  },
  {
   "cell_type": "code",
   "execution_count": null,
   "id": "06b009f5-b9f1-48d5-8240-545d2a6e42bc",
   "metadata": {},
   "outputs": [],
   "source": [
    "# num_added_tokens = tokenizer.add_tokens([\"-\",\"’\",\"০\",\"১\",\"২\",\"৩\",\"৪\",\"৫\",\"৬\",\"৭\",\"৮\",\"৯\"])"
   ]
  },
  {
   "cell_type": "code",
   "execution_count": null,
   "id": "6751623b",
   "metadata": {},
   "outputs": [],
   "source": [
    "inputs = tokenizer(datasets[\"train\"][0][\"tokens\"], is_split_into_words=True)\n",
    "inputs.tokens()"
   ]
  },
  {
   "cell_type": "code",
   "execution_count": null,
   "id": "10a65996",
   "metadata": {},
   "outputs": [],
   "source": [
    "inputs.word_ids()"
   ]
  },
  {
   "cell_type": "code",
   "execution_count": null,
   "id": "ad691612",
   "metadata": {},
   "outputs": [],
   "source": [
    "def align_labels_with_tokens(labels, word_ids):\n",
    "    new_labels = []\n",
    "    current_word = None\n",
    "    for word_id in word_ids:\n",
    "        if word_id != current_word:\n",
    "            # Start of a new word!\n",
    "            current_word = word_id\n",
    "            label = -100 if word_id is None else labels[word_id]\n",
    "            new_labels.append(label)\n",
    "        elif word_id is None:\n",
    "            # Special token\n",
    "            new_labels.append(-100)\n",
    "        else:\n",
    "            # Same word as previous token\n",
    "            label = labels[word_id]\n",
    "            # If the label is B-XXX we change it to I-XXX\n",
    "            if label % 2 == 1:\n",
    "                label += 1\n",
    "            new_labels.append(label)\n",
    "\n",
    "    return new_labels"
   ]
  },
  {
   "cell_type": "code",
   "execution_count": null,
   "id": "00327d91",
   "metadata": {},
   "outputs": [],
   "source": [
    "labels = datasets[\"train\"][0][\"ner_labels\"]\n",
    "word_ids = inputs.word_ids()\n",
    "print(labels)\n",
    "print(align_labels_with_tokens(labels, word_ids))"
   ]
  },
  {
   "cell_type": "code",
   "execution_count": null,
   "id": "0dd7f08d",
   "metadata": {},
   "outputs": [],
   "source": [
    "datasets[\"train\"][1]"
   ]
  },
  {
   "cell_type": "code",
   "execution_count": null,
   "id": "b79e80d2",
   "metadata": {},
   "outputs": [],
   "source": [
    "mapping = {'B-LOC':0, 'B-OBJ':1, 'B-ORG':2, 'B-PER':3, 'I-LOC':4, 'I-OBJ':5, 'I-ORG':6, 'I-PER':7, 'O':8}\n",
    "label_names = list()\n",
    "for k, v in mapping.items():\n",
    "    label_names.append(k)\n",
    "\n",
    "label_names"
   ]
  },
  {
   "cell_type": "code",
   "execution_count": null,
   "id": "26f55a24",
   "metadata": {},
   "outputs": [],
   "source": [
    "def tokenize_and_align_labels(examples):\n",
    "    tokenized_inputs = tokenizer(\n",
    "        examples[\"tokens\"], truncation=True, is_split_into_words=True, max_length=128\n",
    "    )\n",
    "    all_labels = examples[\"ner_labels\"]\n",
    "    new_labels = []\n",
    "    for i, labels in enumerate(all_labels):\n",
    "        word_ids = tokenized_inputs.word_ids(i)\n",
    "        new_labels.append(align_labels_with_tokens(labels, word_ids))\n",
    "\n",
    "    tokenized_inputs[\"labels\"] = new_labels\n",
    "    return tokenized_inputs"
   ]
  },
  {
   "cell_type": "code",
   "execution_count": null,
   "id": "4ab34ae7",
   "metadata": {},
   "outputs": [],
   "source": [
    "tokenized_datasets = datasets.map(\n",
    "    tokenize_and_align_labels,\n",
    "    batched=True,\n",
    "    remove_columns=datasets[\"train\"].column_names,\n",
    ")"
   ]
  },
  {
   "cell_type": "code",
   "execution_count": null,
   "id": "4b702bcd",
   "metadata": {},
   "outputs": [],
   "source": [
    "tokenized_datasets"
   ]
  },
  {
   "cell_type": "code",
   "execution_count": null,
   "id": "7ffd947c",
   "metadata": {},
   "outputs": [],
   "source": [
    "from transformers import DataCollatorForTokenClassification\n",
    "\n",
    "data_collator = DataCollatorForTokenClassification(tokenizer=tokenizer)"
   ]
  },
  {
   "cell_type": "code",
   "execution_count": null,
   "id": "431b8649",
   "metadata": {},
   "outputs": [],
   "source": [
    "batch = data_collator([tokenized_datasets[\"train\"][i] for i in range(2)])\n",
    "batch[\"labels\"]"
   ]
  },
  {
   "cell_type": "code",
   "execution_count": null,
   "id": "f05669fb",
   "metadata": {},
   "outputs": [],
   "source": [
    "for i in range(2):\n",
    "    print(tokenized_datasets[\"train\"][i][\"labels\"])"
   ]
  },
  {
   "cell_type": "code",
   "execution_count": null,
   "id": "255c930d",
   "metadata": {},
   "outputs": [],
   "source": [
    "import evaluate\n",
    "\n",
    "metric = evaluate.load(\"seqeval\")"
   ]
  },
  {
   "cell_type": "code",
   "execution_count": null,
   "id": "cb531a84",
   "metadata": {},
   "outputs": [],
   "source": [
    "labels = datasets[\"train\"][0][\"ner_labels\"]\n",
    "labels = [label_names[i] for i in labels]\n",
    "labels"
   ]
  },
  {
   "cell_type": "code",
   "execution_count": null,
   "id": "55c8ddaf",
   "metadata": {},
   "outputs": [],
   "source": [
    "predictions = labels.copy()\n",
    "predictions[2] = 'B-PER'\n",
    "metric.compute(predictions=[predictions], references=[labels])"
   ]
  },
  {
   "cell_type": "code",
   "execution_count": null,
   "id": "3dd18f17",
   "metadata": {},
   "outputs": [],
   "source": [
    "import numpy as np\n",
    "\n",
    "\n",
    "def compute_metrics(eval_preds):\n",
    "    logits, labels = eval_preds\n",
    "    predictions = np.argmax(logits, axis=-1)\n",
    "\n",
    "    # Remove ignored index (special tokens) and convert to labels\n",
    "    true_labels = [[label_names[l] for l in label if l != -100] for label in labels]\n",
    "    true_predictions = [\n",
    "        [label_names[p] for (p, l) in zip(prediction, label) if l != -100]\n",
    "        for prediction, label in zip(predictions, labels)\n",
    "    ]\n",
    "    all_metrics = metric.compute(predictions=true_predictions, references=true_labels)\n",
    "    return {\n",
    "        \"precision\": all_metrics[\"overall_precision\"],\n",
    "        \"recall\": all_metrics[\"overall_recall\"],\n",
    "        \"f1\": all_metrics[\"overall_f1\"],\n",
    "        \"accuracy\": all_metrics[\"overall_accuracy\"],\n",
    "    }"
   ]
  },
  {
   "cell_type": "code",
   "execution_count": null,
   "id": "112ffa3c",
   "metadata": {},
   "outputs": [],
   "source": [
    "id2label = {i: label for i, label in enumerate(label_names)}\n",
    "label2id = {v: k for k, v in id2label.items()}"
   ]
  },
  {
   "cell_type": "code",
   "execution_count": null,
   "id": "f5adc444",
   "metadata": {},
   "outputs": [],
   "source": [
    "id2label"
   ]
  },
  {
   "cell_type": "code",
   "execution_count": null,
   "id": "7db2d7cf",
   "metadata": {},
   "outputs": [],
   "source": [
    "label2id"
   ]
  },
  {
   "cell_type": "code",
   "execution_count": null,
   "id": "1c8c7b74-f2e6-45e1-a26d-90f6f43347b0",
   "metadata": {},
   "outputs": [],
   "source": [
    "from transformers import set_seed\n",
    "set_seed(42)"
   ]
  },
  {
   "cell_type": "code",
   "execution_count": null,
   "id": "72d4ba2d",
   "metadata": {},
   "outputs": [],
   "source": [
    "from transformers import AutoModelForTokenClassification\n",
    "\n",
    "model = AutoModelForTokenClassification.from_pretrained(\n",
    "    model_checkpoint,\n",
    "    id2label=id2label,\n",
    "    label2id=label2id,\n",
    ")"
   ]
  },
  {
   "cell_type": "code",
   "execution_count": null,
   "id": "a50a7dd8-fd7f-49d3-8e28-90f470634600",
   "metadata": {},
   "outputs": [],
   "source": [
    "# model.resize_token_embeddings(len(tokenizer))"
   ]
  },
  {
   "cell_type": "code",
   "execution_count": null,
   "id": "d109b284",
   "metadata": {},
   "outputs": [],
   "source": [
    "model.config.num_labels"
   ]
  },
  {
   "cell_type": "code",
   "execution_count": null,
   "id": "2c5fa9f3",
   "metadata": {},
   "outputs": [],
   "source": [
    "#  disable weights and biases logging\n",
    "import os\n",
    "os.environ[\"WANDB_DISABLED\"] = \"true\""
   ]
  },
  {
   "cell_type": "code",
   "execution_count": null,
   "id": "45dd4941",
   "metadata": {},
   "outputs": [],
   "source": [
    "from transformers import TrainingArguments\n",
    "# batch_size = 16\n",
    "batch_size = 32\n",
    "\n",
    "args = TrainingArguments(\n",
    "    \"models/ner\",\n",
    "    report_to = None,\n",
    "    save_strategy=\"epoch\",\n",
    "    evaluation_strategy=\"epoch\",\n",
    "    #save_strategy=\"epoch\",\n",
    "    learning_rate=2e-5,\n",
    "    # learning_rate=3e-5,\n",
    "    #num_train_epochs=3,\n",
    "    num_train_epochs=4,\n",
    "    weight_decay=0.01,\n",
    "    warmup_ratio=0.06,\n",
    "    per_device_train_batch_size=batch_size,\n",
    "    per_device_eval_batch_size=batch_size,\n",
    "    metric_for_best_model = 'f1',\n",
    "    load_best_model_at_end=True,\n",
    ")"
   ]
  },
  {
   "cell_type": "code",
   "execution_count": null,
   "id": "a4ed5697",
   "metadata": {},
   "outputs": [],
   "source": [
    "from transformers import Trainer\n",
    "\n",
    "trainer = Trainer(\n",
    "    model=model,\n",
    "    args=args,\n",
    "    train_dataset=tokenized_datasets[\"train\"],\n",
    "    eval_dataset=tokenized_datasets[\"validation\"],\n",
    "    data_collator=data_collator,\n",
    "    compute_metrics=compute_metrics,\n",
    "    tokenizer=tokenizer,\n",
    ")"
   ]
  },
  {
   "cell_type": "code",
   "execution_count": null,
   "id": "062d660c",
   "metadata": {},
   "outputs": [],
   "source": [
    "import transformers\n",
    "trainer.remove_callback(transformers.integrations.TensorBoardCallback)"
   ]
  },
  {
   "cell_type": "code",
   "execution_count": null,
   "id": "5c722300",
   "metadata": {},
   "outputs": [],
   "source": [
    "trainer.evaluate()"
   ]
  },
  {
   "cell_type": "code",
   "execution_count": null,
   "id": "571a538d",
   "metadata": {},
   "outputs": [],
   "source": [
    "trainer.train()"
   ]
  },
  {
   "cell_type": "code",
   "execution_count": null,
   "id": "2c035b7d",
   "metadata": {},
   "outputs": [],
   "source": [
    "trainer.save_model()"
   ]
  },
  {
   "cell_type": "code",
   "execution_count": null,
   "id": "b59ee817",
   "metadata": {},
   "outputs": [],
   "source": [
    "# trainer.args.num_train_epochs = trainer.args.num_train_epochs + 1\n",
    "# trainer.train(\"models/ner/checkpoint-2005\")"
   ]
  },
  {
   "cell_type": "code",
   "execution_count": null,
   "id": "d97ddbe4",
   "metadata": {},
   "outputs": [],
   "source": [
    "import gc, torch\n",
    "gc.collect()\n",
    "torch.cuda.empty_cache()"
   ]
  },
  {
   "cell_type": "code",
   "execution_count": null,
   "id": "dca43a72",
   "metadata": {},
   "outputs": [],
   "source": [
    "trainer.evaluate(tokenized_datasets[\"test\"])"
   ]
  }
 ],
 "metadata": {
  "kernelspec": {
   "display_name": "Python 3 (ipykernel)",
   "language": "python",
   "name": "python3"
  },
  "language_info": {
   "codemirror_mode": {
    "name": "ipython",
    "version": 3
   },
   "file_extension": ".py",
   "mimetype": "text/x-python",
   "name": "python",
   "nbconvert_exporter": "python",
   "pygments_lexer": "ipython3",
   "version": "3.10.4"
  }
 },
 "nbformat": 4,
 "nbformat_minor": 5
}
