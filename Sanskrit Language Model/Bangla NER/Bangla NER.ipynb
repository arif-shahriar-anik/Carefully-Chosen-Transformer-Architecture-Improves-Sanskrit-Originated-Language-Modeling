{
 "cells": [
  {
   "cell_type": "code",
   "execution_count": 1,
   "id": "dc26e690",
   "metadata": {},
   "outputs": [],
   "source": [
    "file_path = \"Bangla-NER-Splitted-Dataset.json\""
   ]
  },
  {
   "cell_type": "code",
   "execution_count": 2,
   "id": "770a2bcd",
   "metadata": {},
   "outputs": [],
   "source": [
    "import json\n",
    "  \n",
    "# Opening JSON file\n",
    "f = open(file_path, mode=\"r\", encoding=\"utf-8\")\n",
    "  \n",
    "# returns JSON object as \n",
    "# a dictionary\n",
    "json_data = json.load(f)"
   ]
  },
  {
   "cell_type": "code",
   "execution_count": 3,
   "id": "f2fe11e5",
   "metadata": {},
   "outputs": [
    {
     "data": {
      "text/plain": [
       "dict_keys(['test', 'train', 'validation'])"
      ]
     },
     "execution_count": 3,
     "metadata": {},
     "output_type": "execute_result"
    }
   ],
   "source": [
    "json_data.keys()"
   ]
  },
  {
   "cell_type": "code",
   "execution_count": 4,
   "id": "2a5a5fbb",
   "metadata": {},
   "outputs": [],
   "source": [
    "train_json_data = json_data['train']\n",
    "val_json_data = json_data['validation']\n",
    "test_json_data = json_data['test']"
   ]
  },
  {
   "cell_type": "code",
   "execution_count": 5,
   "id": "9c6f2274",
   "metadata": {},
   "outputs": [],
   "source": [
    "import pandas as pd\n",
    "import re\n",
    "import numpy as np\n",
    "\n",
    "train_df = pd.DataFrame(columns=['ner_tags', 'tokens'])\n",
    "val_df = pd.DataFrame(columns=['ner_tags', 'tokens'])\n",
    "test_df = pd.DataFrame(columns=['ner_tags', 'tokens'])"
   ]
  },
  {
   "cell_type": "code",
   "execution_count": 6,
   "id": "05bad6f6",
   "metadata": {},
   "outputs": [],
   "source": [
    "def read_json_file(json_file, df):\n",
    "    token_docs = []\n",
    "    tag_docs = []\n",
    "\n",
    "    for idx,doc in enumerate(json_file):\n",
    "        tokens = doc['sentence']\n",
    "        tags = doc['iob_tags']\n",
    "        token_docs.append(tokens)\n",
    "        tag_docs.append(tags)\n",
    "        df.loc[idx] = pd.Series({'ner_tags':tags, 'tokens':tokens})\n",
    "    \n",
    "    return df, token_docs, tag_docs"
   ]
  },
  {
   "cell_type": "code",
   "execution_count": 7,
   "id": "8151e197",
   "metadata": {},
   "outputs": [],
   "source": [
    "train_df,_,tag_docs = read_json_file(train_json_data, train_df)"
   ]
  },
  {
   "cell_type": "code",
   "execution_count": 8,
   "id": "0ee12907",
   "metadata": {},
   "outputs": [],
   "source": [
    "val_df,_,_ = read_json_file(val_json_data, val_df)"
   ]
  },
  {
   "cell_type": "code",
   "execution_count": 9,
   "id": "8a27f574",
   "metadata": {},
   "outputs": [],
   "source": [
    "test_df,_,_ = read_json_file(test_json_data, val_df)"
   ]
  },
  {
   "cell_type": "code",
   "execution_count": 193,
   "id": "1f8dd7f7",
   "metadata": {},
   "outputs": [
    {
     "data": {
      "text/html": [
       "<div>\n",
       "<style scoped>\n",
       "    .dataframe tbody tr th:only-of-type {\n",
       "        vertical-align: middle;\n",
       "    }\n",
       "\n",
       "    .dataframe tbody tr th {\n",
       "        vertical-align: top;\n",
       "    }\n",
       "\n",
       "    .dataframe thead th {\n",
       "        text-align: right;\n",
       "    }\n",
       "</style>\n",
       "<table border=\"1\" class=\"dataframe\">\n",
       "  <thead>\n",
       "    <tr style=\"text-align: right;\">\n",
       "      <th></th>\n",
       "      <th>ner_tags</th>\n",
       "      <th>tokens</th>\n",
       "    </tr>\n",
       "  </thead>\n",
       "  <tbody>\n",
       "    <tr>\n",
       "      <th>0</th>\n",
       "      <td>[O, O, O, B-PER, B-PER, I-PER, I-PER, O, O, O,...</td>\n",
       "      <td>[ত্রাণ, ও, সমাজকল্যাণ, সম্পাদক, সুজিত, রায়, নন...</td>\n",
       "    </tr>\n",
       "  </tbody>\n",
       "</table>\n",
       "</div>"
      ],
      "text/plain": [
       "                                            ner_tags   \n",
       "0  [O, O, O, B-PER, B-PER, I-PER, I-PER, O, O, O,...  \\\n",
       "\n",
       "                                              tokens  \n",
       "0  [ত্রাণ, ও, সমাজকল্যাণ, সম্পাদক, সুজিত, রায়, নন...  "
      ]
     },
     "execution_count": 193,
     "metadata": {},
     "output_type": "execute_result"
    }
   ],
   "source": [
    "train_df[:1]"
   ]
  },
  {
   "cell_type": "code",
   "execution_count": 194,
   "id": "17837784",
   "metadata": {},
   "outputs": [
    {
     "data": {
      "text/html": [
       "<div>\n",
       "<style scoped>\n",
       "    .dataframe tbody tr th:only-of-type {\n",
       "        vertical-align: middle;\n",
       "    }\n",
       "\n",
       "    .dataframe tbody tr th {\n",
       "        vertical-align: top;\n",
       "    }\n",
       "\n",
       "    .dataframe thead th {\n",
       "        text-align: right;\n",
       "    }\n",
       "</style>\n",
       "<table border=\"1\" class=\"dataframe\">\n",
       "  <thead>\n",
       "    <tr style=\"text-align: right;\">\n",
       "      <th></th>\n",
       "      <th>ner_tags</th>\n",
       "      <th>tokens</th>\n",
       "    </tr>\n",
       "  </thead>\n",
       "  <tbody>\n",
       "    <tr>\n",
       "      <th>0</th>\n",
       "      <td>[O, O, O, B-LOC, O, O, O, O]</td>\n",
       "      <td>[৫%, তার, চাইতে, পশ্চিমোরে, এর, সাক্ষরতার, হার...</td>\n",
       "    </tr>\n",
       "  </tbody>\n",
       "</table>\n",
       "</div>"
      ],
      "text/plain": [
       "                       ner_tags   \n",
       "0  [O, O, O, B-LOC, O, O, O, O]  \\\n",
       "\n",
       "                                              tokens  \n",
       "0  [৫%, তার, চাইতে, পশ্চিমোরে, এর, সাক্ষরতার, হার...  "
      ]
     },
     "execution_count": 194,
     "metadata": {},
     "output_type": "execute_result"
    }
   ],
   "source": [
    "val_df[:1]"
   ]
  },
  {
   "cell_type": "code",
   "execution_count": 195,
   "id": "7923fe5d",
   "metadata": {},
   "outputs": [
    {
     "data": {
      "text/html": [
       "<div>\n",
       "<style scoped>\n",
       "    .dataframe tbody tr th:only-of-type {\n",
       "        vertical-align: middle;\n",
       "    }\n",
       "\n",
       "    .dataframe tbody tr th {\n",
       "        vertical-align: top;\n",
       "    }\n",
       "\n",
       "    .dataframe thead th {\n",
       "        text-align: right;\n",
       "    }\n",
       "</style>\n",
       "<table border=\"1\" class=\"dataframe\">\n",
       "  <thead>\n",
       "    <tr style=\"text-align: right;\">\n",
       "      <th></th>\n",
       "      <th>ner_tags</th>\n",
       "      <th>tokens</th>\n",
       "    </tr>\n",
       "  </thead>\n",
       "  <tbody>\n",
       "    <tr>\n",
       "      <th>0</th>\n",
       "      <td>[O, O, O, B-LOC, O, O, O, O]</td>\n",
       "      <td>[৫%, তার, চাইতে, পশ্চিমোরে, এর, সাক্ষরতার, হার...</td>\n",
       "    </tr>\n",
       "  </tbody>\n",
       "</table>\n",
       "</div>"
      ],
      "text/plain": [
       "                       ner_tags   \n",
       "0  [O, O, O, B-LOC, O, O, O, O]  \\\n",
       "\n",
       "                                              tokens  \n",
       "0  [৫%, তার, চাইতে, পশ্চিমোরে, এর, সাক্ষরতার, হার...  "
      ]
     },
     "execution_count": 195,
     "metadata": {},
     "output_type": "execute_result"
    }
   ],
   "source": [
    "test_df[:1]"
   ]
  },
  {
   "cell_type": "code",
   "execution_count": 196,
   "id": "c04ab588",
   "metadata": {},
   "outputs": [],
   "source": [
    "from datasets import Dataset, DatasetDict\n",
    "\n",
    "train_ds = Dataset.from_pandas(train_df)\n",
    "val_ds = Dataset.from_pandas(val_df)\n",
    "test_ds = Dataset.from_pandas(test_df)"
   ]
  },
  {
   "cell_type": "code",
   "execution_count": 197,
   "id": "2e0e68a6",
   "metadata": {},
   "outputs": [],
   "source": [
    "datasets = DatasetDict()\n",
    "datasets['train'] = train_ds\n",
    "datasets['validation'] = val_ds\n",
    "datasets['test'] = test_ds"
   ]
  },
  {
   "cell_type": "code",
   "execution_count": 198,
   "id": "aea65542",
   "metadata": {},
   "outputs": [
    {
     "data": {
      "text/plain": [
       "['তিনি',\n",
       " 'বলছিলেন',\n",
       " 'সবচেয়ে',\n",
       " 'বড়',\n",
       " 'কথা',\n",
       " 'উনি',\n",
       " 'খুব',\n",
       " 'ভালো',\n",
       " 'মানুষ',\n",
       " 'ছিলেন']"
      ]
     },
     "execution_count": 198,
     "metadata": {},
     "output_type": "execute_result"
    }
   ],
   "source": [
    "datasets[\"train\"][3][\"tokens\"]"
   ]
  },
  {
   "cell_type": "code",
   "execution_count": 199,
   "id": "e6186007",
   "metadata": {},
   "outputs": [
    {
     "data": {
      "text/plain": [
       "['B-PER', 'O', 'O', 'O', 'O', 'O', 'O', 'O', 'B-PER', 'O']"
      ]
     },
     "execution_count": 199,
     "metadata": {},
     "output_type": "execute_result"
    }
   ],
   "source": [
    "datasets[\"train\"][3][\"ner_tags\"]"
   ]
  },
  {
   "cell_type": "code",
   "execution_count": 200,
   "id": "043d58e9",
   "metadata": {},
   "outputs": [],
   "source": [
    "# create set from list\n",
    "expanded_tag_docs = []\n",
    "\n",
    "for tags in tag_docs:\n",
    "    for tag in tags:\n",
    "        expanded_tag_docs.append(tag)"
   ]
  },
  {
   "cell_type": "code",
   "execution_count": 201,
   "id": "38e07600",
   "metadata": {},
   "outputs": [
    {
     "data": {
      "text/plain": [
       "{'B-LOC', 'B-OBJ', 'B-ORG', 'B-PER', 'I-LOC', 'I-OBJ', 'I-ORG', 'I-PER', 'O'}"
      ]
     },
     "execution_count": 201,
     "metadata": {},
     "output_type": "execute_result"
    }
   ],
   "source": [
    "unique_tags = set(expanded_tag_docs)\n",
    "unique_tags"
   ]
  },
  {
   "cell_type": "code",
   "execution_count": 202,
   "id": "752dbf6b",
   "metadata": {},
   "outputs": [],
   "source": [
    "def assign_label(examples):\n",
    "    mapping = {'B-LOC':0, 'B-OBJ':1, 'B-ORG':2, 'B-PER':3, 'I-LOC':4, 'I-OBJ':5, 'I-ORG':6, 'I-PER':7, 'O':8}\n",
    "    ner_labels = []\n",
    "    for example in examples[\"ner_tags\"]:\n",
    "        ner_labels.append(mapping[example])\n",
    "    examples[\"ner_labels\"] = ner_labels\n",
    "    return examples"
   ]
  },
  {
   "cell_type": "code",
   "execution_count": 203,
   "id": "bbb87bf8",
   "metadata": {},
   "outputs": [
    {
     "data": {
      "application/vnd.jupyter.widget-view+json": {
       "model_id": "",
       "version_major": 2,
       "version_minor": 0
      },
      "text/plain": [
       "Map:   0%|          | 0/64155 [00:00<?, ? examples/s]"
      ]
     },
     "metadata": {},
     "output_type": "display_data"
    },
    {
     "data": {
      "application/vnd.jupyter.widget-view+json": {
       "model_id": "",
       "version_major": 2,
       "version_minor": 0
      },
      "text/plain": [
       "Map:   0%|          | 0/3565 [00:00<?, ? examples/s]"
      ]
     },
     "metadata": {},
     "output_type": "display_data"
    },
    {
     "data": {
      "application/vnd.jupyter.widget-view+json": {
       "model_id": "",
       "version_major": 2,
       "version_minor": 0
      },
      "text/plain": [
       "Map:   0%|          | 0/3565 [00:00<?, ? examples/s]"
      ]
     },
     "metadata": {},
     "output_type": "display_data"
    }
   ],
   "source": [
    "datasets = datasets.map(assign_label)"
   ]
  },
  {
   "cell_type": "code",
   "execution_count": 204,
   "id": "6eff5a27",
   "metadata": {},
   "outputs": [
    {
     "name": "stderr",
     "output_type": "stream",
     "text": [
      "Didn't find file ../Bengali Pretraining/models/unigram/unigram-long-text/added_tokens.json. We won't load it.\n",
      "loading file None\n",
      "loading file ../Bengali Pretraining/models/unigram/unigram-long-text/special_tokens_map.json\n",
      "loading file ../Bengali Pretraining/models/unigram/unigram-long-text/tokenizer_config.json\n",
      "loading file ../Bengali Pretraining/models/unigram/unigram-long-text/tokenizer.json\n"
     ]
    }
   ],
   "source": [
    "from transformers import AutoTokenizer\n",
    "\n",
    "model_checkpoint = \"../Bengali Pretraining/models/unigram/unigram-long-text\"\n",
    "tokenizer = AutoTokenizer.from_pretrained(model_checkpoint)"
   ]
  },
  {
   "cell_type": "code",
   "execution_count": 205,
   "id": "06b009f5-b9f1-48d5-8240-545d2a6e42bc",
   "metadata": {},
   "outputs": [],
   "source": [
    "# num_added_tokens = tokenizer.add_tokens([\"-\",\"’\",\"০\",\"১\",\"২\",\"৩\",\"৪\",\"৫\",\"৬\",\"৭\",\"৮\",\"৯\"])"
   ]
  },
  {
   "cell_type": "code",
   "execution_count": 206,
   "id": "6751623b",
   "metadata": {},
   "outputs": [
    {
     "data": {
      "text/plain": [
       "['[CLS]',\n",
       " '▁ত্রাণ',\n",
       " '▁',\n",
       " 'ও',\n",
       " '▁সমাজকল্যাণ',\n",
       " '▁সম্পাদক',\n",
       " '▁সুজিত',\n",
       " '▁রায়',\n",
       " '▁নন্দী',\n",
       " '▁প্রমুখ',\n",
       " '▁সংবাদ',\n",
       " '▁সম্মেলনে',\n",
       " '▁উপস্থিত',\n",
       " '▁ছিলেন',\n",
       " '[SEP]']"
      ]
     },
     "execution_count": 206,
     "metadata": {},
     "output_type": "execute_result"
    }
   ],
   "source": [
    "inputs = tokenizer(datasets[\"train\"][0][\"tokens\"], is_split_into_words=True)\n",
    "inputs.tokens()"
   ]
  },
  {
   "cell_type": "code",
   "execution_count": 207,
   "id": "10a65996",
   "metadata": {},
   "outputs": [
    {
     "data": {
      "text/plain": [
       "[None, 0, 1, 1, 2, 3, 4, 5, 6, 7, 8, 9, 10, 11, None]"
      ]
     },
     "execution_count": 207,
     "metadata": {},
     "output_type": "execute_result"
    }
   ],
   "source": [
    "inputs.word_ids()"
   ]
  },
  {
   "cell_type": "code",
   "execution_count": 208,
   "id": "ad691612",
   "metadata": {},
   "outputs": [],
   "source": [
    "def align_labels_with_tokens(labels, word_ids):\n",
    "    new_labels = []\n",
    "    current_word = None\n",
    "    for word_id in word_ids:\n",
    "        if word_id != current_word:\n",
    "            # Start of a new word!\n",
    "            current_word = word_id\n",
    "            label = -100 if word_id is None else labels[word_id]\n",
    "            new_labels.append(label)\n",
    "        elif word_id is None:\n",
    "            # Special token\n",
    "            new_labels.append(-100)\n",
    "        else:\n",
    "            # Same word as previous token\n",
    "            label = labels[word_id]\n",
    "            # If the label is B-XXX we change it to I-XXX\n",
    "            if label % 2 == 1:\n",
    "                label += 1\n",
    "            new_labels.append(label)\n",
    "\n",
    "    return new_labels"
   ]
  },
  {
   "cell_type": "code",
   "execution_count": 209,
   "id": "00327d91",
   "metadata": {},
   "outputs": [
    {
     "name": "stdout",
     "output_type": "stream",
     "text": [
      "[8, 8, 8, 3, 3, 7, 7, 8, 8, 8, 8, 8]\n",
      "[-100, 8, 8, 8, 8, 3, 3, 7, 7, 8, 8, 8, 8, 8, -100]\n"
     ]
    }
   ],
   "source": [
    "labels = datasets[\"train\"][0][\"ner_labels\"]\n",
    "word_ids = inputs.word_ids()\n",
    "print(labels)\n",
    "print(align_labels_with_tokens(labels, word_ids))"
   ]
  },
  {
   "cell_type": "code",
   "execution_count": 210,
   "id": "0dd7f08d",
   "metadata": {},
   "outputs": [
    {
     "data": {
      "text/plain": [
       "{'ner_tags': ['O',\n",
       "  'O',\n",
       "  'B-PER',\n",
       "  'B-OBJ',\n",
       "  'O',\n",
       "  'O',\n",
       "  'B-PER',\n",
       "  'O',\n",
       "  'O',\n",
       "  'B-PER',\n",
       "  'O',\n",
       "  'O',\n",
       "  'B-PER',\n",
       "  'O',\n",
       "  'B-OBJ',\n",
       "  'O'],\n",
       " 'tokens': ['পরিকল্পনা',\n",
       "  'অনুযায়ী',\n",
       "  'তারা',\n",
       "  'বাসায়',\n",
       "  'ঢুকে',\n",
       "  'দুই',\n",
       "  'অতিথিকে',\n",
       "  'নগ্ন',\n",
       "  'করে',\n",
       "  'তাদের',\n",
       "  'মাঝখানে',\n",
       "  'এক',\n",
       "  'ছাত্রীকে',\n",
       "  'বসিয়ে',\n",
       "  'ছবি',\n",
       "  'তোলেন'],\n",
       " '__index_level_0__': 1,\n",
       " 'ner_labels': [8, 8, 3, 1, 8, 8, 3, 8, 8, 3, 8, 8, 3, 8, 1, 8]}"
      ]
     },
     "execution_count": 210,
     "metadata": {},
     "output_type": "execute_result"
    }
   ],
   "source": [
    "datasets[\"train\"][1]"
   ]
  },
  {
   "cell_type": "code",
   "execution_count": 211,
   "id": "b79e80d2",
   "metadata": {},
   "outputs": [
    {
     "data": {
      "text/plain": [
       "['B-LOC', 'B-OBJ', 'B-ORG', 'B-PER', 'I-LOC', 'I-OBJ', 'I-ORG', 'I-PER', 'O']"
      ]
     },
     "execution_count": 211,
     "metadata": {},
     "output_type": "execute_result"
    }
   ],
   "source": [
    "mapping = {'B-LOC':0, 'B-OBJ':1, 'B-ORG':2, 'B-PER':3, 'I-LOC':4, 'I-OBJ':5, 'I-ORG':6, 'I-PER':7, 'O':8}\n",
    "label_names = list()\n",
    "for k, v in mapping.items():\n",
    "    label_names.append(k)\n",
    "\n",
    "label_names"
   ]
  },
  {
   "cell_type": "code",
   "execution_count": 212,
   "id": "26f55a24",
   "metadata": {},
   "outputs": [],
   "source": [
    "def tokenize_and_align_labels(examples):\n",
    "    tokenized_inputs = tokenizer(\n",
    "        examples[\"tokens\"], truncation=True, is_split_into_words=True, max_length=128\n",
    "    )\n",
    "    all_labels = examples[\"ner_labels\"]\n",
    "    new_labels = []\n",
    "    for i, labels in enumerate(all_labels):\n",
    "        word_ids = tokenized_inputs.word_ids(i)\n",
    "        new_labels.append(align_labels_with_tokens(labels, word_ids))\n",
    "\n",
    "    tokenized_inputs[\"labels\"] = new_labels\n",
    "    return tokenized_inputs"
   ]
  },
  {
   "cell_type": "code",
   "execution_count": 213,
   "id": "4ab34ae7",
   "metadata": {},
   "outputs": [
    {
     "data": {
      "application/vnd.jupyter.widget-view+json": {
       "model_id": "",
       "version_major": 2,
       "version_minor": 0
      },
      "text/plain": [
       "Map:   0%|          | 0/64155 [00:00<?, ? examples/s]"
      ]
     },
     "metadata": {},
     "output_type": "display_data"
    },
    {
     "data": {
      "application/vnd.jupyter.widget-view+json": {
       "model_id": "",
       "version_major": 2,
       "version_minor": 0
      },
      "text/plain": [
       "Map:   0%|          | 0/3565 [00:00<?, ? examples/s]"
      ]
     },
     "metadata": {},
     "output_type": "display_data"
    },
    {
     "data": {
      "application/vnd.jupyter.widget-view+json": {
       "model_id": "",
       "version_major": 2,
       "version_minor": 0
      },
      "text/plain": [
       "Map:   0%|          | 0/3565 [00:00<?, ? examples/s]"
      ]
     },
     "metadata": {},
     "output_type": "display_data"
    }
   ],
   "source": [
    "tokenized_datasets = datasets.map(\n",
    "    tokenize_and_align_labels,\n",
    "    batched=True,\n",
    "    remove_columns=datasets[\"train\"].column_names,\n",
    ")"
   ]
  },
  {
   "cell_type": "code",
   "execution_count": 214,
   "id": "4b702bcd",
   "metadata": {},
   "outputs": [
    {
     "data": {
      "text/plain": [
       "DatasetDict({\n",
       "    train: Dataset({\n",
       "        features: ['input_ids', 'token_type_ids', 'attention_mask', 'labels'],\n",
       "        num_rows: 64155\n",
       "    })\n",
       "    validation: Dataset({\n",
       "        features: ['input_ids', 'token_type_ids', 'attention_mask', 'labels'],\n",
       "        num_rows: 3565\n",
       "    })\n",
       "    test: Dataset({\n",
       "        features: ['input_ids', 'token_type_ids', 'attention_mask', 'labels'],\n",
       "        num_rows: 3565\n",
       "    })\n",
       "})"
      ]
     },
     "execution_count": 214,
     "metadata": {},
     "output_type": "execute_result"
    }
   ],
   "source": [
    "tokenized_datasets"
   ]
  },
  {
   "cell_type": "code",
   "execution_count": 215,
   "id": "7ffd947c",
   "metadata": {},
   "outputs": [],
   "source": [
    "from transformers import DataCollatorForTokenClassification\n",
    "\n",
    "data_collator = DataCollatorForTokenClassification(tokenizer=tokenizer)"
   ]
  },
  {
   "cell_type": "code",
   "execution_count": 216,
   "id": "431b8649",
   "metadata": {},
   "outputs": [
    {
     "data": {
      "text/plain": [
       "tensor([[-100,    8,    8,    8,    8,    3,    3,    7,    7,    8,    8,    8,\n",
       "            8,    8, -100, -100, -100, -100, -100],\n",
       "        [-100,    8,    8,    3,    1,    8,    8,    3,    4,    8,    8,    3,\n",
       "            8,    8,    3,    8,    1,    8, -100]])"
      ]
     },
     "execution_count": 216,
     "metadata": {},
     "output_type": "execute_result"
    }
   ],
   "source": [
    "batch = data_collator([tokenized_datasets[\"train\"][i] for i in range(2)])\n",
    "batch[\"labels\"]"
   ]
  },
  {
   "cell_type": "code",
   "execution_count": 217,
   "id": "f05669fb",
   "metadata": {},
   "outputs": [
    {
     "name": "stdout",
     "output_type": "stream",
     "text": [
      "[-100, 8, 8, 8, 8, 3, 3, 7, 7, 8, 8, 8, 8, 8, -100]\n",
      "[-100, 8, 8, 3, 1, 8, 8, 3, 4, 8, 8, 3, 8, 8, 3, 8, 1, 8, -100]\n"
     ]
    }
   ],
   "source": [
    "for i in range(2):\n",
    "    print(tokenized_datasets[\"train\"][i][\"labels\"])"
   ]
  },
  {
   "cell_type": "code",
   "execution_count": 218,
   "id": "255c930d",
   "metadata": {},
   "outputs": [],
   "source": [
    "import evaluate\n",
    "\n",
    "metric = evaluate.load(\"seqeval\")"
   ]
  },
  {
   "cell_type": "code",
   "execution_count": 219,
   "id": "cb531a84",
   "metadata": {},
   "outputs": [
    {
     "data": {
      "text/plain": [
       "['O', 'O', 'O', 'B-PER', 'B-PER', 'I-PER', 'I-PER', 'O', 'O', 'O', 'O', 'O']"
      ]
     },
     "execution_count": 219,
     "metadata": {},
     "output_type": "execute_result"
    }
   ],
   "source": [
    "labels = datasets[\"train\"][0][\"ner_labels\"]\n",
    "labels = [label_names[i] for i in labels]\n",
    "labels"
   ]
  },
  {
   "cell_type": "code",
   "execution_count": 220,
   "id": "55c8ddaf",
   "metadata": {},
   "outputs": [
    {
     "data": {
      "text/plain": [
       "{'PER': {'precision': 0.6666666666666666,\n",
       "  'recall': 1.0,\n",
       "  'f1': 0.8,\n",
       "  'number': 2},\n",
       " 'overall_precision': 0.6666666666666666,\n",
       " 'overall_recall': 1.0,\n",
       " 'overall_f1': 0.8,\n",
       " 'overall_accuracy': 0.9166666666666666}"
      ]
     },
     "execution_count": 220,
     "metadata": {},
     "output_type": "execute_result"
    }
   ],
   "source": [
    "predictions = labels.copy()\n",
    "predictions[2] = 'B-PER'\n",
    "metric.compute(predictions=[predictions], references=[labels])"
   ]
  },
  {
   "cell_type": "code",
   "execution_count": 221,
   "id": "3dd18f17",
   "metadata": {},
   "outputs": [],
   "source": [
    "import numpy as np\n",
    "\n",
    "\n",
    "def compute_metrics(eval_preds):\n",
    "    logits, labels = eval_preds\n",
    "    predictions = np.argmax(logits, axis=-1)\n",
    "\n",
    "    # Remove ignored index (special tokens) and convert to labels\n",
    "    true_labels = [[label_names[l] for l in label if l != -100] for label in labels]\n",
    "    true_predictions = [\n",
    "        [label_names[p] for (p, l) in zip(prediction, label) if l != -100]\n",
    "        for prediction, label in zip(predictions, labels)\n",
    "    ]\n",
    "    all_metrics = metric.compute(predictions=true_predictions, references=true_labels)\n",
    "    return {\n",
    "        \"precision\": all_metrics[\"overall_precision\"],\n",
    "        \"recall\": all_metrics[\"overall_recall\"],\n",
    "        \"f1\": all_metrics[\"overall_f1\"],\n",
    "        \"accuracy\": all_metrics[\"overall_accuracy\"],\n",
    "    }"
   ]
  },
  {
   "cell_type": "code",
   "execution_count": 222,
   "id": "112ffa3c",
   "metadata": {},
   "outputs": [],
   "source": [
    "id2label = {i: label for i, label in enumerate(label_names)}\n",
    "label2id = {v: k for k, v in id2label.items()}"
   ]
  },
  {
   "cell_type": "code",
   "execution_count": 223,
   "id": "f5adc444",
   "metadata": {},
   "outputs": [
    {
     "data": {
      "text/plain": [
       "{0: 'B-LOC',\n",
       " 1: 'B-OBJ',\n",
       " 2: 'B-ORG',\n",
       " 3: 'B-PER',\n",
       " 4: 'I-LOC',\n",
       " 5: 'I-OBJ',\n",
       " 6: 'I-ORG',\n",
       " 7: 'I-PER',\n",
       " 8: 'O'}"
      ]
     },
     "execution_count": 223,
     "metadata": {},
     "output_type": "execute_result"
    }
   ],
   "source": [
    "id2label"
   ]
  },
  {
   "cell_type": "code",
   "execution_count": 224,
   "id": "7db2d7cf",
   "metadata": {},
   "outputs": [
    {
     "data": {
      "text/plain": [
       "{'B-LOC': 0,\n",
       " 'B-OBJ': 1,\n",
       " 'B-ORG': 2,\n",
       " 'B-PER': 3,\n",
       " 'I-LOC': 4,\n",
       " 'I-OBJ': 5,\n",
       " 'I-ORG': 6,\n",
       " 'I-PER': 7,\n",
       " 'O': 8}"
      ]
     },
     "execution_count": 224,
     "metadata": {},
     "output_type": "execute_result"
    }
   ],
   "source": [
    "label2id"
   ]
  },
  {
   "cell_type": "code",
   "execution_count": 225,
   "id": "1c8c7b74-f2e6-45e1-a26d-90f6f43347b0",
   "metadata": {},
   "outputs": [],
   "source": [
    "from transformers import set_seed\n",
    "set_seed(42)"
   ]
  },
  {
   "cell_type": "code",
   "execution_count": 226,
   "id": "72d4ba2d",
   "metadata": {},
   "outputs": [
    {
     "name": "stderr",
     "output_type": "stream",
     "text": [
      "loading configuration file ../Bengali Pretraining/models/unigram/unigram-long-text/config.json\n",
      "Model config BertConfig {\n",
      "  \"_name_or_path\": \"../Bengali Pretraining/models/unigram/unigram-long-text\",\n",
      "  \"architectures\": [\n",
      "    \"BertForMaskedLM\"\n",
      "  ],\n",
      "  \"attention_probs_dropout_prob\": 0.1,\n",
      "  \"classifier_dropout\": null,\n",
      "  \"hidden_act\": \"gelu\",\n",
      "  \"hidden_dropout_prob\": 0.1,\n",
      "  \"hidden_size\": 768,\n",
      "  \"id2label\": {\n",
      "    \"0\": \"B-LOC\",\n",
      "    \"1\": \"B-OBJ\",\n",
      "    \"2\": \"B-ORG\",\n",
      "    \"3\": \"B-PER\",\n",
      "    \"4\": \"I-LOC\",\n",
      "    \"5\": \"I-OBJ\",\n",
      "    \"6\": \"I-ORG\",\n",
      "    \"7\": \"I-PER\",\n",
      "    \"8\": \"O\"\n",
      "  },\n",
      "  \"initializer_range\": 0.02,\n",
      "  \"intermediate_size\": 3072,\n",
      "  \"label2id\": {\n",
      "    \"B-LOC\": 0,\n",
      "    \"B-OBJ\": 1,\n",
      "    \"B-ORG\": 2,\n",
      "    \"B-PER\": 3,\n",
      "    \"I-LOC\": 4,\n",
      "    \"I-OBJ\": 5,\n",
      "    \"I-ORG\": 6,\n",
      "    \"I-PER\": 7,\n",
      "    \"O\": 8\n",
      "  },\n",
      "  \"layer_norm_eps\": 1e-12,\n",
      "  \"max_position_embeddings\": 512,\n",
      "  \"model_type\": \"bert\",\n",
      "  \"num_attention_heads\": 12,\n",
      "  \"num_hidden_layers\": 12,\n",
      "  \"pad_token_id\": 1,\n",
      "  \"position_embedding_type\": \"absolute\",\n",
      "  \"torch_dtype\": \"float32\",\n",
      "  \"transformers_version\": \"4.16.0.dev0\",\n",
      "  \"type_vocab_size\": 2,\n",
      "  \"use_cache\": true,\n",
      "  \"vocab_size\": 30522\n",
      "}\n",
      "\n",
      "loading weights file ../Bengali Pretraining/models/unigram/unigram-long-text/pytorch_model.bin\n",
      "Some weights of the model checkpoint at ../Bengali Pretraining/models/unigram/unigram-long-text were not used when initializing BertForTokenClassification: ['cls.predictions.transform.dense.bias', 'cls.predictions.transform.LayerNorm.bias', 'cls.predictions.bias', 'cls.predictions.transform.dense.weight', 'cls.predictions.decoder.bias', 'cls.predictions.transform.LayerNorm.weight', 'cls.predictions.decoder.weight']\n",
      "- This IS expected if you are initializing BertForTokenClassification from the checkpoint of a model trained on another task or with another architecture (e.g. initializing a BertForSequenceClassification model from a BertForPreTraining model).\n",
      "- This IS NOT expected if you are initializing BertForTokenClassification from the checkpoint of a model that you expect to be exactly identical (initializing a BertForSequenceClassification model from a BertForSequenceClassification model).\n",
      "Some weights of BertForTokenClassification were not initialized from the model checkpoint at ../Bengali Pretraining/models/unigram/unigram-long-text and are newly initialized: ['classifier.weight', 'classifier.bias']\n",
      "You should probably TRAIN this model on a down-stream task to be able to use it for predictions and inference.\n"
     ]
    }
   ],
   "source": [
    "from transformers import AutoModelForTokenClassification\n",
    "\n",
    "model = AutoModelForTokenClassification.from_pretrained(\n",
    "    model_checkpoint,\n",
    "    id2label=id2label,\n",
    "    label2id=label2id,\n",
    ")"
   ]
  },
  {
   "cell_type": "code",
   "execution_count": 227,
   "id": "a50a7dd8-fd7f-49d3-8e28-90f470634600",
   "metadata": {},
   "outputs": [],
   "source": [
    "# model.resize_token_embeddings(len(tokenizer))"
   ]
  },
  {
   "cell_type": "code",
   "execution_count": 228,
   "id": "d109b284",
   "metadata": {},
   "outputs": [
    {
     "data": {
      "text/plain": [
       "9"
      ]
     },
     "execution_count": 228,
     "metadata": {},
     "output_type": "execute_result"
    }
   ],
   "source": [
    "model.config.num_labels"
   ]
  },
  {
   "cell_type": "code",
   "execution_count": 229,
   "id": "2c5fa9f3",
   "metadata": {},
   "outputs": [],
   "source": [
    "#  disable weights and biases logging\n",
    "import os\n",
    "os.environ[\"WANDB_DISABLED\"] = \"true\""
   ]
  },
  {
   "cell_type": "code",
   "execution_count": 230,
   "id": "45dd4941",
   "metadata": {},
   "outputs": [
    {
     "name": "stderr",
     "output_type": "stream",
     "text": [
      "PyTorch: setting up devices\n",
      "The default value for the training argument `--report_to` will change in v5 (from all installed integrations to none). In v5, you will need to use `--report_to all` to get the same behavior as now. You should start updating your code and make this info disappear :-).\n",
      "Using the `WAND_DISABLED` environment variable is deprecated and will be removed in v5. Use the --report_to flag to control the integrations used for logging result (for instance --report_to none).\n"
     ]
    }
   ],
   "source": [
    "from transformers import TrainingArguments\n",
    "# batch_size = 16\n",
    "batch_size = 32\n",
    "\n",
    "args = TrainingArguments(\n",
    "    \"models/ner\",\n",
    "    report_to = None,\n",
    "    save_strategy=\"epoch\",\n",
    "    evaluation_strategy=\"epoch\",\n",
    "    #save_strategy=\"epoch\",\n",
    "    learning_rate=2e-5,\n",
    "    # learning_rate=3e-5,\n",
    "    #num_train_epochs=3,\n",
    "    num_train_epochs=4,\n",
    "    weight_decay=0.01,\n",
    "    warmup_ratio=0.06,\n",
    "    per_device_train_batch_size=batch_size,\n",
    "    per_device_eval_batch_size=batch_size,\n",
    "    metric_for_best_model = 'f1',\n",
    "    load_best_model_at_end=True,\n",
    ")"
   ]
  },
  {
   "cell_type": "code",
   "execution_count": 231,
   "id": "a4ed5697",
   "metadata": {},
   "outputs": [],
   "source": [
    "from transformers import Trainer\n",
    "\n",
    "trainer = Trainer(\n",
    "    model=model,\n",
    "    args=args,\n",
    "    train_dataset=tokenized_datasets[\"train\"],\n",
    "    eval_dataset=tokenized_datasets[\"validation\"],\n",
    "    data_collator=data_collator,\n",
    "    compute_metrics=compute_metrics,\n",
    "    tokenizer=tokenizer,\n",
    ")"
   ]
  },
  {
   "cell_type": "code",
   "execution_count": 232,
   "id": "062d660c",
   "metadata": {},
   "outputs": [],
   "source": [
    "import transformers\n",
    "trainer.remove_callback(transformers.integrations.TensorBoardCallback)"
   ]
  },
  {
   "cell_type": "code",
   "execution_count": 233,
   "id": "5c722300",
   "metadata": {},
   "outputs": [
    {
     "name": "stderr",
     "output_type": "stream",
     "text": [
      "***** Running Evaluation *****\n",
      "  Num examples = 3565\n",
      "  Batch size = 32\n"
     ]
    },
    {
     "data": {
      "text/html": [
       "\n",
       "    <div>\n",
       "      \n",
       "      <progress value='224' max='112' style='width:300px; height:20px; vertical-align: middle;'></progress>\n",
       "      [112/112 01:51]\n",
       "    </div>\n",
       "    "
      ],
      "text/plain": [
       "<IPython.core.display.HTML object>"
      ]
     },
     "metadata": {},
     "output_type": "display_data"
    },
    {
     "data": {
      "text/plain": [
       "{'eval_loss': 2.4414865970611572,\n",
       " 'eval_precision': 0.02632137550413925,\n",
       " 'eval_recall': 0.10829694323144105,\n",
       " 'eval_f1': 0.04234972677595628,\n",
       " 'eval_accuracy': 0.07318426284076374,\n",
       " 'eval_runtime': 2.9445,\n",
       " 'eval_samples_per_second': 1210.744,\n",
       " 'eval_steps_per_second': 38.037}"
      ]
     },
     "execution_count": 233,
     "metadata": {},
     "output_type": "execute_result"
    }
   ],
   "source": [
    "trainer.evaluate()"
   ]
  },
  {
   "cell_type": "code",
   "execution_count": 234,
   "id": "571a538d",
   "metadata": {},
   "outputs": [
    {
     "name": "stderr",
     "output_type": "stream",
     "text": [
      "***** Running training *****\n",
      "  Num examples = 64155\n",
      "  Num Epochs = 4\n",
      "  Instantaneous batch size per device = 32\n",
      "  Total train batch size (w. parallel, distributed & accumulation) = 32\n",
      "  Gradient Accumulation steps = 1\n",
      "  Total optimization steps = 8020\n"
     ]
    },
    {
     "data": {
      "text/html": [
       "\n",
       "    <div>\n",
       "      \n",
       "      <progress value='8020' max='8020' style='width:300px; height:20px; vertical-align: middle;'></progress>\n",
       "      [8020/8020 07:59, Epoch 4/4]\n",
       "    </div>\n",
       "    <table border=\"1\" class=\"dataframe\">\n",
       "  <thead>\n",
       " <tr style=\"text-align: left;\">\n",
       "      <th>Epoch</th>\n",
       "      <th>Training Loss</th>\n",
       "      <th>Validation Loss</th>\n",
       "      <th>Precision</th>\n",
       "      <th>Recall</th>\n",
       "      <th>F1</th>\n",
       "      <th>Accuracy</th>\n",
       "    </tr>\n",
       "  </thead>\n",
       "  <tbody>\n",
       "    <tr>\n",
       "      <td>1</td>\n",
       "      <td>0.281000</td>\n",
       "      <td>0.277574</td>\n",
       "      <td>0.702713</td>\n",
       "      <td>0.696167</td>\n",
       "      <td>0.699425</td>\n",
       "      <td>0.899955</td>\n",
       "    </tr>\n",
       "    <tr>\n",
       "      <td>2</td>\n",
       "      <td>0.231600</td>\n",
       "      <td>0.259539</td>\n",
       "      <td>0.723801</td>\n",
       "      <td>0.689665</td>\n",
       "      <td>0.706321</td>\n",
       "      <td>0.905226</td>\n",
       "    </tr>\n",
       "    <tr>\n",
       "      <td>3</td>\n",
       "      <td>0.190800</td>\n",
       "      <td>0.265740</td>\n",
       "      <td>0.709305</td>\n",
       "      <td>0.720524</td>\n",
       "      <td>0.714870</td>\n",
       "      <td>0.904671</td>\n",
       "    </tr>\n",
       "    <tr>\n",
       "      <td>4</td>\n",
       "      <td>0.167500</td>\n",
       "      <td>0.282348</td>\n",
       "      <td>0.707635</td>\n",
       "      <td>0.721300</td>\n",
       "      <td>0.714402</td>\n",
       "      <td>0.904733</td>\n",
       "    </tr>\n",
       "  </tbody>\n",
       "</table><p>"
      ],
      "text/plain": [
       "<IPython.core.display.HTML object>"
      ]
     },
     "metadata": {},
     "output_type": "display_data"
    },
    {
     "name": "stderr",
     "output_type": "stream",
     "text": [
      "***** Running Evaluation *****\n",
      "  Num examples = 3565\n",
      "  Batch size = 32\n",
      "Saving model checkpoint to models/ner/checkpoint-2005\n",
      "Configuration saved in models/ner/checkpoint-2005/config.json\n",
      "Model weights saved in models/ner/checkpoint-2005/pytorch_model.bin\n",
      "tokenizer config file saved in models/ner/checkpoint-2005/tokenizer_config.json\n",
      "Special tokens file saved in models/ner/checkpoint-2005/special_tokens_map.json\n",
      "***** Running Evaluation *****\n",
      "  Num examples = 3565\n",
      "  Batch size = 32\n",
      "Saving model checkpoint to models/ner/checkpoint-4010\n",
      "Configuration saved in models/ner/checkpoint-4010/config.json\n",
      "Model weights saved in models/ner/checkpoint-4010/pytorch_model.bin\n",
      "tokenizer config file saved in models/ner/checkpoint-4010/tokenizer_config.json\n",
      "Special tokens file saved in models/ner/checkpoint-4010/special_tokens_map.json\n",
      "***** Running Evaluation *****\n",
      "  Num examples = 3565\n",
      "  Batch size = 32\n",
      "Saving model checkpoint to models/ner/checkpoint-6015\n",
      "Configuration saved in models/ner/checkpoint-6015/config.json\n",
      "Model weights saved in models/ner/checkpoint-6015/pytorch_model.bin\n",
      "tokenizer config file saved in models/ner/checkpoint-6015/tokenizer_config.json\n",
      "Special tokens file saved in models/ner/checkpoint-6015/special_tokens_map.json\n",
      "***** Running Evaluation *****\n",
      "  Num examples = 3565\n",
      "  Batch size = 32\n",
      "Saving model checkpoint to models/ner/checkpoint-8020\n",
      "Configuration saved in models/ner/checkpoint-8020/config.json\n",
      "Model weights saved in models/ner/checkpoint-8020/pytorch_model.bin\n",
      "tokenizer config file saved in models/ner/checkpoint-8020/tokenizer_config.json\n",
      "Special tokens file saved in models/ner/checkpoint-8020/special_tokens_map.json\n",
      "\n",
      "\n",
      "Training completed. Do not forget to share your model on huggingface.co/models =)\n",
      "\n",
      "\n",
      "Loading best model from models/ner/checkpoint-6015 (score: 0.7148702642853704).\n"
     ]
    },
    {
     "data": {
      "text/plain": [
       "TrainOutput(global_step=8020, training_loss=0.23953841996014563, metrics={'train_runtime': 479.8018, 'train_samples_per_second': 534.846, 'train_steps_per_second': 16.715, 'total_flos': 5117780019313440.0, 'train_loss': 0.23953841996014563, 'epoch': 4.0})"
      ]
     },
     "execution_count": 234,
     "metadata": {},
     "output_type": "execute_result"
    }
   ],
   "source": [
    "trainer.train()"
   ]
  },
  {
   "cell_type": "code",
   "execution_count": 224,
   "id": "2c035b7d",
   "metadata": {},
   "outputs": [
    {
     "name": "stderr",
     "output_type": "stream",
     "text": [
      "Saving model checkpoint to models/ner\n",
      "Configuration saved in models/ner/config.json\n",
      "Model weights saved in models/ner/pytorch_model.bin\n",
      "tokenizer config file saved in models/ner/tokenizer_config.json\n",
      "Special tokens file saved in models/ner/special_tokens_map.json\n"
     ]
    }
   ],
   "source": [
    "trainer.save_model()"
   ]
  },
  {
   "cell_type": "code",
   "execution_count": 235,
   "id": "b59ee817",
   "metadata": {},
   "outputs": [],
   "source": [
    "# trainer.args.num_train_epochs = trainer.args.num_train_epochs + 1\n",
    "# trainer.train(\"models/ner/checkpoint-2005\")"
   ]
  },
  {
   "cell_type": "code",
   "execution_count": 236,
   "id": "d97ddbe4",
   "metadata": {},
   "outputs": [],
   "source": [
    "import gc, torch\n",
    "gc.collect()\n",
    "torch.cuda.empty_cache()"
   ]
  },
  {
   "cell_type": "code",
   "execution_count": 237,
   "id": "dca43a72",
   "metadata": {},
   "outputs": [
    {
     "name": "stderr",
     "output_type": "stream",
     "text": [
      "***** Running Evaluation *****\n",
      "  Num examples = 3565\n",
      "  Batch size = 32\n"
     ]
    },
    {
     "data": {
      "text/html": [
       "\n",
       "    <div>\n",
       "      \n",
       "      <progress value='112' max='112' style='width:300px; height:20px; vertical-align: middle;'></progress>\n",
       "      [112/112 00:01]\n",
       "    </div>\n",
       "    "
      ],
      "text/plain": [
       "<IPython.core.display.HTML object>"
      ]
     },
     "metadata": {},
     "output_type": "display_data"
    },
    {
     "data": {
      "text/plain": [
       "{'eval_loss': 0.26574015617370605,\n",
       " 'eval_precision': 0.7093045471914405,\n",
       " 'eval_recall': 0.7205240174672489,\n",
       " 'eval_f1': 0.7148702642853704,\n",
       " 'eval_accuracy': 0.9046709096793084,\n",
       " 'eval_runtime': 2.8452,\n",
       " 'eval_samples_per_second': 1253.006,\n",
       " 'eval_steps_per_second': 39.365,\n",
       " 'epoch': 4.0}"
      ]
     },
     "execution_count": 237,
     "metadata": {},
     "output_type": "execute_result"
    }
   ],
   "source": [
    "trainer.evaluate(tokenized_datasets[\"test\"])"
   ]
  }
 ],
 "metadata": {
  "kernelspec": {
   "display_name": "Python 3 (ipykernel)",
   "language": "python",
   "name": "python3"
  },
  "language_info": {
   "codemirror_mode": {
    "name": "ipython",
    "version": 3
   },
   "file_extension": ".py",
   "mimetype": "text/x-python",
   "name": "python",
   "nbconvert_exporter": "python",
   "pygments_lexer": "ipython3",
   "version": "3.10.6"
  }
 },
 "nbformat": 4,
 "nbformat_minor": 5
}
