{
 "cells": [
  {
   "cell_type": "code",
   "execution_count": 1,
   "id": "705888d8",
   "metadata": {},
   "outputs": [
    {
     "name": "stderr",
     "output_type": "stream",
     "text": [
      "Using custom data configuration default-02f2b2f3fa2d27bd\n",
      "Found cached dataset csv (C:/Users/arifa/.cache/huggingface/datasets/csv/default-02f2b2f3fa2d27bd/0.0.0/6b34fb8fcf56f7c8ba51dc895bfa2bfbe43546f190a60fcf74bb5e8afdcc2317)\n"
     ]
    }
   ],
   "source": [
    "from datasets import load_dataset\n",
    "\n",
    "\n",
    "train_dataset = load_dataset(\"csv\", data_files=\"..\\datasets\\soham-articles\\\\bn\\\\bn-train.csv\", column_names=[\"labels\",\"text\"], split=\"train\")"
   ]
  },
  {
   "cell_type": "code",
   "execution_count": 2,
   "id": "7484c2dd",
   "metadata": {},
   "outputs": [
    {
     "name": "stderr",
     "output_type": "stream",
     "text": [
      "Using custom data configuration default-ea82245f012595c5\n",
      "Found cached dataset csv (C:/Users/arifa/.cache/huggingface/datasets/csv/default-ea82245f012595c5/0.0.0/6b34fb8fcf56f7c8ba51dc895bfa2bfbe43546f190a60fcf74bb5e8afdcc2317)\n"
     ]
    }
   ],
   "source": [
    "valid_dataset = load_dataset(\"csv\", data_files=\"..\\datasets\\soham-articles\\\\bn\\\\bn-valid.csv\", column_names=[\"labels\",\"text\"], split=\"train\")"
   ]
  },
  {
   "cell_type": "code",
   "execution_count": 3,
   "id": "b105db92",
   "metadata": {},
   "outputs": [
    {
     "name": "stderr",
     "output_type": "stream",
     "text": [
      "Using custom data configuration default-4e1c4cf71b1df758\n",
      "Found cached dataset csv (C:/Users/arifa/.cache/huggingface/datasets/csv/default-4e1c4cf71b1df758/0.0.0/6b34fb8fcf56f7c8ba51dc895bfa2bfbe43546f190a60fcf74bb5e8afdcc2317)\n"
     ]
    }
   ],
   "source": [
    "test_dataset = load_dataset(\"csv\", data_files=\"..\\datasets\\soham-articles\\\\bn\\\\bn-test.csv\", column_names=[\"labels\",\"text\"], split=\"train\")"
   ]
  },
  {
   "cell_type": "code",
   "execution_count": 4,
   "id": "971c96bd",
   "metadata": {},
   "outputs": [],
   "source": [
    "from datasets import Dataset, DatasetDict\n",
    "\n",
    "news_datasets = DatasetDict()\n",
    "news_datasets['train'] = train_dataset\n",
    "news_datasets['test'] = test_dataset\n",
    "news_datasets['validation'] = valid_dataset"
   ]
  },
  {
   "cell_type": "code",
   "execution_count": 5,
   "id": "8e6758cd",
   "metadata": {},
   "outputs": [
    {
     "data": {
      "text/plain": [
       "DatasetDict({\n",
       "    train: Dataset({\n",
       "        features: ['labels', 'text'],\n",
       "        num_rows: 11284\n",
       "    })\n",
       "    test: Dataset({\n",
       "        features: ['labels', 'text'],\n",
       "        num_rows: 1411\n",
       "    })\n",
       "    validation: Dataset({\n",
       "        features: ['labels', 'text'],\n",
       "        num_rows: 1411\n",
       "    })\n",
       "})"
      ]
     },
     "execution_count": 5,
     "metadata": {},
     "output_type": "execute_result"
    }
   ],
   "source": [
    "news_datasets"
   ]
  },
  {
   "cell_type": "code",
   "execution_count": 6,
   "id": "62c44db0",
   "metadata": {},
   "outputs": [],
   "source": [
    "train_dataset.set_format(\"pandas\")"
   ]
  },
  {
   "cell_type": "code",
   "execution_count": 7,
   "id": "7386598c",
   "metadata": {},
   "outputs": [],
   "source": [
    "# get label counts for both classes\n",
    "label_counts = train_dataset[\"labels\"].value_counts()\n",
    "num_labels = (len(label_counts.keys()))"
   ]
  },
  {
   "cell_type": "code",
   "execution_count": 8,
   "id": "91fd91ef",
   "metadata": {},
   "outputs": [
    {
     "data": {
      "text/plain": [
       "kolkata          4603\n",
       "state            2245\n",
       "national         1435\n",
       "sports           1289\n",
       "entertainment    1186\n",
       "international     526\n",
       "Name: labels, dtype: int64"
      ]
     },
     "execution_count": 8,
     "metadata": {},
     "output_type": "execute_result"
    }
   ],
   "source": [
    "label_counts"
   ]
  },
  {
   "cell_type": "code",
   "execution_count": 9,
   "id": "cfcd1891",
   "metadata": {},
   "outputs": [
    {
     "data": {
      "text/plain": [
       "13776"
      ]
     },
     "execution_count": 9,
     "metadata": {},
     "output_type": "execute_result"
    }
   ],
   "source": [
    "max_token_length = max(train_dataset['text'].str.len())\n",
    "max_token_length"
   ]
  },
  {
   "cell_type": "code",
   "execution_count": 10,
   "id": "9848d245",
   "metadata": {},
   "outputs": [],
   "source": [
    "train_dataset.reset_format()"
   ]
  },
  {
   "cell_type": "code",
   "execution_count": 11,
   "id": "698c93f2",
   "metadata": {},
   "outputs": [],
   "source": [
    "from transformers import set_seed\n",
    "\n",
    "# set_seed(30)\n",
    "set_seed(42)"
   ]
  },
  {
   "cell_type": "code",
   "execution_count": 12,
   "id": "3ae60928",
   "metadata": {},
   "outputs": [],
   "source": [
    "from transformers import PreTrainedTokenizerFast, AutoModelForSequenceClassification\n",
    "\n",
    "tokenizer = PreTrainedTokenizerFast.from_pretrained(\"../Bengali Pretraining/models/unigram/unigram-long-text\")"
   ]
  },
  {
   "cell_type": "code",
   "execution_count": 13,
   "id": "0f6eac14",
   "metadata": {},
   "outputs": [
    {
     "name": "stderr",
     "output_type": "stream",
     "text": [
      "Some weights of the model checkpoint at ../Bengali Pretraining/models/unigram/unigram-long-text were not used when initializing BertForSequenceClassification: ['cls.predictions.transform.dense.weight', 'cls.predictions.decoder.bias', 'cls.predictions.decoder.weight', 'cls.predictions.bias', 'cls.predictions.transform.LayerNorm.bias', 'cls.predictions.transform.LayerNorm.weight', 'cls.predictions.transform.dense.bias']\n",
      "- This IS expected if you are initializing BertForSequenceClassification from the checkpoint of a model trained on another task or with another architecture (e.g. initializing a BertForSequenceClassification model from a BertForPreTraining model).\n",
      "- This IS NOT expected if you are initializing BertForSequenceClassification from the checkpoint of a model that you expect to be exactly identical (initializing a BertForSequenceClassification model from a BertForSequenceClassification model).\n",
      "Some weights of BertForSequenceClassification were not initialized from the model checkpoint at ../Bengali Pretraining/models/unigram/unigram-long-text and are newly initialized: ['classifier.weight', 'bert.pooler.dense.weight', 'classifier.bias', 'bert.pooler.dense.bias']\n",
      "You should probably TRAIN this model on a down-stream task to be able to use it for predictions and inference.\n"
     ]
    }
   ],
   "source": [
    "model =  AutoModelForSequenceClassification.from_pretrained(\"../Bengali Pretraining/models/unigram/unigram-long-text\", num_labels=num_labels)"
   ]
  },
  {
   "cell_type": "code",
   "execution_count": 14,
   "id": "894a223a",
   "metadata": {},
   "outputs": [],
   "source": [
    "# num_added_tokens = tokenizer.add_tokens([\"5\",\"7\",\"8\",\"9\"])"
   ]
  },
  {
   "cell_type": "code",
   "execution_count": 15,
   "id": "f7de20e9",
   "metadata": {},
   "outputs": [],
   "source": [
    "# Notice: resize_token_embeddings expect to receive the full size of the new vocabulary, i.e., the length of the tokenizer.\n",
    "# model.resize_token_embeddings(len(tokenizer))"
   ]
  },
  {
   "cell_type": "code",
   "execution_count": 16,
   "id": "5b833509",
   "metadata": {},
   "outputs": [],
   "source": [
    "def tokenize_function(example):\n",
    "    #return tokenizer(example[\"text\"], truncation=True)\n",
    "    return tokenizer(example[\"text\"], truncation=True, max_length=128)"
   ]
  },
  {
   "cell_type": "code",
   "execution_count": 17,
   "id": "38859875",
   "metadata": {},
   "outputs": [
    {
     "name": "stderr",
     "output_type": "stream",
     "text": [
      "Loading cached processed dataset at C:\\Users\\arifa\\.cache\\huggingface\\datasets\\csv\\default-02f2b2f3fa2d27bd\\0.0.0\\6b34fb8fcf56f7c8ba51dc895bfa2bfbe43546f190a60fcf74bb5e8afdcc2317\\cache-357427203edda30b.arrow\n"
     ]
    },
    {
     "data": {
      "application/vnd.jupyter.widget-view+json": {
       "model_id": "26c5a5f7b56045eb9d3a9e986e738b12",
       "version_major": 2,
       "version_minor": 0
      },
      "text/plain": [
       "  0%|          | 0/2 [00:00<?, ?ba/s]"
      ]
     },
     "metadata": {},
     "output_type": "display_data"
    },
    {
     "name": "stderr",
     "output_type": "stream",
     "text": [
      "Loading cached processed dataset at C:\\Users\\arifa\\.cache\\huggingface\\datasets\\csv\\default-ea82245f012595c5\\0.0.0\\6b34fb8fcf56f7c8ba51dc895bfa2bfbe43546f190a60fcf74bb5e8afdcc2317\\cache-957759c09a108628.arrow\n"
     ]
    }
   ],
   "source": [
    "from transformers import DataCollatorWithPadding\n",
    "\n",
    "tokenized_datasets = news_datasets.map(tokenize_function, batched=True, remove_columns=[\"text\"])\n",
    "data_collator = DataCollatorWithPadding(tokenizer=tokenizer)"
   ]
  },
  {
   "cell_type": "code",
   "execution_count": 18,
   "id": "90c5c425",
   "metadata": {},
   "outputs": [
    {
     "data": {
      "text/plain": [
       "DatasetDict({\n",
       "    train: Dataset({\n",
       "        features: ['labels', 'input_ids', 'token_type_ids', 'attention_mask'],\n",
       "        num_rows: 11284\n",
       "    })\n",
       "    test: Dataset({\n",
       "        features: ['labels', 'input_ids', 'token_type_ids', 'attention_mask'],\n",
       "        num_rows: 1411\n",
       "    })\n",
       "    validation: Dataset({\n",
       "        features: ['labels', 'input_ids', 'token_type_ids', 'attention_mask'],\n",
       "        num_rows: 1411\n",
       "    })\n",
       "})"
      ]
     },
     "execution_count": 18,
     "metadata": {},
     "output_type": "execute_result"
    }
   ],
   "source": [
    "tokenized_datasets"
   ]
  },
  {
   "cell_type": "code",
   "execution_count": 19,
   "id": "5648aa94",
   "metadata": {},
   "outputs": [
    {
     "name": "stderr",
     "output_type": "stream",
     "text": [
      "Loading cached processed dataset at C:\\Users\\arifa\\.cache\\huggingface\\datasets\\csv\\default-02f2b2f3fa2d27bd\\0.0.0\\6b34fb8fcf56f7c8ba51dc895bfa2bfbe43546f190a60fcf74bb5e8afdcc2317\\cache-781996ba2acef5a2.arrow\n"
     ]
    },
    {
     "data": {
      "application/vnd.jupyter.widget-view+json": {
       "model_id": "117bb174434240ba99b6fdc2e86943c6",
       "version_major": 2,
       "version_minor": 0
      },
      "text/plain": [
       "  0%|          | 0/2 [00:00<?, ?ba/s]"
      ]
     },
     "metadata": {},
     "output_type": "display_data"
    },
    {
     "name": "stderr",
     "output_type": "stream",
     "text": [
      "Loading cached processed dataset at C:\\Users\\arifa\\.cache\\huggingface\\datasets\\csv\\default-ea82245f012595c5\\0.0.0\\6b34fb8fcf56f7c8ba51dc895bfa2bfbe43546f190a60fcf74bb5e8afdcc2317\\cache-d7076d0e07ccde6c.arrow\n"
     ]
    }
   ],
   "source": [
    "temp = tokenized_datasets.filter(lambda x:x if 0 in x[\"input_ids\"] else None)"
   ]
  },
  {
   "cell_type": "code",
   "execution_count": 20,
   "id": "fedfc6b0",
   "metadata": {},
   "outputs": [
    {
     "data": {
      "text/plain": [
       "DatasetDict({\n",
       "    train: Dataset({\n",
       "        features: ['labels', 'input_ids', 'token_type_ids', 'attention_mask'],\n",
       "        num_rows: 11219\n",
       "    })\n",
       "    test: Dataset({\n",
       "        features: ['labels', 'input_ids', 'token_type_ids', 'attention_mask'],\n",
       "        num_rows: 1403\n",
       "    })\n",
       "    validation: Dataset({\n",
       "        features: ['labels', 'input_ids', 'token_type_ids', 'attention_mask'],\n",
       "        num_rows: 1403\n",
       "    })\n",
       "})"
      ]
     },
     "execution_count": 20,
     "metadata": {},
     "output_type": "execute_result"
    }
   ],
   "source": [
    "temp"
   ]
  },
  {
   "cell_type": "code",
   "execution_count": 21,
   "id": "fbc48ef1",
   "metadata": {},
   "outputs": [],
   "source": [
    "# for sample in temp[\"train\"]:\n",
    "#     print(tokenizer.decode(sample[\"input_ids\"]))"
   ]
  },
  {
   "cell_type": "code",
   "execution_count": 23,
   "id": "0b77cb70",
   "metadata": {},
   "outputs": [],
   "source": [
    "def assign_label(example):\n",
    "    mapping = {\n",
    "        \"kolkata\":0,\n",
    "        \"state\":1,\n",
    "        \"national\":2,\n",
    "        \"sports\":3,\n",
    "        \"entertainment\":4,\n",
    "        \"international\":5\n",
    "    }\n",
    "    example['labels'] = mapping[example['labels']]\n",
    "    return example"
   ]
  },
  {
   "cell_type": "code",
   "execution_count": 24,
   "id": "7f72f8ba",
   "metadata": {},
   "outputs": [
    {
     "name": "stderr",
     "output_type": "stream",
     "text": [
      "Loading cached processed dataset at C:\\Users\\arifa\\.cache\\huggingface\\datasets\\csv\\default-02f2b2f3fa2d27bd\\0.0.0\\6b34fb8fcf56f7c8ba51dc895bfa2bfbe43546f190a60fcf74bb5e8afdcc2317\\cache-41ccc3844cad2d53.arrow\n"
     ]
    },
    {
     "data": {
      "application/vnd.jupyter.widget-view+json": {
       "model_id": "dbcc4f3929ca4c3383aa9fb732585b23",
       "version_major": 2,
       "version_minor": 0
      },
      "text/plain": [
       "  0%|          | 0/1411 [00:00<?, ?ex/s]"
      ]
     },
     "metadata": {},
     "output_type": "display_data"
    },
    {
     "name": "stderr",
     "output_type": "stream",
     "text": [
      "Loading cached processed dataset at C:\\Users\\arifa\\.cache\\huggingface\\datasets\\csv\\default-ea82245f012595c5\\0.0.0\\6b34fb8fcf56f7c8ba51dc895bfa2bfbe43546f190a60fcf74bb5e8afdcc2317\\cache-bbc23b1191b96986.arrow\n"
     ]
    },
    {
     "data": {
      "text/plain": [
       "{'train': ['labels', 'input_ids', 'token_type_ids', 'attention_mask'],\n",
       " 'test': ['labels', 'input_ids', 'token_type_ids', 'attention_mask'],\n",
       " 'validation': ['labels', 'input_ids', 'token_type_ids', 'attention_mask']}"
      ]
     },
     "execution_count": 24,
     "metadata": {},
     "output_type": "execute_result"
    }
   ],
   "source": [
    "tokenized_datasets = tokenized_datasets.map(assign_label)\n",
    "tokenized_datasets.set_format(\"torch\")\n",
    "tokenized_datasets.column_names"
   ]
  },
  {
   "cell_type": "code",
   "execution_count": 25,
   "id": "399bf492",
   "metadata": {},
   "outputs": [
    {
     "name": "stderr",
     "output_type": "stream",
     "text": [
      "You're using a PreTrainedTokenizerFast tokenizer. Please note that with a fast tokenizer, using the `__call__` method is faster than using a method to encode the text followed by a call to the `pad` method to get a padded encoding.\n"
     ]
    },
    {
     "name": "stdout",
     "output_type": "stream",
     "text": [
      "\n",
      "'>>> [CLS] প্রজাপতি প্রজাপতি আমার ইচ্ছে হয়ে[UNK] বনে বনে ঘাসে ঘাসে ওড়ে আর ফেরে...[UNK]সেই সুর যা ফিরিয়ে দেয় শৈশবের সুগন্ধ। সবিতা চৌধুরী। যাঁর কণ্ঠ অপূর্ব সব গানগুচ্ছ উপহার দিয়েছে সব প্রজন্মের গানপ্রেমীদের। দুরারোগ্য কর্কটরোগে আক্রান্ত সেদিনের সবিতা। গত কয়েক বছর ধরে নিরন্তর লড়াইয়ের পর এখন প্রহর গুনছেন । যেকোনও দিনই আসতে পারে সেই ভয়ঙ্কর দিনটি।[UNK]এখন তাঁর বড় মেয়ে অন্তরা চৌধুরীর কাছেই আছেন তিনি। রুবি হাসপাতালের খুব কাছেই বড় মেয়ের কাছেই কাটাতে চান জীবনের শেষ কয়েকটি দিন। আজই এবেলা.ইন কে জানালেন অন্তরা।[UNK]স্বামী সলিল চৌধুরীর অনুরোধেই প্রথম অ্যালবামে গাওয়া গান[SEP]'\n",
      "\n",
      "'>>> [CLS] দীর্ঘ সাত মাসের প্রতীক্ষার পর সোমবার সকালে এসে পৌঁছল কলকাতা মেট্রো রেলের নতুন এসি রেক। গত ডিসেম্বরে ওই রেকটি এসে পৌঁছনোর কথা থাকলেও একাধিক কারণে রেক পেতে অনেকটা দেরি হল বলে মেট্রো সূত্রের খবর। [UNK]চেন্নাইয়ের ইন্টিগ্রাল কোচ ফ্যাক্টরিকে [UNK]আইসিএফ[UNK] দু[UNK]টি এসি রেকের বরাত দেওয়া হয়েছিল। তার মধ্যে প্রথম রেকটি এদিন এসে পৌঁছেছে। দ্বিতীয় রেকটি পৌঁছনোর কথা অগস্টের তৃতীয় সপ্তাহে। এখনকার এসি রেকগুলির তুলনায় নতুন এসি রেক প্রযুক্তিগতভাবে[SEP]'\n",
      "\n",
      "'>>> [CLS] দিঘার হোটেল থেকে উদ্ধার হল যুবক[UNK]যুবতীর ঝুলন্ত দেহ। শুক্রবার সকালে নিউ দিঘার একটি হোটেল থেকে ওই যুগলের দেহ উদ্ধার হয়। মৃতদের দাম গোপাল সরকার ও অতসি সরকার। হোটেল কর্তৃপক্ষের কাছে তাঁরা এই নাম দিয়েই রুম বুক করেছিলেন বলে জানা গিয়েছে।[UNK]এই বিষয়ে অন্যান্য খবর[UNK]ফুটফুটে বাচ্চাটি কার! দিঘার সৈকতে শিশুর কান্না[UNK] জল্পনা চাপা দিল সমুদ্রের গর্জন[UNK]দিঘায় মারাত্মক অভিযোগ! মহিলা পর্যটককে প্রায় বিবস্ত্র করে হেনস্থা[UNK]জানা গিয়েছে[UNK] স্বামী[UNK]স্ত্রীর পরিচয় দিয়ে ওই যুগল গত [UNK] তারিখ হোটেলে ওঠেন। হোটেলের রেজিস্টারে হুগলির তার[SEP]'\n",
      "\n",
      "'>>> [CLS] কিছুদিন আগেই রাজ্যের গাইড বনে গিয়েছিলেন চেতেশ্বর পূজারা। রাজকোটে ভারত[UNK]ওয়েস্ট ইন্ডিজ প্রথম টেস্ট চলাকালীনই পূজারাকে দেখা গিয়েছিল নয়া অবতারে। এবার সেই পথেই হাঁটলেন মহম্মদ সিরাজ।[UNK]এই বিষয়ে অন্যান্য খবর[UNK]কুম্বলের গুগলিতে [UNK]বোল্ড[UNK] সোহিনী[UNK] মাঝ আকাশে মন জিতলেন ক্রিকেটার[UNK]হায়দরাবাদে দ্বিতীয় টেস্ট শুরু হচ্ছে শুক্রবারেই। সেই টেস্ট শুরুর আগেই হায়দরাবাদের ট্যুর গাইড হয়ে গেলেন সিরাজ। হায়দরাবাদের দ্রষ্টব্য কী? সিরাজ জানাচ্ছেন[UNK] চারমিনারে যেতেই হবে। ওখান থেকে চাঁদ দেখার অভিজ্ঞতা দুর্ধর্ষ! পাশাপাশি তিনি নেকলেস রোডেও ঘুরে আসার পরামর্শ দিয়েছেন ভ্রমণার্থীদের। রিল্যা[SEP]'\n",
      "\n",
      "'>>> [CLS] মারুতির কারখানায় হামলা এবং ম্যানেজারকে পুড়িয়ে মারার ঘটনায় [UNK] জনকে দোষী সাব্যস্ত করল হরিয়ানার আদালত। দোষীরা প্রত্যেকেই মানেসরের মারুতি[UNK]সুজুকি প্ল্যান্টের কর্মী। দিল্লির প্রায় [UNK] কিলোমিটার দক্ষিণে অবস্থিত ওই প্ল্যান্টে [UNK] সালে এক দল শ্রমিকের হাতে আক্রান্ত হয়েছিলেন সংস্থার উচ্চপদস্থ কর্তারা। কনফারেন্স রুমের মধ্যে হিউম্যান রিসোর্স ম্যানেজার অবনীশ কুমার দেবের গায়ে আগুন ধরিয়ে দেওয়া হয়েছিল। সেখানেই মৃত্যু হয়েছিল তাঁর। দীর্ঘ ক্ষণ ধরে চলতে থাকা তাণ্ডবে ম্যানেজমেন্টের অন্তত [UNK] জন কর্তা জখম হয়েছিলেন[UNK] আক্রান্ত হয়েছিল পুলিশও। ঘটনার বছর চারেক পর গুরুগ্রামের আদালত মামলাটির রায় ঘোষণা করল। মারু[SEP]'\n"
     ]
    }
   ],
   "source": [
    "samples = [tokenized_datasets[\"train\"][i] for i in range(5)]\n",
    "samples\n",
    "\n",
    "for chunk in data_collator(samples)[\"input_ids\"]:\n",
    "    print(f\"\\n'>>> {tokenizer.decode(chunk)}'\")"
   ]
  },
  {
   "cell_type": "code",
   "execution_count": 26,
   "id": "75eca670",
   "metadata": {},
   "outputs": [
    {
     "data": {
      "text/plain": [
       "{'labels': ['entertainment', 'state', 'state', 'sports', 'national'],\n",
       " 'text': ['প্রজাপতি প্রজাপতি আমার ইচ্ছে হয়ে, বনে বনে ঘাসে ঘাসে ওড়ে আর ফেরে...\\nসেই সুর যা ফিরিয়ে দেয় শৈশবের সুগন্ধ। সবিতা চৌধুরী। যাঁর কণ্ঠ অপূর্ব সব গানগুচ্ছ উপহার দিয়েছে সব প্রজন্মের গানপ্রেমীদের। দুরারোগ্য কর্কটরোগে আক্রান্ত সেদিনের সবিতা। গত কয়েক বছর ধরে নিরন্তর লড়াইয়ের পর এখন প্রহর গুনছেন । যেকোনও দিনই আসতে পারে সেই ভয়ঙ্কর দিনটি।\\nএখন তাঁর বড় মেয়ে অন্তরা চৌধুরীর কাছেই আছেন তিনি। রুবি হাসপাতালের খুব কাছেই বড় মেয়ের কাছেই কাটাতে চান জীবনের শেষ কয়েকটি দিন। আজই এবেলা.ইন কে জানালেন অন্তরা।\\nস্বামী সলিল চৌধুরীর অনুরোধেই প্রথম অ্যালবামে গাওয়া গান মরি হায় গো হায়। সবিতার কণ্ঠস্বরের জাদুতে সেই গান শাশ্বত হয়ে আছে।\\xa0\\nএখন এই আনন্দের শহরে একলা শুয়ে সবিতা। সুরের সেই ঝর-ঝর-ঝরণা যে আজ নিরুচ্চার',\n",
       "  'দীর্ঘ সাত মাসের প্রতীক্ষার পর সোমবার সকালে এসে পৌঁছল কলকাতা মেট্রো রেলের নতুন এসি রেক। গত ডিসেম্বরে ওই রেকটি এসে পৌঁছনোর কথা থাকলেও একাধিক কারণে রেক পেতে অনেকটা দেরি হল বলে মেট্রো সূত্রের খবর।\\xa0\\nচেন্নাইয়ের ইন্টিগ্রাল কোচ ফ্যাক্টরিকে (আইসিএফ) দু’টি এসি রেকের বরাত দেওয়া হয়েছিল। তার মধ্যে প্রথম রেকটি এদিন এসে পৌঁছেছে। দ্বিতীয় রেকটি পৌঁছনোর কথা অগস্টের তৃতীয় সপ্তাহে। এখনকার এসি রেকগুলির তুলনায় নতুন এসি রেক প্রযুক্তিগতভাবে অনেকটাই এগিয়ে বলে। জানা গিয়েছে, চলতি বছরের শেষে চিনের ডালিয়ান থেকে মেট্রোর রেক আসা শুরু হবে। সম্পূর্ণ দেশীয় প্রযুক্তিতে তৈরি আইসিএফের রেকগুলি যাতে কোনওভাবে ওই রেকের তুলনায় পিছিয়ে না থাকে তা নিশ্চিত করার চেষ্টা হয়েছে।\\xa0\\n\\xa0নতুন রেকের মোটর-সহ মূল অংশ (প্রপালসন) তৈরি করেছে হায়দরাবাদের একটি সংস্থা। রেকের বাইরের কাঠামো তৈরি করেছে আইসিএফ। নতুন রেকগুলিতে এসি, ভেস্টিবিউল,সাসপেনশন, ব্রেকিং সিস্টেম সব কিছুতেই ব্যাপক বদল আনা হয়েছে।\\nনতুন রেকে ভেস্টিবিউলের প্রস্থ এক ধাক্কায় ৭০০ থেকে বেড়ে হচ্ছে ১৪০০ মিলিমিটার। ফলে দু’টি কামরার মধ্যে যাতায়াত অনেকটাই সহজসাধ্য হবে। চলতি এসি রেকে দরজার দু’প্রান্তের মাঝের ব্যবধান ১২১০ মিলিমিটার। ওই ব্যবধান বেড়ে হচ্ছে ১৪০০ মিলিমিটার। এসি’র ড্রেনেজ পাইপের অবস্থানও বদলেছে। চলার সময় রেক ঠান্ডা না হওয়ার সমস্যা ঠেকাতে রুফ মাউন্টিং ইউনিটের প্রযুক্তিতে বদল আনা হয়েছে। ঝাঁকুনি কমাতে স্টিল কয়েলের বদলে রাবার স্প্রিং সাসপেনশন ব্যবহার করা হচ্ছে নতুন রেকে। আমূল বদল আনা হয়েছে ব্রেকিং সিস্টেমে। নতুন রেকে স্টেপলেস রিজেনারেটিভ ব্রেক থাকছে। এতে অনেকটাই বিদ্যুৎ সাশ্রয় হবে।\\xa0\\nমেট্রোর এক আধিকারিক জানান, “থার্ড রেলের সঙ্গে সংযোগকারী অংশ বসানো ছাড়াও অবশিষ্ট কাজ করতে ৪৫ দিন লাগতে পারে। তারপর ওই রেক চলার উপযুক্ত হবে।”',\n",
       "  'দিঘার হোটেল থেকে উদ্ধার হল যুবক-যুবতীর ঝুলন্ত দেহ। শুক্রবার সকালে নিউ দিঘার একটি হোটেল থেকে ওই যুগলের দেহ উদ্ধার হয়। মৃতদের দাম গোপাল সরকার ও অতসি সরকার। হোটেল কর্তৃপক্ষের কাছে তাঁরা এই নাম দিয়েই রুম বুক করেছিলেন বলে জানা গিয়েছে।\\n\\nএই বিষয়ে অন্যান্য খবর\\n\\nফুটফুটে বাচ্চাটি কার! দিঘার সৈকতে শিশুর কান্না, জল্পনা চাপা দিল সমুদ্রের গর্জন\\nদিঘায় মারাত্মক অভিযোগ! মহিলা পর্যটককে প্রায় বিবস্ত্র করে হেনস্থা\\n\\n\\nজানা গিয়েছে, স্বামী-স্ত্রীর পরিচয় দিয়ে ওই যুগল গত ১৫ তারিখ হোটেলে ওঠেন। হোটেলের রেজিস্টারে হুগলির তারকেশ্বরের মুক্তারপুরের গ্রামের বাসিন্দা বলেন তাঁরা। শুক্রবারই তাঁদের ফিরে যাওয়ার কথা ছিল।\\xa0\\nএদিন সকালে রুমের মধ্যে থেকে যুবক-যুবতীর কোনও সাড়াশব্দ না পাওয়ায় সন্দেহ হয় হোটেলকর্মীদের মধ্যে। পরে দরজা ভাঙতেই তাঁদের ঝুলন্ত দেহ দেখতে পান হোটেলকর্মীরা। পরে পুলিশ এসে দেহদুটি উদ্ধার করে ময়নাতদন্তের জন্য পাঠায়।\\nপুলিশের প্রাথমিক ধারণা প্রেমঘটিত কারণের জেরে আত্মহত্যা করেছেন ওই যুগল। ঘটনার তদন্তে নেমেছে দিঘা থানার পুলিশ।',\n",
       "  \"কিছুদিন আগেই রাজ্যের গাইড বনে গিয়েছিলেন চেতেশ্বর পূজারা। রাজকোটে ভারত-ওয়েস্ট ইন্ডিজ প্রথম টেস্ট চলাকালীনই পূজারাকে দেখা গিয়েছিল নয়া অবতারে। এবার সেই পথেই হাঁটলেন মহম্মদ সিরাজ।\\n\\nএই বিষয়ে অন্যান্য খবর\\n\\nকুম্বলের গুগলিতে ‘বোল্ড’ সোহিনী, মাঝ আকাশে মন জিতলেন ক্রিকেটার\\n\\n\\nহায়দরাবাদে দ্বিতীয় টেস্ট শুরু হচ্ছে শুক্রবারেই। সেই টেস্ট শুরুর আগেই হায়দরাবাদের ট্যুর গাইড হয়ে গেলেন সিরাজ। হায়দরাবাদের দ্রষ্টব্য কী? সিরাজ জানাচ্ছেন, চারমিনারে যেতেই হবে। ওখান থেকে চাঁদ দেখার অভিজ্ঞতা দুর্ধর্ষ! পাশাপাশি তিনি নেকলেস রোডেও ঘুরে আসার পরামর্শ দিয়েছেন ভ্রমণার্থীদের। রিল্যাক্স করার জন্য নাকি নেকলেস রোড আদর্শ।\\nট্যুরিস্টদের হায়দরাবাদের বিখ্যাত বিরিয়ানি চেখে দেওয়ার কথা বলেছেন তারকা পেসার। সিরাজের এই ‘গাইড’ হওয়ার ভিডিও বিসিসিআই শেয়ার করেছেন নিজেদের ফেসবুক পেজে। ইতিমধ্যেই যা ভাইরাল। ভিডিওতে সিরাজকে দেখা যাচ্ছে, স্থানীয় উচ্চারণে কথা বলতে।\\n\\nLocal boy Siraj's top 3 things to do in Hyderabad 😎\\n\\nWhat to do when in Hyderabad? Mohammed Siraj lists his top 3 not-to-be-missed things from his home land. P.S In total Hyderabadi style 🤙 - by @28anand\\n\\nMUST WATCH ▶️ https://t.co/ceSRC2lMHK #INDvWI pic.twitter.com/toeN6j70pR\\n— BCCI (@BCCI) October 11, 2018\\n\\nভিডিওতে সিরাজ একজন ‘প্রাউড হায়দরাবাদি’। ঘরের ছেলের এমন বক্তব্যের পরে হায়দরাবাদের দর্শকরা কতটা মাঠ ভরায় সেটাই এখন দেখার।\",\n",
       "  'মারুতির কারখানায় হামলা এবং ম্যানেজারকে পুড়িয়ে মারার ঘটনায় ৩১ জনকে দোষী সাব্যস্ত করল হরিয়ানার আদালত। দোষীরা প্রত্যেকেই মানেসরের মারুতি-সুজুকি প্ল্যান্টের কর্মী। দিল্লির প্রায় ৪০ কিলোমিটার দক্ষিণে অবস্থিত ওই প্ল্যান্টে ২০১২ সালে এক দল শ্রমিকের হাতে আক্রান্ত হয়েছিলেন সংস্থার উচ্চপদস্থ কর্তারা। কনফারেন্স রুমের মধ্যে হিউম্যান রিসোর্স ম্যানেজার অবনীশ কুমার দেবের গায়ে আগুন ধরিয়ে দেওয়া হয়েছিল। সেখানেই মৃত্যু হয়েছিল তাঁর। দীর্ঘ ক্ষণ ধরে চলতে থাকা তাণ্ডবে ম্যানেজমেন্টের অন্তত ৫০ জন কর্তা জখম হয়েছিলেন, আক্রান্ত হয়েছিল পুলিশও। ঘটনার বছর চারেক পর গুরুগ্রামের আদালত মামলাটির রায় ঘোষণা করল। মারুতি সংস্থা প্রতি বছর যে পরিমাণ গাড়ি তৈরি করে, তার এক তৃতীয়াংশই তৈরি হয় মানেসরের প্ল্যান্টে। ২০১২ সালের বেনজির গোলমালের পর সেই মানেসর প্ল্যান্ট মাস খানেকের জন্য বন্ধ করে দিয়েছিল মারুতি কর্তৃপক্ষ। শ্রমিকদের বিরুদ্ধে শৃঙ্খলাভঙ্গের অভিযোগকে ঘিরে গোলমালের সূত্রপাত হয়েছিল। ম্যানেজমেন্টের অভিযোগ ছিল, যে কোনও আলোচনার সময়েই শ্রমিক ইউনিয়ন সংস্থার পদস্থ কর্তাদের আক্রমণ করত। পরিস্থিতি শৃঙ্খলাভঙ্গের পর্যায়ে যাচ্ছিল বলে ম্যানেজমেন্ট মনে করছিল। তাই কঠোর পদক্ষেপের কথা ভাবা হয়েছিল। সে সব নিয়ে দীর্ঘ দিন ধরে মানেসর প্ল্যান্টে শ্রমিক অসন্তোষ চলছিল। সেই অসন্তোষই শেষ দিনে তাণ্ডবের চেহারা নেয়। লোহার রড এবং নির্মিয়মান গাড়ির দরজার প্যানেল নিয়ে হামলা চালান শ্রমিকরা। হিউম্যান রিসোর্স ম্যানেজারকে পুড়িয়ে মারা হয়। সুপারভাইজার এবং অন্য পদস্থ করাদের খুঁজে বার করে হামলা চালানো হয়। গোটা কারখানা চত্বর জুড়ে ভাঙচুর চলে, জায়গায় জায়গায় আগুনও গালিয়ে দেওয়া হয়। ১২০০ পুলিশ পাঠিয়ে কারখানা নিয়ন্ত্রণে এনেছিল প্রশাসন। তবে ৯ জন পুলিশ কর্তাও সংঘর্ষে জখম হয়েছিলেন। ম্যানেজমেন্টের য়ে ৫০ জন কর্তাকে জখম অবস্থায় উদ্ধার করা হয়েছিল, তাঁদের অধিকাংশই রক্তাক্ত ছিলেন, অনেকেই অচেতনও ছিলেন। শ্রমিকদের অবশ্য দাবি ছিল, ম্যানেজমেন্টের বাড়াটে বাউন্সাররা প্ল্যান্টের সমস্ত দরজা বন্ধ করে দিয়ে শ্রমিকদের উপর হামলা চালিয়েছিল। সেখান থেকেই নাকি গোলমালের সূত্রপাত। কারখানা চত্বরের বিভিন্ন সিসিটিভির ফুটেজ খতিয়ে দেখে সন্দেহভাজনদের গ্রেফতার করে পুলিশ। বহু শ্রমিককে জেরা করা হয়। প্রায় ১৫০ জনকে অভিযুক্ত করা হয়। শুক্রবার গুরুগ্রামের আদালত অভিযুক্তদের মধ্যে ৩১ জনকে দোষী সাব্যস্ত করেছে। তাঁদের বিরুদ্ধে ম্যানেজমেন্টের উপর হামলা, সম্পত্তি নষ্ট এবং ম্যানেজারকে খুনের অভিযোগ প্রমাণিত হয়েছে বলে আদালতটি জানিয়েছে। সাজা ঘোষণা হওয়া এখনও বাকি।']}"
      ]
     },
     "execution_count": 26,
     "metadata": {},
     "output_type": "execute_result"
    }
   ],
   "source": [
    "news_datasets[\"train\"][:5]"
   ]
  },
  {
   "cell_type": "code",
   "execution_count": 27,
   "id": "6ae60094",
   "metadata": {},
   "outputs": [],
   "source": [
    "from torch.utils.data import DataLoader\n",
    "batch_size = 16\n",
    "# batch_size = 32\n",
    "\n",
    "train_dataloader = DataLoader(\n",
    "    tokenized_datasets[\"train\"], shuffle=True, batch_size=batch_size, collate_fn=data_collator\n",
    ")\n",
    "eval_dataloader = DataLoader(\n",
    "    tokenized_datasets[\"test\"], batch_size=batch_size, collate_fn=data_collator\n",
    ")"
   ]
  },
  {
   "cell_type": "code",
   "execution_count": 28,
   "id": "b3f49e99",
   "metadata": {},
   "outputs": [
    {
     "data": {
      "text/plain": [
       "{'labels': torch.Size([16]),\n",
       " 'input_ids': torch.Size([16, 128]),\n",
       " 'token_type_ids': torch.Size([16, 128]),\n",
       " 'attention_mask': torch.Size([16, 128])}"
      ]
     },
     "execution_count": 28,
     "metadata": {},
     "output_type": "execute_result"
    }
   ],
   "source": [
    "for batch in train_dataloader:\n",
    "    break\n",
    "{k: v.shape for k, v in batch.items()}"
   ]
  },
  {
   "cell_type": "code",
   "execution_count": 29,
   "id": "f39d52b3",
   "metadata": {},
   "outputs": [
    {
     "name": "stdout",
     "output_type": "stream",
     "text": [
      "tensor(1.8071) torch.Size([16, 6])\n"
     ]
    }
   ],
   "source": [
    "import torch\n",
    "with torch.no_grad():\n",
    "    outputs = model(**batch)\n",
    "    print(outputs.loss, outputs.logits.shape)"
   ]
  },
  {
   "cell_type": "code",
   "execution_count": 30,
   "id": "09c186ed",
   "metadata": {},
   "outputs": [],
   "source": [
    "import numpy as np\n",
    "import evaluate\n",
    "\n",
    "metric_fun = evaluate.load(\"accuracy\")\n",
    "\n",
    "def compute_metrics(eval_preds):\n",
    "    logits, labels = eval_preds\n",
    "    predictions = np.argmax(logits, axis=-1)\n",
    "\n",
    "    metric_result = metric_fun.compute(references=labels, predictions=predictions)\n",
    "    return {\n",
    "        \"accuracy\": metric_result[\"accuracy\"],\n",
    "    }"
   ]
  },
  {
   "cell_type": "code",
   "execution_count": 31,
   "id": "8cb53020",
   "metadata": {},
   "outputs": [],
   "source": [
    "#  disable weights and biases logging\n",
    "import os\n",
    "os.environ[\"WANDB_DISABLED\"] = \"true\""
   ]
  },
  {
   "cell_type": "code",
   "execution_count": 32,
   "id": "324b2f79",
   "metadata": {},
   "outputs": [
    {
     "name": "stderr",
     "output_type": "stream",
     "text": [
      "Using the `WANDB_DISABLED` environment variable is deprecated and will be removed in v5. Use the --report_to flag to control the integrations used for logging result (for instance --report_to none).\n"
     ]
    }
   ],
   "source": [
    "from transformers import TrainingArguments\n",
    "\n",
    "# batch_size = 16\n",
    "batch_size = 32\n",
    "# Show the training loss with every epoch\n",
    "logging_steps = len(tokenized_datasets[\"train\"]) // batch_size\n",
    "\n",
    "\n",
    "training_args = TrainingArguments(\n",
    "    report_to = None,\n",
    "    output_dir=\"models/bert-unigram-bengali-classifier\",\n",
    "    overwrite_output_dir=True,\n",
    "    save_strategy=\"epoch\",\n",
    "    evaluation_strategy=\"epoch\",\n",
    "    #learning_rate=2e-5,\n",
    "    learning_rate=3e-5,\n",
    "    weight_decay=0.01,\n",
    "    #weight_decay=0.02,\n",
    "    per_device_train_batch_size=batch_size,\n",
    "    per_device_eval_batch_size=batch_size,\n",
    "    #num_train_epochs=5,\n",
    "    num_train_epochs=6,\n",
    "    #push_to_hub=True,\n",
    "    fp16=True,\n",
    "    logging_steps=logging_steps,\n",
    "    metric_for_best_model = 'accuracy',\n",
    "    load_best_model_at_end=True,\n",
    ")"
   ]
  },
  {
   "cell_type": "code",
   "execution_count": 33,
   "id": "9d94821f",
   "metadata": {},
   "outputs": [],
   "source": [
    "# from datasets import concatenate_datasets\n",
    "\n",
    "# entire_train = concatenate_datasets([tokenized_datasets[\"train\"], tokenized_datasets[\"validation\"]]) "
   ]
  },
  {
   "cell_type": "code",
   "execution_count": 34,
   "id": "8085d3f2",
   "metadata": {},
   "outputs": [],
   "source": [
    "from transformers import Trainer\n",
    "\n",
    "trainer = Trainer(\n",
    "    model=model,\n",
    "    args=training_args,\n",
    "    train_dataset=tokenized_datasets[\"train\"],\n",
    "    #train_dataset=entire_train,\n",
    "    eval_dataset=tokenized_datasets[\"validation\"],\n",
    "    data_collator=data_collator,\n",
    "    tokenizer=tokenizer,\n",
    "    compute_metrics=compute_metrics,\n",
    ")"
   ]
  },
  {
   "cell_type": "code",
   "execution_count": 35,
   "id": "7440206a",
   "metadata": {},
   "outputs": [
    {
     "name": "stderr",
     "output_type": "stream",
     "text": [
      "C:\\Users\\arifa\\anaconda3\\envs\\pytorch_env\\lib\\site-packages\\transformers\\optimization.py:407: FutureWarning: This implementation of AdamW is deprecated and will be removed in a future version. Use the PyTorch implementation torch.optim.AdamW instead, or set `no_deprecation_warning=True` to disable this warning\n",
      "  warnings.warn(\n"
     ]
    },
    {
     "data": {
      "text/html": [
       "\n",
       "    <div>\n",
       "      \n",
       "      <progress value='2118' max='2118' style='width:300px; height:20px; vertical-align: middle;'></progress>\n",
       "      [2118/2118 08:59, Epoch 6/6]\n",
       "    </div>\n",
       "    <table border=\"1\" class=\"dataframe\">\n",
       "  <thead>\n",
       " <tr style=\"text-align: left;\">\n",
       "      <th>Epoch</th>\n",
       "      <th>Training Loss</th>\n",
       "      <th>Validation Loss</th>\n",
       "      <th>Accuracy</th>\n",
       "    </tr>\n",
       "  </thead>\n",
       "  <tbody>\n",
       "    <tr>\n",
       "      <td>1</td>\n",
       "      <td>0.572400</td>\n",
       "      <td>0.367530</td>\n",
       "      <td>0.868887</td>\n",
       "    </tr>\n",
       "    <tr>\n",
       "      <td>2</td>\n",
       "      <td>0.260800</td>\n",
       "      <td>0.360373</td>\n",
       "      <td>0.882353</td>\n",
       "    </tr>\n",
       "    <tr>\n",
       "      <td>3</td>\n",
       "      <td>0.145500</td>\n",
       "      <td>0.389868</td>\n",
       "      <td>0.890858</td>\n",
       "    </tr>\n",
       "    <tr>\n",
       "      <td>4</td>\n",
       "      <td>0.078400</td>\n",
       "      <td>0.469934</td>\n",
       "      <td>0.886605</td>\n",
       "    </tr>\n",
       "    <tr>\n",
       "      <td>5</td>\n",
       "      <td>0.034500</td>\n",
       "      <td>0.518408</td>\n",
       "      <td>0.897945</td>\n",
       "    </tr>\n",
       "    <tr>\n",
       "      <td>6</td>\n",
       "      <td>0.020200</td>\n",
       "      <td>0.528097</td>\n",
       "      <td>0.895819</td>\n",
       "    </tr>\n",
       "  </tbody>\n",
       "</table><p>"
      ],
      "text/plain": [
       "<IPython.core.display.HTML object>"
      ]
     },
     "metadata": {},
     "output_type": "display_data"
    },
    {
     "data": {
      "text/plain": [
       "TrainOutput(global_step=2118, training_loss=0.18479503969537892, metrics={'train_runtime': 543.9123, 'train_samples_per_second': 124.476, 'train_steps_per_second': 3.894, 'total_flos': 4453577664786432.0, 'train_loss': 0.18479503969537892, 'epoch': 6.0})"
      ]
     },
     "execution_count": 35,
     "metadata": {},
     "output_type": "execute_result"
    }
   ],
   "source": [
    "trainer.train()"
   ]
  },
  {
   "cell_type": "code",
   "execution_count": 36,
   "id": "f026e2e6",
   "metadata": {
    "scrolled": true
   },
   "outputs": [
    {
     "data": {
      "text/html": [],
      "text/plain": [
       "<IPython.core.display.HTML object>"
      ]
     },
     "metadata": {},
     "output_type": "display_data"
    },
    {
     "data": {
      "text/plain": [
       "{'eval_loss': 0.439925879240036,\n",
       " 'eval_accuracy': 0.9128277817150957,\n",
       " 'eval_runtime': 3.4384,\n",
       " 'eval_samples_per_second': 410.364,\n",
       " 'eval_steps_per_second': 13.087,\n",
       " 'epoch': 6.0}"
      ]
     },
     "execution_count": 36,
     "metadata": {},
     "output_type": "execute_result"
    }
   ],
   "source": [
    "trainer.evaluate(tokenized_datasets[\"test\"])"
   ]
  },
  {
   "cell_type": "code",
   "execution_count": 37,
   "id": "036d1b16",
   "metadata": {},
   "outputs": [],
   "source": [
    "trainer.save_model()"
   ]
  },
  {
   "cell_type": "code",
   "execution_count": 38,
   "id": "86b18f75",
   "metadata": {},
   "outputs": [],
   "source": [
    "y_preds, y_true, _ = trainer.predict(tokenized_datasets[\"test\"])"
   ]
  },
  {
   "cell_type": "code",
   "execution_count": 39,
   "id": "1b0ec931",
   "metadata": {},
   "outputs": [],
   "source": [
    "y_preds = np.argmax(y_preds, axis=-1)"
   ]
  },
  {
   "cell_type": "code",
   "execution_count": 40,
   "id": "0b6e2d04",
   "metadata": {},
   "outputs": [
    {
     "name": "stdout",
     "output_type": "stream",
     "text": [
      "               precision    recall  f1-score   support\n",
      "\n",
      "      kolkata       0.97      0.96      0.96       569\n",
      "        state       0.84      0.90      0.87       279\n",
      "     national       0.86      0.80      0.83       175\n",
      "       sports       0.98      0.96      0.97       192\n",
      "entertainment       0.87      0.85      0.86       130\n",
      "international       0.79      0.85      0.82        66\n",
      "\n",
      "     accuracy                           0.91      1411\n",
      "    macro avg       0.89      0.89      0.89      1411\n",
      " weighted avg       0.91      0.91      0.91      1411\n",
      "\n"
     ]
    }
   ],
   "source": [
    "from sklearn.metrics import classification_report\n",
    "target_names = [\"kolkata\",\n",
    "        \"state\",\n",
    "        \"national\",\n",
    "        \"sports\",\n",
    "        \"entertainment\",\n",
    "        \"international\"]\n",
    "\n",
    "print(classification_report(y_true, y_preds,target_names=target_names))"
   ]
  },
  {
   "cell_type": "code",
   "execution_count": 41,
   "id": "0ef9a6cd",
   "metadata": {},
   "outputs": [
    {
     "data": {
      "text/plain": [
       "Text(0.5, 1.0, 'Confusion matrix for QC')"
      ]
     },
     "execution_count": 41,
     "metadata": {},
     "output_type": "execute_result"
    },
    {
     "data": {
      "image/png": "[encoded data removed]",
      "text/plain": [
       "<Figure size 432x288 with 2 Axes>"
      ]
     },
     "metadata": {
      "needs_background": "light"
     },
     "output_type": "display_data"
    }
   ],
   "source": [
    "import matplotlib.pyplot as plt\n",
    "from seaborn import heatmap\n",
    "from sklearn.metrics import confusion_matrix\n",
    "\n",
    "#plot heatmap of confusion matrix\n",
    "mat = confusion_matrix(y_true, y_preds)\n",
    "heatmap(mat, cmap=\"Pastel1_r\", fmt=\"d\", xticklabels=target_names, yticklabels=target_names, annot=True)\n",
    "\n",
    "#add overall title to plot\n",
    "plt.title('Confusion matrix for QC', fontsize = 12) # title with fontsize 20"
   ]
  },
  {
   "cell_type": "code",
   "execution_count": 59,
   "id": "2f90b54f",
   "metadata": {},
   "outputs": [],
   "source": [
    "misclassified = [i for i in range(len(y_preds)) if ((y_preds[i] != y_true[i]) and (y_true[i]==5) and (y_preds[i]==2))]"
   ]
  },
  {
   "cell_type": "code",
   "execution_count": 60,
   "id": "12061d0f",
   "metadata": {},
   "outputs": [],
   "source": [
    "misclassified = test_dataset.select(misclassified)"
   ]
  },
  {
   "cell_type": "code",
   "execution_count": 61,
   "id": "81dee7a1",
   "metadata": {},
   "outputs": [
    {
     "data": {
      "text/plain": [
       "{'labels': ['international',\n",
       "  'international',\n",
       "  'international',\n",
       "  'international',\n",
       "  'international',\n",
       "  'international'],\n",
       " 'text': ['সেনাবাহিনীতে মহিলাদের সংখ্যাবৃদ্ধির কথা বলছেন প্রধানমন্ত্রী নরেন্দ্র মোদী এবং তাঁর প্রতিরক্ষামন্ত্রী মনোহর পর্রীকর। আর বায়ুসেনার এক আধিকারিক অভিযোগ করছেন, মহিলা হওয়ায় তিনি ন্যায্য সম্মান পাচ্ছেন না। আমেরিকার প্রেসিডেন্ট বারাক ওবামাকে ‘গার্ড অফ অনার’ দেওয়া বায়ুসেনার উইং কম্যান্ডার পূজা ঠাকুর বৈষ্যমের অভিযোগ এনে সেনা ট্রাইব্যুনালে মামলা করেছেন।\\n২০১৫ সালের ২৬ জানুয়ারি, প্রজাতন্ত্র দিবসের অনুষ্ঠানে বিশেষ অতিথি হিসাবে এসেছিলেন আমেরিকার প্রেসিডেন্ট বারাক ওবামা। সেখানে তাঁকে ‘গার্ড অফ অনার’ দিয়েছিলেন পূজা। কিন্তু এখন তাঁর অভিযোগ, তাঁকে স্থায়ী নিয়োগ (পার্মানেন্ট কমিশন) করা হচ্ছে না। বায়ুসেনা কর্তৃপক্ষ তাঁর সঙ্গে ‘বৈষম্যমূলক’ আচরণ করছেন। তাঁর অভিযোগের ভিত্তিতে বায়ুসেনার ব্যাখ্যা চেয়েছে ট্রাইব্যুনাল।\\n\\nপূজার আইনজীবী সুধাংশু পাণ্ডে আজ জানিয়েছেন, বায়ুসেনা কর্তৃপক্ষের যুক্তি, তাঁরা ২০১২ সালে যখন পূজাকে স্থায়ী নিয়োগ করতে চেয়েছিলেন, তখন তিনি রাজি হননি। তাই এখন আর তাঁকে স্থায়ী নিয়োগ করা যাবে না। কারণ, নতুন করে স্থায়ী নিয়োগের কোনও ব্যবস্থা নেই। এই সিদ্ধান্তকে চ্যালেঞ্জ করেই ট্রাইব্যুনালে মামলা করেছেন পূজা। তাঁর আইনজীবীর পাল্টা দাবি, বায়ুসেনার সিদ্ধান্ত অযৌক্তিক। পূজা মহিলা বলেই তাঁকে বঞ্চিত করা হচ্ছে।\\n\\nপ্রসঙ্গত, মহিলা অফিসারদের স্থায়ী নিয়োগ করা হলে তাঁরা পুরুষ অফিসারদের মতোই লেফটেন্যান্ট জেনারেল পর্যন্ত পদোন্নতির সুবিধা পাবেন। তাঁদের অবসরের বয়স হবে ৬০ বছর এবং অবসরের পরেও যাবতীয় সুযোগসুবিধা পাবেন।\\xa0\\n\\n২০১০ সালের আগে পর্যন্ত ভারতীয় সেনার মহিলা আধিকারিকদের স্থায়ী নিয়োগের রীতি ছিল না। সেই বছর ভারতীয় সেনার ৫০ জন মহিলা আধিকারিক (যার মধ্যে ২২ জন বায়ুসেনার) স্থায়ী নিয়োগের দাবিতে আদালতে মামলা করেন। তারপর থেকে মহিলাদের স্থায়ী নিয়োগ চালু হয়েছে।\\xa0\\n\\nওবামার সেই সফরে ভারতীয় সেনার তিনটি বিভাগ থেকেই মহিলা আধিকারিকেরা ‘গার্ড অফ অনার’ দিয়েছিলেন। বায়ুসেনার তরফে ছিলেন পূজা। সেই প্রথম মহিলা আধিকারিকেরা বিদেশি রাষ্ট্রপ্রধানকে ‘গার্ড অফ অনার’ দেন। ওবামা পরে আলাদা করে তাঁদের প্রশংসাও করেছিলেন।\\n\\nসেনাবাহিনীতে মহিলাদের সংখ্যা বৃদ্ধির উদ্যোগ হিসাবে সম্প্রতি তিন মহিলাকে যুদ্ধবিমানের পাইলট হিসাবেও নিয়োগ করা হয়েছে। পূজার আইনজীবী ট্রাইব্যুনালে অভিযোগ করেছেন, এই উদ্যোগ সত্ত্বেও ভারতীয় বায়ুসেনায় মহিলাদের প্রাপ্য সম্মান থেকে এখনও বঞ্চিত করা হয়।',\n",
       "  'বাড়ির পরিচারিকাকে ঠিকমতো মজুরি না দেওয়া এবং তাঁর প্রতি দুর্ব্যবহারের অভিযোগে ভারতীয় বংশোদ্ভূত মার্কিন সিইও-কে ১৩৫০০০ মার্কিন ডলার (ভারতীয় মুদ্রায় ৮ কোটি ৭২ লক্ষ টাকারও বেশি) ক্ষতিপূরণ দেওয়ার নির্দেশ দিল এক মার্কিন ডিস্ট্রিক্ট কোর্ট। শ্রমমন্ত্রকের যথাযথ তদন্তের পরেই এই নির্দেশ দিয়েছে আদালত।\\xa0\\nরোজ ইন্টারন্যাশনাল নামে সংস্থার সিইও হিমাংশু ভাটিয়াকে এই ক্ষতিপূরণ দেওয়ার নির্দেশ দিয়েছে সেন্ট্রাল ডিস্ট্রিক্ট অফ ক্যালিফোর্নিয়ার ডিস্ট্রিক্ট কোর্ট। হিমাংশু তাঁর বাড়ির সর্বক্ষণের পরিচারিকা শিলা নিংওয়ালকে ফেডেরাল লেবার ল অনুযায়ী ন্যূনতম পারিশ্রমিক দিচ্ছিলেন না বলেই অভিযোগ।\\xa0\\nআরও পড়ুন\\nবলিউড তারকাদের বাড়ির পরিচারিকারা কতটা সুখে থাকেন!\\nহিমাংশুকে যে অভিযোগে অভিযুক্ত করেছে আদালত সেখানে বলা হয়েছে, মাসে ৪০০ ডলার (ভারতীয় মুদ্রায় ২৬ হাজার টাকার কাছাকাছি) করে পারিশ্রমিক হিসেবে শিলাকে দিতেন হিমাংশু। সেই সঙ্গে ছিল থাকা-খাওয়ার বন্দোবস্ত। সান জুয়ান ক্যাপিস্ত্রানো, মায়ামি, লাস ভেগাস এবং লং বিচে একাধিক বাড়ি রয়েছে হিমাংশুর। সেই সমস্ত বাড়িতেই ঘুরিয়ে ফিরিয়ে ঠাঁই জুটত শিলার।\\xa0\\nআদালতের বক্তব্য, এই বন্দোবস্তও আইন অনুযায়ী যথেষ্ট ছিল না। আরও বেশি পারিশ্রমিক প্রাপ্য ছিল শিলার। তা ছাড়া কয়েক বার মেঝেয় কার্পেটে শুয়ে রাত কাটাতে শিলাকে বাধ্য করেছিলেন হিমাংশু। আদালতের মতে, এটাও গর্হিত অপরাধ।\\xa0\\nডিসেম্বর ২০১৪-তেই শিলাকে কাজ থেকে ছাড়িয়ে দিয়েছিলেন হিমাংশু। সেই সময়ে এক দিন নাকি গোপনে ইন্টারনেটে শ্রম আইন সংক্রান্ত নিয়মাবলী দেখার চেষ্টা করছিলেন শিলা। তখনই তাঁকে হাতে-নাতে ধরে ফেলেন হিমাংশু। এর পর শিলাকে একটি ঘোষণাপত্রে সই করার জন্য চাপ দেন, যেখানে লেখা ছিল যে, আইন অনুসারে যথাযথ পারিশ্রমিক শিলা পাচ্ছেন। সেই দাবিপত্রে সই করতে শিলা অরাজি হওয়ার পরেই তাঁকে কাজ থেকে বিতাড়িত করেন হিমাংশু। এমনকী তাঁর পাসপোর্টও কেড়ে নেন। আদালতের দ্বারস্থ হন শিলা। বেশ কয়েকটি শুনানির শেষে বুধবার এই রায় ঘোষণা করেছে আদালত।\\nমার্কিন যুক্তরাষ্ট্রে ভারতীয় বংশোদ্ভূতের বিরুদ্ধে পরিচারিকার প্রতি ‘অমানবিক’ আচরণের অভিযোগ এই প্রথম নয়। ২০১৩ সালে বরিষ্ঠ ভারতীয় কূটনীতিক দেবযানী খোবড়াগাড়ের বিরুদ্ধেও পরিচারিকাকে কম মজুরি দেওয়ার অভিযোগ উঠেছিল।\\xa0\\nমার্কিন দেশের এই ঘটনার সূত্রে অনেকেরই মনে পড়ে যেতে পারে, বছর কয়েক আগে দিল্লিতে বিএসপি সাংসদ সঞ্জয় সিংহের বাড়িতে ঘটে যাওয়া একটি ঘটনার কথা। সঞ্জয়ের স্ত্রীয়ের মারে প্রাণ হারিয়েছিলেন তাঁদের বাড়ির পরিচারিকা রাখি। এতটা তীব্র আকারে না হলেও পরিচারিকার উপর অত্যাচারের ঘটনা ভারতীয় সমাজে আকছার ঘটে। সম্প্রতি শিলিগুড়ির প্রধাননগরের একটি বাড়িতে কর্মরতা এক কিশোরী বাড়ির মালিক-মালকিনের অত্যাচারে অতিষ্ঠ হয়ে বাড়ি থেকে পালিয়ে গিয়েছে। এ দেশের আইন আসলে এখনও ততটা কড়া হয়ে উঠতে পারেনি, যার ভয়ে এই ধরনের অপরাধ করার আগে গৃহকর্তারা দু’বার ভাবেন।',\n",
       "  'ভোপাল গ্যাসকাণ্ডের এই ছবিটি আজ এক আইকনে পরিণত হয়েছে। কিন্তু, এই ছবিটি দেখিয়ে এক অলৌকিক গল্পকথা ছড়িয়ে পড়েছে মিশর জুড়ে। এই গল্প আজকের নয়, গত কয়েক বছর ধরেই মিশরের জনমানসে ছড়িয়ে পড়েছে। কিন্তু, সম্প্রতি এই কাহিনির প্রচারে ব্যবহার করা হয়েছে ভোপাল গ্যাসকাণ্ডের এই ছবিটি।\\xa0\\nকী সেই অলৌকিক কাহিনি? কয়েক বছর আগে মিশর জুড়ে এক খবর চাউর হয়। তাতে বলা হয়, এক কবর থেকে জ্যান্ত অবস্থায় দুই শিশু কন্যাকে উদ্ধার করা হয়েছে। এদের মধ্যে একজনের বয়স ৮ আর অন্যজন কয়েক মাসের। সেই খবরে দাবি করা হয়েছিল এক মুসলিম ব্যক্তি বাইবেল পড়ার জন্য স্ত্রীকে খুন করেন এবং পরে স্ত্রীকে গোপনে কবর দিয়ে দেন। স্ত্রী-র কবরেই তিনি নাকি জীবন্ত অবস্থায় ৮ বছরের শিশু কন্যাকে ও কয়েক মাসের শিশুকে মাটি চাপা দিয়ে দেন। দিন পনেরো পরে ওই পরিবারেরই একজনের মৃত্যু হয়। দেহ সমাধিস্থ করতে নিয়ে যাওয়া হয়। কবর খুঁড়তেই চক্ষু চড়কগাছ। মাটি খুঁড়তেই দেখা যায় সেই দুই শিশু কন্যা বেঁচে রয়েছে।\\nএর পরে ৮ বছরের শিশু কন্যাই নাকি জানায় যে কবরে থাকাকালীন সাদা পোশাক পরে এক দাড়িওয়ালা লোক তাদের কাছে আসতেন। মৃত মা-কে সেই লোক নাকি জাগিয়ে তুলতেন কয়েক মাসের শিশু কন্যাকে খাওয়ানোর জন্য। আর সেই লোকের নিয়ে আসা খাবার নাকি খেত ৮ বছরের ওই শিশু কন্যা। কবরে আসা লোকটির একহাত কেটে নাকি রক্ত পড়ত বলেও দাবি করে বছর আটেকের ওই বালিকা। ওই লোকটি আসলে ইসলামে বর্ণিত ইশা বলেও ছোট্ট মেয়েটি দাবি করে। আসলে মুসলমানরা যিশুকে ‘ইশা’ বলে ডাকে।\\xa0\\nসম্প্রতি এই কাহিনিতে জুড়ে দেওয়া হয় ভোপাল গ্যাসকাণ্ডের বিখ্যাত এই ছবি এবং দাবি করা হয় এই ছবিটি সেই কবর থেকে উদ্ধার দুই শিশু কন্যার মধ্যে একজনের।\\xa0এর পরই এই খবর নিয়ে নড়াচড়া শুরু হয় ইন্টারনেটে। ছবিটি ভোপাল গ্যাসকাণ্ডের বলে যেমন বিভিন্ন মহল থেকে দাবি উঠতে থাকে তেমনই এমন গল্পের সত্যতা নিয়েও প্রশ্ন উঠতে শুরু করে। ‘মার্ডার মিরাক্যাল অফ ইজিপ্ট’ বলে খ্যাতি পাওয়া এই খবর নিয়ে কেন কোনও মিডিয়া বা গণমাধ্যম হইচই করল না তা নিয়েও প্রশ্ন উঠতে শুরু করে। এমন কাহিনির যে কোনও বাস্তব ভিত্তি নেই, তাও দাবি করা হয় বিভিন্ন মহল থেকে।',\n",
       "  'গুজরাতে ঘুড়ির উড়ান আর ‘কাই পো চে’র (ভোকাট্টা) টক্কর দারুণ জনপ্রিয়। ইন্দোনেশিয়ার জাকার্তাতেও ঘুড়ির সমাদর জমজমাট। প্রধানমন্ত্রী নরেন্দ্র মোদী তাঁর ইন্দোনেশিয়া সফরের প্রথম দিনই তাই সে দেশের প্রেসিডেন্ট জোকো উইডোডোকে পাশে নিয়ে লাটাই ধরলেন। উদ্বোধন করলেন ঘুড়ি প্রদর্শনী। থিম, ইন্দোনেশিয়ার ঐতিহ্য অনুসারে রামায়ণ ও মহাভারত। রাম-কূটনীতি প্রথম নয় মোদী সরকারের। এই বছরের গোড়াতেই বিষয়টি নিয়ে উদ্যোগী হয় সাউথ ব্লক। নয়াদিল্লিতে আসিয়ান-ভুক্ত দেশগুলিকে নিয়ে বছরের গোড়ায় যে সম্মেলনের আয়োজন করা হয়েছিল, সেখানেও রামায়ণকে সামনে আনা হয়। চলতি সফরেও তার অন্যথা হয়নি। জাকার্তার লেয়াং লেয়াং ঘুড়ি মিউজিয়াম এবং আমদাবাদের ঘুড়ি মিউজিয়ামের মধ্যে সাংস্কৃতিক চুক্তিও হয়েছে। সাউথ ব্লকের মতে, ‘‘আসিয়ান দেশগুলিতে রামায়ণ জনপ্রিয় মহাকাব্য। ফলে দু’দেশের সম্পর্কের সুপ্রাচীন ভিতটি সামনে নিয়ে এলে তা দ্বিপাক্ষিক সম্পর্ককে মজবুত করবে।’’ ইন্দোনেশিয়ার কিছু অংশে জৈন সংস্করণে রাম অহিংসার পূজারি। লক্ষ্মণকেই রাবণ বধ করতে হয়। লক্ষ্মণ-রাবণের স্থান হয় নরকে। রাম জৈন সাধু হয়ে মোক্ষলাভ করেন। ইন্দোনেশীয় গায়কের গলায় ‘সবরমতী কে সন্ত’ গান শুনেও এ দিন মুগ্ধ মোদী।',\n",
       "  'সন্ত্রাসের বীজ বপন করে চোরের মায়ের মতো বড় গলা করার অভিযোগ পাকিস্তানের বিরুদ্ধে নতুন নয়। কিন্তু, সেই গলা মাত্রা ছাড়াতে ছাড়াতে এমন পর্যায়ে পৌঁছেছে যে, আন্তর্জাতিক মহলও অবাক হয়ে যাচ্ছে।\\xa0\\n২৬/১১ ভারতবাসী শুধু নয়, বিশ্বের কাছে একটা কালো দিন। ৮ বছর আগে পাকিস্তানের মাটি থেকে এসে মুম্বইয়ের বুকে যে তাণ্ডব নৃত্য চালিয়েছিল ১০ জঙ্গি, তার বর্ষপূর্তি শনিবার। কিন্তু, সেই লগ্নে পাক বিদেশমন্ত্রী খওয়াজা আসিফ যে ধরনের উস্কানিমূলক মন্তব্য করলেন তাতে ভারত-পাকিস্তানের মধ্যে চলা অস্থিরতার মাত্রা আরও বেড়ে যেতে পারেই বলে মনে করা হচ্ছে। পাকিস্তানের বিদেশমন্ত্রী খওয়াজা আসিফ শুক্রবার পাকিস্তানের ‘ন্যাশনাল অ্যাসেম্বলি’-তে বলেন, ভারতের হাতে একজন পাকিস্তানি সেনার মৃত্যু হলে পাল্টা ভারতের ৩ জন সেনাকে খতম করা হবে। এমনকী, দু’দেশের মধ্যে যুদ্ধ শুরু হলে ভারতকে চরম দুর্দশার মধ্যে ফেলবে পাকিস্তান।\\xa0\\n\\nপাক বিদেশমন্ত্রী খওয়াজা আসিফ\\nনিয়ন্ত্রণরেখা বরাবর উত্তেজনায় ভারতের দিকেই আঙুল তুলেছেন খওয়াজা আসিফ। তাঁর অভিযোগ— পাকিস্তানের বুকে চলা সন্ত্রাসের মদত দিচ্ছে ভারত। এর প্রমাণ সম্বিলিত তথ্য এবং ভিডিও ‘ডসিয়র’ করে রাষ্ট্রপুঞ্জের হাতে তুলে দেওয়া হয়েছে। পাকিস্তান যাতে আর্থিকভাবে শক্তিশালী না হতে পারে তার জন্য ভারত সক্রিয় রয়েছে বলে দাবি করেছেন খওয়াজা আসিফ। তাঁর অভিযোগ, চিনের সঙ্গে পাকিস্তানের ‘ইকনমিক করিডর’-এর কাজ রূপায়ণে নানাভাবে বাধা দিচ্ছে ভারত। উপমহাদেশে যাতে শান্তি বজায় থাকে তার জন্য নাকি পাকিস্তান চেষ্টা করে যাচ্ছে।\\xa0\\nখওয়াজা আসিফের এই বক্তব্যের প্রেক্ষিতে এখনও মোদী শিবির থেকে কোনও প্রতিক্রিয়া আসেনি। যদিও, জম্মু-কাশ্মীরে ভারত-পাক সীমান্ত বরাবার ঘন ঘন সংঘর্ষবিরতি লঙ্ঘন হচ্ছে। এই নিয়ে শনিবার নয়াদিল্লিতে ডেপুটি পাক হাইকমিশনারকে ডেকে পাঠায় বিদেশমন্ত্রক। সংঘর্ষবিরতি লঙ্ঘনের জন্য পাকিস্তানি সেনাবাহিনীকে দায়ী করে ডেপুটি হাইকমিশনারের কাছে কড়া প্রতিবাদ জানানো হয়।\\nআরও পড়ুন...\\xa0\\nনোটবাতিলের বাজারে মোদীকে অপমান করতে গিয়ে গরাদের পিছনে ব্যবসায়ী!\\xa0\\nনোটবাতিল বিতর্কের মধ্যেই কি ঘনাচ্ছে ইন্দো-পাক যুদ্ধের সম্ভাবনা?',\n",
       "  'দিল্লিকে প্যাঁচে ফেলতে এ বার সিকিম ও ভুটানে ভারত-বিরোধী আবেগ খুঁচিয়ে তোলার হুমকি দিল চিন। সে দেশের সরকারি সংবাদপত্র ‘গ্লোবাল টাইমস’-এর একটি উত্তর-সম্পাদকীয়তে দিল্লির উদ্দেশে বলা হয়েছে, দলাই লামাকে ব্যবহার করার কৌশল পুরনো হয়ে গিয়েছে। ওই পথে ভারতের কোনও লাভ হবে না। উল্টে দিল্লির পক্ষে সংবেদনশীল বিষয়গুলি নিয়ে পাল্টা তাস খেলতে পারে বেজিং। তার জেরে এমনিতেই অশান্ত ভারতের উত্তর-পূর্বাঞ্চল আরও অশান্ত হয়ে উঠেতে পারে।\\xa0 বদলে যেতে পারে দক্ষিণ হিমালয়ের ভূ-রাজনীতি। সিকিম সীমান্তে টানাপড়েন নিয়ে রোজই দিল্লিকে নানারকম কটাক্ষ ছুড়ে দিচ্ছে ড্রাগন। সেই হুমকির সুরেই ‘গ্লোবাল টাইমস’ আজ প্রথমে সম্পাদকীয়তে বলেছিল, ‘‘ভারত যদি চিনের সঙ্গে এ বার সংঘাতে যেতে চায়, তা হলে ১৯৬২ সালের থেকেও বেশি লোকসান হবে তাদের। ভারত নিজেদের সম্মান বজায় রেখে ডোকলাম এলাকা থেকে তাদের সেনা সরিয়ে নিক। না হলে ভারতীয় সেনাকে আমরা তাড়িয়ে ছাড়ব।’’ ভারতীয় সেনাকে উৎখাত করার প্রয়োজনীয় শক্তি যে পিপলস লিবারেশন আর্মির (পিএলএ) রয়েছে, তা-ও মনে করিয়ে দেওয়া হয়েছিল। সেই হুমকিই পরে কয়েক পর্দা চড়েছে। কাগজটি সরাসরি বলেছে, ‘সিকিমের ভারতে অন্তর্ভুক্তি ২০০৩ সালে মেনে নিয়েছিল বেজিং। কিন্তু তা পুনর্বিবেচনার সময় এসেছে। সিকিমের স্বাধীনতার পক্ষে সমর্থনের সুর এখনও রয়েছে চিনে। সেই সমস্ত কণ্ঠস্বর সিকিমের স্বাধীনতার দাবিকে তুলে ধরবে।’’ একই সঙ্গে বলা হয়েছে,\\xa0 ‘‘ভুটানের কূটনৈতিক সার্বভৌমত্ব ও প্রতিরক্ষাকে নিয়ন্ত্রণ করছে ভারত। ভারতের চাপেই চিন বা রাষ্ট্রপুঞ্জের নিরাপত্তা পরিষদের সদস্য দেশগুলির\\xa0 সঙ্গে কূটনৈতিক সম্পর্ক গড়তে পারছে না ভুটান। চিনের এলাকায় ঢুকে রাস্তা তৈরিতে বাধা দিচ্ছে ভারত। আর মুখে বলছে ভুটানের সার্বভৌমত্বের কথা।\\xa0 ভারতকে এর মাসুল দিতে হবে।’’\\xa0 সিকিম সীমান্তের ডোকা লা-য় চিনা সেনার রাস্তা বানানোর উদ্যোগ নিয়ে ইতিমধ্যেই আপত্তি তুলেছে ভুটান। এর পরেই রাস্তা বানানোর বিষয়ে আপত্তি তোলে নয়াদিল্লিও। ভারতের মতে, ওই এলাকা চিনের নিজের নয়। সেখানে সামরিক উদ্দেশে রাস্তা বানানোর অধিকার নেই তাদের। এই প্রেক্ষাপটেই বেজিং আজ দাবি করেছে, ডোকলাম এলাকা নিয়ে থিম্পুর সঙ্গে তাদের কোনও রকম বিতর্ক নেই। চিনের বিদেশ মন্ত্রকের মুখপাত্র জেং শুয়াং মন্তব্য করেছেন, ‘‘প্রাচীন কাল থেকেই এই এলাকা চিনের। এ নিয়ে কখনও কোনও বিতর্ক ছিল না।’’ চিন ও ভুটান সীমান্ত সংক্রান্ত বিষয় নিয়ে ইতিমধ্যেই ২৪ বার আলোচনাও সেরে ফেলেছে বলে দাবি করেছেন তিনি। চিনের বিদেশ মন্ত্রকের মুখপাত্র বলেন, ‘‘আমরা সীমান্তে শান্তি বজায় রাখতে ভুটানের সঙ্গে বন্ধুত্বপূর্ণ আলোচনা চালাতেই পারি।’’ ভারতের উদ্দেশে তাঁর অভিযোগ, ‘‘দিল্লি পঞ্চশীল নীতিকে অসম্মান করেছে। এখন নিজেদের ভুল শুধরে তাদের উচিত ডোকলাম থেকে সেনা প্রত্যাহার করা।’’']}"
      ]
     },
     "execution_count": 61,
     "metadata": {},
     "output_type": "execute_result"
    }
   ],
   "source": [
    "misclassified[:]"
   ]
  },
  {
   "cell_type": "code",
   "execution_count": 31,
   "id": "d323c574",
   "metadata": {},
   "outputs": [
    {
     "data": {
      "text/plain": [
       "BertForSequenceClassification(\n",
       "  (bert): BertModel(\n",
       "    (embeddings): BertEmbeddings(\n",
       "      (word_embeddings): Embedding(30522, 768, padding_idx=1)\n",
       "      (position_embeddings): Embedding(512, 768)\n",
       "      (token_type_embeddings): Embedding(2, 768)\n",
       "      (LayerNorm): LayerNorm((768,), eps=1e-12, elementwise_affine=True)\n",
       "      (dropout): Dropout(p=0.1, inplace=False)\n",
       "    )\n",
       "    (encoder): BertEncoder(\n",
       "      (layer): ModuleList(\n",
       "        (0-11): 12 x BertLayer(\n",
       "          (attention): BertAttention(\n",
       "            (self): BertSelfAttention(\n",
       "              (query): Linear(in_features=768, out_features=768, bias=True)\n",
       "              (key): Linear(in_features=768, out_features=768, bias=True)\n",
       "              (value): Linear(in_features=768, out_features=768, bias=True)\n",
       "              (dropout): Dropout(p=0.1, inplace=False)\n",
       "            )\n",
       "            (output): BertSelfOutput(\n",
       "              (dense): Linear(in_features=768, out_features=768, bias=True)\n",
       "              (LayerNorm): LayerNorm((768,), eps=1e-12, elementwise_affine=True)\n",
       "              (dropout): Dropout(p=0.1, inplace=False)\n",
       "            )\n",
       "          )\n",
       "          (intermediate): BertIntermediate(\n",
       "            (dense): Linear(in_features=768, out_features=3072, bias=True)\n",
       "            (intermediate_act_fn): GELUActivation()\n",
       "          )\n",
       "          (output): BertOutput(\n",
       "            (dense): Linear(in_features=3072, out_features=768, bias=True)\n",
       "            (LayerNorm): LayerNorm((768,), eps=1e-12, elementwise_affine=True)\n",
       "            (dropout): Dropout(p=0.1, inplace=False)\n",
       "          )\n",
       "        )\n",
       "      )\n",
       "    )\n",
       "    (pooler): BertPooler(\n",
       "      (dense): Linear(in_features=768, out_features=768, bias=True)\n",
       "      (activation): Tanh()\n",
       "    )\n",
       "  )\n",
       "  (dropout): Dropout(p=0.1, inplace=False)\n",
       "  (classifier): Linear(in_features=768, out_features=6, bias=True)\n",
       ")"
      ]
     },
     "execution_count": 31,
     "metadata": {},
     "output_type": "execute_result"
    }
   ],
   "source": [
    "model = AutoModelForSequenceClassification.from_pretrained(\"models/bert-unigram-bengali-classifier\")\n",
    "model.to(\"cuda\")"
   ]
  },
  {
   "cell_type": "code",
   "execution_count": 37,
   "id": "ddefcfac",
   "metadata": {},
   "outputs": [
    {
     "data": {
      "text/plain": [
       "{'eval_loss': 0.47230616211891174,\n",
       " 'eval_accuracy': 0.9029057406094968,\n",
       " 'eval_runtime': 3.4463,\n",
       " 'eval_samples_per_second': 409.426,\n",
       " 'eval_steps_per_second': 13.058,\n",
       " 'epoch': 6.0}"
      ]
     },
     "execution_count": 37,
     "metadata": {},
     "output_type": "execute_result"
    }
   ],
   "source": [
    "trainer.evaluate(tokenized_datasets[\"validation\"])"
   ]
  }
 ],
 "metadata": {
  "kernelspec": {
   "display_name": "Python 3 (ipykernel)",
   "language": "python",
   "name": "python3"
  },
  "language_info": {
   "codemirror_mode": {
    "name": "ipython",
    "version": 3
   },
   "file_extension": ".py",
   "mimetype": "text/x-python",
   "name": "python",
   "nbconvert_exporter": "python",
   "pygments_lexer": "ipython3",
   "version": "3.10.4"
  }
 },
 "nbformat": 4,
 "nbformat_minor": 5
}
