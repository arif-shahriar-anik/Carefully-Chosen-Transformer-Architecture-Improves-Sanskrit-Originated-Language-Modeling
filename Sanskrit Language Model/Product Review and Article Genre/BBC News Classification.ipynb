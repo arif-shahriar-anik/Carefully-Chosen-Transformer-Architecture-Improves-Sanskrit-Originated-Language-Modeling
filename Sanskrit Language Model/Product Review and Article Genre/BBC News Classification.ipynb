{
 "cells": [
  {
   "cell_type": "code",
   "execution_count": null,
   "id": "705888d8",
   "metadata": {},
   "outputs": [],
   "source": [
    "from datasets import load_dataset\n",
    "\n",
    "news_datasets = load_dataset(\"indic_glue\",\"bbca.hi\")"
   ]
  },
  {
   "cell_type": "code",
   "execution_count": null,
   "id": "e8f74f13",
   "metadata": {},
   "outputs": [],
   "source": [
    "news_datasets"
   ]
  },
  {
   "cell_type": "code",
   "execution_count": null,
   "id": "62c44db0",
   "metadata": {},
   "outputs": [],
   "source": [
    "news_datasets[\"train\"].set_format(\"pandas\")"
   ]
  },
  {
   "cell_type": "code",
   "execution_count": null,
   "id": "7386598c",
   "metadata": {},
   "outputs": [],
   "source": [
    "# get label counts for both classes\n",
    "label_counts = news_datasets[\"train\"][\"label\"].value_counts()\n",
    "num_labels = (len(label_counts.keys()))"
   ]
  },
  {
   "cell_type": "code",
   "execution_count": null,
   "id": "91fd91ef",
   "metadata": {},
   "outputs": [],
   "source": [
    "label_counts"
   ]
  },
  {
   "cell_type": "code",
   "execution_count": null,
   "id": "9848d245",
   "metadata": {},
   "outputs": [],
   "source": [
    "news_datasets[\"train\"].reset_format()"
   ]
  },
  {
   "cell_type": "code",
   "execution_count": null,
   "id": "698c93f2",
   "metadata": {},
   "outputs": [],
   "source": [
    "from transformers import set_seed\n",
    "\n",
    "# set_seed(30)\n",
    "set_seed(42)"
   ]
  },
  {
   "cell_type": "code",
   "execution_count": null,
   "id": "3ae60928",
   "metadata": {},
   "outputs": [],
   "source": [
    "from transformers import PreTrainedTokenizerFast, AutoModelForSequenceClassification\n",
    "\n",
    "tokenizer = PreTrainedTokenizerFast.from_pretrained(\"../Hindi Pretraining/models/unigram/bert-base-pretrained-hindi\")"
   ]
  },
  {
   "cell_type": "code",
   "execution_count": null,
   "id": "0f6eac14",
   "metadata": {},
   "outputs": [],
   "source": [
    "model =  AutoModelForSequenceClassification.from_pretrained(\"../Hindi Pretraining/models/unigram/bert-base-pretrained-hindi\", num_labels=num_labels)"
   ]
  },
  {
   "cell_type": "code",
   "execution_count": null,
   "id": "894a223a",
   "metadata": {},
   "outputs": [],
   "source": [
    "# num_added_tokens = tokenizer.add_tokens([\"5\",\"7\",\"8\",\"9\"])"
   ]
  },
  {
   "cell_type": "code",
   "execution_count": null,
   "id": "f7de20e9",
   "metadata": {},
   "outputs": [],
   "source": [
    "# Notice: resize_token_embeddings expect to receive the full size of the new vocabulary, i.e., the length of the tokenizer.\n",
    "# model.resize_token_embeddings(len(tokenizer))"
   ]
  },
  {
   "cell_type": "code",
   "execution_count": null,
   "id": "5b833509",
   "metadata": {},
   "outputs": [],
   "source": [
    "def tokenize_function(example):\n",
    "    #return tokenizer(example[\"text\"], truncation=True)\n",
    "    return tokenizer(example[\"text\"], truncation=True, max_length=128)"
   ]
  },
  {
   "cell_type": "code",
   "execution_count": null,
   "id": "38859875",
   "metadata": {},
   "outputs": [],
   "source": [
    "from transformers import DataCollatorWithPadding\n",
    "\n",
    "tokenized_datasets = news_datasets.map(tokenize_function, batched=True, remove_columns=[\"text\"])\n",
    "data_collator = DataCollatorWithPadding(tokenizer=tokenizer)"
   ]
  },
  {
   "cell_type": "code",
   "execution_count": null,
   "id": "90c5c425",
   "metadata": {},
   "outputs": [],
   "source": [
    "tokenized_datasets"
   ]
  },
  {
   "cell_type": "code",
   "execution_count": null,
   "id": "fbc48ef1",
   "metadata": {},
   "outputs": [],
   "source": [
    "for sample in temp[\"train\"]:\n",
    "    print(tokenizer.decode(sample[\"input_ids\"]))"
   ]
  },
  {
   "cell_type": "code",
   "execution_count": null,
   "id": "0b77cb70",
   "metadata": {},
   "outputs": [],
   "source": [
    "def assign_label(example):\n",
    "    mapping = {\n",
    "        \"india\": 0,\n",
    "        \"international\": 1,\n",
    "        \"entertainment\": 2,\n",
    "        \"sport\":3,\n",
    "        \"news\": 4,\n",
    "        \"science\": 5,\n",
    "        \"business\": 6,\n",
    "        \"pakistan\": 7,\n",
    "        \"southasia\":8,\n",
    "        \"institutional\":  9,\n",
    "        \"social\":10,\n",
    "        \"china\": 11,\n",
    "        \"multimedia\":  12,\n",
    "        \"learningenglish\": 13\n",
    "    }\n",
    "    example['label'] = mapping[example['label']]\n",
    "    return example"
   ]
  },
  {
   "cell_type": "code",
   "execution_count": null,
   "id": "7f72f8ba",
   "metadata": {},
   "outputs": [],
   "source": [
    "tokenized_datasets = tokenized_datasets.map(assign_label)\n",
    "tokenized_datasets.set_format(\"torch\")\n",
    "tokenized_datasets.column_names"
   ]
  },
  {
   "cell_type": "code",
   "execution_count": null,
   "id": "399bf492",
   "metadata": {},
   "outputs": [],
   "source": [
    "samples = [tokenized_datasets[\"train\"][i] for i in range(5)]\n",
    "samples\n",
    "\n",
    "for chunk in data_collator(samples)[\"input_ids\"]:\n",
    "    print(f\"\\n'>>> {tokenizer.decode(chunk)}'\")"
   ]
  },
  {
   "cell_type": "code",
   "execution_count": null,
   "id": "75eca670",
   "metadata": {},
   "outputs": [],
   "source": [
    "news_datasets[\"train\"][:5]"
   ]
  },
  {
   "cell_type": "code",
   "execution_count": null,
   "id": "6ae60094",
   "metadata": {},
   "outputs": [],
   "source": [
    "from torch.utils.data import DataLoader\n",
    "# batch_size = 16\n",
    "batch_size = 32\n",
    "\n",
    "train_dataloader = DataLoader(\n",
    "    tokenized_datasets[\"train\"], shuffle=True, batch_size=batch_size, collate_fn=data_collator\n",
    ")\n",
    "eval_dataloader = DataLoader(\n",
    "    tokenized_datasets[\"test\"], batch_size=batch_size, collate_fn=data_collator\n",
    ")"
   ]
  },
  {
   "cell_type": "code",
   "execution_count": null,
   "id": "b3f49e99",
   "metadata": {},
   "outputs": [],
   "source": [
    "for batch in train_dataloader:\n",
    "    break\n",
    "{k: v.shape for k, v in batch.items()}"
   ]
  },
  {
   "cell_type": "code",
   "execution_count": null,
   "id": "f39d52b3",
   "metadata": {},
   "outputs": [],
   "source": [
    "import torch\n",
    "with torch.no_grad():\n",
    "    outputs = model(**batch)\n",
    "    print(outputs.loss, outputs.logits.shape)"
   ]
  },
  {
   "cell_type": "code",
   "execution_count": null,
   "id": "09c186ed",
   "metadata": {},
   "outputs": [],
   "source": [
    "import numpy as np\n",
    "import evaluate\n",
    "\n",
    "metric_fun = evaluate.load(\"accuracy\")\n",
    "\n",
    "def compute_metrics(eval_preds):\n",
    "    logits, labels = eval_preds\n",
    "    predictions = np.argmax(logits, axis=-1)\n",
    "\n",
    "    metric_result = metric_fun.compute(references=labels, predictions=predictions)\n",
    "    return {\n",
    "        \"accuracy\": metric_result[\"accuracy\"],\n",
    "    }"
   ]
  },
  {
   "cell_type": "code",
   "execution_count": null,
   "id": "8cb53020",
   "metadata": {},
   "outputs": [],
   "source": [
    "#  disable weights and biases logging\n",
    "import os\n",
    "os.environ[\"WANDB_DISABLED\"] = \"true\""
   ]
  },
  {
   "cell_type": "code",
   "execution_count": null,
   "id": "324b2f79",
   "metadata": {},
   "outputs": [],
   "source": [
    "from transformers import TrainingArguments\n",
    "\n",
    "# batch_size = 16\n",
    "batch_size = 32\n",
    "# Show the training loss with every epoch\n",
    "logging_steps = len(tokenized_datasets[\"train\"]) // batch_size\n",
    "\n",
    "\n",
    "training_args = TrainingArguments(\n",
    "    report_to = None,\n",
    "    output_dir=\"models/bbc-classifier\",\n",
    "    overwrite_output_dir=True,\n",
    "    save_strategy=\"epoch\",\n",
    "    evaluation_strategy=\"epoch\",\n",
    "    #learning_rate=4e-5,\n",
    "    learning_rate=3e-5,\n",
    "    weight_decay=0.01,\n",
    "    #weight_decay=0.02,\n",
    "    warmup_ratio = 0.05,\n",
    "    per_device_train_batch_size=batch_size,\n",
    "    per_device_eval_batch_size=batch_size,\n",
    "    #num_train_epochs=6,\n",
    "    num_train_epochs=4,\n",
    "    #push_to_hub=True,\n",
    "    fp16=True,\n",
    "    logging_steps=logging_steps,\n",
    ")"
   ]
  },
  {
   "cell_type": "code",
   "execution_count": null,
   "id": "9d94821f",
   "metadata": {},
   "outputs": [],
   "source": [
    "# from datasets import concatenate_datasets\n",
    "\n",
    "# entire_train = concatenate_datasets([tokenized_datasets[\"train\"], tokenized_datasets[\"validation\"]]) "
   ]
  },
  {
   "cell_type": "code",
   "execution_count": null,
   "id": "8085d3f2",
   "metadata": {},
   "outputs": [],
   "source": [
    "from transformers import Trainer\n",
    "\n",
    "trainer = Trainer(\n",
    "    model=model,\n",
    "    args=training_args,\n",
    "    train_dataset=tokenized_datasets[\"train\"],\n",
    "    #train_dataset=entire_train,\n",
    "    eval_dataset=tokenized_datasets[\"test\"],\n",
    "    data_collator=data_collator,\n",
    "    tokenizer=tokenizer,\n",
    "    compute_metrics=compute_metrics,\n",
    ")"
   ]
  },
  {
   "cell_type": "code",
   "execution_count": null,
   "id": "7440206a",
   "metadata": {},
   "outputs": [],
   "source": [
    "trainer.train()"
   ]
  },
  {
   "cell_type": "code",
   "execution_count": null,
   "id": "f026e2e6",
   "metadata": {
    "scrolled": true
   },
   "outputs": [],
   "source": [
    "trainer.evaluate(tokenized_datasets[\"test\"])"
   ]
  },
  {
   "cell_type": "code",
   "execution_count": null,
   "id": "036d1b16",
   "metadata": {},
   "outputs": [],
   "source": [
    "trainer.save_model()"
   ]
  },
  {
   "cell_type": "code",
   "execution_count": null,
   "id": "5f4798d1",
   "metadata": {},
   "outputs": [],
   "source": [
    "y_preds, y_true, _ = trainer.predict(tokenized_datasets[\"test\"])"
   ]
  },
  {
   "cell_type": "code",
   "execution_count": null,
   "id": "39050f64",
   "metadata": {},
   "outputs": [],
   "source": [
    "y_preds = np.argmax(y_preds, axis=-1)"
   ]
  },
  {
   "cell_type": "code",
   "execution_count": null,
   "id": "1e29af1f",
   "metadata": {},
   "outputs": [],
   "source": [
    "from sklearn.metrics import classification_report\n",
    "target_names = [\"india\",\n",
    "        \"international\",\n",
    "        \"entertainment\",\n",
    "        \"sport\",\n",
    "        \"news\",\n",
    "        \"science\",\n",
    "        \"business\",\n",
    "        \"pakistan\",\n",
    "        \"southasia\",\n",
    "        \"institutional\",\n",
    "        \"social\",\n",
    "        \"china\",\n",
    "        \"multimedia\",\n",
    "        \"learningenglish\"]\n",
    "\n",
    "print(classification_report(y_true, y_preds,target_names=target_names))"
   ]
  },
  {
   "cell_type": "code",
   "execution_count": null,
   "id": "f3d1da0f",
   "metadata": {},
   "outputs": [],
   "source": [
    "import matplotlib.pyplot as plt\n",
    "from seaborn import heatmap\n",
    "from sklearn.metrics import confusion_matrix\n",
    "\n",
    "#plot heatmap of confusion matrix\n",
    "mat = confusion_matrix(y_true, y_preds)\n",
    "heatmap(mat, cmap=\"Pastel1_r\", fmt=\"d\", xticklabels=target_names, yticklabels=target_names, annot=True)\n",
    "\n",
    "#add overall title to plot\n",
    "plt.title('Confusion matrix for AC', fontsize = 12) # title with fontsize 20"
   ]
  },
  {
   "cell_type": "code",
   "execution_count": null,
   "id": "26dbe961",
   "metadata": {},
   "outputs": [],
   "source": [
    "misclassified = [i for i in range(len(y_preds)) if ((y_preds[i] != y_true[i]) and (y_true[i]==4) and (y_preds[i]==1))]"
   ]
  },
  {
   "cell_type": "code",
   "execution_count": null,
   "id": "f904017f",
   "metadata": {},
   "outputs": [],
   "source": [
    "misclassified = news_datasets['test'].select(misclassified)"
   ]
  },
  {
   "cell_type": "code",
   "execution_count": null,
   "id": "cce0fd3c",
   "metadata": {},
   "outputs": [],
   "source": [
    "misclassified[:]"
   ]
  },
  {
   "cell_type": "code",
   "execution_count": null,
   "id": "d323c574",
   "metadata": {},
   "outputs": [],
   "source": [
    "model = AutoModelForSequenceClassification.from_pretrained(\"models/bert-unigram-bengali-classifier\")\n",
    "model.to(\"cuda\")"
   ]
  },
  {
   "cell_type": "code",
   "execution_count": null,
   "id": "ddefcfac",
   "metadata": {},
   "outputs": [],
   "source": [
    "trainer.evaluate(tokenized_datasets[\"validation\"])"
   ]
  }
 ],
 "metadata": {
  "kernelspec": {
   "display_name": "Python 3 (ipykernel)",
   "language": "python",
   "name": "python3"
  },
  "language_info": {
   "codemirror_mode": {
    "name": "ipython",
    "version": 3
   },
   "file_extension": ".py",
   "mimetype": "text/x-python",
   "name": "python",
   "nbconvert_exporter": "python",
   "pygments_lexer": "ipython3",
   "version": "3.10.4"
  }
 },
 "nbformat": 4,
 "nbformat_minor": 5
}
