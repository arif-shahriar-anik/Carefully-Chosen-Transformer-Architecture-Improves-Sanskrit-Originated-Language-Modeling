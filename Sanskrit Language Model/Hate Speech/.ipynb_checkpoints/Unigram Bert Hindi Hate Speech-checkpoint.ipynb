{
 "cells": [
  {
   "cell_type": "code",
   "execution_count": 60,
   "id": "a0b3171d",
   "metadata": {},
   "outputs": [],
   "source": [
    "import os\n",
    "os.environ[\"CUDA_VISIBLE_DEVICES\"] = \"0\""
   ]
  },
  {
   "cell_type": "code",
   "execution_count": 61,
   "id": "2bd509eb",
   "metadata": {},
   "outputs": [
    {
     "data": {
      "text/plain": [
       "'NVIDIA GeForce RTX 2080 Ti'"
      ]
     },
     "execution_count": 61,
     "metadata": {},
     "output_type": "execute_result"
    }
   ],
   "source": [
    "import torch\n",
    "torch.cuda.get_device_name()"
   ]
  },
  {
   "cell_type": "code",
   "execution_count": 62,
   "id": "af9658d1",
   "metadata": {},
   "outputs": [],
   "source": [
    "# import transformers\n",
    "# transformers.__version__"
   ]
  },
  {
   "cell_type": "code",
   "execution_count": 63,
   "id": "4abd764b",
   "metadata": {},
   "outputs": [
    {
     "name": "stderr",
     "output_type": "stream",
     "text": [
      "Found cached dataset csv (/home/ashahri1/.cache/huggingface/datasets/csv/default-ccd7b790324bfd51/0.0.0/6954658bab30a358235fa864b05cf819af0e179325c740e4bc853bcc7ec513e1)\n"
     ]
    }
   ],
   "source": [
    "from datasets import load_dataset\n",
    "\n",
    "hate_speech_dataset = load_dataset(\"csv\", data_files=\"../datasets/Hindi Hate Speech.csv\", split=\"train\")"
   ]
  },
  {
   "cell_type": "code",
   "execution_count": 64,
   "id": "9d1c1826",
   "metadata": {},
   "outputs": [
    {
     "data": {
      "text/plain": [
       "Dataset({\n",
       "    features: ['Text', 'Label'],\n",
       "    num_rows: 3654\n",
       "})"
      ]
     },
     "execution_count": 64,
     "metadata": {},
     "output_type": "execute_result"
    }
   ],
   "source": [
    "hate_speech_dataset"
   ]
  },
  {
   "cell_type": "code",
   "execution_count": 65,
   "id": "1b6965d3",
   "metadata": {},
   "outputs": [],
   "source": [
    "hate_speech_dataset.set_format(\"pandas\")"
   ]
  },
  {
   "cell_type": "code",
   "execution_count": 66,
   "id": "ecadf5f9",
   "metadata": {},
   "outputs": [],
   "source": [
    "# get label counts for both classes\n",
    "label_counts = hate_speech_dataset[\"Label\"].value_counts()\n",
    "num_labels = (len(label_counts.keys()))"
   ]
  },
  {
   "cell_type": "code",
   "execution_count": 67,
   "id": "822e429f",
   "metadata": {},
   "outputs": [
    {
     "data": {
      "text/plain": [
       "Label\n",
       "HOF    1991\n",
       "NOT    1663\n",
       "Name: count, dtype: int64"
      ]
     },
     "execution_count": 67,
     "metadata": {},
     "output_type": "execute_result"
    }
   ],
   "source": [
    "label_counts"
   ]
  },
  {
   "cell_type": "code",
   "execution_count": 68,
   "id": "aed49cda",
   "metadata": {},
   "outputs": [
    {
     "data": {
      "text/plain": [
       "280"
      ]
     },
     "execution_count": 68,
     "metadata": {},
     "output_type": "execute_result"
    }
   ],
   "source": [
    "max_token_length = max(hate_speech_dataset['Text'].str.len())\n",
    "max_token_length"
   ]
  },
  {
   "cell_type": "code",
   "execution_count": 69,
   "id": "eaf07240",
   "metadata": {},
   "outputs": [],
   "source": [
    "hate_speech_dataset.reset_format()"
   ]
  },
  {
   "cell_type": "code",
   "execution_count": 70,
   "id": "c06296a5",
   "metadata": {},
   "outputs": [],
   "source": [
    "from transformers import set_seed\n",
    "\n",
    "set_seed(30)\n",
    "# set_seed(42)"
   ]
  },
  {
   "cell_type": "code",
   "execution_count": 71,
   "id": "f829941a",
   "metadata": {},
   "outputs": [],
   "source": [
    "from transformers import PreTrainedTokenizerFast, AutoModelForSequenceClassification\n",
    "\n",
    "tokenizer = PreTrainedTokenizerFast.from_pretrained(\"../Hindi Pretraining/models/unigram/bert-base-pretrained-hindi\")"
   ]
  },
  {
   "cell_type": "code",
   "execution_count": 72,
   "id": "9fe21642",
   "metadata": {},
   "outputs": [
    {
     "name": "stderr",
     "output_type": "stream",
     "text": [
      "Some weights of the model checkpoint at ../Hindi Pretraining/models/unigram/bert-base-pretrained-hindi were not used when initializing BertForSequenceClassification: ['cls.predictions.decoder.weight', 'cls.predictions.transform.dense.weight', 'cls.predictions.transform.LayerNorm.bias', 'cls.predictions.transform.dense.bias', 'cls.predictions.bias', 'cls.predictions.decoder.bias', 'cls.predictions.transform.LayerNorm.weight']\n",
      "- This IS expected if you are initializing BertForSequenceClassification from the checkpoint of a model trained on another task or with another architecture (e.g. initializing a BertForSequenceClassification model from a BertForPreTraining model).\n",
      "- This IS NOT expected if you are initializing BertForSequenceClassification from the checkpoint of a model that you expect to be exactly identical (initializing a BertForSequenceClassification model from a BertForSequenceClassification model).\n",
      "Some weights of BertForSequenceClassification were not initialized from the model checkpoint at ../Hindi Pretraining/models/unigram/bert-base-pretrained-hindi and are newly initialized: ['bert.pooler.dense.bias', 'classifier.bias', 'bert.pooler.dense.weight', 'classifier.weight']\n",
      "You should probably TRAIN this model on a down-stream task to be able to use it for predictions and inference.\n"
     ]
    }
   ],
   "source": [
    "model =  AutoModelForSequenceClassification.from_pretrained(\"../Hindi Pretraining/models/unigram/bert-base-pretrained-hindi\", num_labels=num_labels)"
   ]
  },
  {
   "cell_type": "code",
   "execution_count": 73,
   "id": "ab199977",
   "metadata": {},
   "outputs": [],
   "source": [
    "def tokenize_function(example):\n",
    "    return tokenizer(example[\"Text\"], truncation=True)"
   ]
  },
  {
   "cell_type": "code",
   "execution_count": 74,
   "id": "17e188b7",
   "metadata": {},
   "outputs": [
    {
     "name": "stderr",
     "output_type": "stream",
     "text": [
      "Loading cached processed dataset at /home/ashahri1/.cache/huggingface/datasets/csv/default-ccd7b790324bfd51/0.0.0/6954658bab30a358235fa864b05cf819af0e179325c740e4bc853bcc7ec513e1/cache-df939de8144fbe0d.arrow\n"
     ]
    }
   ],
   "source": [
    "from transformers import DataCollatorWithPadding\n",
    "\n",
    "tokenized_dataset = hate_speech_dataset.map(tokenize_function, batched=True, remove_columns=[\"Text\"])\n",
    "data_collator = DataCollatorWithPadding(tokenizer=tokenizer)"
   ]
  },
  {
   "cell_type": "code",
   "execution_count": 75,
   "id": "8451fd69",
   "metadata": {},
   "outputs": [
    {
     "data": {
      "text/plain": [
       "Dataset({\n",
       "    features: ['Label', 'input_ids', 'token_type_ids', 'attention_mask'],\n",
       "    num_rows: 3654\n",
       "})"
      ]
     },
     "execution_count": 75,
     "metadata": {},
     "output_type": "execute_result"
    }
   ],
   "source": [
    "tokenized_dataset"
   ]
  },
  {
   "cell_type": "code",
   "execution_count": 89,
   "id": "72ca54c8-440a-447a-90e6-84ef9d7c91a3",
   "metadata": {},
   "outputs": [
    {
     "name": "stdout",
     "output_type": "stream",
     "text": [
      "[CLS] कभी चाल, कभी मकसद, कभी मंसूबे यार होते हैं. इस दौर के [UNK] नमस्ते [UNK] के भी मतलब हजार होते हैं.[SEP]\n",
      "[CLS] से याद आया, बरकी को काट खाओ, और कुत्ते से प्यार [UNK] दिखाओ [UNK]! कमाल करते हो पांडेजी![SEP]\n",
      "[CLS] की हार के लिए प्रज्ञा ठाकुर जिम्मेदार नहीं हैं, वो कम्प्यूटर बाबा है । लगता है उसने यज्ञ [UNK] उल्टा [UNK] कर दिया । ढूंढ के लाओ उसे, उसे अभी समाधि भी तो लेनी है ।[SEP]\n",
      "[CLS] संसदीय दल की बैठक में का जोरदार स्वागत, 3[UNK]0 सांसदों के लिए एजेंडा तय करेंगे पीएम ।[SEP]\n",
      "[CLS] [UNK] दंगल गर्ल [UNK] के बॉलीवुड छोड़ने को लेकर किए गए फेसबुक पोस्ट पर उनके मैनेजर में बड़ा दावा किया है । मैनेजर ने दावा किया है का जायरा ने खुद फेसबुक पोस्ट नहीं लिखी थी । उन्होंने कहा कि जायरा के फेसबुक आईडी को हैक कर लिया गया था ।[SEP]\n",
      "[CLS] [UNK] बैटमेन [UNK] विधायक से पीएम नाराज़, दो टूक कहा - बेटा सांसद का हो या मंत्री का, ऐसी हरकत बर्दाश्त नहीं ।[SEP]\n",
      "[CLS] खनकती चूड़ियाँ और छनकती पायल मोहब्बत की मौशिकी में साज होते हैं ~ साहिब[UNK] चूड़ी शब्दनिधि हिंदी शब्द ।[SEP]\n",
      "[CLS] अगर रंग का असर इतना होताहै कि हुनर मायने न रखे और मैच हार जाए तो [UNK]i वो रंगभी बताएं जिससे पत्थरबाज सुधरसकते हैं, जिससे हिंदुस्तानका खाना और पाकका गाना छूटताहो और देश के टुकड़ेका ख्याल जाताहो । कसम से मैं अपने खर्चे पर उन रंगों के कपड़े भिजवाऊंगा ।[SEP]\n",
      "[CLS] की अगर 1[UNK] अतिपिछड़ी जातियों को अनुसूचित जाति में शामिल करने की जरा सी भी मंशा होती तो 26 अप्रैल 201[UNK] को राज्यसभा में लाए गए प्राइवेट मेंबर बिल का विरोध भाजपा ने किया था, अगर भाजपा की मंशा साफ है तो.[SEP]\n",
      "[CLS] छोटी सोच [UNK] शंका को जन्म देती है. और बड़ी सोच [UNK] समाधान [UNK] को.[SEP]\n",
      "[CLS] सब पर भारी मनोज तिवारी देखिए आज शाम 6 [UNK] बजे के साथ सिर्फ पर.[SEP]\n",
      "[CLS] थाना कमरौली पुलिस द्वारा चोरी की 0[UNK] मोटरसाइकिल के साथ 02 शातिर चोरों को गिरफ्तार कर जेल भेजा गया ।[SEP]\n",
      "[CLS] से बीजेपी विधायक नेडॉक्टरों को [UNK] शैतान [UNK] और पत्रकारों को [UNK] दलाल [UNK] कहा है । सोमवार को डॉक्टर दिवस पर आयोजित कार्यक्रम में बोलते हुए विधायक ने कहा कि सरकारी डॉक्टर शैतान की तरह होते हैं, जो गरीबों की सेवा नहीं करते ।[SEP]\n",
      "[CLS] मैच से [UNK] घंटे पहले जानें बर्मिंघम में कैसा है मौसम का हाल.[SEP]\n",
      "[CLS] टीम इंडिया की हार से निराश शोएब अख्तर बोले, [UNK] हमारी दुआएं हिन्दुस्तान के काम नहीं आ सकीं [UNK] cricket ।[SEP]\n",
      "[CLS] भारत ने बांग्लादेश को 2[UNK] रनों से हराया. विश्वकप में भारत की छठी जीत के बाद भारत सेमीफाइनल में पहुंचा.[SEP]\n",
      "[CLS] महबूबा मुफ्ती बोलीं, [UNK] ऑरेंज जर्सी की वजह से हारा भारत [UNK] ।[SEP]\n",
      "[CLS] में मुकाबले में इंग्लैंड ने भारत को 31 रन से हराकर सेमीफाइनल में पहुंचने की उम्मीदों को बरकरार रखा, इस मुकाबले में भारत की तरफ से रोहित शर्मा का शतक और मोहम्मद शमी के [UNK] विकेट भी भारत को जीत नहीं दिला पाए ।[SEP]\n",
      "[CLS] हार के बाद सचिन तेंदुलकर बोले, [UNK] जाधव की जगह जडेजा को टीम में शामिल करे भारत [UNK] cricket rt ।[SEP]\n",
      "[CLS] के रोमांचक मैच में ने बांग्लादेश को 2[UNK] रनों से मात देकर सेमीफाइनल में जगह पक्की कर ली है ।[SEP]\n",
      "[CLS] महाराष्ट्र में भारी बारिश से पिछले 24 घंटों में 3[UNK] मौत ।[SEP]\n",
      "[CLS] में आज टूर्नामेंट का 40वां मैच के एजबेस्टन क्रिकेट ग्राउंड पर टीम इंडिया और बांग्लादेश के बीच खेला जाएगा । मैच का प्रसारण [UNK]tar[UNK]ports के अलावा [UNK]ot[UNK]tar पर किया जाएगा ।[SEP]\n",
      "[CLS] में टूर्नामेंट का 3[UNK]वां मैच आज और के खिलाफ दुरहम के मैदान पर दोपहर 3 बजे से खेला जाएगा । मैच का प्रसारण के अलावा पर किया जाएगा ।[SEP]\n",
      "[CLS] में टूर्नामेंट का 3[UNK]वां मैच आज श्रीलंका और वेस्टइंडीज के बीच दुरहम के पर खेला जाएगा । मैच का प्रसारण के अलावा पर किया जाएगा ।[SEP]\n",
      "[CLS] में निगम अधिकारी की पिटाई करने के बाद विधायक अकाश विजयवर्गीय के समर्थकों ने उनके पोस्टर लगाए हैं । इन पोस्टरों में आकाश की तस्वीर के नीचे [UNK] सैल्यूट आकाश जी [UNK] लिखा था ।[SEP]\n",
      "[CLS] की शानदार कविता! o[UNK] [UNK]o[UNK]e हिंदी शब्द आप को स्कूल - कालेज के दिन याद आ जायेंगे, आपक की प्रेयसी इस कविता में आप को नजर आ जाएगी । आप के दिल को छूनेवाली प्रेमरस की कविता जरूर सुनिए ।[SEP]\n",
      "[CLS] के में भारी बारिश की वजह से एक बड़ा हादसा हो गया । पुणे के कोंढवा में दीवार गिरने से करीब 1[UNK] लोगों की मौत हो गई है, जबकि कई लोग घायल बताए जा रहे हैं ।[SEP]\n",
      "[CLS] चलते पागल बनते हैं दोस्त, [UNK]rink बोल के दारु पिलाते हैं दोस्त, कितने भी कमीने हो पर काम पड़ने पर हमेशा आगे रहते हैं दोस्त![SEP]\n",
      "[CLS] नशा नाश का कारण है नशा करने वालों का नाश होताहै इस संसारमें कुत्ते जैसी जिंदगी जीतेहैं और मरनेके बाद नर्क को प्राप्त होतेहैं क्योंकि परमात्मा को पाने के लिए हमारे शरीर के अंदर से सुषमना मना द्वार निकलताहै वह द्वार सिगरेट तंबाकू खाने से बंद हो जाताहै साधनाt[UNK] 30से ।[SEP]\n",
      "[CLS] को मिला विश्व बैंक का साथ, मंजूर हुआ [UNK]2.[SEP]\n",
      "[CLS] दुनिया के इन देशों में आज दिन में ही रात हो जाएगी, भारत में रात 10 2[UNK] बजे से शुरू होगा सूर्य ग्रहण ।[SEP]\n",
      "[CLS] क्या आप जानते हैं शिव जी के गले में जो लुंड वाला है आखिर वह किसकी है उसको जानने के लिए देखें ईश्वर टीवी रात [UNK] 30 बजे से या पढ़े पवित्र पुस्तक ज्ञान गंगा ।[SEP]\n",
      "[CLS] की विश्व कप में [UNK] भगवा जर्सी [UNK] पर राजनीति । सपा - कांग्रेस ने किया विरोध. ये तो पहले से ही पता था कि ये लोग विरोध करेंगे. लेकिन इन्हें भगवा रंग से इतना डर क्यों लगता है.[SEP]\n",
      "[CLS] मोदी, मदरसा और मुसलमान प्रवक्ता on [UNK]harat samachar.[SEP]\n",
      "[CLS] बिल आर्टिकल 14 और 1[UNK] का उल्लंघन करता है national ।[SEP]\n",
      "[CLS] यह विडियो दिल दहला देने वाला है कैसे यह हिन्दूत्व बिग्रेड मुसलमान के साथ बर्बरतापूर्ण व्यवहार कर रही है धर्म के नाम पर किसी विशेष वर्ग को टारगेट करना ङराना कहां तक जायज है । [UNK]elcome to Modi [UNK] s [UNK]indu [UNK]ashtra 2.[SEP]\n",
      "[CLS] फिर से दवरायेंगे मौलाना शौकत अली, और डॉ बाबासाहेब आंबेडकर गोलमेज 1[UNK]32 असुदुद्दीन ओवैसी और [UNK]d[UNK] बाळासाहेब आंबेडकर 201[UNK].[SEP]\n",
      "[CLS] की रथ यात्रा में मुख्य अतिथि होंगी सांसद नुसरत जहां, कहा - [UNK] मैं धर्मनिरपेक्ष थी, हूं और रहूंगी [UNK] ।[SEP]\n",
      "[CLS] का बड़ा खुलासा - मोदी सरकार ने [UNK] छिपाया [UNK] चार लाख करोड़ रुपये का खर्च और कर्ज । चौकीदारी के राज में ने लूटने और छिपाने का दौर चल रहा है ।[SEP]\n",
      "[CLS] का मुस्लिम डरा हुआ है डर से दिल्ली में मां दुर्गा के मंदिर को तोड़ दिया वाह रे हिंदुस्तानी सूअर मुसलमान भारत छोड़ो [UNK] pandit0 anant bipin ।[SEP]\n",
      "[CLS] मोदी सरकार और सांसद चुने जाने पर मैं मनोज तिवारी धन्यवाद यात्रा में आप को व आपके मित्रों को आमंत्रित करता हुँ, जो आज 2 जून [UNK] am से पाँचवाँ पूस्ता, मदर डेयरी, गामड़ी से शुरू होगी ।[SEP]\n",
      "[CLS] का सच, जिस वक्त कश्मीर भारत अंग बना था । तब भारत का अपना संविधान ही नही था । देखिए सुनिए 3[UNK]0 की सच्चाई [UNK]N[UNK] की जुबानी । ये हटा कर देशद्रोहियों की दूकानें बंद की जा सकती है ।, के झूठ का पर्दाफाश ।[SEP]\n",
      "[CLS] जम्मू में खाई में गिरी बस, 3[UNK] की मौत और नोएडा में सेक्स रैकेट का भंडाफोड़, चार बड़ी खबरें ।[SEP]\n",
      "[CLS] मुंबई में बारिश का कहर, 2[UNK] की मौत और माल्या केस में ब्रिटेन की अदालत में सुनवाई आज ।[SEP]\n",
      "[CLS] आदमी तेरे भाजपा कार्यकर्ता तो खुलेआम t[UNK]itter पे [UNK]emale को गाली देते हे ch ।[SEP]\n",
      "[CLS] से 4 लाख 1[UNK] हज़ार वोटों से जीत कर गिरिराज सिंह ने रचा इतिहास, टुकड़े टुकड़े गैंग के सरगना कन्हैया कुमार को चटाई धूल. हिन्दी ख़बर की तरफ से को हार्दिक बधाइयां.[SEP]\n",
      "[CLS] के [UNK]it[UNK]oll पर [UNK] की सुनामी चल रही है, ये देखकर मुझे तेरी मेहरबानिया फिल्म के कुत्ते की वफादारी याद आ गई - ।[SEP]\n",
      "[CLS] चलते पागल बनते हैं दोस्त, [UNK]rink बोल के दारु पिलाते हैं दोस्त, कितने भी कमीने हो पर काम पड़ने पर हमेशा आगे रहते हैं दोस्त![SEP]\n",
      "[CLS] चलते पागल बनते हैं दोस्त, [UNK]rink बोल के दारु पिलाते हैं दोस्त, कितने भी कमीने हो पर काम पड़ने पर हमेशा आगे रहते हैं दोस्त.[SEP]\n",
      "[CLS] चलते पागल बनते हैं दोस्त, [UNK]rink बोल के दारु पिलाते हैं दोस्त, कितने भी कमीने हो पर काम पड़ने पर हमेशा आगे रहते हैं दोस्त![SEP]\n",
      "[CLS] चलते पागल बनते हैं दोस्त, [UNK]rink बोल के दारु पिलाते हैं दोस्त, कितने भी कमीने हो पर काम पड़ने पर हमेशा रहते हैं दोस्त![SEP]\n",
      "[CLS] चलता है तो कुत्ते भौंकते है [UNK] अब तक मैने सिर्फ सुना ही था [UNK] संसद में [UNK]i[UNK]e देख भी लिया√ ।[SEP]\n",
      "[CLS] ने इण्टरव्यु के लिए अक्षय कुमार को चुना! जो सिर्फ उनकी तारीफ़ वाले बकवास सवाल करे, अभी भी कह रहा हूँ आ जाइए o[UNK]ice, का सामना कीजिए.[SEP]\n",
      "[CLS] ̧. [UNK] [UNK]. ̧ दिल ने कहा की कोई याद कर रहा है मैने सोचा दिल मजाक कर रहा है फिर जब आई हिचकी तो ख्याल आया की कोई अपना ही मेसेज का इंतजार कर रहा है ।[SEP]\n",
      "[CLS] कसैलाई पनि [UNK]orce नगर्नुस्, आफ्नो लागि समय निकाल्न किनकी जो तपाईलाई साचिकै care गर्छ नि उस्ले जस्तो अवस्थामा पनि तपाईको लागि थोरै भएनी समय निकाल्ने गर्छ ।[SEP]\n",
      "[CLS] की [UNK]क्रांति[UNK] का बिगुल बजाने वाली, झाँसी की रानी लक्ष्मीबाई का आज [UNK]बलिदान[UNK] दिवस है, लेकिन गोदी [UNK]मीडिया[UNK] में कहीं एक पट्टी तक नहीं, अगर प्रियंका चोपड़ा की [UNK]मैरिज[UNK] [UNK]nni[UNK]ersary होती, तो पूरा दिन [UNK]तमाशा[UNK] होता.[SEP]\n",
      "[CLS] की नोट में चिप है - हुज़ूर ne[UNK]s सोचा सब लोग भूल न गए हों इसलिए याद दिल दू ।[SEP]\n",
      "[CLS] में बेंगलुरू में हुई आरएसएस कार्यकर्ता रुद्रेश की हत्या का मामला । सुप्रीम कोर्ट ने पॉप्युलर फ्रंट ऑफ इंडिया ( [UNK] ) के बेंगलुरु जिलाध्यक्ष आसिम शरीफ की याचिका खारिज की ।[SEP]\n",
      "[CLS] करोड़ रुपए लेकर भागीं दुबई की महारानी, [UNK]M पति से की तलाक की मांग ।[SEP]\n",
      "[CLS] लाख [UNK]0 हजार मतों की भारी लीड से कन्हैया कुमार ने बेगूसराय सीट हारी ।[SEP]\n",
      "[CLS] सालों में दूसरी सबसे ज्यादा बारिश में डूबा शहर [UNK]i[UNK]e http ।[SEP]\n"
     ]
    }
   ],
   "source": [
    "for examples in temp.select(range(100)):\n",
    "    if(examples[\"Label\"]=='NOT'):\n",
    "        print(tokenizer.decode(examples['input_ids']))"
   ]
  },
  {
   "cell_type": "code",
   "execution_count": 95,
   "id": "09296a45-4f0f-47c0-a82f-83c77df50600",
   "metadata": {},
   "outputs": [
    {
     "name": "stdout",
     "output_type": "stream",
     "text": [
      "कसैलाई पनि force नगर्नुस् , आफ्नो लागि समय निकाल्न किनकी जो तपाईलाई साचिकै care गर्छ नि उस्ले जस्तो अवस्थामा पनि तपाईको लागि थोरै भएनी समय निकाल्ने गर्छ ।\n"
     ]
    }
   ],
   "source": [
    "for examples in hate_speech_dataset:\n",
    "    if (\"आफ्नो\" in examples[\"Text\"]) and (examples[\"Label\"]=='NOT'):\n",
    "        print(examples[\"Text\"])"
   ]
  },
  {
   "cell_type": "code",
   "execution_count": 19,
   "id": "00db1906",
   "metadata": {},
   "outputs": [],
   "source": [
    "def assign_label(example):\n",
    "    mapping = {\"HOF\":0, \"NOT\":1}\n",
    "    example['Label'] = mapping[example['Label']]\n",
    "    return example"
   ]
  },
  {
   "cell_type": "code",
   "execution_count": 20,
   "id": "a46142a2",
   "metadata": {},
   "outputs": [
    {
     "name": "stderr",
     "output_type": "stream",
     "text": [
      "Loading cached processed dataset at /home/ashahri1/.cache/huggingface/datasets/csv/default-ccd7b790324bfd51/0.0.0/6954658bab30a358235fa864b05cf819af0e179325c740e4bc853bcc7ec513e1/cache-ddec837bcc2fe16f.arrow\n"
     ]
    },
    {
     "data": {
      "text/plain": [
       "['labels', 'input_ids', 'token_type_ids', 'attention_mask']"
      ]
     },
     "execution_count": 20,
     "metadata": {},
     "output_type": "execute_result"
    }
   ],
   "source": [
    "tokenized_dataset = tokenized_dataset.map(assign_label)\n",
    "tokenized_dataset = tokenized_dataset.rename_column(\"Label\", \"labels\")\n",
    "tokenized_dataset.set_format(\"torch\")\n",
    "tokenized_dataset.column_names"
   ]
  },
  {
   "cell_type": "code",
   "execution_count": 21,
   "id": "6fbdeae6",
   "metadata": {},
   "outputs": [
    {
     "name": "stdout",
     "output_type": "stream",
     "text": [
      "\n",
      "'>>> [CLS] ‍ तीन दिन से हथेली और लण्ड दोनों में खुजली हो रही थी. न पैसा मिला न चूत.[SEP][PAD][PAD][PAD][PAD][PAD][PAD][PAD][PAD][PAD][PAD][PAD][PAD][PAD][PAD][PAD][PAD][PAD][PAD][PAD][PAD][PAD][PAD][PAD][PAD][PAD][PAD][PAD][PAD][PAD][PAD][PAD][PAD][PAD][PAD]'\n",
      "\n",
      "'>>> [CLS] जिन [UNK] नहीं वो निहायत ही मादरचोद किस्म की सुअर प्रजाति के लोग हैं, जिनका [UNK]N[UNK] तेरे जैसे लोगों से मिलता - जुलता है ।[SEP][PAD][PAD][PAD][PAD][PAD][PAD][PAD][PAD][PAD][PAD][PAD][PAD][PAD][PAD][PAD][PAD][PAD][PAD][PAD][PAD][PAD][PAD][PAD][PAD][PAD]'\n",
      "\n",
      "'>>> [CLS] सुंदरता सस्ती है. चरित्र महंगा है. घड़ी सस्ती है. समय महंगा है. शरीर सस्ता है. जीवन महंगा है. रिश्ता सस्ता है. लेकिन निभाना महंगा है.[SEP][PAD][PAD][PAD][PAD][PAD][PAD][PAD][PAD][PAD][PAD][PAD][PAD][PAD][PAD][PAD][PAD][PAD][PAD]'\n",
      "\n",
      "'>>> [CLS] कभी चाल, कभी मकसद, कभी मंसूबे यार होते हैं. इस दौर के [UNK] नमस्ते [UNK] के भी मतलब हजार होते हैं.[SEP][PAD][PAD][PAD][PAD][PAD][PAD][PAD][PAD][PAD][PAD][PAD][PAD][PAD][PAD][PAD][PAD][PAD][PAD][PAD][PAD][PAD][PAD][PAD][PAD][PAD][PAD][PAD]'\n",
      "\n",
      "'>>> [CLS] से याद आया, बरकी को काट खाओ, और कुत्ते से प्यार [UNK] दिखाओ [UNK]! कमाल करते हो पांडेजी![SEP][PAD][PAD][PAD][PAD][PAD][PAD][PAD][PAD][PAD][PAD][PAD][PAD][PAD][PAD][PAD][PAD][PAD][PAD][PAD][PAD][PAD][PAD][PAD][PAD][PAD][PAD][PAD][PAD][PAD]'\n",
      "\n",
      "'>>> [CLS] कैसे मुकदमा लङेगी फातिमा रन्ङी तू अपनी तन्हाई का हर हिन्दु लन्ङ गवाह है तेरी मक्का मदीना मे चुदाई का अल्ला झूठा मुल्ला झूठा झूठी सारी खुदाई चुत मिले अगर मुल्ली की तो कर दो जम के चुदाई वैसमोल ने किया कमाल ।[SEP]'\n",
      "\n",
      "'>>> [CLS] भगवा [UNK] देश और क्रिकेट दोनों के लिए पनौती है! धत् ।[SEP][PAD][PAD][PAD][PAD][PAD][PAD][PAD][PAD][PAD][PAD][PAD][PAD][PAD][PAD][PAD][PAD][PAD][PAD][PAD][PAD][PAD][PAD][PAD][PAD][PAD][PAD][PAD][PAD][PAD][PAD][PAD][PAD][PAD][PAD][PAD][PAD][PAD][PAD][PAD]'\n",
      "\n",
      "'>>> [CLS] दिल्ली में मूर्ति तोड़ने की बात थी वहां तो अपनी [UNK] सेना [UNK] लेकर पहुंच गए थे! जहां एक [UNK] जिन्दा [UNK] आदमी को तोड़ दिया गया, वहां कब जाओगे? कोई नी ट्वीट कर दिए ना काम पूरा हुआ![SEP][PAD][PAD][PAD][PAD][PAD][PAD]'\n",
      "\n",
      "'>>> [CLS] जी, खट्टी मीठी इलाहाबादी सियासत की याद दिलाता ये पोस्टर याद है आपको?[SEP][PAD][PAD][PAD][PAD][PAD][PAD][PAD][PAD][PAD][PAD][PAD][PAD][PAD][PAD][PAD][PAD][PAD][PAD][PAD][PAD][PAD][PAD][PAD][PAD][PAD][PAD][PAD][PAD][PAD][PAD][PAD][PAD][PAD][PAD][PAD][PAD][PAD][PAD][PAD][PAD]'\n",
      "\n",
      "'>>> [CLS] इतने बकवास इंसान हो तुम! इस तस्वीर में एक बेटी भी है तुमने उसका तक मज़ाक बना डाला ऐश्वर्या का फैसला एकदम सही था ।[SEP][PAD][PAD][PAD][PAD][PAD][PAD][PAD][PAD][PAD][PAD][PAD][PAD][PAD][PAD][PAD][PAD][PAD][PAD][PAD][PAD][PAD][PAD][PAD][PAD][PAD][PAD][PAD][PAD][PAD][PAD][PAD][PAD]'\n"
     ]
    }
   ],
   "source": [
    "samples = [tokenized_dataset[i] for i in range(10)]\n",
    "samples\n",
    "\n",
    "for chunk in data_collator(samples)[\"input_ids\"]:\n",
    "    print(f\"\\n'>>> {tokenizer.decode(chunk)}'\")"
   ]
  },
  {
   "cell_type": "code",
   "execution_count": 22,
   "id": "acefe412",
   "metadata": {},
   "outputs": [
    {
     "data": {
      "text/plain": [
       "{'Text': ['\\u200d तीन दिन से हथेली और लण्ड दोनों में खुजली हो रही थी . न पैसा मिला न चूत .',\n",
       "  \"जिन ' नहीं वो निहायत ही मादरचोद किस्म की सुअर प्रजाति के लोग हैं , जिनका DNA तेरे जैसे लोगों से मिलता - जुलता है ।\",\n",
       "  'सुंदरता सस्ती है . चरित्र महंगा है . घड़ी सस्ती है . समय महंगा है . शरीर सस्ता है . जीवन महंगा है . रिश्ता सस्ता है . लेकिन निभाना महंगा है .',\n",
       "  \"कभी चाल , कभी मकसद , कभी मंसूबे यार होते हैं . इस दौर के ' नमस्ते ' के भी मतलब हजार होते हैं .\",\n",
       "  \"से याद आया , बरकी को काट खाओ , और कुत्ते से प्यार ' दिखाओ ' ! कमाल करते हो पांडेजी !\",\n",
       "  'कैसे मुकदमा लङेगी फातिमा रन्ङी तू अपनी तन्हाई का हर हिन्दु लन्ङ गवाह है तेरी मक्का मदीना मे चुदाई का अल्ला झूठा मुल्ला झूठा झूठी सारी खुदाई चुत मिले अगर मुल्ली की तो कर दो जम के चुदाई वैसमोल ने किया कमाल ।',\n",
       "  \"भगवा ' देश और क्रिकेट दोनों के लिए पनौती है! धत् ।\",\n",
       "  \"दिल्ली में मूर्ति तोड़ने की बात थी वहां तो अपनी ' सेना ' लेकर पहुंच गए थे! जहां एक ' जिन्दा ' आदमी को तोड़ दिया गया , वहां कब जाओगे ? कोई नी ट्वीट कर दिए ना काम पूरा हुआ!\",\n",
       "  'जी , खट्टी मीठी इलाहाबादी सियासत की याद दिलाता ये पोस्टर याद है आपको ?',\n",
       "  'इतने बकवास इंसान हो तुम! इस तस्वीर में एक बेटी भी है तुमने उसका तक मज़ाक बना डाला ऐश्वर्या का फैसला एकदम सही था ।'],\n",
       " 'Label': ['HOF',\n",
       "  'HOF',\n",
       "  'NOT',\n",
       "  'NOT',\n",
       "  'NOT',\n",
       "  'HOF',\n",
       "  'HOF',\n",
       "  'HOF',\n",
       "  'NOT',\n",
       "  'HOF']}"
      ]
     },
     "execution_count": 22,
     "metadata": {},
     "output_type": "execute_result"
    }
   ],
   "source": [
    "hate_speech_dataset[:10]"
   ]
  },
  {
   "cell_type": "code",
   "execution_count": 23,
   "id": "93559af1",
   "metadata": {},
   "outputs": [
    {
     "name": "stderr",
     "output_type": "stream",
     "text": [
      "Loading cached split indices for dataset at /home/ashahri1/.cache/huggingface/datasets/csv/default-ccd7b790324bfd51/0.0.0/6954658bab30a358235fa864b05cf819af0e179325c740e4bc853bcc7ec513e1/cache-c2136eef78d08297.arrow and /home/ashahri1/.cache/huggingface/datasets/csv/default-ccd7b790324bfd51/0.0.0/6954658bab30a358235fa864b05cf819af0e179325c740e4bc853bcc7ec513e1/cache-7512551c936bee22.arrow\n"
     ]
    },
    {
     "data": {
      "text/plain": [
       "DatasetDict({\n",
       "    train: Dataset({\n",
       "        features: ['labels', 'input_ids', 'token_type_ids', 'attention_mask'],\n",
       "        num_rows: 2923\n",
       "    })\n",
       "    test: Dataset({\n",
       "        features: ['labels', 'input_ids', 'token_type_ids', 'attention_mask'],\n",
       "        num_rows: 731\n",
       "    })\n",
       "})"
      ]
     },
     "execution_count": 23,
     "metadata": {},
     "output_type": "execute_result"
    }
   ],
   "source": [
    "downsampled_dataset = tokenized_dataset.train_test_split(\n",
    "    train_size=0.8, seed=42\n",
    ")\n",
    "downsampled_dataset"
   ]
  },
  {
   "cell_type": "code",
   "execution_count": 24,
   "id": "81a34189",
   "metadata": {},
   "outputs": [],
   "source": [
    "from torch.utils.data import DataLoader\n",
    "# batch_size = 32\n",
    "batch_size = 32\n",
    "\n",
    "train_dataloader = DataLoader(\n",
    "    downsampled_dataset[\"train\"], shuffle=True, batch_size=batch_size, collate_fn=data_collator\n",
    ")\n",
    "eval_dataloader = DataLoader(\n",
    "    downsampled_dataset[\"test\"], batch_size=batch_size, collate_fn=data_collator\n",
    ")"
   ]
  },
  {
   "cell_type": "code",
   "execution_count": 25,
   "id": "5ccc01a0",
   "metadata": {},
   "outputs": [
    {
     "data": {
      "text/plain": [
       "{'labels': torch.Size([32]),\n",
       " 'input_ids': torch.Size([32, 136]),\n",
       " 'token_type_ids': torch.Size([32, 136]),\n",
       " 'attention_mask': torch.Size([32, 136])}"
      ]
     },
     "execution_count": 25,
     "metadata": {},
     "output_type": "execute_result"
    }
   ],
   "source": [
    "for batch in train_dataloader:\n",
    "    break\n",
    "{k: v.shape for k, v in batch.items()}"
   ]
  },
  {
   "cell_type": "code",
   "execution_count": 26,
   "id": "72da652a",
   "metadata": {},
   "outputs": [
    {
     "name": "stdout",
     "output_type": "stream",
     "text": [
      "tensor(0.7335, grad_fn=<NllLossBackward0>) torch.Size([32, 2])\n"
     ]
    }
   ],
   "source": [
    "outputs = model(**batch)\n",
    "print(outputs.loss, outputs.logits.shape)"
   ]
  },
  {
   "cell_type": "code",
   "execution_count": 27,
   "id": "d15803ca",
   "metadata": {},
   "outputs": [],
   "source": [
    "from transformers import AdamW\n",
    "\n",
    "optimizer = AdamW(model.parameters(), lr=4e-5)\n",
    "# optimizer = AdamW(model.parameters(), lr=3e-5)"
   ]
  },
  {
   "cell_type": "code",
   "execution_count": 28,
   "id": "b2d7af02",
   "metadata": {},
   "outputs": [
    {
     "name": "stdout",
     "output_type": "stream",
     "text": [
      "552\n"
     ]
    }
   ],
   "source": [
    "from transformers import get_scheduler\n",
    "\n",
    "# num_epochs = 3\n",
    "num_epochs = 6\n",
    "num_training_steps = num_epochs * len(train_dataloader)\n",
    "lr_scheduler = get_scheduler(\n",
    "    \"linear\",\n",
    "    optimizer=optimizer,\n",
    "    num_warmup_steps=0,\n",
    "    num_training_steps=num_training_steps,\n",
    ")\n",
    "print(num_training_steps)"
   ]
  },
  {
   "cell_type": "code",
   "execution_count": 29,
   "id": "e30025b0",
   "metadata": {},
   "outputs": [
    {
     "data": {
      "text/plain": [
       "device(type='cuda')"
      ]
     },
     "execution_count": 29,
     "metadata": {},
     "output_type": "execute_result"
    }
   ],
   "source": [
    "import torch\n",
    "\n",
    "device = torch.device(\"cuda\") if torch.cuda.is_available() else torch.device(\"cpu\")\n",
    "model.to(device)\n",
    "device"
   ]
  },
  {
   "cell_type": "code",
   "execution_count": 30,
   "id": "ad4e89f7",
   "metadata": {},
   "outputs": [
    {
     "data": {
      "application/vnd.jupyter.widget-view+json": {
       "model_id": "c7625d6239524501a2fba23749f2a34a",
       "version_major": 2,
       "version_minor": 0
      },
      "text/plain": [
       "  0%|          | 0/552 [00:00<?, ?it/s]"
      ]
     },
     "metadata": {},
     "output_type": "display_data"
    }
   ],
   "source": [
    "from tqdm.auto import tqdm\n",
    "\n",
    "progress_bar = tqdm(range(num_training_steps))\n",
    "\n",
    "model.train()\n",
    "for epoch in range(num_epochs):\n",
    "    for batch in train_dataloader:\n",
    "        batch = {k: v.to(device) for k, v in batch.items()}\n",
    "        outputs = model(**batch)\n",
    "        loss = outputs.loss\n",
    "        loss.backward()\n",
    "\n",
    "        optimizer.step()\n",
    "        lr_scheduler.step()\n",
    "        optimizer.zero_grad()\n",
    "        progress_bar.update(1)"
   ]
  },
  {
   "cell_type": "code",
   "execution_count": 31,
   "id": "07781d23",
   "metadata": {},
   "outputs": [],
   "source": [
    "# !pip install evaluate"
   ]
  },
  {
   "cell_type": "code",
   "execution_count": 32,
   "id": "66a53f67",
   "metadata": {},
   "outputs": [],
   "source": [
    "# !pip install -U scikit-learn scipy matplotlib"
   ]
  },
  {
   "cell_type": "code",
   "execution_count": 31,
   "id": "a0bac603",
   "metadata": {},
   "outputs": [],
   "source": [
    "import evaluate\n",
    "\n",
    "metric = evaluate.load(\"f1\")\n",
    "# results = f1_metric.compute(predictions=[0, 1], references=[0, 1], average=\"macro\")\n",
    "# print(results)"
   ]
  },
  {
   "cell_type": "code",
   "execution_count": 33,
   "id": "f387e04a",
   "metadata": {},
   "outputs": [
    {
     "data": {
      "text/plain": [
       "{'f1': 0.8194949454965628}"
      ]
     },
     "execution_count": 33,
     "metadata": {},
     "output_type": "execute_result"
    }
   ],
   "source": [
    "model.eval()\n",
    "y_preds = []\n",
    "for batch in eval_dataloader:\n",
    "    batch = {k: v.to(device) for k, v in batch.items()}\n",
    "    with torch.no_grad():\n",
    "        outputs = model(**batch)\n",
    "\n",
    "    logits = outputs.logits\n",
    "    predictions = torch.argmax(logits, dim=-1)\n",
    "    y_preds.extend(predictions.cpu())\n",
    "    metric.add_batch(predictions=predictions, references=batch[\"labels\"])\n",
    "\n",
    "metric.compute(average=\"macro\")"
   ]
  },
  {
   "cell_type": "code",
   "execution_count": 34,
   "id": "871bfc36-944a-456a-8625-84cc91a4a6f2",
   "metadata": {},
   "outputs": [],
   "source": [
    "y_true = downsampled_dataset[\"test\"][\"labels\"]"
   ]
  },
  {
   "cell_type": "code",
   "execution_count": 35,
   "id": "60ca1c59-90b2-467e-8bf4-7d94461e077e",
   "metadata": {},
   "outputs": [
    {
     "name": "stdout",
     "output_type": "stream",
     "text": [
      "              precision    recall  f1-score   support\n",
      "\n",
      "         HOF       0.85      0.82      0.83       404\n",
      "         NOT       0.79      0.82      0.80       327\n",
      "\n",
      "    accuracy                           0.82       731\n",
      "   macro avg       0.82      0.82      0.82       731\n",
      "weighted avg       0.82      0.82      0.82       731\n",
      "\n"
     ]
    }
   ],
   "source": [
    "from sklearn.metrics import classification_report\n",
    "target_names = [\"HOF\", \"NOT\"]\n",
    "print(classification_report(y_true, y_preds,target_names=target_names))"
   ]
  },
  {
   "cell_type": "code",
   "execution_count": 36,
   "id": "ce816e41-9327-4340-b55a-1caac10409a8",
   "metadata": {},
   "outputs": [
    {
     "data": {
      "text/plain": [
       "Text(0.5, 1.0, 'Confusion matrix for Hate Speech')"
      ]
     },
     "execution_count": 36,
     "metadata": {},
     "output_type": "execute_result"
    },
    {
     "data": {
      "image/png": "[encoded data removed]",
      "text/plain": [
       "<Figure size 640x480 with 2 Axes>"
      ]
     },
     "metadata": {},
     "output_type": "display_data"
    }
   ],
   "source": [
    "import matplotlib.pyplot as plt\n",
    "from seaborn import heatmap\n",
    "from sklearn.metrics import confusion_matrix\n",
    "\n",
    "#plot heatmap of confusion matrix\n",
    "mat = confusion_matrix(y_true, y_preds)\n",
    "heatmap(mat, cmap=\"Pastel1_r\", fmt=\"d\", xticklabels=target_names, yticklabels=target_names, annot=True)\n",
    "\n",
    "#add overall title to plot\n",
    "plt.title('Confusion matrix for Hate Speech', fontsize = 12) # title with fontsize 20"
   ]
  },
  {
   "cell_type": "code",
   "execution_count": 44,
   "id": "c6706733-fd15-44b0-a3ff-e08cb2704776",
   "metadata": {},
   "outputs": [
    {
     "name": "stderr",
     "output_type": "stream",
     "text": [
      "Loading cached processed dataset at /home/ashahri1/.cache/huggingface/datasets/csv/default-ccd7b790324bfd51/0.0.0/6954658bab30a358235fa864b05cf819af0e179325c740e4bc853bcc7ec513e1/cache-d852b7d7837228cb.arrow\n"
     ]
    }
   ],
   "source": [
    "temp = hate_speech_dataset.filter(lambda x:x if x[\"Label\"]=='NOT' else None)"
   ]
  },
  {
   "cell_type": "code",
   "execution_count": 45,
   "id": "4fb2bfc2-5511-4d19-b34b-f77071376f87",
   "metadata": {},
   "outputs": [
    {
     "data": {
      "text/plain": [
       "{'Text': ['सुंदरता सस्ती है . चरित्र महंगा है . घड़ी सस्ती है . समय महंगा है . शरीर सस्ता है . जीवन महंगा है . रिश्ता सस्ता है . लेकिन निभाना महंगा है .',\n",
       "  \"कभी चाल , कभी मकसद , कभी मंसूबे यार होते हैं . इस दौर के ' नमस्ते ' के भी मतलब हजार होते हैं .\",\n",
       "  \"से याद आया , बरकी को काट खाओ , और कुत्ते से प्यार ' दिखाओ ' ! कमाल करते हो पांडेजी !\",\n",
       "  'जी , खट्टी मीठी इलाहाबादी सियासत की याद दिलाता ये पोस्टर याद है आपको ?',\n",
       "  \"की हार के लिए प्रज्ञा ठाकुर जिम्मेदार नहीं हैं , वो कम्प्यूटर बाबा है । लगता है उसने यज्ञ ' उल्टा ' कर दिया । ढूंढ के लाओ उसे , उसे अभी समाधि भी तो लेनी है ।\",\n",
       "  'संसदीय दल की बैठक में का जोरदार स्वागत , 380 सांसदों के लिए एजेंडा तय करेंगे पीएम ।',\n",
       "  'चीफ ने ज्वाइन किया , सिर्फ इस एक अकाउंट को किया फॉलो ।',\n",
       "  '‘ दंगल गर्ल ’ के बॉलीवुड छोड़ने को लेकर किए गए फेसबुक पोस्ट पर उनके मैनेजर में बड़ा दावा किया है । मैनेजर ने दावा किया है का जायरा ने खुद फेसबुक पोस्ट नहीं लिखी थी । उन्होंने कहा कि जायरा के फेसबुक आईडी को हैक कर लिया गया था ।',\n",
       "  '‘ बैटमेन ’ विधायक से पीएम नाराज़ , दो टूक कहा - बेटा सांसद का हो या मंत्री का , ऐसी हरकत बर्दाश्त नहीं ।',\n",
       "  'खनकती चूड़ियाँ और छनकती पायल मोहब्बत की मौशिकी में साज होते हैं ~ साहिब१ चूड़ी शब्दनिधि हिंदी शब्द ।',\n",
       "  'सिमटकर चूड़ियों में छुपने लगा शायद मैंने जो चूम लिया उसको मुझको चुभने लगा शायद मैंने जब आगोश में भर लिया उसको मुझसे जलता है तेरा कंगन शायद .',\n",
       "  'अगर रंग का असर इतना होताहै कि हुनर मायने न रखे और मैच हार जाए तो ji वो रंगभी बताएं जिससे पत्थरबाज सुधरसकते हैं , जिससे हिंदुस्तानका खाना और पाकका गाना छूटताहो और देश के टुकड़ेका ख्याल जाताहो । कसम से मैं अपने खर्चे पर उन रंगों के कपड़े भिजवाऊंगा ।',\n",
       "  'के बयान से किनारा करके केवल ढोंग कर रही है कौन नही जानता है कि भाजपा में ऊपर से नीचे तक आज़ाद भारत के पहले आतंकी नाथूराम गोडसे की हिंसात्मक विचारधारा को मानने वाले नेता भरे पड़े है ।',\n",
       "  'की अगर 17 अतिपिछड़ी जातियों को अनुसूचित जाति में शामिल करने की जरा सी भी मंशा होती तो 26 अप्रैल 2015 को राज्यसभा में लाए गए प्राइवेट मेंबर बिल का विरोध भाजपा ने किया था , अगर भाजपा की मंशा साफ है तो .',\n",
       "  'ऐसे लोगो पर तुरंत करवाई हो ।',\n",
       "  'क्या बात है सर् . सुबह - सुबह दिल खुश कर दिया आपने उम्मीद की एक किरण दिखकर .',\n",
       "  'एक कमीने को चौराहे पर बुलाया था . नेपाल भाग गया .',\n",
       "  'जी अब इससे ज्यादा तो क्या लिखूं फोटो खुद ही अपने आप में बहुत कुछ कह रहा है ।',\n",
       "  'जी जितना मजाक उड़ाना है उड़ाइए . लेकिन एक बात गांठ बांधकर रख लीजिए कि इस तस्वीर में जो कुत्ते है वो आपसे ज्यादा काबिल और जिम्मेदार है । विश्वास नहीं तो और के नेताओं से पूछ लीजिए ।',\n",
       "  'ने सोनिया गाँधी को फोन किया और बोला मैं काँग्रेस अध्यक्ष पद के लिए आवेदन करना चाहता हूँ । * सोनिया गाँधी चोंकती हुई बोली *बेवकूफ़ हो क्या ? * राणा भी लगभग चोंकते हुए बोला *बेवकूफ़ होना ज़रूरी है क्या ?'],\n",
       " 'Label': ['NOT',\n",
       "  'NOT',\n",
       "  'NOT',\n",
       "  'NOT',\n",
       "  'NOT',\n",
       "  'NOT',\n",
       "  'NOT',\n",
       "  'NOT',\n",
       "  'NOT',\n",
       "  'NOT',\n",
       "  'NOT',\n",
       "  'NOT',\n",
       "  'NOT',\n",
       "  'NOT',\n",
       "  'NOT',\n",
       "  'NOT',\n",
       "  'NOT',\n",
       "  'NOT',\n",
       "  'NOT',\n",
       "  'NOT']}"
      ]
     },
     "execution_count": 45,
     "metadata": {},
     "output_type": "execute_result"
    }
   ],
   "source": [
    "temp[:20]"
   ]
  },
  {
   "cell_type": "code",
   "execution_count": 33,
   "id": "18550ab8",
   "metadata": {},
   "outputs": [],
   "source": [
    "import gc\n",
    "gc.collect()\n",
    "torch.cuda.empty_cache()"
   ]
  },
  {
   "cell_type": "code",
   "execution_count": 34,
   "id": "8aab9469",
   "metadata": {},
   "outputs": [
    {
     "name": "stderr",
     "output_type": "stream",
     "text": [
      "Loading cached shuffled indices for dataset at /home/ashahri1/.cache/huggingface/datasets/csv/default-ccd7b790324bfd51/0.0.0/6954658bab30a358235fa864b05cf819af0e179325c740e4bc853bcc7ec513e1/cache-9b92d9933b4632ea.arrow\n",
      "Some weights of the model checkpoint at ../Hindi Pretraining/models/unigram/bert-base-pretrained-hindi were not used when initializing BertForSequenceClassification: ['cls.predictions.transform.LayerNorm.weight', 'cls.predictions.bias', 'cls.predictions.transform.dense.bias', 'cls.predictions.decoder.weight', 'cls.predictions.transform.LayerNorm.bias', 'cls.predictions.decoder.bias', 'cls.predictions.transform.dense.weight']\n",
      "- This IS expected if you are initializing BertForSequenceClassification from the checkpoint of a model trained on another task or with another architecture (e.g. initializing a BertForSequenceClassification model from a BertForPreTraining model).\n",
      "- This IS NOT expected if you are initializing BertForSequenceClassification from the checkpoint of a model that you expect to be exactly identical (initializing a BertForSequenceClassification model from a BertForSequenceClassification model).\n",
      "Some weights of BertForSequenceClassification were not initialized from the model checkpoint at ../Hindi Pretraining/models/unigram/bert-base-pretrained-hindi and are newly initialized: ['bert.pooler.dense.weight', 'classifier.weight', 'classifier.bias', 'bert.pooler.dense.bias']\n",
      "You should probably TRAIN this model on a down-stream task to be able to use it for predictions and inference.\n"
     ]
    },
    {
     "name": "stdout",
     "output_type": "stream",
     "text": [
      "1098\n"
     ]
    },
    {
     "data": {
      "application/vnd.jupyter.widget-view+json": {
       "model_id": "42dbfc5127d741ffb538cffa5aae2626",
       "version_major": 2,
       "version_minor": 0
      },
      "text/plain": [
       "  0%|          | 0/1098 [00:00<?, ?it/s]"
      ]
     },
     "metadata": {},
     "output_type": "display_data"
    },
    {
     "name": "stdout",
     "output_type": "stream",
     "text": [
      "{'f1': 0.8243669419298694}\n"
     ]
    },
    {
     "name": "stderr",
     "output_type": "stream",
     "text": [
      "Some weights of the model checkpoint at ../Hindi Pretraining/models/unigram/bert-base-pretrained-hindi were not used when initializing BertForSequenceClassification: ['cls.predictions.transform.LayerNorm.weight', 'cls.predictions.bias', 'cls.predictions.transform.dense.bias', 'cls.predictions.decoder.weight', 'cls.predictions.transform.LayerNorm.bias', 'cls.predictions.decoder.bias', 'cls.predictions.transform.dense.weight']\n",
      "- This IS expected if you are initializing BertForSequenceClassification from the checkpoint of a model trained on another task or with another architecture (e.g. initializing a BertForSequenceClassification model from a BertForPreTraining model).\n",
      "- This IS NOT expected if you are initializing BertForSequenceClassification from the checkpoint of a model that you expect to be exactly identical (initializing a BertForSequenceClassification model from a BertForSequenceClassification model).\n",
      "Some weights of BertForSequenceClassification were not initialized from the model checkpoint at ../Hindi Pretraining/models/unigram/bert-base-pretrained-hindi and are newly initialized: ['bert.pooler.dense.weight', 'classifier.weight', 'classifier.bias', 'bert.pooler.dense.bias']\n",
      "You should probably TRAIN this model on a down-stream task to be able to use it for predictions and inference.\n"
     ]
    },
    {
     "name": "stdout",
     "output_type": "stream",
     "text": [
      "1098\n"
     ]
    },
    {
     "data": {
      "application/vnd.jupyter.widget-view+json": {
       "model_id": "3c1b893a42cc459ab581e180443c9e7c",
       "version_major": 2,
       "version_minor": 0
      },
      "text/plain": [
       "  0%|          | 0/1098 [00:00<?, ?it/s]"
      ]
     },
     "metadata": {},
     "output_type": "display_data"
    },
    {
     "name": "stdout",
     "output_type": "stream",
     "text": [
      "{'f1': 0.8039534512992188}\n"
     ]
    },
    {
     "name": "stderr",
     "output_type": "stream",
     "text": [
      "Some weights of the model checkpoint at ../Hindi Pretraining/models/unigram/bert-base-pretrained-hindi were not used when initializing BertForSequenceClassification: ['cls.predictions.transform.LayerNorm.weight', 'cls.predictions.bias', 'cls.predictions.transform.dense.bias', 'cls.predictions.decoder.weight', 'cls.predictions.transform.LayerNorm.bias', 'cls.predictions.decoder.bias', 'cls.predictions.transform.dense.weight']\n",
      "- This IS expected if you are initializing BertForSequenceClassification from the checkpoint of a model trained on another task or with another architecture (e.g. initializing a BertForSequenceClassification model from a BertForPreTraining model).\n",
      "- This IS NOT expected if you are initializing BertForSequenceClassification from the checkpoint of a model that you expect to be exactly identical (initializing a BertForSequenceClassification model from a BertForSequenceClassification model).\n",
      "Some weights of BertForSequenceClassification were not initialized from the model checkpoint at ../Hindi Pretraining/models/unigram/bert-base-pretrained-hindi and are newly initialized: ['bert.pooler.dense.weight', 'classifier.weight', 'classifier.bias', 'bert.pooler.dense.bias']\n",
      "You should probably TRAIN this model on a down-stream task to be able to use it for predictions and inference.\n"
     ]
    },
    {
     "name": "stdout",
     "output_type": "stream",
     "text": [
      "1098\n"
     ]
    },
    {
     "data": {
      "application/vnd.jupyter.widget-view+json": {
       "model_id": "59d9030046e2426f9e138b0e8b17446c",
       "version_major": 2,
       "version_minor": 0
      },
      "text/plain": [
       "  0%|          | 0/1098 [00:00<?, ?it/s]"
      ]
     },
     "metadata": {},
     "output_type": "display_data"
    },
    {
     "name": "stdout",
     "output_type": "stream",
     "text": [
      "{'f1': 0.8597826086956522}\n"
     ]
    },
    {
     "name": "stderr",
     "output_type": "stream",
     "text": [
      "Some weights of the model checkpoint at ../Hindi Pretraining/models/unigram/bert-base-pretrained-hindi were not used when initializing BertForSequenceClassification: ['cls.predictions.transform.LayerNorm.weight', 'cls.predictions.bias', 'cls.predictions.transform.dense.bias', 'cls.predictions.decoder.weight', 'cls.predictions.transform.LayerNorm.bias', 'cls.predictions.decoder.bias', 'cls.predictions.transform.dense.weight']\n",
      "- This IS expected if you are initializing BertForSequenceClassification from the checkpoint of a model trained on another task or with another architecture (e.g. initializing a BertForSequenceClassification model from a BertForPreTraining model).\n",
      "- This IS NOT expected if you are initializing BertForSequenceClassification from the checkpoint of a model that you expect to be exactly identical (initializing a BertForSequenceClassification model from a BertForSequenceClassification model).\n",
      "Some weights of BertForSequenceClassification were not initialized from the model checkpoint at ../Hindi Pretraining/models/unigram/bert-base-pretrained-hindi and are newly initialized: ['bert.pooler.dense.weight', 'classifier.weight', 'classifier.bias', 'bert.pooler.dense.bias']\n",
      "You should probably TRAIN this model on a down-stream task to be able to use it for predictions and inference.\n"
     ]
    },
    {
     "name": "stdout",
     "output_type": "stream",
     "text": [
      "1098\n"
     ]
    },
    {
     "data": {
      "application/vnd.jupyter.widget-view+json": {
       "model_id": "d6380f45de6c4031bac61099a5802447",
       "version_major": 2,
       "version_minor": 0
      },
      "text/plain": [
       "  0%|          | 0/1098 [00:00<?, ?it/s]"
      ]
     },
     "metadata": {},
     "output_type": "display_data"
    },
    {
     "name": "stdout",
     "output_type": "stream",
     "text": [
      "{'f1': 0.8284350080830346}\n"
     ]
    },
    {
     "name": "stderr",
     "output_type": "stream",
     "text": [
      "Some weights of the model checkpoint at ../Hindi Pretraining/models/unigram/bert-base-pretrained-hindi were not used when initializing BertForSequenceClassification: ['cls.predictions.transform.LayerNorm.weight', 'cls.predictions.bias', 'cls.predictions.transform.dense.bias', 'cls.predictions.decoder.weight', 'cls.predictions.transform.LayerNorm.bias', 'cls.predictions.decoder.bias', 'cls.predictions.transform.dense.weight']\n",
      "- This IS expected if you are initializing BertForSequenceClassification from the checkpoint of a model trained on another task or with another architecture (e.g. initializing a BertForSequenceClassification model from a BertForPreTraining model).\n",
      "- This IS NOT expected if you are initializing BertForSequenceClassification from the checkpoint of a model that you expect to be exactly identical (initializing a BertForSequenceClassification model from a BertForSequenceClassification model).\n",
      "Some weights of BertForSequenceClassification were not initialized from the model checkpoint at ../Hindi Pretraining/models/unigram/bert-base-pretrained-hindi and are newly initialized: ['bert.pooler.dense.weight', 'classifier.weight', 'classifier.bias', 'bert.pooler.dense.bias']\n",
      "You should probably TRAIN this model on a down-stream task to be able to use it for predictions and inference.\n"
     ]
    },
    {
     "name": "stdout",
     "output_type": "stream",
     "text": [
      "1098\n"
     ]
    },
    {
     "data": {
      "application/vnd.jupyter.widget-view+json": {
       "model_id": "4a516e87ea714186894f888dd3e716d6",
       "version_major": 2,
       "version_minor": 0
      },
      "text/plain": [
       "  0%|          | 0/1098 [00:00<?, ?it/s]"
      ]
     },
     "metadata": {},
     "output_type": "display_data"
    },
    {
     "name": "stdout",
     "output_type": "stream",
     "text": [
      "{'f1': 0.8300754526306228}\n"
     ]
    }
   ],
   "source": [
    "scores = list()\n",
    "import numpy as np\n",
    "from tqdm.auto import tqdm\n",
    "from sklearn.model_selection import StratifiedKFold\n",
    "\n",
    "from datasets import DatasetDict\n",
    "\n",
    "# First make the kfold object\n",
    "folds = StratifiedKFold(n_splits=5)\n",
    "\n",
    "# tokenized_dataset = tokenized_dataset.shuffle(seed=42)\n",
    "tokenized_dataset = tokenized_dataset.shuffle(seed=30)\n",
    "\n",
    "# Now make our splits based off of the labels. \n",
    "# We can use `np.zeros()` here since it only works off of indices, we really care about the labels\n",
    "splits = folds.split(np.zeros(tokenized_dataset.num_rows), tokenized_dataset[\"labels\"])\n",
    "\n",
    "# In this case I'm overriding the train/val/test\n",
    "for train_idxs, val_idxs in splits:\n",
    "    fold_dataset = DatasetDict({\n",
    "    \"train\":tokenized_dataset.select(train_idxs),\n",
    "    \"validation\":tokenized_dataset.select(val_idxs),\n",
    "    })\n",
    "    \n",
    "    # batch_size = 32\n",
    "    batch_size = 16\n",
    "\n",
    "    train_dataloader = DataLoader(\n",
    "        fold_dataset[\"train\"], shuffle=True, batch_size=batch_size, collate_fn=data_collator\n",
    "    )\n",
    "    eval_dataloader = DataLoader(\n",
    "        fold_dataset[\"validation\"], batch_size=batch_size, collate_fn=data_collator\n",
    "    )\n",
    "    \n",
    "    model =  AutoModelForSequenceClassification.from_pretrained(\"../Hindi Pretraining/models/unigram/bert-base-pretrained-hindi\", num_labels=num_labels)\n",
    "    model.to(device)\n",
    "    \n",
    "    optimizer = AdamW(model.parameters(), lr=3e-5)\n",
    "    #optimizer = AdamW(model.parameters(), lr=4e-5)\n",
    "\n",
    "    num_epochs = 6\n",
    "    num_training_steps = num_epochs * len(train_dataloader)\n",
    "    lr_scheduler = get_scheduler(\n",
    "        \"linear\",\n",
    "        optimizer=optimizer,\n",
    "        num_warmup_steps=0,\n",
    "        num_training_steps=num_training_steps,\n",
    "    )\n",
    "    print(num_training_steps)\n",
    "\n",
    "    progress_bar = tqdm(range(num_training_steps))\n",
    "\n",
    "    model.train()\n",
    "    for epoch in range(num_epochs):\n",
    "        for batch in train_dataloader:\n",
    "            batch = {k: v.to(device) for k, v in batch.items()}\n",
    "            outputs = model(**batch)\n",
    "            loss = outputs.loss\n",
    "            loss.backward()\n",
    "\n",
    "            optimizer.step()\n",
    "            lr_scheduler.step()\n",
    "            optimizer.zero_grad()\n",
    "            progress_bar.update(1)\n",
    "    \n",
    "    model.eval()\n",
    "    for batch in eval_dataloader:\n",
    "        batch = {k: v.to(device) for k, v in batch.items()}\n",
    "        with torch.no_grad():\n",
    "            outputs = model(**batch)\n",
    "\n",
    "        logits = outputs.logits\n",
    "        predictions = torch.argmax(logits, dim=-1)\n",
    "        metric.add_batch(predictions=predictions, references=batch[\"labels\"])\n",
    "\n",
    "    f1_score = metric.compute(average=\"macro\")\n",
    "    scores.append(f1_score['f1'])\n",
    "    print(f1_score)\n",
    "    \n",
    "    gc.collect()\n",
    "    torch.cuda.empty_cache()"
   ]
  },
  {
   "cell_type": "code",
   "execution_count": 35,
   "id": "fdae6ba7",
   "metadata": {},
   "outputs": [
    {
     "data": {
      "text/plain": [
       "[0.8243669419298694,\n",
       " 0.8039534512992188,\n",
       " 0.8597826086956522,\n",
       " 0.8284350080830346,\n",
       " 0.8300754526306228]"
      ]
     },
     "execution_count": 35,
     "metadata": {},
     "output_type": "execute_result"
    }
   ],
   "source": [
    "scores"
   ]
  },
  {
   "cell_type": "code",
   "execution_count": 36,
   "id": "9968935b",
   "metadata": {},
   "outputs": [
    {
     "data": {
      "text/plain": [
       "0.8293226925276794"
      ]
     },
     "execution_count": 36,
     "metadata": {},
     "output_type": "execute_result"
    }
   ],
   "source": [
    "sum(scores)  / len(scores)"
   ]
  }
 ],
 "metadata": {
  "kernelspec": {
   "display_name": "Python 3 (ipykernel)",
   "language": "python",
   "name": "python3"
  },
  "language_info": {
   "codemirror_mode": {
    "name": "ipython",
    "version": 3
   },
   "file_extension": ".py",
   "mimetype": "text/x-python",
   "name": "python",
   "nbconvert_exporter": "python",
   "pygments_lexer": "ipython3",
   "version": "3.10.4"
  }
 },
 "nbformat": 4,
 "nbformat_minor": 5
}
